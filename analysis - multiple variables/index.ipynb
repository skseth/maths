{
 "cells": [
  {
   "cell_type": "markdown",
   "id": "d616303f-a8c0-402a-ba8d-6ea81fcbfbf9",
   "metadata": {},
   "source": [
    "https://www.maths.tcd.ie/~dwilkins/Courses/MA2321/MA2321_Mich2018_Slides/MA2321_Mich2018_MultivariableConvergence_Slides.pdf"
   ]
  },
  {
   "cell_type": "code",
   "execution_count": null,
   "id": "9ffec446-77f8-4c46-af0b-48b25803e660",
   "metadata": {},
   "outputs": [],
   "source": []
  }
 ],
 "metadata": {
  "kernelspec": {
   "display_name": "Python 3 (ipykernel)",
   "language": "python",
   "name": "python3"
  },
  "language_info": {
   "codemirror_mode": {
    "name": "ipython",
    "version": 3
   },
   "file_extension": ".py",
   "mimetype": "text/x-python",
   "name": "python",
   "nbconvert_exporter": "python",
   "pygments_lexer": "ipython3",
   "version": "3.9.6"
  }
 },
 "nbformat": 4,
 "nbformat_minor": 5
}
