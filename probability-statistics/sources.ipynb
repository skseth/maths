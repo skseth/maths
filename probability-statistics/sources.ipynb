{
 "cells": [
  {
   "cell_type": "markdown",
   "metadata": {},
   "source": [
    "[Stat 110](https://projects.iq.harvard.edu/stat110/youtube) - Harvard Stat 110\n",
    "\n",
    "\n",
    "\n",
    "Discrete and Combinatorial Mathematics by Ralph P. Grimaldi - for sections of Counting,Enumerations in set theory, Relations and functions (w/ Pigeonhole Principle), Relations - w/ Partial orders and equivalence relations, system of integers and the Principle of inclusion and exclusion."
   ]
  }
 ],
 "metadata": {
  "language_info": {
   "name": "python"
  }
 },
 "nbformat": 4,
 "nbformat_minor": 2
}
