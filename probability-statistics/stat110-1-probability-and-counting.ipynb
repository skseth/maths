{
 "cells": [
  {
   "cell_type": "markdown",
   "metadata": {},
   "source": [
    "## Sample Space and Event\n",
    "\n",
    "A sample space S of an experiment is the set of all possible outcomes of the experiment. An event A is a subset of the sample space,  \n",
    "and we say A occured if the actual outcome is in A.\n",
    "\n"
   ]
  },
  {
   "cell_type": "markdown",
   "metadata": {},
   "source": [
    "### Coin Flips\n",
    "\n",
    "Coin is flipped 10 times. \n",
    "\n",
    "Sample Space: All strings of form HHHTTHTHTH - effectively $2^{10} = 1024$\n",
    "\n",
    "How many possible events? Every possible subset of a set with $2^10$ elements = $2^{1024}$\n",
    "\n"
   ]
  },
  {
   "cell_type": "markdown",
   "metadata": {},
   "source": [
    "### Pack of Cards\n",
    "\n",
    "Pick a card from a pack: Sample Space size: 52\n",
    "\n",
    "Events? $2^{52}$"
   ]
  },
  {
   "cell_type": "markdown",
   "metadata": {},
   "source": [
    "## Naive Definition of Probability\n",
    "\n",
    "$\\displaystyle p_{naive} = \\frac{|A|}{|S|}$\n",
    "\n",
    "\n",
    "This relies of the assumption that every item in the set is **equally-likely** - an assumption for which usually there is no justification.\n",
    "\n",
    "However, this may work when:\n",
    "\n",
    "a) There is some **symmetry** in the problem - e.g a fair coin, or a well-shuffled deck of cards. Also cards have no agency, so we will not have self-selected cards eager to be at the top (unlike people for e.g.)\n",
    "\n",
    "b) When outcomes are equally likely by **design** - e.g. in a well-designed survey when n people are picked randomly from a sample space of N. In practice this is usually imperfect.\n",
    "\n",
    "c) As a **null model** - as something to test the actual outcomes against.\n",
    "\n",
    "The Pebble World Metaphor: In the \"naive\" view of probability, a sample space is like a collection of pebbles, all of exactly the same size (mass).\n"
   ]
  },
  {
   "cell_type": "markdown",
   "metadata": {},
   "source": [
    "# How to Count\n",
    "\n",
    "## Multiplication Rule\n",
    "\n",
    "Given an experiment composed of two sub-experiments with sample space S and S', the combined sample space will be $S \\times S'$, with $|S||S'|$ outcomes.\n",
    "\n",
    "Note that the chronological order of experiments in this case does not matter.\n",
    "\n",
    "**Runners** 10 people run a race. how many possibilities are there for the 1st, 2nd and 3rd place winners?\n",
    "\n",
    "No of one-to-one functions from \"3\" to a set with 10 elements = $n!/(n-k)! = n.(n-1).(n-k+1) = 10.9.8$\n",
    "\n",
    "1st - 10 possibilities  \n",
    "2nd - 9 possibilities  \n",
    "3rd - 8 possibilities  \n",
    "\n",
    "By multiplication rule 10.9.8\n",
    "\n",
    "But it works the other way too, even if it feels unnatural:\n",
    "\n",
    "3rd - 10 possibilities  \n",
    "2nd - 9 possibilities  \n",
    "1st - 8 possibilities  \n",
    "\n",
    "**Chessboard** There are 64 squares. How many black squares? 4 in each row, and there are 8 rows. So 8.4 (by the multiplication rule)\n",
    "\n",
    "**Decision Tree with Ice Cream Cones**\n",
    "\n",
    "Suppose you have 2 cones, 3 flavours. Then you have 2.3 = 6 possibilities. You can create a decision tree to show this process.\n",
    "\n",
    "Suppose you had 2 cones - one morning, one evening. Then you have 6.6 = 36 possibilities. But if you are not interested in the order then how many do you have? Well you have 30 possibilities where the choices (x,y), $x \\ne y$. and 6 choices with $(x,x)$ - so you are left with 15+6=21 choices. But these are **NOT equally likely**. So the 6 (x,x)'s have probability 1/36, the 15 (x,y)'s have probability 2/36. \n",
    "\n",
    "**Subsets** \n",
    "\n",
    "For any element we have 2 choices - include it or exclude it. Given n elements, that is $2^n$ choices\n",
    "\n",
    "\n"
   ]
  },
  {
   "cell_type": "markdown",
   "metadata": {},
   "source": [
    "### Sampling With Replacement ($n^k$): No of functions from k to n.\n",
    "\n",
    "If there are n objects, and we make k choices while replacing the object - i.e. it can be chosen again, then there are $n^k$ possible outcomes where order matters.\n",
    "\n"
   ]
  },
  {
   "cell_type": "markdown",
   "metadata": {},
   "source": [
    "### Sampling Without Replacement: ($\\frac{n!}{n-k!})$: No of one-one functions from k to n.\n",
    "\n",
    "If there are n objects, and we make k choices without replacement - i.e. it once chosen, it cannot be chosen again, then there are $n^k$ possible outcomes where order matters.\n"
   ]
  },
  {
   "cell_type": "markdown",
   "metadata": {},
   "source": [
    "### Sampling without replacement: No of Permutations of n objects: ($n!$): No of bijective functions from n to n.\n",
    "\n",
    "Taking the sampling without replacement approach, we get n.(n-1)....1 = n!.\n"
   ]
  },
  {
   "cell_type": "markdown",
   "metadata": {},
   "source": [
    "### Sampling without Replacement, without Order: $\\binom{n}{k} = \\frac{n!}{n-k!k!}$ - No of k-element subsets.\n",
    "\n",
    "We can choose k people from n, without replacement in $\\frac{n!}{n-k!}$ ways. \n",
    "\n",
    "Adjusting for overcounting: Since we have chosen k people, and we can order k people in k! ways, by dividing by k! we get $\\binom{n}{k} = \\frac{n!}{n-k!k!}$ as the no of ways to choose k elements from a set of n, without order."
   ]
  },
  {
   "cell_type": "markdown",
   "metadata": {},
   "source": [
    "### Sample all subsets of a set: $2^n = \\binom{n}{0} + \\binom{n}{1} + \\dots + \\binom{n}{n}$\n",
    "\n",
    "Sampling all subsets implies sampling 0,1,..n elements from an n-element subset, without regard to order.\n",
    "\n",
    "Note that it is equal to the count of all functions from n to 2 -> this is because given a set X, for every subset A there is a characteristic function $\\chi_A:X \\to A$ which assigns a 1 or 0 to an elements based on whether it is in A or not."
   ]
  },
  {
   "cell_type": "markdown",
   "metadata": {},
   "source": [
    "### Adjusting for Overcounting: Permutations with Repetition: $\\frac{n!}{k_1!k_2!k_3!}$\n",
    "\n",
    "Given a word like STATISTICS, how many permutations are possible? There are 10 letters, so we can say it is $10!$. But we have 3 S's, 3 T's, and 2 I's, 1 A, and 1 C. So adjusting for overcounting, we get: \n",
    "\n",
    "$$\\frac{10!}{3!3!2!1!1!}$$ "
   ]
  },
  {
   "cell_type": "markdown",
   "metadata": {},
   "source": [
    "### Binomial Theorem: $(a + b)^n = \\binom{n}{0}a^n + \\binom{n}{1}a^{n-1}b + \\dots + \\binom{n}{n}b^n = \\sum\\limits_{i=0}^{n} \\binom{n}{i} a^{n-i}b^i$\n",
    "\n",
    "This theorem is based on counting how many ways can we choose a's and b's : given k a's (and hence n-k b's), we have $\\binom{n}{k}$ ways the coefficient of $a^{n-k}b^{k}$ will be chosen.\n"
   ]
  },
  {
   "cell_type": "markdown",
   "metadata": {},
   "source": [
    "### Bose-Einstein: Putting k indistinguishable particles in n distinguishable boxes: $\\binom{n+k-1}{k} = \\binom{n+k-1}{n-k}$\n",
    "\n",
    "If \".\" represents the particles, and | the boxes, we can picture 7 particles and 4 boxes as :\n",
    "\n",
    "$$\\text{| . . | . | . . | . |}$$\n",
    "\n",
    "Simply speaking we just line up the elements, and the partitions between boxes. Since the first and last partitions are fixed, we have (n-1) partitions and k elements, making a total on n+k-1 slots in all, excluding the ends. So the problem boils down to : put the k particles in (n+k-1) slots. Then put the partitions wherever a slot is free, giving $\\binom{n+k-1}{k}$ choices.\n",
    "\n",
    "This is very rarely used, but is important in Quantum Mechanics."
   ]
  },
  {
   "cell_type": "markdown",
   "metadata": {},
   "source": []
  },
  {
   "cell_type": "markdown",
   "metadata": {},
   "source": [
    "## Ex 1.4.10 : Birthday problem\n",
    "\n",
    "Given k people in a room, what is the probability that at least 2 people have the same birthday? Assume birthdays of people are independent and any day of the year is equally likely.\n",
    "\n",
    "Ans:\n",
    "\n",
    "$\\displaystyle P(\\text{no birthday match}) = \\frac{365.364.\\dots.365-k+1}{365.365.\\dots.365}$\n",
    "\n",
    "$\\displaystyle P(\\text{birthday match}) = 1 - \\frac{365.364.\\dots.365-k+1}{365.365.\\dots.365}$"
   ]
  },
  {
   "cell_type": "code",
   "execution_count": 1,
   "metadata": {},
   "outputs": [
    {
     "data": {
      "text/plain": [
       "np.float64(0.5072972343239853)"
      ]
     },
     "execution_count": 1,
     "metadata": {},
     "output_type": "execute_result"
    }
   ],
   "source": [
    "# Solution for k = 23\n",
    "\n",
    "import numpy as np\n",
    "\n",
    "k = 23\n",
    "\n",
    "1-np.prod(np.arange(365-k+1, 366)/365)"
   ]
  },
  {
   "cell_type": "markdown",
   "metadata": {},
   "source": [
    "## Example 1.4.20: Probability of a Full-House in Poker\n",
    "\n",
    "A full house (in a 5-card hand) is when we have 3 cards of one rank, and 2 of another.\n",
    "\n",
    "By multiplication rule we have:\n",
    "\n",
    "(13 ways for first rank) x (choosing 3 cards out of 4) x (12 ways for second rank) x (choosing 2 out of 4)\n",
    "\n",
    "Thus:\n",
    "\n",
    "$P(\\text{full house}) = \\frac{13\\binom{4}{3}12\\binom{4}{2}}{\\binom{52}{4}}$"
   ]
  },
  {
   "cell_type": "markdown",
   "metadata": {},
   "source": [
    "# Story Proofs\n"
   ]
  },
  {
   "cell_type": "markdown",
   "metadata": {},
   "source": [
    "## Ex 1.5.1 (Choosing the complement): $\\binom{n}{k} = \\binom{n}{n-k}$\n",
    "\n",
    "Having chosen k elements from n (without ordering), as in the left side, i have also chosen the remaining (n-k) elements, which is the right side.\n",
    "\n",
    "## Ex 1.5.2 (The team captain): $n\\binom{n-1}{k-1} = k\\binom{n}{k}$\n",
    "\n",
    "I need to choose k people for a team, including one captain. \n",
    "\n",
    "I can choose a captain first in n ways, and then k-1 people from the remaining n-1 in $\\binom{n-1}{k-1}$ ways (left side), or I can choose the k people first in $\\binom{n}{k}$ ways, and designate one of them as the team captain in k ways (right side)."
   ]
  },
  {
   "cell_type": "markdown",
   "metadata": {},
   "source": [
    "## Ex 1.5.3: (Vandermonde's Identity): $\\binom{m+n}{k} = \\sum\\limits_{j=0}^{k} \\binom{m}{j}\\binom{n}{k-j}$\n",
    "\n",
    "I have m senior and n junior members. I need to form a board with k people. \n",
    "\n",
    "I can choose k people from m+n (left side). Or\n",
    "\n",
    "I can choose j juniors and then k-j seniors, j ranging from 0 to k, the right side."
   ]
  },
  {
   "cell_type": "markdown",
   "metadata": {},
   "source": [
    "## Ex 1.5.4 (Partnerships): $\\frac{2n!}{2^n.n!} = (2n-1)(2n-3)\\dots.3.1$\n",
    "\n",
    "I want to pick pairs of people from a group, so i just randomly order them, then pick pairs in order - giving 2n! ways. But order within a pair does not matter, and order of the n pairs does not matter, so adjusting i get the left side.\n",
    "\n",
    "Alternatively (remembering order does not matter), i can choose 2n-1 people as partner for person 1. For the next unpaired person (2 or 3), we have 2n-3 choices, and so on, till the last person has one choice."
   ]
  },
  {
   "cell_type": "markdown",
   "metadata": {},
   "source": [
    "# Non-naive Definition of Probability\n",
    "\n",
    "**Definition: General Definition of Probability**\n",
    "\n",
    "A probability space consists of a sample space S, and function $P:P(S) \\to [0,1]_R$ such that:\n",
    "\n",
    "a) $P(\\emptyset)$ = 0\n",
    "\n",
    "b) If $A_1, A_2, \\dots$ are disjoint events, then\n",
    "\n",
    "$$P(\\bigcup\\limits_{i=1}^{n} A_i) = \\sum\\limits_{i=1}^{n} P(A_i)$$\n",
    "\n",
    "In \"Pebble world\" probability behaves like mass. Mass of an empty pile is zero, of all pebbles is 1. If we take non-overlapping piles of pebbles, their masses add up to the whole. \n",
    "\n",
    "Unlike the naive case, now pebbles can have different masses.\n",
    "\n",
    "Also, now we can consider countably infinite number of masses, as long as their masses add up to 1.\n",
    "\n",
    "We can even have uncountable sample spaces : visualize mud spread out over a region with total mass 1, instead of pebbles. \n",
    "\n",
    "## Theorem 1.6.2: Properties of Probability\n",
    "\n",
    "1. $P(A^c) = 1 - P(A)$\n",
    "2. If $A \\subset B$, then $P(A) \\le P(B)$\n",
    "3. $A \\cup B = P(A) + P(B) - P(A \\cap B)$\n"
   ]
  },
  {
   "cell_type": "markdown",
   "metadata": {},
   "source": [
    "## Proof\n",
    "\n",
    "**Prop 1)**\n",
    "\n",
    "$S = A \\cup A^c$, by definition  \n",
    "$P(S) = P(A \\cup A^c) = 1$  \n",
    "But A and $A^c$ are disjoint. So $P(A \\cup A^c) = P(A) + P(A^c) = 1$. \n",
    "\n",
    "**Prop 2)**  \n",
    "$P(A \\cup (B-A)) = P(A) + P(B-A) = P(B)$. Hence: $P(A) = P(B) - P(B-A) \\implies P(A) \\le P(B)$, since $P(B-A) \\ge 0$\n",
    "\n",
    "**Prop 3)**  \n",
    "$A \\cup B = A \\cup (B \\cap A^c)$ which are disjoint.\n",
    "\n",
    "Hence, $P(A \\cup B) = P(A \\cup (B \\cap A^c)) = P(A) + P(B \\cap A^c)$\n",
    "\n",
    "But $P((A \\cap B) \\cup (B \\cap A^c)) = P(B) = P(A \\cap B) + P(B \\cap A^c)$. It follows that:\n",
    "\n",
    "$P(B \\cap A^c) = P(B) - P(A \\cap B)$\n"
   ]
  },
  {
   "cell_type": "markdown",
   "metadata": {},
   "source": [
    "## Theorem (Principle of Inclusion-Exclusion): For any events $A_1, A_2, \\dots, A_n$\n",
    "\n",
    "$P(\\bigcup\\limits_{i=1}{n} A_i) = \\sum_i P(A_i) - \\sum_{i < j} P(A_i \\cap A_j) + \\sum_{i < j < k} P(A_i \\cap A_j \\cap A_k) + \\dots + (-1)^{n+1} P(A_1 \\cap A_2 \\cap \\dots \\cap A_n)$"
   ]
  },
  {
   "cell_type": "markdown",
   "metadata": {},
   "source": [
    "## Ex 1.6.4: (de Montmort's Matching Problem)\n",
    "\n",
    "Flip n well-shuffled numbered cards (numbered from 1 to n) over, while speaking aloud the number in sequence. You win if any time the card has the same number you are speaking.\n",
    "\n",
    "$A_i$ is the probability that the ith card has the number i written. \n",
    "\n",
    "Clearly $P(A_i) = \\frac{1}{n}$ - by symmetry. \n",
    "\n",
    "$P(A_i \\cap A_j) = \\frac{1}{n(n-1)}$ - since i,j fixed, we have $(n-2)!$ arrangements out of $n!$\n",
    "\n",
    "\n",
    "$P(A_i \\cap A_j \\cap A_k) = \\frac{1}{n(n-1)(n-2)}$ - and so on.\n",
    "\n",
    "By inclusion-exclusion principle:\n",
    "\n",
    "$P(\\bigcup\\limits_{i=1}^{n} A_i) = \\binom{n}{1}\\frac{1}{n} - \\binom{n}{2}\\frac{1}{n(n-1)} + \\dots + (-1)^{n+1}\\binom{n}{n}\\frac{1}{n!} = 1 - \\frac{1}{2!} + \\dots + (-1)^{n+1}\\frac{1}{n!} \\approx 1 - \\frac{1}{e}$\n"
   ]
  },
  {
   "cell_type": "markdown",
   "metadata": {},
   "source": [
    "## References\n",
    "\n",
    "[Gorroochurn - Errors in Probability](https://www.columbia.edu/~pg2113/index_files/Gorroochurn-Best%20Writings%20on%20Mathematics.pdf)"
   ]
  },
  {
   "cell_type": "markdown",
   "metadata": {},
   "source": [
    "# Exercises - Counting\n",
    "\n",
    "1. Permutations: MISSISSIPPI - 1M, 2P, 4S, 4I : $\\frac{11!}{2!4!4!}$\n",
    "\n",
    "2. How many 7 digit phone nos  \n",
    "a) Assuming first digit cannot be 0 or 1: $10^7 - 2.10^6 = 8.10^6 = 8000000$  \n",
    "b) Assuming also it cannot start with 911: $10^7 - 2.10^6 - 1.10^4 = 8000000 - 10000 = 7990000$\n",
    "\n",
    "3. Fred's 10 restaurants:  \n",
    "a) Schedule for Mon-Fri, each restaurant once only: (Sampling without replacement, order matters): $10.9.8.7.6$  \n",
    "b) Schedule for Mon-Fri, each restaurant possibly more than once, but not consecutive:  $10.9.9.9.9$\n",
    "\n",
    "4. Round-robin with n players.  \n",
    "a) How many outcomes: $2.\\binom{n}{2}$:  \n",
    "b) How many games: $\\binom{n}{2}$\n",
    "\n",
    "5. Knock-out with $2^n$ players.  \n",
    "a) How many rounds: 2^n, 2^{n-1}, ... 2^1 = n rounds.  \n",
    "b) How many games: $2^{n-1} + 2^{n-2} + \\dots + 1 = 2^n - 1$  \n",
    "c) How many games in total - with little calculation: Every game eliminates on player. All but one player is eliminated.\n",
    "\n",
    "6. 20 chess players - matched up, who plays white matters: $\\frac{20!}{10!}$. Did not divide by $2^{10}$, as order within pair matters.\n",
    "\n",
    "7. 2 chess players playing 7 games. win - 1, draw - 0.5.  \n",
    "Total outcomes (order matters): $3^7$  \n",
    "a) A ends up with 3w, 2d, 2l: $\\binom{7}{3}.\\binom{4}{2}$  \n",
    "b) A ends up with 4, B ends up with 3 points: = 1wd6,2w4d1l,3w2d2l,4w3l = $\\binom{7}{1} + \\binom{7}{2}\\binom{5}{4} + \\binom{7}{3}\\binom{4}{2} + \\binom{7}{4}$  \n",
    "c) Match ends in 7 games, with A winning by 4 to 3.  \n",
    "Only choices after 6 games are i) A=3.5,B=2.5 and A draws or ii) A=3,B=3, and A wins.  \n",
    "\n",
    "Options for A = 3.5 after 6: 3w1d, 2w3d, 1w5d = $\\binom{6}{3}.\\binom{3}{1} + \\binom{6}{2}.\\binom{4}{3} + \\binom{6}{1} = 20.3 + 15.4 + 6 = 126$  \n",
    "Options for A = 3 after 6: 3w, 2w2d, 1w4d, 0w6d = $\\binom{6}{3} + \\binom{6}{2}.\\binom{4}{2} + \\binom{6}{1}.\\binom{5}{4} + \\binom{6}{6} = 20 + 15.6 + 6.5 + 1 = 141$  \n",
    "\n",
    "Alternatively: 3w(0d or 1d),2w(2d or 3d),1w(4d or 5d), or 0w6d = $(1+3).\\binom{6}{3} + (6+4).\\binom{6}{2} + (5+1).\\binom{6}{1} + \\binom{6}{6}  = 20.4 + 15.10 + 6.6 + 1 = 267$.\n",
    "\n",
    "8. a) Split 12 people into 3 teams, one team of 2, other two of 5 each. $\\binom{12}{2}\\binom{10}{5} = 6.11.2.9.7.2 = 16632$  \n",
    "b) Each team has 4: $\\binom{12}{4}.binom{8}{4} = 11.10.9.7.5 = 34650$\n",
    "\n",
    "ABOVE IS WRONG - as order of selecting team does not matter. \n",
    "a) In the first case we have overcounted the 5-member teams. We may end up with 2 same 5-member team pairs, e.g (a1,a2,a3,a4,a5)+(b1,b2,b3,b4,b5) OR (b1,b2,b3,b4,b5)+(a1,a2,a3,a4,a5), which is irrelevant. So answer is 16632/2 = 8316.\n",
    "\n",
    "Better way is to think in terms of complete ordering and adjustment. Line up 12 people, select first 2 for team 1, next 5 for team 2, last 5 for team 3. Order within teams does not matter. But also, order of the two 5 member teams is interchangable just as above. So we have: $\\frac{12!}{2!5!5!2!}$. The subtlety is that order between teams matters for teams of the SAME SIZE ONLY.\n",
    "\n",
    "b) In second case we are overcounting by 3! = 6, since all teams are interchangable. So answer is 34650/6 = 5775. Or $\\frac{12!}{4!4!4!3!}$\n",
    "\n",
    "9. PATHS\n",
    "a) How many paths from (0,0) to (110,111) such that each step consists of going one unit up, one unit right.  \n",
    "Totally 110 right, 111 up, order does not matter. Out of 221 steps, i have to choose a 110 = $\\binom{221}{110}$  \n",
    "\n",
    "b) How many paths from (0,0) to (210,211), given path has to go through (110,111).  \n",
    "(210,211) - (110,111) = (100,100). So $\\binom{200}{100}$. Ans. $\\binom{221}{110}.\\binom{200}{100}$\n"
   ]
  },
  {
   "cell_type": "markdown",
   "metadata": {},
   "source": [
    "# Exercises - Story Proof\n",
    "\n",
    "**(15)$\\sum_{k=0}^{n} \\binom{n}{k} = 2^n$**\n",
    "\n",
    "RHS: $2^n$ is the set of all n-bit binary sequences. We can see that each sequence represents a subset of n i.e. whether a number is in the subset or not. So it is the size of the power set of n.\n",
    "\n",
    "LHS: In how many ways can i pick 0,1,2...n elements from a set of n elements? This also counts the number of 0 + 1 + 2 + ... + n element subsets of n i.e. all subsets of n.\n",
    "\n",
    "\n",
    "**(16) $\\binom{n}{k} + \\binom{n}{k-1} = \\binom{n+1}{k}$**\n",
    "\n",
    "I have n people and 1 captain. I need to choose k people for some work.\n",
    "\n",
    "(left side): I avoid the captain, and choose k people from n, or i take the captain, and k-1 people from the remaining n.\n",
    "\n",
    "(right side): I take k people from (n+1)\n",
    "\n",
    "**(17) $\\sum_{k=0}^{n} \\binom{n}{k}^2 = \\binom{2n}{n}$**\n",
    "\n",
    "Note: $\\binom{n}{k} = \\binom{n}{n-k}$\n",
    "\n",
    "I have 2 groups of n people.\n",
    "\n",
    "(right side): Choose n from 2n people  \n",
    "(left side): Choose k from one group, n-k from the other, k = 0..n\n",
    "\n",
    "**(18) $\\sum_{k=1}^{n} k\\binom{n}{k}^2 = n\\binom{2n-1}{n-1}$**\n",
    "\n",
    "I have n senior + n junior people. I want to select a team of n people, of which one is a captain who can only be senior.\n",
    "\n",
    "RHS: I select one of the n seniors as captain, then select n-1 people from the remaining 2n-1\n",
    "\n",
    "LHS: I can select k seniors ($\\binom{n}{k}$ ways) and n-k juniors ($\\binom{n}{n-k} = \\binom{n}{k}$ ways).  So totally $\\binom{n}{k}^2$ ways. k = 1 ... n: k >= 1 because at least one senior is needed. Now, i can select one of the k seniors as captain, so i get $k\\binom{n}{k}^2$ ways i can get k seniors and n-k juniors in the team. Adding up on k, i get LHS.\n",
    "\n",
    "**(19) $\\sum_{k=2}^{n} \\binom{k}{2}\\binom{n -k + 1}{2} = n\\binom{n+3}{5}$**\n",
    "\n",
    "As given in the hint: If we select any 5 different numbers from 1,2,..n+3, and order them, the middle number will be in the range (3..n+1). So this number splits the selection into two parts.\n",
    "\n",
    "RHS: Select 5 people from n+3, n >= 2.\n",
    "\n",
    "LHS: Suppose center number is k+1 (k>=2, k<=n). Then we get k numbers below the center, from which we pick 2, and (n+3-k-1) = (n-k+2) elements greater than the center from which we pick 2 elements. Adding up on k=2..n, we get another way to select 5 people.\n",
    "\n",
    "**(20a) (Hockey-stick Identity) $\\binom{k}{k} + \\binom{k+1}{k} + \\dots \\binom{n}{k} = \\binom{n+1}{k+1}$**\n",
    "\n",
    "The hockey stick identity: (https://en.wikipedia.org/wiki/Hockey-stick_identity) - see why it looks like a hockey stick.\n",
    "\n",
    "RHS: Select k+1 people from n+1\n",
    "\n",
    "LHS: Number people from 1..n+1. Now, in each selection of k+1, the oldest can range from k+1 to n+1, and the remaining k can be selected from sets of first k,k+1,...n remaining people. Adding up gives the LHS, which is another way of selecting the k+1 people.\n",
    "\n",
    "**(20b)Pack of gummi bears: 30-50. 5 flavours: p,r,o,s,l. How many combinations are possible?**\n",
    "\n",
    "$30 \\le x_1 + x_2 + x_3 + x_4 + x_5 \\le 50$. Hence we see the number of combinations:\n",
    "\n",
    "$comb = \\sum_{j=30}^{50} \\binom{5 + j - 1}{j} = \\sum_{j=30}^{50} \\binom{j + 4}{j} = \\sum_{j=30}^{50} \\binom{j + 4}{4} = \\sum_{j=34}^{54} \\binom{j}{4} = \\sum_{j=4}^{54} \\binom{j}{4} - \\sum_{j=4}^{33} \\binom{j}{4} = \\binom{55}{5} - \\binom{34}{5}$\n",
    "\n",
    "\n",
    "$$\n",
    "\\newcommand{\\stirling}{\\genfrac\\{\\}{0pt}{}}\n",
    "$$\n",
    "\n",
    "**21: $\\stirling{n}{k}$ - ways to partition n into k non-empty subsets.**\n",
    "\n",
    "\n",
    "Prove: $\\stirling{n+1}{k} = \\stirling{n}{k-1} + k\\stirling{n}{k}$. \n",
    "\n",
    "Basically: either the new (n+1th) element is an existing group (k possibilities), or existing n elements are in k-1 groups, and i create a new kth group for the n+1st element.\n",
    "\n",
    "Prove: $\\sum_{j=k}^{n} \\binom{n}{j} \\stirling{j}{k} = \\stirling{n+1}{k+1}$. \n",
    "\n",
    "RHS: k+1 non-empty partitions of n+1 elements.\n",
    "\n",
    "LHS: Suppose we choose elements for the first k partitions, leaving one out. We need minimum k, and maximum n+1 (since we need to leave one for the k+1st). Thus, for each j (j = k to n): we get $\\binom{k}{j}$ elements, which we can then partition in $\\stirling{j}{k}$ ways.\n",
    "\n",
    "\n",
    "\n"
   ]
  },
  {
   "cell_type": "markdown",
   "metadata": {},
   "source": []
  },
  {
   "cell_type": "markdown",
   "metadata": {},
   "source": [
    "\n",
    "\n"
   ]
  }
 ],
 "metadata": {
  "kernelspec": {
   "display_name": ".venv",
   "language": "python",
   "name": "python3"
  },
  "language_info": {
   "codemirror_mode": {
    "name": "ipython",
    "version": 3
   },
   "file_extension": ".py",
   "mimetype": "text/x-python",
   "name": "python",
   "nbconvert_exporter": "python",
   "pygments_lexer": "ipython3",
   "version": "3.12.8"
  }
 },
 "nbformat": 4,
 "nbformat_minor": 4
}
