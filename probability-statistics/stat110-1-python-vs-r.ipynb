{
 "cells": [
  {
   "cell_type": "code",
   "execution_count": 18,
   "metadata": {},
   "outputs": [],
   "source": [
    "import numpy as np\n",
    "import pandas as pd\n",
    "\n"
   ]
  },
  {
   "cell_type": "markdown",
   "metadata": {},
   "source": [
    "## Vector Operations Using Numpy"
   ]
  },
  {
   "cell_type": "code",
   "execution_count": 19,
   "metadata": {},
   "outputs": [
    {
     "name": "stdout",
     "output_type": "stream",
     "text": [
      "Sum: 8\n",
      "Adding a scalar to vector: [5 3 6]\n",
      "Adding two vectors: [4 2 5]\n",
      "Adding two vectors - multiple: [5 3 6]\n",
      "Raise vector to a power: [27  1 64]\n",
      "Basic: 4\n",
      "Slicing: [4]\n",
      "Fancy: [1 4]\n",
      "Boolean: [3 4]\n"
     ]
    }
   ],
   "source": [
    "## Basic vector operations\n",
    "v = np.array([3,1,4])\n",
    "\n",
    "# Adding elements\n",
    "print(f\"Sum: {np.sum(v)}\")\n",
    "\n",
    "print(f\"Adding a scalar to vector: {v + 2}\")\n",
    "\n",
    "print(f\"Adding two vectors: {v + np.array([1,1,1])}\")\n",
    "print(f\"Adding two vectors - multiple: {v + np.array([2])}\")\n",
    "print(f\"Raise vector to a power: {v**3}\")\n",
    "\n",
    "\n",
    "# Subarrays - Python is 0-based\n",
    "\n",
    "print(f\"Basic: {v[2]}\")\n",
    "print(f\"Slicing: {v[2:3]}\")\n",
    "print(f\"Fancy: {v[[1,2]]}\")\n",
    "print(f\"Boolean: {v[v > 2]}\")\n"
   ]
  },
  {
   "cell_type": "markdown",
   "metadata": {},
   "source": [
    "## Sampling"
   ]
  },
  {
   "cell_type": "code",
   "execution_count": 47,
   "metadata": {},
   "outputs": [
    {
     "name": "stdout",
     "output_type": "stream",
     "text": [
      "Generating values 0-n-1: [0 1 2 3 4]\n",
      "Generate k samples from n: [3 1 4 2 8]\n",
      "Generate k samples from n - with replace: [2 8 1 2 0]\n",
      "Generate k samples from n - with replace, probs: [2 4 4]\n"
     ]
    }
   ],
   "source": [
    "print(f\"Generating values 0-n-1: {np.arange(5)}\")\n",
    "\n",
    "n = 10\n",
    "k = 5\n",
    "print(f\"Generate k samples from n: {np.random.choice(n, (k), replace=False)}\")\n",
    "print(f\"Generate k samples from n - with replace: {np.random.choice(n, (k), replace=True)}\")\n",
    "print(f\"Generate k samples from n - with replace, probs: {np.random.choice(5, (3), replace=True, p=(0.1,0.2,0.3,0.2,0.2))}\")\n"
   ]
  },
  {
   "cell_type": "markdown",
   "metadata": {},
   "source": [
    "## Replication"
   ]
  },
  {
   "cell_type": "code",
   "execution_count": null,
   "metadata": {},
   "outputs": [
    {
     "name": "stdout",
     "output_type": "stream",
     "text": [
      "0.6313\n"
     ]
    }
   ],
   "source": [
    "n = 10\n",
    "nnos = np.arange(n)\n",
    "\n",
    "exp_count = 10**4\n",
    "\n",
    "r = np.array([np.count_nonzero((np.random.choice(nnos, (n), replace=False) == nnos) == True)  for _ in range(exp_count)])\n",
    "\n",
    "print(np.sum(r >= 1)/exp_count)\n",
    "\n"
   ]
  },
  {
   "cell_type": "markdown",
   "metadata": {},
   "source": [
    "# Birthday Problem"
   ]
  },
  {
   "cell_type": "code",
   "execution_count": 130,
   "metadata": {},
   "outputs": [
    {
     "data": {
      "text/plain": [
       "np.float64(0.5072972343239853)"
      ]
     },
     "execution_count": 130,
     "metadata": {},
     "output_type": "execute_result"
    }
   ],
   "source": [
    "k = 23\n",
    "\n",
    "1-np.prod(np.arange(365-k+1, 366)/365)\n"
   ]
  },
  {
   "cell_type": "code",
   "execution_count": 202,
   "metadata": {},
   "outputs": [
    {
     "data": {
      "text/plain": [
       "np.float64(0.5135)"
      ]
     },
     "execution_count": 202,
     "metadata": {},
     "output_type": "execute_result"
    }
   ],
   "source": [
    "## Simulate\n",
    "\n",
    "# b = np.random.choice(np.arange(1,365+1), (23), replace=True)\n",
    "\n",
    "# bincount is like tabulate from R\n",
    "\n",
    "r = np.array([np.max(np.bincount(np.random.choice(np.arange(1,365+1), (23), replace=True))) for _ in range(10**4)])\n",
    "\n",
    "np.sum(r >= 2)/10**4\n",
    "\n",
    "\n"
   ]
  }
 ],
 "metadata": {
  "kernelspec": {
   "display_name": ".venv",
   "language": "python",
   "name": "python3"
  },
  "language_info": {
   "codemirror_mode": {
    "name": "ipython",
    "version": 3
   },
   "file_extension": ".py",
   "mimetype": "text/x-python",
   "name": "python",
   "nbconvert_exporter": "python",
   "pygments_lexer": "ipython3",
   "version": "3.12.8"
  }
 },
 "nbformat": 4,
 "nbformat_minor": 2
}
