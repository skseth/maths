{
 "cells": [
  {
   "cell_type": "markdown",
   "metadata": {},
   "source": [
    "# Principle of Inclusion-Exclusion\n",
    "\n",
    "Let S be a set. Let $c_1, c_2, \\dots, c_n$ be conditions (or equivalently subsets of S). \n",
    "\n",
    "Let \n",
    "- $N(c_i)$ denotes no of elements in $c_i$\n",
    "\n",
    "Also:\n",
    "- $N(c_i~c_j)$ denotes no of elements in $c_i$ and $c_j$ (or satisfy $c_i$, $c_j$) - elements in the union\n",
    "- $N(\\overline{c_i })$ - no of elements not in $c_i$ (in complement)\n",
    "- $N(\\overline{c_i}~\\overline{c_j})$ - no of elements not satisfying $c_i$ or $c_j$. (complement of the union)\n",
    "- $N(\\overline{c_i~c_j})$ - no of elements not satisfying both $c_i$ or $c_j$. (complement of the intersection)"
   ]
  },
  {
   "cell_type": "markdown",
   "metadata": {},
   "source": [
    "## Theorem: (The Principle of Inclusion-Exclusion)\n",
    "\n",
    "Consider a set S, with |S| = N, and conditions $c_i$, $1 \\le i \\le t$ satisfied by some of the elements of S.\n",
    "\n",
    "The number of elements that satisfy none of the conditions is denoted by $\\overline{N} = N(\\overline{c_1}~\\overline{c_2}\\dots\\overline{c_t})$, where:\n",
    "\n",
    "$\\overline{N} = N - \\sum\\limits_{1 \\le i \\le t} N(c_i) + \\sum\\limits_{1 \\le i < j \\le t} N(c_i~c_j) + \\dots + (-1)^tN(c_1~c_2\\dots c_t)$\n",
    "\n",
    "Note that the strictly increasing condition on sum index variables ensures that each combination is included only once. e.g. given i = 2, j=3, k=4, only $c_ic_jc_k$ is included, not $c_jc_ic_k$, for example. It also excludes, obviously, any repetition e.g. $c_ic_ic_j$"
   ]
  },
  {
   "cell_type": "markdown",
   "metadata": {},
   "source": [
    "## Proof (By combinatorial argument)\n",
    "\n",
    "Suppose $x \\in \\overline{N}$ then clearly x is in N, but is not in any of the summations, and so is on the right side also. So $\\overline{N}$ is included in the right side.\n",
    "\n",
    "Suppose x belongs to none of the conditions. Then x belongs once to $\\overline{N}$, once to $N$, but none of the summations on the right.\n",
    "\n",
    "Suppose x belongs to k conditions. Then x will belong :\n",
    "\n",
    "1) $1 = \\binom{k}{0}$ time to N  \n",
    "2) $k = \\binom{k}{1}$ times to  $\\sum\\limits_{1 \\le i \\le t} N(c_i)$  \n",
    "3) $\\binom{k}{2}$ times to $\\sum\\limits_{1 \\le i < j \\le t} N(c_i~c_j)$ (note that $1 \\le i < j \\le t$ ensures that each i,j combination is included just once.  \n",
    "4) (k+1th entry) : $\\binom{k}{k} = 1$ times in $\\sum N(c_{i_1}~c_{i_2}\\dots c_{i_k})$ for the kth sum containing k conditions each.\n",
    "\n",
    "Thus on the right side, x appears:\n",
    "\n",
    "$\\binom{k}{0} - \\binom{k}{1} + \\binom{k}{2} - \\binom{k}{3} + \\dots + (-1)^k \\binom{k}{k} = (1 - 1)^k = 0$ by the binomial theorem. Thus if x meets any of the conditions it does not contribute to the count on either side.\n"
   ]
  },
  {
   "cell_type": "markdown",
   "metadata": {},
   "source": [
    "### Sums Notation\n",
    "\n",
    "We will refer to :\n",
    "\n",
    "$S_0 = N$,\n",
    "\n",
    "$S_1 = \\sum\\limits_{1 \\le i \\le t} N(c_i)$\n",
    "\n",
    "$S_2 = \\sum\\limits_{1 \\le i < j \\le t} N(c_i~c_j)$\n",
    "\n",
    "and so on."
   ]
  },
  {
   "cell_type": "markdown",
   "metadata": {},
   "source": [
    "## Ex 7.1: Number of positive integers where $1 \\le n \\le 100$ and n is not divisible by 2,3,5.\n",
    "\n",
    "condition for x in set:\n",
    "\n",
    "$c_1$ if x is divisible by 2, $N(c_1) = 50$\n",
    "$c_2$ if x is divisible by 3, $N(c_2) = 33$\n",
    "$c_3$ if x is divisible by 5, $N(c_3) = 20$\n",
    "\n",
    "$S_0 = 100$\n",
    "\n",
    "$S_1 = 50+33+20 = 103$\n",
    "\n",
    "$S_2$ = divisible by 2+3 = 16, div by 3+5 = 6, div by 2+5 = 10 = 32\n",
    "\n",
    "$S_3$ = divisible by 2,3,5 = 3\n",
    "\n",
    "100-103 + 32 - 3 = 26\n"
   ]
  },
  {
   "cell_type": "markdown",
   "metadata": {},
   "source": [
    "## Non-negative solutions to $x_1 + x_2 + x_3 + x_4 = 18$, with $x_i <= 7$ for all i.\n",
    "\n",
    "n = 4, k = 18\n",
    "\n",
    "Solution: Define S = set of all solutions $(x_1,x_2,x_3,x_4)$, $c_i: x_i > 7$.\n",
    "\n",
    "$S_0 = |S| = \\binom{21}{18} = 1330$ - the set of all solutions.\n",
    "\n",
    "$N(c_1)$ is the number of solutions to $x'_1 + x_2 + x_3 + x_4 = 10$ - since $x_1 > 7$, $= \\binom{13}{10}$\n",
    "\n",
    "$S_1 = \\binom{4}{1}\\binom{13}{10}$\n",
    "\n",
    "$N(c_1c_2)$ : no of solutions to : $x'_1 + x_2 + x_3 + x_4 = 2$ = $\\binom{5}{2} = 10$\n",
    "\n",
    "$S_2 = \\binom{4}{2}\\binom{5}{2}$\n",
    "\n",
    "Beyond this, $S_3, S_4 = 0$\n",
    "\n",
    "\n",
    "\n",
    "So $\\overline{N} = S_0 - S_1 + S_2 - S_3 + S_4 = 1330 - \\binom{4}{1}\\binom{13}{10} + \\binom{4}{2}\\binom{5}{2} - 0 + 0 = 1330 - 4.286 + 6.10 = 1330 - 1144 + 60 = 246$\n"
   ]
  },
  {
   "cell_type": "markdown",
   "metadata": {},
   "source": [
    "## No of onto functions for finite sets.\n",
    "\n",
    "Let S be the set of all functions from m to n, where m,n are natural numbers. $|S| = n^m = \\binom{n}{0} (n-0)^m$\n",
    "\n",
    "Let $c_i$, i = 1..n, be the condition that $b_i$ is not in range of the function, where $b_i \\in n$.\n",
    "\n",
    "$N(c_1)$ = all functions not containing $b_1$ = $(n-1)^m$ and $S_1 = \\binom{n}{1} (n-1)^m$\n",
    "\n",
    "And, in general:\n",
    "\n",
    "$S_k = \\binom{n}{k} (n-k)^m$\n",
    "\n",
    "It follows that no of onto functions \n",
    "\n",
    "$\\overline{N} = S_0 - S_1 + S_2 + \\dots + (-1)^kS_k = \\sum\\limits_{k=0}^{n} (-1)^k \\binom{n}{k} (n-k)^m$"
   ]
  },
  {
   "cell_type": "code",
   "execution_count": 51,
   "metadata": {},
   "outputs": [
    {
     "name": "stdout",
     "output_type": "stream",
     "text": [
      "0: 16384\n",
      "1: -8748\n",
      "2: 768\n",
      "3: -4\n",
      "8400\n"
     ]
    }
   ],
   "source": [
    "## \n",
    "from math import comb\n",
    "\n",
    "s = 0\n",
    "n = 4\n",
    "m = 7\n",
    "ind=1\n",
    "for k in range(0,n):\n",
    "    i = ind*comb(n,k)*((n - k)**m)\n",
    "    ind=ind*-1\n",
    "    print(f\"{k}: {i}\")\n",
    "    s += i\n",
    "\n",
    "print(s)"
   ]
  },
  {
   "cell_type": "markdown",
   "metadata": {},
   "source": [
    "# Sterling Numbers of the Second Kind $\\stirling{n}{k}$: No of k-partitions of a set with n elements\n",
    "\n",
    "No of ways to distribute n distinct objects into k indistinguishable, non-empty partitions.\n",
    "\n",
    "NOTE: If we allow empty partitions, then this is $\\sum\\limits_{i=0}^{k} \\frac{1}{i!}n^i$ - basically the no of functions from i = 1,2,..k to n, adjusting by $i!$ for the indistinguishability of the containers. For example if i = 2, n = 4 : The mappings $0 \\to \\{0,1\\}$ and $1 \\to \\{2,3\\}$ would create the same partition as the mapping $1 \\to \\{0,1\\}$ and $2 \\to \\{2,3\\}$. Note that i=0 is always 0, so this is just for symmetry. (THIS NEEDS TO BE CHECKED)\n",
    "\n",
    "Get the no of onto functions from m to n. This assigns each of the m-elements to n containers. Now, to account for the fact that the containers are indistinguishable, we adjust by dividing by $n!$. Hence, no of ways to distribute m distinct objects in n indistinguishable containers is:\n",
    "\n",
    "\n",
    "$$S(n,k) = \\frac{1}{k!}\\sum\\limits_{i=0}^{k} (-1)^i \\binom{k}{i} (k-i)^n$$\n",
    "\n",
    "Setting j = k - i, we can also write:\n",
    "\n",
    "$$\n",
    "S(n,k) = \\frac{1}{k!}\\sum\\limits_{j=k}^{0} (-1)^{j} \\binom{k}{k-j} j^n = \\frac{1}{k!}\\sum\\limits_{j=k}^{0} (-1)^{j} \\binom{k}{j} j^n = \\frac{1}{k!}\\sum\\limits_{i=0}^{k} (-1)^{k-i} \\binom{k}{i} i^n\n",
    "$$\n",
    "\n"
   ]
  },
  {
   "cell_type": "code",
   "execution_count": 44,
   "metadata": {},
   "outputs": [
    {
     "name": "stdout",
     "output_type": "stream",
     "text": [
      "k  :        1       2       3       4       5       6       7\n",
      "\n",
      "n=1        1\n",
      "n=2        1       2\n",
      "n=3        1       6       6\n",
      "n=4        1      14      36      24\n",
      "n=5        1      30     150     240     120\n",
      "n=6        1      62     540    1560    1800     720\n",
      "n=7        1     126    1806    8400   16800   15120    5040\n"
     ]
    }
   ],
   "source": [
    "from math import comb, factorial\n",
    "\n",
    "def stirling(n, k):\n",
    "    if k > n:\n",
    "        return ''\n",
    "    s = 0\n",
    "    ind=1\n",
    "    fact_k = factorial(k)\n",
    "    for i in range(0,k):\n",
    "        si = ind*comb(k,i)*((k - i)**n)\n",
    "        ind=ind*-1\n",
    "        s += si\n",
    "    return s\n",
    "\n",
    "def print_line(prefix, row):\n",
    "    f_row = [f\"{x:8}\" for x in row]\n",
    "    heading=f\"{prefix} {\"\".join(f_row)}\"\n",
    "    print(heading)\n",
    "\n",
    "\n",
    "print_line(\"k  :\", [x for x in range(1,8)])\n",
    "print()\n",
    "for n in range(1,8):\n",
    "    nos = [stirling(n,k) for k in range(1,n+1)]\n",
    "    print_line(f\"n={n}\", nos)"
   ]
  },
  {
   "cell_type": "markdown",
   "metadata": {},
   "source": [
    "## $S(n+1, k) = S(n, k-1) + k.S(n,k)$\n",
    "\n",
    "Given a set $A = \\{a_1, a_2, \\dots, a_{n+1}\\}$, S(n+1,k) tells us the number of ways to distribute elements of A in k indistinguishable containers.\n",
    "\n",
    "We have 2 possibilities:\n",
    "\n",
    "**a) $a_{n+1}$ is in a container by itself**\n",
    "\n",
    "Now, we can distribute $\\{a_1, a_2, \\dots, a_n\\}$ in k-1 identical containers in $S(n,k-1)$ ways and we can then add $a_{n+1}$ to the remaining container. The number of these choices is $S(n, k-1)$.\n",
    "\n",
    "**b) $a_{n+1}$ is in a container with other elements**\n",
    "\n",
    "So we have $S(n,k)$ ways to distribute n objects in k identical containers. But I can pick any of the k distinct containers (now distinguished by their contents), to place the n+1th element. This provides $k.S(n,k)$ choices. \n",
    "\n",
    "Note tha this provides a recursive relation to build the table above."
   ]
  },
  {
   "cell_type": "markdown",
   "metadata": {},
   "source": [
    "# Bell Numbers ($B_n$): All partitions of a set of size n\n",
    "\n",
    "Note that partitions are non-empty, by definition.\n",
    "\n",
    "$B_{n+1} = \\sum\\limits_{k=0}^{n} \\binom{n}{k} B_k$\n",
    "\n",
    "Also:\n",
    "\n",
    "$B_n = \\sum\\limits_{k=1}^{n} S(n,k)$\n",
    "\n"
   ]
  }
 ],
 "metadata": {
  "kernelspec": {
   "display_name": ".venv",
   "language": "python",
   "name": "python3"
  },
  "language_info": {
   "codemirror_mode": {
    "name": "ipython",
    "version": 3
   },
   "file_extension": ".py",
   "mimetype": "text/x-python",
   "name": "python",
   "nbconvert_exporter": "python",
   "pygments_lexer": "ipython3",
   "version": "3.12.8"
  }
 },
 "nbformat": 4,
 "nbformat_minor": 2
}
