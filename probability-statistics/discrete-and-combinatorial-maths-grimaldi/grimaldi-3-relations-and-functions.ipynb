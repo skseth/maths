{
 "cells": [
  {
   "cell_type": "markdown",
   "metadata": {},
   "source": [
    "# 6 Counting Problems\n",
    "\n",
    "1. (DoD) 7 contracts for 7 distinct parts, 4 companies. All 4 companies should get at least one part. \n",
    "\n",
    "2. How many 7-digit quaternary sequences {0,1,2,3} have at least one occurence of each digit 0,1,2,3.\n",
    "\n",
    "3. An m x n zero-one matrix has entries either 0 or 1. How many 7 x 4 matrices have exactly one 1 in each row and at least one 1 in each column.\n",
    "\n",
    "4. 7 unrelated people enter lobby of building with 4 additional floors, and get on an elevator. What is the probability that elevator must stop on every floor?\n",
    "\n",
    "5. $\\sum\\limits_{k=0}^{n} (-1)^k\\binom{n}{n-k} (n-k)^m = 0$, 0 < m < n.\n",
    "\n",
    "6. For n > 0, $\\sum\\limits_{k=0}^{n} (-1)^k\\binom{n}{n-k} (n-k)^n = n!$"
   ]
  },
  {
   "cell_type": "markdown",
   "metadata": {},
   "source": [
    "Solution (WRONG):\n",
    "\n",
    "1. 7.6.5.4 ways to allocate at least one part. Now you have 4 companies, 3 parts to distribute. $x_1 + x_2 + x_3 + x_4 = 3$ i.e. n = 4, k = 3. $\\binom{6}{3}$ "
   ]
  },
  {
   "cell_type": "code",
   "execution_count": 11,
   "metadata": {},
   "outputs": [
    {
     "name": "stdout",
     "output_type": "stream",
     "text": [
      "Wrong Answer 16800\n"
     ]
    }
   ],
   "source": [
    "from math import comb\n",
    "print(f\"Wrong Answer {(7*6*5*4)*comb(6,3)}\")"
   ]
  },
  {
   "cell_type": "markdown",
   "metadata": {},
   "source": [
    "Why is it wrong? Let's try with smaller numbers:\n",
    "\n",
    "No of onto functions from 4 to 2 = 14\n",
    "\n",
    "But if we follow our logic above:\n",
    "\n",
    "12 ways to allocate 2 parts. \n",
    "Then 2 parts, so $x_1 + x_2 = 2$, n=2, k=2 so $\\binom{3}{2} = 3$\n",
    "\n",
    "So total = 12*3 = 36. \n",
    "\n",
    "Duplication happens when we see the total distribution.\n",
    "\n",
    "e.g suppose i allocate $(2,0), (3,1)$ by first step. Now, i allocate (0,0), and (1,1). \n",
    "\n",
    "But same result could have been achieved by (0,0), (3,1) and (2,0) and (1,1) i.e. we are double counting many onto functions. Hence answer is wrong - correct answer is worked out below."
   ]
  },
  {
   "cell_type": "markdown",
   "metadata": {},
   "source": [
    "# Onto Functions\n",
    "\n",
    "See Principle of Inclusion-Exclusion for proof.\n",
    "\n",
    "No of onto functions : $\\sum\\limits_{k=0}^{n} (-1)^k \\binom{n}{k} (n-k)^m$\n",
    "\n"
   ]
  },
  {
   "cell_type": "code",
   "execution_count": 14,
   "metadata": {},
   "outputs": [
    {
     "name": "stdout",
     "output_type": "stream",
     "text": [
      "Correct Answer to Q.1 to 3: 8400\n"
     ]
    }
   ],
   "source": [
    "from math import comb\n",
    "\n",
    "def onto_funcs(m: int, n: int):\n",
    "    s = 0\n",
    "    ind=1\n",
    "    for k in range(0,n):\n",
    "        i = ind*comb(n,k)*((n - k)**m)\n",
    "        ind=ind*-1\n",
    "        s += i\n",
    "    return s\n",
    "\n",
    "print(f\"Correct Answer to Q.1 to 3: {onto_funcs(7,4)}\")\n",
    "\n"
   ]
  }
 ],
 "metadata": {
  "kernelspec": {
   "display_name": ".venv",
   "language": "python",
   "name": "python3"
  },
  "language_info": {
   "codemirror_mode": {
    "name": "ipython",
    "version": 3
   },
   "file_extension": ".py",
   "mimetype": "text/x-python",
   "name": "python",
   "nbconvert_exporter": "python",
   "pygments_lexer": "ipython3",
   "version": "3.12.8"
  }
 },
 "nbformat": 4,
 "nbformat_minor": 2
}
