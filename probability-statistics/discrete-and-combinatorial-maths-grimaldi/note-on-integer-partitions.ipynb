{
 "cells": [
  {
   "cell_type": "markdown",
   "metadata": {},
   "source": [
    "See: https://math.stackexchange.com/questions/2675382/calculating-integer-partitions"
   ]
  },
  {
   "cell_type": "code",
   "execution_count": 7,
   "metadata": {},
   "outputs": [
    {
     "data": {
      "text/plain": [
       "[1, 1, 2, 3, 5, 7, 11, 15, 22, 30, 42]"
      ]
     },
     "execution_count": 7,
     "metadata": {},
     "output_type": "execute_result"
    }
   ],
   "source": [
    "def pentagonal_number(k):\n",
    "    return int(k*(3*k-1) / 2)\n",
    "\n",
    "\n",
    "def compute_partitions(goal):\n",
    "    partitions = [1]\n",
    "    for n in range(1,goal+1):\n",
    "        partitions.append(0)\n",
    "        for k in range(1,n+1):\n",
    "            coeff = (-1)**(k+1)\n",
    "            for t in [pentagonal_number(k), pentagonal_number(-k)]:\n",
    "                if (n-t) >= 0:\n",
    "                    partitions[n] = partitions[n] + coeff*partitions[n-t]\n",
    "    return partitions\n",
    "\n",
    "\n",
    "n=10\n",
    "compute_partitions(n)"
   ]
  }
 ],
 "metadata": {
  "kernelspec": {
   "display_name": ".venv",
   "language": "python",
   "name": "python3"
  },
  "language_info": {
   "codemirror_mode": {
    "name": "ipython",
    "version": 3
   },
   "file_extension": ".py",
   "mimetype": "text/x-python",
   "name": "python",
   "nbconvert_exporter": "python",
   "pygments_lexer": "ipython3",
   "version": "3.12.8"
  }
 },
 "nbformat": 4,
 "nbformat_minor": 2
}
