{
 "cells": [
  {
   "cell_type": "markdown",
   "metadata": {},
   "source": [
    "# The Rules of Sum and Product\n",
    "\n",
    "## The Rule of Sum\n",
    "\n",
    "If first task is performed in m ways, while a second task can be performed in n ways, and the two tasks cannot be performed simultaenously, then performing either one or the other task can be accomplished in m + n ways.\n",
    "\n",
    "E.g. A college library has 40 books to rent on maths, 50 on physics. So a student has 40 + 50 = 90 books to choose from in order to learn more.\n",
    "\n",
    "## The Rule of Product\n",
    "\n",
    "If a process can be broken down into first and second stages, and there are m possible outcomes for the first stage and n for the second, then the total procedure can be carried out in m.n ways.\n",
    "\n",
    "e.g. A play has 6 men and 4 women auditioning for the lead roles. There are 6x8 - 48 possible combinations of couples possible for the lead roles.\n"
   ]
  },
  {
   "cell_type": "markdown",
   "metadata": {},
   "source": [
    "# Permutations & Combinations\n",
    "\n",
    "- Mostly Same as Stat110 - permutations, combinations, binomial theorem.\n",
    "\n",
    "## Multinomial Theorem / Coefficient\n",
    "For a multinomial expression: $(x_1 + x_2 + \\dots + x_i)^n$, the coefficient of $x_1^{n_1}.x_2^{n_2}\\dots x_i^{n_i}$ is :\n",
    "\n",
    "$$\\frac{n!}{n_1!n_2!\\dots n_i!}$$\n",
    "\n",
    "This is known as the multinomial coefficient.\n",
    "\n"
   ]
  },
  {
   "cell_type": "markdown",
   "metadata": {},
   "source": [
    "# Combinations with Repetition: Distributions\n",
    "\n",
    "Prototype Problem: 7 friends are returning from practice, and stop at a fast food joint to order idli, dosa, vada and upma - each person picking one item, but any number of items can be ordered. How many possible order combinations are there?\n",
    "\n",
    "Solution. | x x | xx | x | xx | : See the picture - the x's represent the 4 food items, the bars represent the boundary of the food-trays for idli, dosa, vada, upma. All that matters is where we place the boundary in these slots. Of the slots, the first and last are fixed, so we have k x's and (n-1) |'s. So we have to choose k slots from n + k -1 total.\n",
    "\n",
    "$$\\text{no of samples } = \\binom{n + k - 1}{k} = \\binom{n + k - 1}{n-1}$$\n",
    "\n",
    "This can be treated as the case where the slots (or boxes) are distinguishable, but items don't matter - only the counts do.\n"
   ]
  },
  {
   "cell_type": "markdown",
   "metadata": {},
   "source": [
    "### Example 1.23 : Donut Shop: 20 types of donuts. How many ways can we select a dozen?\n",
    "\n",
    "k = 12, n = 20. $\\binom{12+20-1}{12} = \\binom{31}{12}$"
   ]
  },
  {
   "cell_type": "markdown",
   "metadata": {},
   "source": [
    "### Example 1.24: Boss distributes Rs. 100 to 4 secretaries in Rs. 10 notes.\n",
    "\n",
    "a) Allowing for some secretary to get nothing:\n",
    "\n",
    "k = 10 (10 dollar-bills) n = 4. Ans: $\\binom{13}{10} = 13.2.11 = 286$\n",
    "\n",
    "b) Each secretary gets at least 10. We can imagine slots between each item |x . x . x . x . x . x . x . x . x . x| - now we have just 9 slots to put (n-1) bars. \n",
    "\n",
    "$\\binom{k-1}{n-1} = \\binom{9}{3} = 84$\n",
    "\n",
    "Or: k = 6, n = 4: $\\binom{9}{6}$, since 4 notes are preallocated.\n",
    "\n",
    "c) If each secretary gets 10, head sec gets 50. 80 is gone, only 2 notes remain. k = 2, n = 4: $\\binom{5}{2} = 10$"
   ]
  },
  {
   "cell_type": "markdown",
   "metadata": {},
   "source": [
    "### Ex 1.25: 7 apples, 6 oranges among 4 children, all children getting at least one apple. \n",
    "\n",
    "We are left with 3 apples, 6 oranges.\n",
    "\n",
    "Apply rule of product + combinations with repetition.\n",
    "\n",
    "k = 3/6, n = 4: $\\binom{6}{3}.\\binom{9}{6}$\n",
    "\n",
    "### Ex 1.26: Message made up of 12 different symbols through a communication channel + 45 blank spaces, with min 3 spaces between each symbol. Message starts and ends with a symbol. How many different transmissions can there be?\n",
    "\n",
    "12 different symbols, so 12! permutations. 11 slots in between.\n",
    "\n",
    "33 (3 x 11) spaces are fixed. So we are left with 12 spaces. So we have k=12 spaces + n=11 slots. Ans: $\\binom{22}{12}$ ways to send the spaces. \n",
    "\n",
    "Total no of ways: $12!\\binom{22}{12}$"
   ]
  },
  {
   "cell_type": "markdown",
   "metadata": {},
   "source": [
    "### Ex 1.27 Determine all integer solutions to $x_1 + x_2 + x_3 + x_4 = 7$\n",
    "\n",
    "k=7 pebbles, n=4 bars. $\\binom{10}{7} = 120$"
   ]
  },
  {
   "cell_type": "markdown",
   "metadata": {},
   "source": [
    "# Statements Equivalent to Combinations with Repetition\n",
    "\n",
    "Following are equivalent:\n",
    "\n",
    "a) No of solutions to: $x_1 + x_2 + \\dots + x_n = k$\n",
    "\n",
    "b) No of selections, with repetition of size k from a collection of n distinct objects.\n",
    "\n",
    "Here $x_i$ represent how many of the ith object were selected, i = 1 to n. So $x_1 + x_2 + \\dots + x_n = k$.\n",
    "\n",
    "c) The number of ways k identical objects can be distributed among n **distinct** containers.\n",
    "\n",
    "Here n is the container, the objects are identical. \n",
    "\n",
    "For the last, When objects are distinct but containers are indistinguishable, this requires sterling numbers of the second kind (see principle-of-inclusion-exclusion). \n",
    "\n",
    "The final case (objects / containers) identical requires the theory of partition of integers.\n",
    "\n",
    "\n",
    "| Note  | Objects | Containers | Selection | Formula | Example |\n",
    "| --- | --- | --- | --- | --- | --- |\n",
    "| Sampling | n distinct | n.a. | k replacement, ordered | n^k | No of functions from k to n |\n",
    "| Sampling | n distinct | n.a. | k w/o replacement, ordered | $\\frac{n!}{n-k!}$| queue of k people, from n<br/>no of 1-1 functions from k to n |\n",
    "| Sampling | n distinct | n.a. | k w/o replacement, unordered | $\\binom{n}{k}$| No of k-subsets of a set = no of 1-1 functions (k->n) / $k!$|\n",
    "| Sampling | n distinct | n.a. | k w/ replacement, unordered | $\\binom{n + k - 1}{k}$| Fast Food : n choices, k items ordered<br/>$c_1 + c_2 + \\dots + c_n = k$ |\n",
    "| Sampling | n distinct | n.a. | k from 0 to n<br/>w/o replacement, unordered | $2^n$| Power set |\n",
    "| Sampling | n distinct | n.a. | k = n, w/o replacement, ordered | $n!$| Permutations of n, no of 1-1 functions on n |\n",
    "| Distribution | k identical | n distinct | n.a. | $\\binom{n + k - 1}{k}$| Distribute k identical tokens to n named people<br/>$t_1 + t_2 + \\dots + t_n = k$ |\n",
    "| Distribution | k distinct | n distinct, non-empty, n <= k | n.a. | $\\sum\\limits_{i=0}^{n} (-1)^i \\binom{n}{i} (n-i)^k$ | k=7 parts, n=4 suppliers, every supplier gets a part<br/>No of onto functions from k to n |\n",
    "| Distribution | n distinct | k identical, non-empty | n.a. | $S(n,k)$<br/> Sterling number<br/>of second kind| Partition set of size n into k non-empty parts, n > k |\n",
    "| Distribution | n identical | k identical | n.a. | p(n) - no closed form. | partition of integers |\n",
    "\n",
    "\n"
   ]
  }
 ],
 "metadata": {
  "kernelspec": {
   "display_name": "Python 3 (ipykernel)",
   "language": "python",
   "name": "python3"
  },
  "language_info": {
   "codemirror_mode": {
    "name": "ipython",
    "version": 3
   },
   "file_extension": ".py",
   "mimetype": "text/x-python",
   "name": "python",
   "nbconvert_exporter": "python",
   "pygments_lexer": "ipython3",
   "version": "3.12.8"
  }
 },
 "nbformat": 4,
 "nbformat_minor": 4
}
