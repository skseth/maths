{
 "cells": [
  {
   "cell_type": "markdown",
   "metadata": {},
   "source": [
    "# References\n",
    "\n",
    "- Naive Set Theory - Paul R. Halmos : Short, concise (and sometimes too concise) introduction to non-axiomatic Set Theory, and the theory of infinite cardinals and ordinals. Does not cover the construction of reals from rationals etc.\n",
    "\n",
    "- Set Theory and Metric Spaces - Irving Kaplansky : Treats Cardinals before ordinals. Covers general metric spaces and provides a path onto topology.\n",
    "\n",
    "- Elements of Set Theory - Enderton : A good reference for more modern set theory, can be used to complement Halmos\n",
    "\n",
    "- Set Theory and the Structure of Arithmetic - Norman and Joseph Landin Hamilton - good source for contruction of N,Z,Q,R,C.\n",
    "\n",
    "- Classic Set Theory - Derek C. Goldrei - Starts with real number system, the Q, and then N. Covers Zermelo-Frankel axioms, cardinals, ordinals. Clearly distinguishes between the parts where AC is needed and where it is not.\n",
    "\n",
    "- Real Analysis - Lectures by Prof Vittal Rao (https://www.youtube.com/playlist?list=PL5xeijzKJaIj9pF-Ep7vTs6k1uqYyL-at)\n",
    "\n",
    "\n",
    "\n",
    "\n",
    "\n"
   ]
  }
 ],
 "metadata": {
  "language_info": {
   "name": "python"
  }
 },
 "nbformat": 4,
 "nbformat_minor": 2
}
