{
 "cells": [
  {
   "cell_type": "markdown",
   "metadata": {},
   "source": [
    "# Axiom of Choice\n",
    "\n",
    "\"Suppose that F is a family of non-empty sets. Then there is a function $h:F \\to \\bigcup F$\", such that for each $A \\in F$, $h(A) \\in A$.\"\n",
    "\n",
    "h is said to be the **choice function** of F.\n",
    "\n",
    "The basic point is that for h to be a proper function, we need some rule or mapping to ensure we know how to implement h - the Axiom of Choice guarantees we can do this in the absence of any rule to make the choice. A classic example from Bertrand Russell is shoes vs socks. If you had N shoes, and you wanted to pick one from each you can make a rule e.g. pick the left shoe. If you have N socks (assuming each sock is indistinguishable from the other), you have no explicit rule."
   ]
  },
  {
   "cell_type": "markdown",
   "metadata": {},
   "source": [
    "**Create a one-one function $g:D \\to C$, given an onto function $f:C \\to D$**\n",
    "\n",
    "Define $F = \\{ f^{-1}(\\{d\\}): d \\in D \\}$. Note these are all non-empty (since f is onto), but some may have multiple values. Also note that these sets are disjoint, since for any c in C, f(c) = d for only one d.\n",
    "\n",
    "Now, by axiom of choice, there is a choice function $h:F \\to \\bigcup F$, such that $h(A) \\in A$ for each A in F.\n",
    "\n",
    "Now define $g: D \\to C: d \\mapsto h(f^{-1}(\\{d\\}))$, and you have a one-one function.\n",
    "\n",
    "\n",
    "## Disjoint Family Form\n",
    "\n",
    "Suppose F is a disjoint family of non-empty sets. Then there is a choice function $h:F \\to \\bigcup F$, such that for each A in F, $h(A) \\in A$.\n",
    "\n",
    "## Power Set Form\n",
    "\n",
    "Suppose that M is a non-empty set. Then there is a function $h: P(M) \\setminus \\{\\emptyset\\} \\to M$, such that for all non-empty subsets of M, $h(A) \\in A$."
   ]
  },
  {
   "cell_type": "markdown",
   "metadata": {},
   "source": [
    "## Proof: AC => Disjoint Form => Power Set form => AC\n",
    "\n",
    "**a) AC => Disjoint Form**\n",
    "Given a disjoint family of non-empty sets, by AC you have your h!\n",
    "\n",
    "**b) Disjoint Form => Power set form**\n",
    "\n",
    "We have M as a non-empty set. Define a family : $F = \\{ A \\times \\{A\\}: A \\subset M, A \\ne \\emptyset \\}$ (instead of using the power set).\n",
    "\n",
    "Now we have a disjoint family of subsets of M. Hence we have a choice function $g: F \\to \\bigcup F$, such that $f(a, A) \\in A \\times \\{A\\}$. Note the second coordinate is always the set.\n",
    "\n",
    "$h: P(M) \\setminus \\emptyset: A \\mapsto \\pi_1(g(A \\times \\{A\\}))$, where $\\pi_1$ is the coordinate function which picks the first coordinate from an n-tuple.\n",
    "\n",
    "**c) Power Set Form => AC**\n",
    "\n",
    "Given F as a family of non-empty sets, define $M = \\bigcup F$. Note that if $A \\in F$, then $A \\subset F$. And hence $A \\in P(M)$. Thus $F \\subset P(M)$.\n",
    "\n",
    "Now, we have a choice function - $h:P(M) \\setminus \\emptyset \\to M$. Since F is a subset of P(M), $h{\\big|}_F$ is the desired choice function."
   ]
  },
  {
   "cell_type": "markdown",
   "metadata": {},
   "source": [
    "## Ex 5.5 Proof: Onto -> one-one <=> AC\n",
    "\n",
    "Suppose we start with a statement: Given an onto function $f:C \\to D$, then there is a one-one function $g:D \\to C$, such that f(g(d)) = d for all d in D.\n",
    "\n",
    "(=>)\n",
    "We have already shown that AC => this statement is true. Now suppose we have a family F of disjoint, non-empty sets (Disjoint family form).\n",
    "\n",
    "(<=): Define $f:\\bigcup F \\to F: a \\mapsto A \\iff a \\in A$. Now, every a in $\\bigcup F$ belongs to one and only one A in F (disjoint condition) so function f is well-defined. Also f is onto, because F is a collection of non-empty sets.  Hence we have a function :\n",
    "\n",
    "$h:F \\to \\bigcup F$, such that for each A in F, $f(h(A)) = A$ i.e. $h(A) \\in A$."
   ]
  },
  {
   "cell_type": "markdown",
   "metadata": {},
   "source": [
    "## Interlude: Cartesian Product of Infinite Sets ($\\prod_{i \\in I} A_i$) , Index Sets\n",
    "\n",
    "The basic idea is to define each element of the cartesian product as a \"sequence\" i.e. a function from some index set which picks one element from each set. \n",
    "\n",
    "Let I be an arbitrary set, which we will call an **index set**. \n",
    "\n",
    "We can use this this set to identify an **indexed family of sets** $\\{A_i: i \\in I\\}$. This is misleading, because it is possible, for example, for $A_i = A_j$. In reality we should read this as $\\{(i,A_i): i \\in I \\}$ which is really a function from I to some set of sets. So an indexed family of sets is really a function, dressed up to look like a set.\n",
    "\n",
    "Now, a **sequence** $\\langle a_i \\rangle$ is a function $f:I \\to \\bigcup \\{A_i: i \\in I\\}$ - such that $f(i) \\in A_i$ for each $i \\in I$. This mirrors our definition of sequences using the natural numbers as an index set, except that here we are using arbitrary sets.\n",
    "\n",
    "We define the cartesian product ($\\prod_{i \\in I} A_i$) of the **indexed family of sets** $\\{A_i: i \\in I\\}$, as the set of all possible sequences i.e. all possible functions $f:I \\to \\bigcup \\{A_i: i \\in I\\}$, such that $f(i) \\in A_i$ for each $i \\in I$.\n",
    "\n",
    "\n",
    "We can have a mapping from the ordered pair definition to this definition of the cartesian product:\n",
    "\n",
    "$\\theta: \\prod_{i \\in \\{1,2\\}} A_i \\to A_1 \\times A_2: f \\mapsto (f(1), f(2))$ \n"
   ]
  },
  {
   "cell_type": "markdown",
   "metadata": {},
   "source": [
    "## Ex 5.7: The cartesian product of an indexed family of non-empty sets is non-empty (<=> AC)\n",
    "\n",
    "Proof:\n",
    "\n",
    "=> AC:\n",
    "\n",
    "Suppose we have a family F of non-empty sets. We can take I = F, and index the set using itself - we can now call this $\\{A_i\\}$. Now, since we have a family of non-empty sets, the cartesian product ($\\prod_{i \\in F}$ A_i) is not empty. Pick any sequence f from this product: $f = \\langle a_i \\rangle$, $i \\in F$ is a choice function, since $a_i \\in A_i$ for each i in F.\n",
    "\n",
    "<= Cartesian Product\n",
    "\n",
    "Given a family of sets $F = \\{A_i\\}$. Technically, we need to convert this into a set $F' = \\{A_i \\times {i} = B_i: i \\in I\\}$, to make the sets unique. Then I have a choice function:\n",
    "\n",
    "$h:F' \\to \\bigcup F'$, such that $h((a_i, i)) \\in A_i \\times i$ Then $\\pi_1 \\circ h$ provides a sequence of $\\langle a_i \\rangle$, i.e. the cartesian product is non-empty.\n"
   ]
  },
  {
   "cell_type": "markdown",
   "metadata": {},
   "source": [
    "# Ex 5.8 : Suppose $A_i = A$ for each $i \\in I$, where A is not empty. Is AC needed to show the cartesian product is not empty?\n",
    "\n",
    "Given just $\\{A\\}$, we can pick one element from A, say a, as this is a finite collection of just one set. And then given an index set, i can define a sequence $\\langle a_i \\rangle$, such that $a_i = a$. So I don't need axiom of choice for this."
   ]
  },
  {
   "cell_type": "markdown",
   "metadata": {},
   "source": [
    "# Axiom of Choice in Mathematics\n",
    "\n"
   ]
  },
  {
   "cell_type": "markdown",
   "metadata": {},
   "source": [
    "## Set Theory \n",
    "\n",
    "### Well-ordering Principle\n",
    "\n",
    "Every set can be well-ordered.\n",
    "\n",
    "### Zorn's Lemma\n",
    "\n",
    "\n",
    "### Principle of Dependent Choice\n"
   ]
  },
  {
   "cell_type": "markdown",
   "metadata": {},
   "source": [
    "## Analysis\n",
    "\n",
    "### Sequentially Continuous implies Continuous in R\n",
    "\n",
    "(<=) Suppose f is continuous at a, and we have a sequence $\\{x_n\\}$, such that $\\lim_{n \\to \\infty} x_n = a$. We need to show $\\{f(x_n)\\}$ converges to f(a).\n",
    "\n",
    "Given e > 0, there is a d > 0, such that for |x - a| < d, |f(x) - f(a)| < e. Since $\\{x_n\\}$ has limit a, there is a N, such that |x_n - a| < d for all n > N. But then, |f(x_n) - f(a)| < e for all n > N, proving the result that  $\\{f(x_n)\\}$ converges to f(a).\n",
    "\n",
    "(=>) Suppose f is not continuous at a (we are proving the contrapositive) - we have to show there is a sequence $\\{x_n\\}$ which converges to a, such that $\\{f(x_n)\\}$ does not converge. f not continuous at a implies that there is some e > 0, such that for any d > 0, there is some x such that |x - a| < d, but |f(x) - f(a)|  < e. We can then create a sequence as follows:\n",
    "\n",
    "Define $S_n = \\{ x \\in R: |x - a| < 1/n \\wedge |f(x) - f(a)| > e \\}$. Define $S = \\{ S_n: n \\in N \\}$. Note that each $S_n$ is non-empty. Hence, we can use a choice function $h: S \\to \\bigcup S$, such that $h(s) \\in s$ to define a sequence $\\langle x_n \\rangle$, such that $x_n = h(S_n)$. This is a sequence converging to a (we can see given any d, there is some n such that |x_n - a| < d). But also, |f(x_n) - f(a)| > e for this sequence, i.e. the function is not sequentially continuous."
   ]
  },
  {
   "cell_type": "markdown",
   "metadata": {},
   "source": [
    "## Lebesgue Integration\n",
    "\n",
    "### A countable union of null sets is null.\n",
    "\n",
    "Suppose $X = \\bigcup \\{ X_m : m \\in N \\}$ such that each $X_m$ is null. \n",
    "\n",
    "Given any e, since each $X_m$ is null, we get a sequence $\\langle I_{m,n} \\rangle$ of intervals covering $X_m$ with total length less than $\\frac{e}{2^{m + 1}}$. (NOTE: AC used here)\n",
    "\n",
    "We order the intervals as follows:\n",
    "\n",
    "$I_{0,0}$  \n",
    "$I_{1,0}, I_{0,1}$  \n",
    "$I_{2,0}, I_{1,1}, I_{0,2}$  \n",
    "...  \n",
    "\n",
    "Each row has m+n+1 items. Item (m,n) appears in row m + n (starting from 0). Thus, there are 1 + 2 + .. + (m+n) items before an item's row. \n",
    "Their total is (m+n)(m+n+1)/2 items before, and the m/n item appears at the nth spot (if we number from 0). We define a sequence $\\langle Y_n \\rangle$ of intervals, such that $I_{m,n} = Y_{\\frac{1}{2}(m+n)(m+n+1) + n}$.\n",
    "\n",
    "Then we can check that $X \\subset \\bigcup \\{ Y_k : k \\in N \\}$ and that there is a bound for the total length of $Y_k$'s:\n",
    "\n",
    "$\n",
    "\\begin{align}\n",
    "\\sum_{k \\in N} (Y_k) &= \\sum_{n \\in N} l(I_{0,n}) + \\sum_{n \\in N} l(I_{1,n}) + \\dots + \\sum_{n \\in N} l(I_{m,n}) + \\dots \\\\\n",
    "                    &= \\frac{e}{2} + \\frac{e}{4} + \\dots + \\frac{e}{2^{m+1}} + \\dots \\\\\n",
    "                    &= e\n",
    "\\end{align}\n",
    "$\n",
    "\n",
    "Thus given e > 0, there is a suitable sequence of intervals covering X of length less than e. Hence X is null.\n",
    "\n",
    "\n",
    "### There is a subset of the unit circle with non-measurable length\n",
    "\n",
    "### Banach-Tarski Paradox"
   ]
  },
  {
   "cell_type": "markdown",
   "metadata": {},
   "source": [
    "# Zorn's Lemma and Maximal Elements\n",
    "\n",
    "### Abstract Algebra: Let G be a group. Then G has a maximal Abelian subgroup.\n",
    "\n",
    "### Linear Algebra: Let V be a vector space. Then V has a basis.\n",
    "\n",
    "### Set Theory: Set Equivalence\n",
    "\n",
    "Given two sets A and B, there is a one-one function from A to B or a one-one function from B to A (or both of course)\n",
    "\n"
   ]
  },
  {
   "cell_type": "markdown",
   "metadata": {},
   "source": []
  }
 ],
 "metadata": {
  "language_info": {
   "name": "python"
  }
 },
 "nbformat": 4,
 "nbformat_minor": 2
}
