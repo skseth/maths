{
 "cells": [
  {
   "cell_type": "markdown",
   "metadata": {},
   "source": [
    "# Dedekind Contruction\n",
    "\n",
    "We construct reals (R) from rationals (Q).\n",
    "\n",
    "A Dedekind cut splits Q into two subsets, a left set and a right set, such that every element of the left set is smaller than every element of the right set. \n",
    "\n",
    "Note: $\\lt_Q$ is the less-than relation of Q.\n",
    "\n",
    "**Definition: Dedekind Left Set**\n",
    "\n",
    "A Dedekind left set is a subset $\\bold{r}$ of Q, such that\n",
    "\n",
    "a) $\\bold{r}$ is a proper, non-empty subset\n",
    "\n",
    "b) $\\bold{r}$ is closed to the left : if $q \\in \\bold{r}$ and $p \\lt_Q q$, then $p \\in \\bold{r}$\n",
    "\n",
    "c) $\\bold{r}$ is open to the right: if $p \\in \\bold{r}$, there is some $q \\in \\bold{r}$ such that $p \\lt_Q q$\n",
    "\n",
    "\n",
    "Property (c) addresses the case where r is a rational number - by this definition r itself will lie in the right set, not the left set.\n",
    "\n",
    "**Definition: Q Embedded in R**\n",
    "\n",
    "We want to see Q as being part of R. \n",
    "\n",
    "Let $q \\in Q$. The real number corresponding to q is:\n",
    "\n",
    "$\\bold{q} = \\{ p \\in Q: p \\lt_Q q\\}$\n",
    "\n"
   ]
  },
  {
   "cell_type": "markdown",
   "metadata": {},
   "source": [
    "## Ex 2.1\n",
    "\n",
    "a) Let $q \\in Q$. Prove $\\bold{q} = \\{ p \\in Q: p \\lt_Q q\\}$ is a Dedekind Left Set\n",
    "\n",
    "$r \\ne \\emptyset$: $(q - 1) \\in r$\n",
    "\n",
    "$r \\ne Q$: $q \\notin r$.\n",
    "\n",
    "$r \\subset Q$: By definition\n",
    "\n",
    "If q in r, then p < q also in r, by definition of r\n",
    "Also, if p in r, then p < q, so (p + q)/2 < q => (p + q)/2 > p, is in r.\n",
    "\n",
    "b) Is $x = \\{ p \\in Q: p \\le_Q 1/2\\}$ a real number?\n",
    "\n",
    "No. Since 1/2 is in x, and there no rational greater than 1/2 in x, so x is closed on the right."
   ]
  },
  {
   "cell_type": "markdown",
   "metadata": {},
   "source": [
    "## References\n",
    "\n",
    "[Notes on Richard Dedekind’s Was sind und was sollen die Zahlen?](http://aleph0.clarku.edu/~djoyce/numbers/dedekind.pdf) - A seminal paper\n"
   ]
  }
 ],
 "metadata": {
  "language_info": {
   "name": "python"
  }
 },
 "nbformat": 4,
 "nbformat_minor": 2
}
