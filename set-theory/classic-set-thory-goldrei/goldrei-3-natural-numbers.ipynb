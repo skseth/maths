{
 "cells": [
  {
   "cell_type": "markdown",
   "metadata": {},
   "source": [
    "\n",
    "# Peano's Axioms\n",
    "\n",
    "The basic idea of Peano's is to define a successor function on a set, and say this set represents the natural numbers.\n",
    "\n",
    "X is a set containing an element 0 and a function S on itself such that:\n",
    "\n",
    "a) S is one-one\n",
    "\n",
    "b) $S(x) \\ne 0$\n",
    "\n",
    "c) (Principle of Induction): For all subsets A of X, If A contains 0, and contains S(x) whenever x is in X, then A = X\n",
    "\n",
    "\n",
    "See Halmos - natural numbers for same content. Note that we can use simpler exioms to derive the existence of a set satisfying Peano's \"axioms\". Note that Goldrei refers to $0$ as $0_X$, to be more precise."
   ]
  },
  {
   "cell_type": "markdown",
   "metadata": {},
   "source": [
    "## Theorem 3.1 Suppose that X satisfies Peano's axioms. Then every $x \\in X$, other than 0, is S(y) for some y in X.\n",
    "\n",
    "Proof: Define a set $A = \\{x \\in X: x = 0 \\text{ or } x = S(y) \\text{ for some } y \\in X\\}$. Show A = X, by induction (principle c)"
   ]
  },
  {
   "cell_type": "markdown",
   "metadata": {},
   "source": [
    "## Ex 3.2 Give similar proof that for all x, $x \\ne S(x)$\n",
    "\n",
    "Proof:\n",
    "\n",
    "Consider the set $A = \\{x \\in X: S(x) \\ne x \\}$\n",
    "\n",
    "Is 0 in A? Yes, by axiom (b). Assume A contains m (since A contains zero, there is at least one element). This implies that $S(m) \\ne m$, i.e. A contains S(m) as well. Thus A = X."
   ]
  },
  {
   "cell_type": "markdown",
   "metadata": {},
   "source": [
    "## Theorem 3.2 Definition by Recursion\n",
    "\n",
    "Let X satisfy Peano's Axioms. Let Y be any set, $y_0$ any element of Y, and $h: X \\times Y \\to Y$ a function. Then there is a unique function f, such that:\n",
    "\n",
    "$f(0) = y_0$\n",
    "\n",
    "$f(S(x)) = h(x, f(x))$ for all x in X.\n",
    "\n"
   ]
  },
  {
   "cell_type": "markdown",
   "metadata": {},
   "source": [
    "## Theorem 3.3 Any two sets X and Y satisfying Peano's Axioms are isomorphic. \n",
    "\n",
    "\"Isomorphic\" means there is a bijection f from X to Y such that:\n",
    "\n",
    "\n",
    "$f(0_X) = 0_Y$\n",
    "\n",
    "$f(S_X(x)) = S_Y(f(x))$\n"
   ]
  },
  {
   "cell_type": "markdown",
   "metadata": {},
   "source": [
    "## Proof of Theorem 3.3\n",
    "\n",
    "Take $h:X \\times Y \\to Y: (x,y) \\mapsto S_Y(y)$\n",
    "\n",
    "Define f using recursion:\n",
    "\n",
    "$f(0_X) = 0_Y$\n",
    "\n",
    "$f(S_X(x)) = h(x, f(x)) = S_Y(f(x))$\n",
    "\n",
    "Is this a bijection? \n",
    "\n",
    "a) Is this one-one? Define\n",
    "\n",
    "$A = \\{x \\in X: for all x in X: \\text{ if } f(x) = f(x'), \\text{ then x = x'} \\}$\n",
    "\n",
    "Is 0 in A? $f(0) = 0_Y$. Given any $x' \\ne 0_X$, $f(x') = S_Y(y)$ for some y in Y. But by the second axiom, $S_Y(y) \\ne 0_Y$. Hence $0 \\in A$.\n",
    "\n",
    "Assume k is in A (at least 0 is), so that for all x in X,  f(k) = f(x) imples x = k.\n",
    "\n",
    "Is S(k) in A? We know that $S(k) \\ne 0_X$. Hence $f(S(k)) = S_Y(f(k))$. Suppose there is an $l \\ne 0_X$ such that $f(l) = S_Y(f(k))$. \n",
    "\n",
    "Since $l \\ne 0_X$, we have $l = S(m)$ for some m in X. But then $f(l) = S_Y(f(m))$ i.e. f(m) = f(k) ... (1)\n",
    "\n",
    "By the inductive assumption, f(k) = f(m) => k = m. But then S(k) = S(m) = l i.e. S(k) is in A.\n",
    "\n",
    "Thus A = X, and f is one-one.\n",
    "\n",
    "b) Is f onto? Define:\n",
    "\n",
    "$B = \\{ y \\in Y: y \\in range(f) \\}$\n",
    "\n",
    "Obviously $0_Y \\in B$. Assume k is in B. Then there is some $k_X \\in X$, such that $f(k_X) = k$. Then, by definition of f, $f(S(k_X)) = S_Y(f(k_X)) = S_Y(k)$, thus $S_Y(k)$ is in B. Thus B = Y, and f is onto."
   ]
  },
  {
   "cell_type": "markdown",
   "metadata": {},
   "source": [
    "# Construction of Natural Numbers \n",
    "\n",
    "**Definition** Given a set x, the successor of x, written as $x+$, is the set:\n",
    "\n",
    "$x^+ = x \\cup \\{x\\}$\n",
    "\n",
    "Thus it is the set which contains x and all elements of x. \n",
    "\n",
    "Note that \n",
    "- $x \\in x^+$\n",
    "- $x \\subset x^+$\n",
    "- $x \\ne x^+$ at least if we ensure $x \\notin x$.\n",
    "\n",
    "**Definition: Inductive Set** A set y is inductive if it contains the $\\emptyset$, and $x^+ \\in y$, when $x \\in y$.\n",
    "\n",
    "**Definition: Natural Numbers** The set of natural numbers is the smallest inductive set i.e. it is the intersection of all inductive sets."
   ]
  },
  {
   "cell_type": "markdown",
   "metadata": {},
   "source": [
    "## Theorem 3.4 N is inductive\n",
    "\n",
    "## Definition: Successor Function S:\n",
    "\n",
    "$S: N \\to N: x \\mapsto x^+$\n",
    "\n",
    "We now use $\\bold{0} = \\emptyset$, $\\bold{1} = \\bold{0}^+$ etc.\n",
    "\n",
    "## Theorem 3.5 Principle of Induction on N\n",
    "\n",
    "If $A \\subset N$, such that A contains $\\bold{0}$, and if x is in A, $S(x) = x^+$ is in A. Then A = N."
   ]
  },
  {
   "cell_type": "markdown",
   "metadata": {},
   "source": [
    "## Proof of Theorem 3.4\n",
    "\n",
    "$\\emptyset$ is in all inductive sets, so it is in N.\n",
    "\n",
    "Suppose x is in N. Then x is in all inductive sets. And hence so is x+, by definition of inductive set. Hence $x^+$ is in N, and N is inductive."
   ]
  },
  {
   "cell_type": "markdown",
   "metadata": {},
   "source": [
    "## Proof of Theorem 3.5\n",
    "\n",
    "A is inductive, by definition, and it is non-empty. So $N \\subset A$, since N is the intersection of all inductive sets. But $A \\subset N$, by definition, hence $A = N$"
   ]
  },
  {
   "cell_type": "markdown",
   "metadata": {},
   "source": [
    "# Ordering of N\n",
    "\n",
    "**Definitions** For all $m, n \\in N$, we write $m < n$ if $m \\in n$. We write $m \\le n$ if $m < n$ or $m = n$.\n",
    "\n",
    "$\\le$ is a linear order on N.\n",
    "\n"
   ]
  },
  {
   "cell_type": "markdown",
   "metadata": {},
   "source": [
    "## Proof: $\\le$ is transitive and irreflexive on N\n",
    "\n",
    "**Prove that if $\\in$ is transitive in N**\n",
    "\n",
    "$A = \\{ p \\in N: \\text{ if } m \\in n \\in p, \\text{ then } m \\in p \\}$\n",
    "\n",
    "$0 \\in A$, vacuously.\n",
    "\n",
    "Suppose $p \\in A$. Is $p^+$ in A? Suppose $m \\in n \\in p^+$. Now $p^+ = p \\cup \\{p\\}$. So $n \\in p$ or $n = p$. \n",
    "\n",
    "If n = p, then $m \\in p \\implies m \\in p^+$.\n",
    "\n",
    "If $n \\in p$, then $m \\in n \\implies m \\in p$ ... by the inductive step, since p is in A. Hence, $m \\in p^+$.\n",
    "\n",
    "Thus $p^+$ is in A.\n",
    "\n",
    "**Prove $\\in$ is irreflexive in N**\n",
    "\n",
    "$A = \\{ n \\in N: n \\notin n \\}$\n",
    "\n",
    "Is 0 in A? Yes, because nothing is in 0.\n",
    "\n",
    "Suppose k is in A. Is $k^+$ in A? $k^+ = k \\cup \\{k\\}$.\n",
    "\n",
    "If $k+ \\in k^+$, then \n",
    "\n",
    "a) $k^+ = k \\implies k \\in k$, or \n",
    "\n",
    "b) $k^+ \\in k$. But by the transitive nature of $\\in$ in N, $k \\in k^+ \\in k$, i.e. $k \\in k$, which violates the inductive hypothesis.\n",
    "\n",
    "Thus, $k^+ \\notin k^+$, and $k^+ \\in A$.\n",
    "\n"
   ]
  },
  {
   "cell_type": "markdown",
   "metadata": {},
   "source": [
    "### Theorem 3.7 \n",
    "\n",
    "For all $m, n \\in N$,\n",
    "\n",
    "a) $0 \\ne n^+$\n",
    "\n",
    "b) if $m \\in n$, then $m^+ \\in n^+$\n",
    "\n",
    "c) if $m^+ = n^+$ then m = n"
   ]
  },
  {
   "cell_type": "markdown",
   "metadata": {},
   "source": [
    "## Proof of Theorem 3.7\n",
    "\n",
    "a) Suppose $0 = n^+$ => $0 = n \\cup \\{ n \\}$ i.e. 0 is non-empty.\n",
    "\n",
    "b) Define:\n",
    "\n",
    "$A = \\{ n \\in A: m \\in n, \\text{ then } m^+ \\in n^+ \\}$\n",
    "\n",
    "0 is in A, vacuously\n",
    "\n",
    "Suppose k is in A. If $m \\in k^+$, then $m = k$ or $m \\in k$ by the transitive property discussed before. \n",
    "\n",
    "i) $m = k$: Then $m^+ = k^+$, and hence $m+ \\in (k^+)^+$\n",
    "\n",
    "ii) $m \\in k$. Then by the inductive hypothesis, $m^+ \\in k^+$. Hence, $m^+ \\in (k^+)^+$\n",
    "\n",
    "c) Suppose $m^+ = n^+$. Since $m \\in m^+$, it follows that $m \\in n^+ = n \\cup \\{n\\}$. Hence, there are two possibilities: $m = n$, or $m \\in n$. \n",
    "\n",
    "If $m \\in n$, by the same argument, $n \\in m \\in n$ i.e $n \\in n$ - which violates the proof earlier that $\\in$ in N is irreflexive. Hence m = n. "
   ]
  },
  {
   "cell_type": "markdown",
   "metadata": {},
   "source": [
    "## Theorem 3.8 N, with special element $\\bold{0}$ and the successor function $S: N \\to N: x \\mapsto x^+$, satisfies Peano's axioms."
   ]
  },
  {
   "cell_type": "markdown",
   "metadata": {},
   "source": [
    "## Proof of Theorem 3.8\n",
    "\n",
    "Clear $\\bold{0} \\in N$.\n",
    "\n",
    "Also $\\bold{0}$ is not the successor of any element in N, since it is the emptyset.\n",
    "\n",
    "And we have proved earlier that it supports the Principle of Induction.\n"
   ]
  },
  {
   "cell_type": "markdown",
   "metadata": {},
   "source": [
    "## $\\in$ is linear on N\n",
    "\n",
    "This is important because it drives the law of trichotomy.\n",
    "\n",
    "Given any m, n in N, either m = n, or m < n, or n < m."
   ]
  },
  {
   "cell_type": "markdown",
   "metadata": {},
   "source": [
    "## Ex 3.8 Suppose that $n \\in N$ with $n \\ne 0$. Show that $0 \\in n$.\n",
    "\n",
    "$A = \\{ n \\in N: n = 0, \\text{ or } 0 \\in n \\}$\n",
    "\n",
    "0 is in A, by definition of A.\n",
    "\n",
    "Suppose k is in A. then $0 \\in k$ or $k = 0$. \n",
    "\n",
    "If k = 0, $0 \\in k^+$.\n",
    "\n",
    "If k != 0, then $0 \\in k$. But $k^+ = k \\cup \\{ k\\}$. Thus $0 \\in k^+$.\n",
    "\n"
   ]
  },
  {
   "cell_type": "markdown",
   "metadata": {},
   "source": [
    "## Proof $\\in$ is linear in N\n",
    "\n",
    "(a) Prove that given any m,n in N, either $n = m, n < m, m < n$\n",
    "\n",
    "Fix an m in N.\n",
    "\n",
    "$A = \\{ n \\in N: m = n, or m \\in n, or n \\in m \\text{ is true }\\}$\n",
    "\n",
    "0 is in A, since either $m = 0$, or $0 \\in m$ for any m in N, as proved in Ex 3.8.\n",
    "\n",
    "Suppose k is in A. The either k = m, or $m \\in k$, or $k \\in m$. \n",
    "\n",
    "If k = m, or $m \\in k$ then $m \\in k^+$, by transitivity of $\\in$.\n",
    "\n",
    "Suppose $k \\in m$. Then $m \\ne 0$, and hence $m = l^+$ for some l in N. \n",
    "\n",
    "Since k is in m, $k \\in l$, or $k = l$. \n",
    "\n",
    "If $k \\in l$, then $k^+ \\in l^+ = m$ by Theorem 3.7(ii)\n",
    "\n",
    "If $k = l$, then $k^+ = l^+ = m$.\n",
    "\n",
    "(b) Only one of the above is possible.\n",
    "\n",
    "(a) Let m, n be in N. Exactly one of m = n, m < n, n < m is true.\n",
    "\n",
    "If m = n, then suppose m < n. This would imply $m = n \\in n$ which violates irreflexivity of $\\in$. Similar argument holds for n < m.\n",
    "\n",
    "Suppose m < n, can n < m? Again this implies $n \\in m \\in n$, which violates irreflexivity of $\\in$.\n",
    "\n",
    "It follows that only one of the three possibilities is true.\n",
    "\n",
    "\n"
   ]
  },
  {
   "cell_type": "markdown",
   "metadata": {},
   "source": [
    "## Theorem 3.9 : N is Well-ordered\n",
    "\n",
    "**Definition: well-ordered** A linearly ordered set X with (weak) order $\\le$ is well-ordered if every non-empty subset of X has a least element i.e. for all non-empty $B \\subset X$, there is an element $b_0 \\in B$, such that $b_0 \\lt b$ for all $b \\in B$. \n"
   ]
  },
  {
   "cell_type": "markdown",
   "metadata": {},
   "source": [
    "## Proof of Theorem 3.9\n",
    "\n",
    "Suppose B is a non-empty subset of N, and has no least element.\n",
    "\n",
    "$A = \\{ n \\in N: m \\notin B \\text{ for all m <= n} \\}$\n",
    "\n",
    "0 is in A, vacuosly. Suppose k is in A. \n",
    "\n",
    "Then, if $k^+$ was in B, it would be the least element, which we have assumed does not exist. \n",
    "\n",
    "This can be seen as follows: If $b \\in B$ such that $b \\lt k^+$. Then $b = k$, or $b < k$ i.e. by the inductive step, $b \\notin B$, a contradiction. Hence there is no b in B smaller than $k^+$, and since if $k^+$ was in B it would be the least element, it cannot be in B.\n",
    "\n",
    "So $k^+$ is in A.\n",
    "\n",
    "But then A = N, i.e. B is empty, which is a contradiction. Hence B has a least element.\n",
    "\n",
    "\n"
   ]
  },
  {
   "cell_type": "markdown",
   "metadata": {},
   "source": [
    "## Exercise 3.10 Prove m < $n^+$ iff $m \\le n$.\n",
    "\n",
    "=> $m \\le n$\n",
    "\n",
    "Suppose $m = n$, then $m < n^+$.\n",
    "\n",
    "If $m < n$, then $m < n < n^+$, hence $m < n^+$, by transitivity of $\\in$.\n",
    "\n",
    "<= $m < n^+$\n",
    "\n",
    "Then $m \\in n$ or $m = n$ i.e. $m \\le n$\n",
    "\n",
    "\n"
   ]
  },
  {
   "cell_type": "markdown",
   "metadata": {},
   "source": [
    "## Theorem 3.10 : For any $n \\in N$, $n^+$ is the smallest natural number greater than N."
   ]
  },
  {
   "cell_type": "markdown",
   "metadata": {},
   "source": [
    "## Proof of Theorem 3.10\n",
    "\n",
    "Form the (non-empty set): $U = \\{k \\in N: n \\lt k \\}$. This set is non-empty as it contains $n^+$.\n",
    "\n",
    "Suppose l is the least element of U, then $l \\le n^+$. Is it possible that $l \\lt n^+$?. Suppose this is true.\n",
    "\n",
    "Then $l \\le n$, which would mean $l \\notin U$, a contradiction, as l is the least element of U. Hence, $l = n^+$\n",
    "\n"
   ]
  },
  {
   "cell_type": "markdown",
   "metadata": {},
   "source": [
    "## Exercises 3.11 - 3.16\n",
    "\n",
    "**3.11 m < n iff m is a proper subset of n**\n",
    "\n",
    "(=>)\n",
    "$m < n \\implies m \\in n$. But then if $l \\in m$, then $l \\in n$ i.e. $m \\subset n$. \n",
    "\n",
    "Is m = n? If so, then $m \\in m$, which is not possible by irreflexivity of $\\in$ in N. So m is a proper subset.\n",
    "\n",
    "(<=) m is a proper subset of n. We have to prove $m \\in n$. \n",
    "\n",
    "Can $n \\lt m^+$? Then $n = m$, a contradiction since m is a proper subset. Or $n < m$, in which case n is a subset of m, which is not possible if m is a proper subset of n. So the only possibilities are $n = m^+$, or  $m^+ \\lt n$\n",
    "\n",
    "If $n = m^+$, then $m \\in n$.\n",
    "\n",
    "Suppose $m^+ \\lt n$. Then $m^+ \\subset n \\implies m \\in n$. \n",
    "\n",
    "**3.12 For any m,n, the least of m and n : $\\min\\{m,n\\} = m \\cap n$**\n",
    "\n",
    "Either m = n, or m < n, or m > n. \n",
    "\n",
    "If m = n, then $m \\cap n = m = n$. \n",
    "\n",
    "If m < n, then m is a proper subset of n i.e. $m \\cap n = m$. And vice versa.\n",
    "\n",
    "**3.13 If $x \\in n$, then $x \\in N$**\n",
    "\n",
    "$A = \\{ n \\in N: x \\in n \\implies x \\in N \\}$ \n",
    "\n",
    "0 is in A, vacuously.\n",
    "\n",
    "Assume k is in A. $k^+ = k \\cup \\{k\\}$. Obviously k is in N, being in A. And by the inductive step, every element of k is in N. Hence $k^+$ is in N.\n",
    "\n",
    "**3.14 For all m, n in N, $m^+ \\in n^+$, then $m \\in n$**\n",
    "\n",
    "$m^+ \\lt n^+$ Hence, $m^+ \\le n$. If $m^+ = n$, then $m < n$. If $m^+ < n$, then $m < n$.\n",
    "\n",
    "**3.15 $n^{++} \\ne n$**\n",
    "\n",
    "$n < n^+ < n^{++}$\n",
    "\n",
    "**3.16 m < n then $m^+ \\le n$**\n",
    "\n",
    "m < n => m+ < n+ => m+ <= n\n",
    "\n",
    "**3.17 - Given a well-ordered set X with a least element 0, and with the property that for any element x in X, there is a non-empty set of elements in X greater than x, with $x^+$ being the least element. Show that X is an inductive set.**\n",
    "\n",
    "0 is in X.\n",
    "\n",
    "If x is in x, then $x^+$ is in X.\n",
    "\n",
    "\n",
    "\n",
    "\n",
    "\n",
    "\n",
    "\n"
   ]
  },
  {
   "cell_type": "markdown",
   "metadata": {},
   "source": [
    "# Arithmetic on N\n",
    "\n",
    "## Theorem 3.12 : Properties of arithmetic on N\n",
    "\n",
    "1. Associativity of addition and multiplication\n",
    "2. Existence of an additive identity (0) and multiplicative identity (1)\n",
    "3. Commutativity of addition and multiplication\n",
    "4. Distributivity of multiplication over addition\n",
    "\n",
    "Rules for exponentiation:\n",
    "\n",
    "$m^{n+p} = m^n.m^p$\n",
    "\n",
    "$(m^n)^p = m^{n.p}$\n",
    "\n",
    "$(m.n)^p = m^p.n^p$\n",
    "\n",
    "See Halmos - natural numbers, for various proofs.\n",
    "\n",
    "Also note: Also, $n + 1 = n^+$\n",
    "\n",
    "Other key results:\n",
    "\n",
    "- m + n = 0 iff m = n = 0\n",
    "- m.n = 0 iff m = 0 or n = 0"
   ]
  },
  {
   "cell_type": "markdown",
   "metadata": {},
   "source": [
    "## Theorem 3.13 Order Properties and Arithmetic on N\n",
    "\n",
    "The following hold for all a, m, n in N:\n",
    "\n",
    "1. If m < n, then a + m < a + n\n",
    "2. If a > 0 and m < n, then a.m < a.n\n",
    "3. If a > 1 and m < n then $a^m < a^n$"
   ]
  },
  {
   "cell_type": "markdown",
   "metadata": {},
   "source": [
    "Ex 3.35 Quotient-Remainder Theorem\n",
    "\n",
    "a) Existence\n",
    "If a, b in N, with b > 0, then there are q, r in N, such that a = (b.q) + r, where r < b. Also q, r are unique.\n",
    "\n",
    "Fix b > 0. Let \n",
    "\n",
    "$A = \\{ a \\in N: \\exists q, r \\in N \\text{ s.t. } a = b.q + r, r < b \\}$\n",
    "\n",
    "Is 0 in A? choose q,r = 0, so yes.\n",
    "\n",
    "Ket k in A. Let k = b.q + r, r < b. Then k + 1 = b.q + (r + 1). There are two possibilities.\n",
    "\n",
    "r + 1 < b. In that case (q, r+1) meet the criteria, and we are done. \n",
    "\n",
    "r + 1 = b. In that case we see that k + 1 = b.(q+1) + 0 i.e. (b+1, 0) are the values needed.\n",
    "\n",
    "note that since r < b, r + 1 <= b. Thus k + 1 is in A.\n",
    "\n",
    "b) Uniqueness\n",
    "\n",
    "Supposed k = b.q + r. \n",
    "\n",
    "Then k = b.q + r = bq' + r'. Assume q' <> q. wlog, assume q' >= q + 1.\n",
    "\n",
    "Then b.q + r >= b.(q + 1) + r' = b.q + (b + r') => r >= b + r' i.e. r >= b, which is not possible.\n",
    "\n",
    "Thus q = q'. But then it follows that r = r'.\n"
   ]
  },
  {
   "cell_type": "markdown",
   "metadata": {},
   "source": [
    "# Finite Sets"
   ]
  },
  {
   "cell_type": "markdown",
   "metadata": {},
   "source": [
    "## Theorem 3.14 : The Pigeon-Hole Principle\n",
    "\n",
    "For any n in N, if $f:n \\to n$ is one-one, it is onto."
   ]
  },
  {
   "cell_type": "markdown",
   "metadata": {},
   "source": [
    "## Proof of Pigeon-hole principle\n",
    "\n",
    "$A = \\{ n \\in N: \\text{ Pigeonhole principle is true for n} \\}$\n",
    "\n",
    "Is 0 in A? Yes, vacuously, because the only function is the empty function. \n",
    "\n",
    "Suppose k is in A. Is k + 1 in A?\n",
    "\n",
    "Let f be a one-one function from k + 1 to itself. Let $f' = f{\\big|}_k$. \n",
    "\n",
    "a) If $range(f') \\subset n$, then f' is a one-one function from n to n. Thus f' is onto, by inductive step.\n",
    "\n",
    "We have f(n) = n, as the only possible option, since as f' is onto, every element of n is accounted for. Hence f is also onto.\n",
    "\n",
    "b) range(f') includes n e.g. f(h) = k, h < k. \n",
    "\n",
    "Define \n",
    "$g: n \\to n: i \\mapsto \n",
    "\\begin{cases}\n",
    "    f(k)  \\text{ for i = h } \\\\\n",
    "    f(i) \\text{ otherwise } \\\\\n",
    "\\end{cases}\n",
    "$\n",
    "\n",
    "We note that: since $f(k) \\ne k$, $g(h) \\in n$. Also,$ g(i) = f(i) \\in n$, whenever i is not h, since f is one-one, and f(h) = n. Hence, range(g) is in k.\n",
    "\n",
    "Also since f is one-one, g is also one-one. And by the inductive step, g is onto i.e. range(g) = n. So what about the original function f? Let j be any element of k+1. If j = k, then f(h) = k, as noted. If j < k there is some g(i) = j. If i = h => f(k) = j. If i not h, then g(i) = f(i) = j. Thus f is onto.\n",
    "\n",
    "Hence, k + 1 is in A.\n",
    "\n",
    "\n",
    "\n"
   ]
  },
  {
   "cell_type": "markdown",
   "metadata": {},
   "source": [
    "## Ex 3.37 - Limited Definition of subtraction\n",
    "\n",
    "Given n, m in N, n >= m:\n",
    "\n",
    "Define : \n",
    "m - m = 0\n",
    "$n^+ - m = (n - m)^+$\n",
    "\n",
    "We can show:\n",
    "\n",
    "m + (n - m) = m\n",
    "\n",
    "(m + k) - m = k\n",
    "\n",
    "(n - m) + k = (n + k) - m\n",
    "\n",
    "(n - m).k = (n.k) - (m.k)"
   ]
  },
  {
   "cell_type": "markdown",
   "metadata": {},
   "source": [
    "## Ex 3.37 : $h:A \\to B$ is a one-one function, $C \\subset A$. Show $h{\\big|}_C$ is also one-one.\n",
    "\n",
    "Proof:\n",
    "\n",
    "Let $h' = h{\\big|}_C$. Suppose $h'(a_1) = h'(a_2)$ Then $h(a_1) = h(a_2)$ which implies $a_1 = a_2$, since h is one-one."
   ]
  },
  {
   "cell_type": "markdown",
   "metadata": {},
   "source": [
    "## Ex 3.39: Let n be a natural number. Show there is no bijection $f: n \\to N$\n",
    "\n",
    "Assume there is such a bijection. Let $f':N \\to n = f^{-1}$. Consider $f'{\\big|}_n$ - clearly this is one-one, and hence onto, by the pigeonhole principle. This implies f' is not one-one because for all values of i >= n, the value must lie in n again. "
   ]
  },
  {
   "cell_type": "markdown",
   "metadata": {},
   "source": [
    "## Ex 3.40: Show there is no bijection between natural numbers m and n, if $m \\ne n$\n",
    "\n",
    "Assume m < n, wlog.\n",
    "\n",
    "Let $f:n \\to m$ be a bijection. $f{\\big|}_m: m \\to m$ is one-one, and hence onto. Since m < n, n - m is not empty e.g. $n^+ \\in (n - m)$. Thus we again see f cannot be one-one."
   ]
  },
  {
   "cell_type": "markdown",
   "metadata": {},
   "source": [
    "## Ex 3.41: Does pigeon-hole principle hold for N itself.\n",
    "\n",
    "No. Consider $f:N \\to N: n \\mapsto n+1$"
   ]
  },
  {
   "cell_type": "markdown",
   "metadata": {},
   "source": [
    "## Theorem 3.15: For any m,n in N there is a bijection between $\\bold{m} + \\bold{n}$ and $(m \\times \\{\\bold{0}\\}) \\cup (n \\times \\{\\bold{1}\\})$\n",
    "\n",
    "Proof: Obvious, by induction.\n",
    "\n",
    "The followsing exercise also shows that :\n",
    "\n",
    "a) there is a bijection between: $m \\times n \\to m.n$\n",
    "\n",
    "b) there is a bijection between the set of all functions from n to m, and $m^n$.\n",
    "\n"
   ]
  },
  {
   "cell_type": "markdown",
   "metadata": {},
   "source": [
    "## Exercise 3.43: For all m, n in N, there are bijections between:\n",
    "\n",
    "a) m.n and cartesian product m x n\n",
    "\n",
    "$g:m \\times n \\to m.n: (i,j) = m.j + i$ \n",
    "\n",
    "b) $m^n$ and the set of all functions from n to m.\n",
    "\n",
    "Fix m. Check that no of functions from n to m are $m^n$.\n",
    "\n",
    "Set $A = \\{ n \\in N: \\text{ no of functions to m =} m^n \\}$.\n",
    "\n",
    "Note that if there is a function $f: n \\to m$, then we can create m new functions for each function from $f:n^+ \\to m$. \n",
    "\n",
    "For 0, there is just one function, the empty function. m^0 = 1. So i is in A.\n",
    "\n",
    "Suppose n is in A. i.e. there is a bijection from $m^n$ to $FUNC(n,m)$ the functions from n to m. Thus there is a bijection: $\\theta: m^n \\to FUNC(n,m)$\n",
    "\n",
    "Now consider $n^+$. Every function from $n^+$ to m can be build by taking a function f from $\\theta$ above, and building a new function $F_f^i$, for i in m:\n",
    "\n",
    "$$\n",
    "F_f^i:n^+ \\to m: k \\mapsto \n",
    "    \\begin{cases}\n",
    "        f(k)  \\text{ k < n } \\\\\n",
    "        i  \\text{ k = n } \\\\\n",
    "    \\end{cases}\n",
    "$$\n",
    "\n",
    "\n",
    "\n",
    "One can check that for each f, there are exactly \n",
    "\n",
    "Now we create a mapping between functions:\n",
    "\n",
    "$\n",
    "H:FUNC(n, m) \\times m \\to FUNC(n^+, m): (f, i) \\mapsto F_f^i\n",
    "$\n",
    "\n",
    "It is easy to verify that H is a bijection: it is onto since every function in $FUNC(n^+, m)$ can be generated using the technique above. And also it is one-one. Thus this is a bijection. But from the inductive hypothesis we have a bijection from $m^n \\to FUNC(n,m)$. Thus, we also have a bijection:\n",
    "\n",
    "$H':m^n \\times m \\to FUNC(n^+, m): (j,i) = H(\\theta^{-1}(j), i)$\n",
    "\n",
    "But as proved in (a), there is a bijection from $m^n \\times m \\to m^n.m = m^{n+}$. Thus $n^+$ is in A."
   ]
  },
  {
   "cell_type": "markdown",
   "metadata": {},
   "source": [
    "## Ex 3.44-3.47\n",
    "\n",
    "3.44) Bijection between  m and $(m + n) \\setminus n$\n",
    "\n",
    "Define $H:m \\to (m + n) \\setminus n: i \\mapsto n + i$\n",
    "\n",
    "$range(H) \\subset (m + n) \\setminus n$: H(i) >= n (equality when i = 0), H(i) < n + m = m + n.\n",
    "H is one-one: given i, j different: n + i <> n + j\n",
    "H is onto: given k in $(m + n) \\setminus n$, k >= n, and k < n+m. Thus k - n >= 0 and k -n < m. And  n + (k - n) = k. Thus H(k - n) = k.\n",
    "\n",
    "\n",
    "\n",
    "3.45) Bijection between $n - m$  and $n \\setminus m$, n >= m.\n",
    "\n",
    "Define $H:n - m \\to n \\setminus m: i \\mapsto n - m + i$\n",
    "\n",
    "\n",
    "3.46) Suppose X is a proper subset of n for n in N. Show there is a bijection between X and some $m \\in n$. Also prove any subset of a finite set is finite.\n",
    "\n",
    "A) Prove for X\n",
    "\n",
    "Let A be the n's in N such that the property is satisfied.\n",
    "\n",
    "Is 0 in A? Yes, vacuously.\n",
    "\n",
    "Suppose k is in A. i.e. any proper subset has a bijection to some m in n.\n",
    "\n",
    "Take k + 1. Let X be a proper subset of k. There are 3 possibilities: $k = X$, $k \\in X$, or $k \\notin X$. \n",
    "\n",
    "$k = X$: then X is a proper subset of k + 1, which has a bijection to $k \\in k+1$. \n",
    "\n",
    "$k \\notin X, k \\ne X$: Then X is a proper subset of k, and hence by inductive step maps to some $m \\in k$. But $m \\in k+1$ as well, so it meets the criteria.\n",
    "\n",
    "$k \\in X$: Consider $X' = X - \\{k\\}$. X' is a subset of k, and hence there is a bijection H' to some $m \\in X$. Form H as follows:\n",
    "\n",
    "$\n",
    "H: X \\to m: x \\mapsto \n",
    "    \\begin{cases}\n",
    "        H'(x) \\text{ if x <> k} \\\\\n",
    "        m \\text{ if x = k}\n",
    "    \\end{cases}\n",
    "$\n",
    "\n",
    "We can check this is a bijection to $m^+$. But is $m^+ \\in k+1$? Clearly $m \\in k$, thus $m^+ \\in k^+$. So we have a bijection from X to $m^+$, in k + 1.  Hence k + 1 in A.\n",
    "\n",
    "B) Any subset of a finite set is finite\n",
    "\n",
    "Let Y be a finite set such that there is bijection $H:n \\to Y$. Let C be a subset of Y. \n",
    "\n",
    "If C = Y, then we are done. Else C is a proper subset.\n",
    "\n",
    "Let $X = H^{-1}(C)$. Then note that $H{\\big|}_X$ is a bijection to C. It is onto (by definition). And it is one-one by definition of H.\n",
    "\n",
    "Since H is a bijection, and C is a proper subset of Y, X is a proper subset of n. So there is a bijection F from m (in n) to X. Then $H{\\big|_X} \\circ F$ is a bijection from m to C.\n",
    "\n",
    "3.47) Union of 2 finite sets is finite. By induction, the union of finitely many finite sets is finite.\n",
    "\n",
    "Let X and Y be two finite sets. The $X \\cup Y = X \\cup (Y \\setminus X)$, where X and $Y \\setminus X$ are disjoint. So wlog, we will assume X and Y are disjoint.\n",
    "\n",
    "Let H be a bijection from n to X, and F be a bijection from m to Y. Form a bijection:\n",
    "\n",
    "$\n",
    "I: n + m \\to X \\cup Y: i \\mapsto \n",
    "    \\begin{cases}\n",
    "        H(i)  \\text{ if i < n } \\\\\n",
    "        F(i - n)  \\text{ if i > n }\n",
    "    \\end{cases}\n",
    "$\n",
    "\n",
    "Thus we see the union is finite. By induction, it follows that the union of any n finite sets is finite."
   ]
  }
 ],
 "metadata": {
  "language_info": {
   "name": "python"
  }
 },
 "nbformat": 4,
 "nbformat_minor": 2
}
