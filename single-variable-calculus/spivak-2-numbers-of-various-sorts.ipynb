{
 "cells": [
  {
   "cell_type": "markdown",
   "metadata": {},
   "source": [
    "$N$ - Natural Numbers - $\\{1, 2, 3, \\dots \\}$\n",
    "\n",
    "Does not have additive or multiplicative inverses (P3, P7). Since Spivak excludes zero from definition, (P2) - Additive identity is also not met.\n",
    "\n",
    "Principle of mathematical induction\n",
    "\n",
    "Relation between well-ordering and mathematical induction\n",
    "\n"
   ]
  },
  {
   "cell_type": "markdown",
   "metadata": {},
   "source": [
    "## Proofs using induction\n",
    "\n",
    "$1 + 2 + \\dots + n = \\frac{n(n+1)}{2}$"
   ]
  },
  {
   "cell_type": "markdown",
   "metadata": {},
   "source": [
    "## Recursive Definitions\n",
    "\n",
    "Definitions using induction:\n",
    "\n",
    "**factorial**\n",
    "\n",
    "$1! = 1$  \n",
    "\n",
    "$n! = n.(n-1)!$  \n",
    "\n",
    "**Sum Notation**\n",
    "\n",
    "$\\sum\\limits_{i=1}^1 a_i = a_1$  \n",
    "$\\sum\\limits_{i=1}^n a_i = \\sum\\limits_{i=1}^{n-1} a_i + a_n$, n > 1\n"
   ]
  },
  {
   "cell_type": "markdown",
   "metadata": {},
   "source": [
    "Z - Integers. Only (P7) (multiplicative inverse) fails for Z."
   ]
  },
  {
   "cell_type": "markdown",
   "metadata": {},
   "source": [
    "Q - Rationals\n",
    "\n",
    "Supports all properties from P1 - P12\n",
    "\n"
   ]
  },
  {
   "cell_type": "markdown",
   "metadata": {},
   "source": [
    "Real Numbers - include all the above (N, Z, Q) and also irrationals.\n",
    "\n",
    "Proof that $\\sqrt(2)$ cannot be expressed as a ratio of 2 integers."
   ]
  },
  {
   "cell_type": "markdown",
   "metadata": {},
   "source": [
    "## Ex 1 : Prove by induction\n",
    "\n",
    "### $1^2 + 2^2 + \\dots + n^2 = \\frac{n(n+1)(2n+1))}{6}$\n",
    "\n",
    "$P(1) = 1^2 = \\frac{1(2)(3)}{6} = 1$ \n",
    "\n",
    "Assume :\n",
    "\n",
    "$\\sum\\limits_{i=1}^{k} i^2 = \\frac{k(k+1)(2k+1))}{6}$\n",
    "\n",
    "$$\n",
    "\\begin{align*}\n",
    "\\sum\\limits_{i=1}^{k+1} i^2 &= \\sum\\limits_{i=1}^{k} i^2 + (k+1)^2 \\\\\n",
    "                            &= \\frac{k(k+1)(2k+1))}{6} + (k+1)(k+1) \\\\\n",
    "                            &= \\frac{(k+1)(2k^2 + 7k + 6)}{6} \\\\\n",
    "                            &= \\frac{(k+1)(((k+1) + 1))(2(k+1) + 1)}{6} \n",
    "\\end{align*}\n",
    "$$\n",
    "\n",
    "### $1^3 + 2^3 + \\dots + n^3 = (1 + 2 + \\dots + n)^2$\n",
    "\n",
    "$$\n",
    "\\begin{align*}\n",
    "\\sum\\limits_{i=1}^{k+1} i^3 &= \\frac{k^2(k+1)^2}{4} + (k+1)^3 \\\\\n",
    "                            &= \\frac{k^2(k+1)^2}{4} + (k+1)^3 \\\\\n",
    "                            &= \\frac{(k + 1)^2.(k^2 + 4k + 4)}{4}\\\\\n",
    "                            &= \\frac{(k + 1)^2.((k+1) + 1)^2}{4}\\\\\n",
    "\\end{align*}\n",
    "\n"
   ]
  },
  {
   "cell_type": "markdown",
   "metadata": {},
   "source": [
    "## Ex 2 : Fine\n",
    "\n",
    "### $1 + 3 + 5 + \\dots + (2n - 1)$\n",
    "\n",
    "$\\sum\\limits_{i=1}^{n} 2.i - 1 = 2.\\sum\\limits_{i=1}^{n} i - \\sum\\limits_{i=1}^{n} 1 = n(n+1) - n = n^2$\n",
    "\n",
    "### $1^2 + 3^2 + 5^2 + \\dots + (2n - 1)^2$\n",
    "\n",
    "$$\n",
    "\\begin{align*}\n",
    "\\sum\\limits_{i=1}^{n} (2.i - 1)^2 &= \\sum\\limits_{i=1}^{n} 4.i^2 - 4.i + 1 \\\\\n",
    "                                  &= 4\\frac{n(n+1)(2n+1)}{6} - 4\\frac{n.(n+1)}{2} + n \\\\\n",
    "                                  &=  \\frac{2n(n+1)(2n+1) - 6n.(n+1) + 3n}{3} \\\\\n",
    "                                  &=  \\frac{n(4n^2 + 6n + 2) - n.(6n+6) + 3n}{3} \\\\\n",
    "                                  &=  \\frac{n(4n^2 - 1)}{3} \\\\\n",
    "                                  &=  \\frac{n(2n + 1)(2n - 1)}{3} \\\\\n",
    "\\end{align*}\n",
    "$$"
   ]
  },
  {
   "cell_type": "markdown",
   "metadata": {},
   "source": []
  },
  {
   "cell_type": "markdown",
   "metadata": {},
   "source": []
  },
  {
   "cell_type": "markdown",
   "metadata": {},
   "source": [
    "## Ex 3: Binomial Coefficients and Pascal's triangle\n",
    "\n",
    "### $\\binom{n}{k} = \\frac{n!}{k!(n-k)!}$\n",
    "\n",
    "### a) Prove $\\binom{n+1}{k} = \\binom{n}{k-1} + \\binom{n}{k}$\n",
    "\n",
    "If you have to choose k people in a row from n+1 people, you can a) Choose the rightmost person + k-1 from the remaining n or b) Leave the rightmost person and choose k people from the remaining n. If k = 0, or k = n+1 the whole value is zero. \n",
    "\n",
    "Pascal's triangle:\n",
    "\n",
    "$$\n",
    "1\\\\\n",
    "1\\quad 1\\\\\n",
    "1\\quad 2\\quad 1\\\\\n",
    "1\\quad 3\\quad 3\\quad 1\\\\\n",
    "1\\quad 4\\quad 6\\quad 4\\quad 1\\\\\n",
    "1\\quad 5 \\quad 10\\quad 10 \\quad 5\\quad 1\n",
    "$$\n",
    "\n",
    "### Prove $\\binom{n}{k}$ is a natural number\n",
    "\n",
    "(We will allow 0 to be a natural number). $\\binom{n}{0} = 0$. \n",
    "\n",
    "Let P(n) = $\\binom{n}{k}$ is a natural number for any k.\n",
    "\n",
    "For n = 0: $\\binom{0}{0} = 1$. For any other k, $\\binom{0}{k} = 0$, since with k < 0, or k > 0. Thus P(0) is true.\n",
    "\n",
    "Suppose P(n) is true i.e. $\\binom{n}{k}$ is a natural number, for any k.\n",
    "\n",
    "For n+1, if k >= 1, and $k < n+1$ then :\n",
    "\n",
    "$\\binom{n+1}{k} = \\binom{n}{k-1} + \\binom{n}{k} = \\text{ sum of two natural numbers}$, by inductive step - note that $\\binom{n}{n+1} = 0$, which we count as a natural number.\n",
    "\n",
    "If k = 0, then $\\binom{n+1}{0} = 1$ by definition.\n",
    "\n",
    "\n",
    "### Proof: No of ways to choose k integers from 1,2,...n\n",
    "\n",
    "\n",
    "\n",
    "\n",
    "\n",
    "### Binomial Theorem: $(a + b)^n = \\binom{n}{0}a^n + \\binom{n}{1}a^{n-1}b + \\dots + \\binom{n}{n}b^n = \\sum\\limits_{i=0}^{n} \\binom{n}{i} a^{n-i}b^i$\n"
   ]
  },
  {
   "cell_type": "markdown",
   "metadata": {},
   "source": [
    "Proof: By induction:\n",
    "\n",
    "Key Step:\n",
    "\n",
    "$$\n",
    "\\begin{align*}\n",
    "(a+b)^{n+1} &= (a + b)\\sum\\limits_{i=0}^{n} \\binom{n}{i} a^{n-i}b^i \\\\\n",
    "            &= a.\\sum\\limits_{i=0}^{n} \\binom{n}{i} a^{n-i}b^i + b.\\sum\\limits_{i=0}^{n} \\binom{n}{i} a^{n-i}b^i \\\\\n",
    "            &= \\sum\\limits_{i=0}^{n} \\binom{n}{i} a^{n-i+1}b^i + \\sum\\limits_{i=0}^{n} \\binom{n}{i} a^{n-i}b^{i+1} \\\\\n",
    "            &= \\sum\\limits_{i=0}^{n} \\binom{n}{i} a^{n-i+1}b^i + \\sum\\limits_{i=0}^{n} \\binom{n}{i} a^{n-i}b^{i+1} \\\\\n",
    "            &= \\binom{n}{0} a^{n+1} + \\sum\\limits_{i=1}^{n} \\binom{n}{i} a^{n-i+1}b^i + \\sum\\limits_{i=1}^{n} \\binom{n}{i-1} a^{n-i+1}b^{i} + \\binom{n}{0} b^{n+1} \\\\\n",
    "            &= \\binom{n+1}{0} a^{n+1} + \\sum\\limits_{i=1}^{n} (\\binom{n}{i} a^{n-i+1}b^i + \\binom{n}{i-1} a^{n-i+1}b^{i}) + \\binom{n+1}{0} b^{n+1} \\\\\n",
    "            &= \\binom{n+1}{0} a^{n+1} + \\sum\\limits_{i=1}^{n} \\binom{n+1}{i} a^{n+1-i}b^i  + \\binom{n+1}{0} b^{n+1} \\\\\n",
    "            &= \\sum\\limits_{i=0}^{n+1} \\binom{n+1}{i} a^{n+1-i}b^i \\\\\n",
    "\\end{align*}\n",
    "$$\n",
    "\n",
    "\n"
   ]
  },
  {
   "cell_type": "markdown",
   "metadata": {},
   "source": [
    "### Prove $\\sum\\limits_{j=0}^{n} \\binom{n}{j} = 2^n$\n",
    "\n",
    "This follows from $2^n = (1 + 1)^n = \\sum\\limits_{i=0}^{n} \\binom{n}{i} 1^{n-i}1^i = \\sum\\limits_{i=0}^{n} \\binom{n}{i}$\n",
    "\n",
    "### $\\sum\\limits_{j=0}^{n} (-1)^j \\binom{n}{j} = 0$\n",
    "\n",
    "This follows from $0 = (1 - 1)^n = \\sum\\limits_{i=0}^{n} \\binom{n}{i} 1^{n-i}(-1)^i$\n",
    "\n",
    "### $\\sum\\limits_{j \\text{ odd}}^{n} \\binom{n}{j} = 2^n - 1 = \\sum\\limits_{j \\text{ even}}^{n} \\binom{n}{j}$\n",
    "\n",
    "Let $A = \\sum\\limits_{j \\text{ odd}}^{n} \\binom{n}{j}$, and $B = \\sum\\limits_{j \\text{ even}}^{n} \\binom{n}{j}$\n",
    "\n",
    "From the two exercises above: $A + B = 2^n$, $A - B = 0$. It follows that $A = B = 2^{n-1}$\n",
    "\n",
    "\n",
    "\n"
   ]
  },
  {
   "cell_type": "markdown",
   "metadata": {},
   "source": [
    "## Prove $\\sum\\limits_{k=0}^{l} \\binom{n}{k} \\binom{m}{l-k} = \\binom{n+m}{l}$\n",
    "\n",
    "$$\n",
    "\\begin{align*}\n",
    "(1 + x)^n(1 + x)^m  &= \\sum\\limits_{i=0}^{n} \\binom{n}{i} x^i \\sum\\limits_{j=0}^{m} \\binom{m}{j} x^j  \\\\\n",
    "(1 + x)^{n+m}       &= \\sum\\limits_{k=0}^{n+m} \\Big(\\sum\\limits_{i \\le n,j \\le m, i+j=k} \\binom{n}{i} \\binom{m}{j}\\Big) x^k \\\\\n",
    "\\sum\\limits_{k=0}^{n+m} \\binom{n+m}{k} x^k  &= \\sum\\limits_{k=0}^{n+m} \\Big(\\sum\\limits_{i=0}^{k} \\binom{n}{i} \\binom{m}{k-i}\\Big) x^k \\\\\n",
    "\\end{align*}\n",
    "$$\n",
    "\n",
    "\n"
   ]
  }
 ],
 "metadata": {
  "language_info": {
   "name": "python"
  }
 },
 "nbformat": 4,
 "nbformat_minor": 2
}
