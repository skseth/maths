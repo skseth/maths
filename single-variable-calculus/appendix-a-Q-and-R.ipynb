{
 "cells": [
  {
   "cell_type": "markdown",
   "metadata": {},
   "source": [
    "# Field and Ordered Field\n",
    "\n",
    "\n",
    "A field is a set F, together with two binary operations + (addition), . (product) which satisfy the following axioms:\n",
    "\n",
    "A1) For all x,y in F, $x + y$ and $x.y$ are in F (F is closed under addition and multiplication)\n",
    "\n",
    "A2) For all x,y,z in F: $x + (y + z) = (x + y) + z$, and $x.(y.z) = (x.y).z$ (binary operations are associative)\n",
    "\n",
    "A3) For all x,y in F, $x + y = y + x$ and $x.y = y.x$ (binary operations are commutative)\n",
    "\n",
    "A4) There exists a unique element $0 \\in F$ and $1 \\in F, 1 \\ne 0$, (existence of additive and multiplicative identities) such that:\n",
    "\n",
    "For all x in F: x + 0 = 0, x.1 = 1\n",
    "\n",
    "A5) For each x in F, there exists an element -x, such that x + (-x) = 0. And if $x \\ne 0$, there exists an element $x^{-1}$ such that $x.(x^{-1})$ = 1 (existence of symmetric elements - additive and multiplicative inverses)\n",
    "\n",
    "A6) For x, y, z in F, x.(y + z) = x.y + x.z (distributive law)"
   ]
  },
  {
   "cell_type": "markdown",
   "metadata": {},
   "source": [
    "# References\n",
    "\n",
    "**Books**\n",
    "\n",
    "* Mathematical Analysis by Rudin\n",
    "* A Course in Pure Mathematics by G.H.Hardy\n",
    "\n",
    "**Links**  \n",
    "* [On the complete ordered field](https://choum.net/~chris/cours_et_notes/reals.pdf) by Christian d'Elbee\n",
    "* [Real Analysis in Reverse](https://arxiv.org/pdf/1204.4483.pdf)"
   ]
  }
 ],
 "metadata": {
  "language_info": {
   "name": "python"
  }
 },
 "nbformat": 4,
 "nbformat_minor": 2
}
