{
 "cells": [
  {
   "cell_type": "markdown",
   "metadata": {},
   "source": [
    "# e - limit definition**\n",
    "\n",
    "$e = \\lim\\limits_{n \\to \\infty } (1 + 1/n)^n$\n",
    "\n",
    "\n",
    "See: https://math.stackexchange.com/questions/54448/combinatorial-proof-ex-sum-limits-k-0-infty-fracxkk/54499#54499\n"
   ]
  },
  {
   "cell_type": "markdown",
   "metadata": {},
   "source": [
    "# e - series definition\n",
    "\n",
    "$exp(x) = \\lim\\limits_{n \\to \\infty} \\sum\\limits_{k=0}^{n} \\frac{x^k}{k!}$"
   ]
  },
  {
   "cell_type": "markdown",
   "metadata": {},
   "source": [
    "# Proof of limit\n",
    "\n",
    "Note:\n",
    "\n",
    "$\\binom{n}{k} \\frac{1}{n^k} = \\frac{n!}{k!(n-k)!n^k} = \\frac{1}{k!}\\frac{n(n-1)(n-2)(n-k+1)}{n^k} = \\frac{1}{k!}(1 - \\frac{1}{n})(1 - \\frac{2}{n})\\dots(1-\\frac{k-1}{n}) \\le \\frac{1}{k!}$\n",
    "\n",
    "a) Choose x > 0\n",
    "\n",
    "**limit <= exp(x)**\n",
    "Then\n",
    "\n",
    "$(1 + \\frac{x}{n})^n = \\sum\\limits_{k=0}^{n} \\binom{n}{k} \\frac{x^k}{n^k} \\le \\sum\\limits_{k=0}^{n} \\frac{x^k}{k!}$\n",
    "\n",
    "Taking limits, we get:\n",
    "\n",
    "$\\lim\\limits_{n \\to \\infty} (1 + \\frac{x}{n})^n \\le \\lim\\limits_{n \\to \\infty} \\sum\\limits_{k=0}^{n} \\frac{x^k}{k!} = exp(x)$\n",
    "\n",
    "**limit >= exp(x)**\n",
    "\n",
    "Note that if $m \\le n$, since x > 0:\n",
    "\n",
    "$\\sum\\limits_{k=0}^{m} \\binom{n}{k} \\frac{x^k}{n^k} \\le \\sum\\limits_{k=0}^{n} \\binom{n}{k} \\frac{x^k}{n^k}$\n",
    "\n",
    "\n",
    "Letting $n \\to \\infty$, **if the limit exists**, for any m:\n",
    "\n",
    "$\\sum\\limits_{k=0}^{m} \\frac{x^k}{k!} \\le \\lim\\limits_{n \\to \\infty} (1 + \\frac{x}{n})^n$\n",
    "\n",
    "But, letting $m \\to \\infty$:\n",
    "\n",
    "\n",
    "$exp(x) \\le \\lim\\limits_{n \\to \\infty} (1 + \\frac{x}{n})^n$\n",
    "\n",
    "\n",
    "\n",
    "\n"
   ]
  },
  {
   "cell_type": "markdown",
   "metadata": {},
   "source": [
    "## e as maximum gain possible from compound interest\n",
    "\n",
    "Invest 1 rupee at 12 percent - you get 1.12 rs at end of the year. How much do you get if you divide this into monthly intervals?\n",
    "\n",
    "$value = (1 + 1/12)^{12}$"
   ]
  },
  {
   "cell_type": "code",
   "execution_count": 9,
   "metadata": {},
   "outputs": [
    {
     "name": "stdout",
     "output_type": "stream",
     "text": [
      "1: 2.0\n",
      "51: 2.6921022089150086\n",
      "101: 2.7049459774851603\n",
      "151: 2.7093351934705265\n",
      "201: 2.711550625449212\n",
      "251: 2.7128866250482604\n",
      "301: 2.7137801179447605\n",
      "351: 2.714419717270497\n",
      "401: 2.7149001791783514\n",
      "451: 2.71527432454117\n",
      "501: 2.715573926546316\n",
      "551: 2.7158192446099685\n",
      "601: 2.7160238065104014\n",
      "651: 2.716196989867228\n",
      "701: 2.7163455002954144\n",
      "751: 2.7164742598043494\n",
      "801: 2.716586962840025\n",
      "851: 2.7166864365241987\n",
      "901: 2.716774881063041\n",
      "951: 2.71685403439477\n",
      "100000: 2.7182682371922975\n",
      "200000: 2.7182750328034286\n",
      "300000: 2.718277298020982\n",
      "400000: 2.718278430511639\n",
      "500000: 2.718279110260366\n",
      "600000: 2.718279563245457\n",
      "700000: 2.718279886668445\n",
      "800000: 2.718280129431941\n",
      "900000: 2.71828031832182\n"
     ]
    }
   ],
   "source": [
    "def interest(periods: int):\n",
    "    return (1 + (1/periods))**periods\n",
    "\n",
    "for p in range(1,1000, 50):\n",
    "    print(f\"{p}: {interest(p)}\")\n",
    "\n",
    "for p in range(100000,1000000, 100000):\n",
    "    print(f\"{p}: {interest(p)}\")"
   ]
  }
 ],
 "metadata": {
  "kernelspec": {
   "display_name": ".venv",
   "language": "python",
   "name": "python3"
  },
  "language_info": {
   "codemirror_mode": {
    "name": "ipython",
    "version": 3
   },
   "file_extension": ".py",
   "mimetype": "text/x-python",
   "name": "python",
   "nbconvert_exporter": "python",
   "pygments_lexer": "ipython3",
   "version": "3.12.8"
  }
 },
 "nbformat": 4,
 "nbformat_minor": 2
}
