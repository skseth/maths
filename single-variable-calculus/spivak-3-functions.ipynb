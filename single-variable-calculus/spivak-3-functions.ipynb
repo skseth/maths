{
 "cells": [
  {
   "cell_type": "markdown",
   "metadata": {},
   "source": [
    "# Functions"
   ]
  },
  {
   "cell_type": "markdown",
   "metadata": {},
   "source": [
    "## Polynomial / Rational Functions\n",
    "\n",
    "### Polynomial: $f(x) = a_nx^n + a_{n-1}x^{n-1} + \\dots + a_1.x + a_0$, for all x\n",
    "\n",
    "**degree of polynomial** - The highest power of x, with a nonzero coefficient.\n",
    "\n",
    "\n",
    "### Rational function = p/q, where p,q are polynomials, q not always 0\n",
    "\n",
    "## Operations on Functions\n",
    "\n",
    "### Sum $f + g: (f + g)(x) = f(x) + g(x)$\n",
    "\n",
    "$domain(f+g) = domain(f) \\cap domain(g)$\n",
    "\n",
    "Associative\n",
    "Commutative\n",
    "\n",
    "### Product $f.g(x) = f(x).g(x)$\n",
    "\n",
    "$domain(f.g) = domain(f) \\cap domain(g)$\n",
    "\n",
    "Associative\n",
    "Commutative\n",
    "\n",
    "\n",
    "### Quotient $f/g(x) = \\frac{f(x)}{g(x)}$\n",
    "\n",
    "$domain(f/g) = domain(f) \\cap domain(g) \\cap \\{ x: g(x) \\ne 0 \\} $\n",
    "\n",
    "\n",
    "### Scalar Multiple $(c.f)(x) = c.f(x)$\n",
    "\n",
    "$domain(c.f) = domain(f)$\n",
    "\n",
    "\n",
    "\n"
   ]
  }
 ],
 "metadata": {
  "language_info": {
   "name": "python"
  }
 },
 "nbformat": 4,
 "nbformat_minor": 2
}
