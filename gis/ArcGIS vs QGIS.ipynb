{
 "cells": [
  {
   "cell_type": "markdown",
   "id": "ac4c1195-e130-4e5c-81f3-bc04486805f9",
   "metadata": {},
   "source": [
    "https://gisgeography.com/qgis-arcgis-differences/"
   ]
  },
  {
   "cell_type": "code",
   "execution_count": null,
   "id": "11ce271f-1a1f-4939-b960-ea1ddbd8f924",
   "metadata": {},
   "outputs": [],
   "source": []
  }
 ],
 "metadata": {
  "kernelspec": {
   "display_name": "Python 3 (ipykernel)",
   "language": "python",
   "name": "python3"
  },
  "language_info": {
   "codemirror_mode": {
    "name": "ipython",
    "version": 3
   },
   "file_extension": ".py",
   "mimetype": "text/x-python",
   "name": "python",
   "nbconvert_exporter": "python",
   "pygments_lexer": "ipython3",
   "version": "3.9.6"
  }
 },
 "nbformat": 4,
 "nbformat_minor": 5
}
