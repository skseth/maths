{
 "cells": [
  {
   "cell_type": "markdown",
   "id": "15d1f07e-2fd4-414c-94dc-3894a7ff6662",
   "metadata": {},
   "source": [
    "# Pandas and Numpy"
   ]
  },
  {
   "cell_type": "code",
   "execution_count": 1,
   "id": "7e19438a-278a-4e00-93d2-020a51ea9578",
   "metadata": {},
   "outputs": [],
   "source": [
    "import pandas as pd\n",
    "import numpy as np"
   ]
  },
  {
   "cell_type": "markdown",
   "id": "63aaf7bf-99b6-4340-b10e-16e32e756f56",
   "metadata": {},
   "source": [
    "# Numpy Arrays and Panda DataFrames"
   ]
  },
  {
   "cell_type": "code",
   "execution_count": 2,
   "id": "ada83d00-8a63-401f-b492-9bb74941352f",
   "metadata": {},
   "outputs": [
    {
     "data": {
      "text/plain": [
       "DatetimeIndex(['2021-01-01', '2021-01-02', '2021-01-03', '2021-01-04',\n",
       "               '2021-01-05', '2021-01-06'],\n",
       "              dtype='datetime64[ns]', freq='D')"
      ]
     },
     "execution_count": 2,
     "metadata": {},
     "output_type": "execute_result"
    }
   ],
   "source": [
    "dates = pd.date_range('20210101', periods=6, freq='D')\n",
    "dates"
   ]
  },
  {
   "cell_type": "code",
   "execution_count": 4,
   "id": "245ef13a-fd67-47a4-a344-1926aeb92743",
   "metadata": {},
   "outputs": [
    {
     "data": {
      "text/plain": [
       "array([[-0.20457548, -0.58553738,  1.41712079,  2.86310533],\n",
       "       [ 2.0088355 ,  0.15710245, -1.06365458, -0.01044881],\n",
       "       [-0.12654281,  0.10873242,  0.25963846,  1.50325665],\n",
       "       [-0.03905402, -0.00695232, -1.02539716,  0.84672993],\n",
       "       [-0.62080723, -1.54047727,  0.6949911 , -0.2101431 ],\n",
       "       [-0.11500128,  1.10108233,  1.182184  , -0.33026232]])"
      ]
     },
     "execution_count": 4,
     "metadata": {},
     "output_type": "execute_result"
    }
   ],
   "source": [
    "numbers = np.random.randn(6,4)\n",
    "numbers"
   ]
  },
  {
   "cell_type": "code",
   "execution_count": 85,
   "id": "f6f00c53-c217-4ea9-aeb0-3c1cd4f5f34b",
   "metadata": {},
   "outputs": [
    {
     "data": {
      "text/html": [
       "<div>\n",
       "<style scoped>\n",
       "    .dataframe tbody tr th:only-of-type {\n",
       "        vertical-align: middle;\n",
       "    }\n",
       "\n",
       "    .dataframe tbody tr th {\n",
       "        vertical-align: top;\n",
       "    }\n",
       "\n",
       "    .dataframe thead th {\n",
       "        text-align: right;\n",
       "    }\n",
       "</style>\n",
       "<table border=\"1\" class=\"dataframe\">\n",
       "  <thead>\n",
       "    <tr style=\"text-align: right;\">\n",
       "      <th></th>\n",
       "      <th>m1</th>\n",
       "      <th>m2</th>\n",
       "      <th>m3</th>\n",
       "      <th>m4</th>\n",
       "    </tr>\n",
       "  </thead>\n",
       "  <tbody>\n",
       "    <tr>\n",
       "      <th>2021-01-01</th>\n",
       "      <td>-0.204575</td>\n",
       "      <td>-0.585537</td>\n",
       "      <td>1.417121</td>\n",
       "      <td>2.863105</td>\n",
       "    </tr>\n",
       "    <tr>\n",
       "      <th>2021-01-02</th>\n",
       "      <td>2.008836</td>\n",
       "      <td>0.157102</td>\n",
       "      <td>-1.063655</td>\n",
       "      <td>-0.010449</td>\n",
       "    </tr>\n",
       "    <tr>\n",
       "      <th>2021-01-03</th>\n",
       "      <td>-0.126543</td>\n",
       "      <td>0.108732</td>\n",
       "      <td>0.259638</td>\n",
       "      <td>1.503257</td>\n",
       "    </tr>\n",
       "    <tr>\n",
       "      <th>2021-01-04</th>\n",
       "      <td>-0.039054</td>\n",
       "      <td>-0.006952</td>\n",
       "      <td>-1.025397</td>\n",
       "      <td>0.846730</td>\n",
       "    </tr>\n",
       "    <tr>\n",
       "      <th>2021-01-05</th>\n",
       "      <td>-0.620807</td>\n",
       "      <td>-1.540477</td>\n",
       "      <td>0.694991</td>\n",
       "      <td>-0.210143</td>\n",
       "    </tr>\n",
       "    <tr>\n",
       "      <th>2021-01-06</th>\n",
       "      <td>-0.115001</td>\n",
       "      <td>1.101082</td>\n",
       "      <td>1.182184</td>\n",
       "      <td>-0.330262</td>\n",
       "    </tr>\n",
       "  </tbody>\n",
       "</table>\n",
       "</div>"
      ],
      "text/plain": [
       "                  m1        m2        m3        m4\n",
       "2021-01-01 -0.204575 -0.585537  1.417121  2.863105\n",
       "2021-01-02  2.008836  0.157102 -1.063655 -0.010449\n",
       "2021-01-03 -0.126543  0.108732  0.259638  1.503257\n",
       "2021-01-04 -0.039054 -0.006952 -1.025397  0.846730\n",
       "2021-01-05 -0.620807 -1.540477  0.694991 -0.210143\n",
       "2021-01-06 -0.115001  1.101082  1.182184 -0.330262"
      ]
     },
     "execution_count": 85,
     "metadata": {},
     "output_type": "execute_result"
    }
   ],
   "source": [
    "df = pd.DataFrame(numbers, index=dates, columns=['m1', 'm2', 'm3', 'm4'])\n",
    "df"
   ]
  },
  {
   "cell_type": "code",
   "execution_count": 9,
   "id": "3eb22eb0-f049-458a-9aca-a946731d5f2d",
   "metadata": {},
   "outputs": [
    {
     "name": "stdout",
     "output_type": "stream",
     "text": [
      "<class 'pandas.core.frame.DataFrame'>\n",
      "DatetimeIndex: 6 entries, 2021-01-01 to 2021-01-06\n",
      "Freq: D\n",
      "Data columns (total 4 columns):\n",
      " #   Column  Non-Null Count  Dtype  \n",
      "---  ------  --------------  -----  \n",
      " 0   m1      6 non-null      float64\n",
      " 1   m2      6 non-null      float64\n",
      " 2   m3      6 non-null      float64\n",
      " 3   m4      6 non-null      float64\n",
      "dtypes: float64(4)\n",
      "memory usage: 240.0 bytes\n",
      "6\n",
      "4\n"
     ]
    }
   ],
   "source": [
    "# get info\n",
    "\n",
    "df.info()\n",
    "print(len(df))\n",
    "print(len(df.columns))"
   ]
  },
  {
   "cell_type": "markdown",
   "id": "3ad94ffd-55f1-4ed7-adfb-9be494116a7a",
   "metadata": {},
   "source": [
    "# Subsetting Data Frames"
   ]
  },
  {
   "cell_type": "code",
   "execution_count": 10,
   "id": "99351b45-00d5-41d4-a582-201371190e75",
   "metadata": {},
   "outputs": [
    {
     "data": {
      "text/html": [
       "<div>\n",
       "<style scoped>\n",
       "    .dataframe tbody tr th:only-of-type {\n",
       "        vertical-align: middle;\n",
       "    }\n",
       "\n",
       "    .dataframe tbody tr th {\n",
       "        vertical-align: top;\n",
       "    }\n",
       "\n",
       "    .dataframe thead th {\n",
       "        text-align: right;\n",
       "    }\n",
       "</style>\n",
       "<table border=\"1\" class=\"dataframe\">\n",
       "  <thead>\n",
       "    <tr style=\"text-align: right;\">\n",
       "      <th></th>\n",
       "      <th>m1</th>\n",
       "      <th>m2</th>\n",
       "      <th>m3</th>\n",
       "      <th>m4</th>\n",
       "    </tr>\n",
       "  </thead>\n",
       "  <tbody>\n",
       "    <tr>\n",
       "      <th>2021-01-01</th>\n",
       "      <td>-0.204575</td>\n",
       "      <td>-0.585537</td>\n",
       "      <td>1.417121</td>\n",
       "      <td>2.863105</td>\n",
       "    </tr>\n",
       "    <tr>\n",
       "      <th>2021-01-02</th>\n",
       "      <td>2.008836</td>\n",
       "      <td>0.157102</td>\n",
       "      <td>-1.063655</td>\n",
       "      <td>-0.010449</td>\n",
       "    </tr>\n",
       "  </tbody>\n",
       "</table>\n",
       "</div>"
      ],
      "text/plain": [
       "                  m1        m2        m3        m4\n",
       "2021-01-01 -0.204575 -0.585537  1.417121  2.863105\n",
       "2021-01-02  2.008836  0.157102 -1.063655 -0.010449"
      ]
     },
     "execution_count": 10,
     "metadata": {},
     "output_type": "execute_result"
    }
   ],
   "source": [
    "# 2 top rows, you can also try tail\n",
    "df.head(2)"
   ]
  },
  {
   "cell_type": "code",
   "execution_count": 16,
   "id": "9989f06c-1363-444c-8411-ea01ed9c41ae",
   "metadata": {},
   "outputs": [
    {
     "data": {
      "text/html": [
       "<div>\n",
       "<style scoped>\n",
       "    .dataframe tbody tr th:only-of-type {\n",
       "        vertical-align: middle;\n",
       "    }\n",
       "\n",
       "    .dataframe tbody tr th {\n",
       "        vertical-align: top;\n",
       "    }\n",
       "\n",
       "    .dataframe thead th {\n",
       "        text-align: right;\n",
       "    }\n",
       "</style>\n",
       "<table border=\"1\" class=\"dataframe\">\n",
       "  <thead>\n",
       "    <tr style=\"text-align: right;\">\n",
       "      <th></th>\n",
       "      <th>m1</th>\n",
       "      <th>m2</th>\n",
       "      <th>m3</th>\n",
       "      <th>m4</th>\n",
       "    </tr>\n",
       "  </thead>\n",
       "  <tbody>\n",
       "    <tr>\n",
       "      <th>2021-01-04</th>\n",
       "      <td>-0.039054</td>\n",
       "      <td>-0.006952</td>\n",
       "      <td>-1.025397</td>\n",
       "      <td>0.846730</td>\n",
       "    </tr>\n",
       "    <tr>\n",
       "      <th>2021-01-05</th>\n",
       "      <td>-0.620807</td>\n",
       "      <td>-1.540477</td>\n",
       "      <td>0.694991</td>\n",
       "      <td>-0.210143</td>\n",
       "    </tr>\n",
       "  </tbody>\n",
       "</table>\n",
       "</div>"
      ],
      "text/plain": [
       "                  m1        m2        m3        m4\n",
       "2021-01-04 -0.039054 -0.006952 -1.025397  0.846730\n",
       "2021-01-05 -0.620807 -1.540477  0.694991 -0.210143"
      ]
     },
     "execution_count": 16,
     "metadata": {},
     "output_type": "execute_result"
    }
   ],
   "source": [
    "# Note : prints rows with index 3 and 4 only\n",
    "df[3:5]"
   ]
  },
  {
   "cell_type": "code",
   "execution_count": 12,
   "id": "a8f704df-c7c5-4442-a7f9-5287425ce215",
   "metadata": {},
   "outputs": [
    {
     "data": {
      "text/plain": [
       "2021-01-01    1.417121\n",
       "2021-01-02   -1.063655\n",
       "2021-01-03    0.259638\n",
       "2021-01-04   -1.025397\n",
       "2021-01-05    0.694991\n",
       "2021-01-06    1.182184\n",
       "Freq: D, Name: m3, dtype: float64"
      ]
     },
     "execution_count": 12,
     "metadata": {},
     "output_type": "execute_result"
    }
   ],
   "source": [
    "# extract columns\n",
    "df.m3"
   ]
  },
  {
   "cell_type": "code",
   "execution_count": 15,
   "id": "29f9cb77-216a-4e27-9015-f7be302a2093",
   "metadata": {},
   "outputs": [
    {
     "name": "stdout",
     "output_type": "stream",
     "text": [
      "<class 'pandas.core.frame.DataFrame'>\n",
      "<class 'pandas.core.series.Series'>\n"
     ]
    }
   ],
   "source": [
    "# column type is Series, not dataframe\n",
    "print(type(df))\n",
    "print(type(df.m3))"
   ]
  },
  {
   "cell_type": "code",
   "execution_count": 17,
   "id": "4aeff930-b99d-4f0e-8151-86b6984402e0",
   "metadata": {},
   "outputs": [
    {
     "data": {
      "text/html": [
       "<div>\n",
       "<style scoped>\n",
       "    .dataframe tbody tr th:only-of-type {\n",
       "        vertical-align: middle;\n",
       "    }\n",
       "\n",
       "    .dataframe tbody tr th {\n",
       "        vertical-align: top;\n",
       "    }\n",
       "\n",
       "    .dataframe thead th {\n",
       "        text-align: right;\n",
       "    }\n",
       "</style>\n",
       "<table border=\"1\" class=\"dataframe\">\n",
       "  <thead>\n",
       "    <tr style=\"text-align: right;\">\n",
       "      <th></th>\n",
       "      <th>m1</th>\n",
       "      <th>m2</th>\n",
       "    </tr>\n",
       "  </thead>\n",
       "  <tbody>\n",
       "    <tr>\n",
       "      <th>2021-01-04</th>\n",
       "      <td>-0.039054</td>\n",
       "      <td>-0.006952</td>\n",
       "    </tr>\n",
       "    <tr>\n",
       "      <th>2021-01-05</th>\n",
       "      <td>-0.620807</td>\n",
       "      <td>-1.540477</td>\n",
       "    </tr>\n",
       "  </tbody>\n",
       "</table>\n",
       "</div>"
      ],
      "text/plain": [
       "                  m1        m2\n",
       "2021-01-04 -0.039054 -0.006952\n",
       "2021-01-05 -0.620807 -1.540477"
      ]
     },
     "execution_count": 17,
     "metadata": {},
     "output_type": "execute_result"
    }
   ],
   "source": [
    "df[['m1','m2']][3:5]"
   ]
  },
  {
   "cell_type": "code",
   "execution_count": 18,
   "id": "1e15a84c-4fd5-46a9-bfa1-1cfc2f76d8e2",
   "metadata": {},
   "outputs": [
    {
     "data": {
      "text/html": [
       "<div>\n",
       "<style scoped>\n",
       "    .dataframe tbody tr th:only-of-type {\n",
       "        vertical-align: middle;\n",
       "    }\n",
       "\n",
       "    .dataframe tbody tr th {\n",
       "        vertical-align: top;\n",
       "    }\n",
       "\n",
       "    .dataframe thead th {\n",
       "        text-align: right;\n",
       "    }\n",
       "</style>\n",
       "<table border=\"1\" class=\"dataframe\">\n",
       "  <thead>\n",
       "    <tr style=\"text-align: right;\">\n",
       "      <th></th>\n",
       "      <th>m1</th>\n",
       "      <th>m2</th>\n",
       "    </tr>\n",
       "  </thead>\n",
       "  <tbody>\n",
       "    <tr>\n",
       "      <th>2021-01-04</th>\n",
       "      <td>-0.039054</td>\n",
       "      <td>-0.006952</td>\n",
       "    </tr>\n",
       "    <tr>\n",
       "      <th>2021-01-05</th>\n",
       "      <td>-0.620807</td>\n",
       "      <td>-1.540477</td>\n",
       "    </tr>\n",
       "  </tbody>\n",
       "</table>\n",
       "</div>"
      ],
      "text/plain": [
       "                  m1        m2\n",
       "2021-01-04 -0.039054 -0.006952\n",
       "2021-01-05 -0.620807 -1.540477"
      ]
     },
     "execution_count": 18,
     "metadata": {},
     "output_type": "execute_result"
    }
   ],
   "source": [
    "# order of slicing doesn't matter\n",
    "df[3:5][['m1','m2']]"
   ]
  },
  {
   "cell_type": "code",
   "execution_count": 21,
   "id": "1bfad0ae-eefd-420d-bfc5-dce6d4267ec2",
   "metadata": {},
   "outputs": [
    {
     "name": "stdout",
     "output_type": "stream",
     "text": [
      "                  m2        m3\n",
      "2021-01-03  0.108732  0.259638\n",
      "2021-01-04 -0.006952 -1.025397\n",
      "                  m2        m3        m4\n",
      "2021-01-03  0.108732  0.259638  1.503257\n",
      "2021-01-04 -0.006952 -1.025397  0.846730\n",
      "                  m2        m3        m4\n",
      "2021-01-01 -0.585537  1.417121  2.863105\n",
      "2021-01-02  0.157102 -1.063655 -0.010449\n",
      "2021-01-03  0.108732  0.259638  1.503257\n",
      "2021-01-04 -0.006952 -1.025397  0.846730\n",
      "2021-01-05 -1.540477  0.694991 -0.210143\n",
      "2021-01-06  1.101082  1.182184 -0.330262\n"
     ]
    }
   ],
   "source": [
    "# slicing - integer location based selection by position\n",
    "\n",
    "print(df.iloc[2:4,1:3])\n",
    "print(df.iloc[[2,3],[1,2,3]])\n",
    "print(df.iloc[:,[1,2,3]])"
   ]
  },
  {
   "cell_type": "code",
   "execution_count": 34,
   "id": "4a17dbb3-3137-4808-becd-9042f2fe2727",
   "metadata": {},
   "outputs": [
    {
     "name": "stdout",
     "output_type": "stream",
     "text": [
      "                  m1        m2\n",
      "2021-01-01 -0.204575 -0.585537\n",
      "2021-01-03 -0.126543  0.108732\n"
     ]
    }
   ],
   "source": [
    "# slicing - label or boolean location selection\n",
    "# note - missing labels give errors\n",
    "print(df.loc[[pd.Timestamp('2021-01-01'), pd.Timestamp('2021-01-03')],['m1','m2']])"
   ]
  },
  {
   "cell_type": "code",
   "execution_count": 32,
   "id": "dc7d3cd1-410f-4954-be86-cda269e82b7d",
   "metadata": {},
   "outputs": [
    {
     "data": {
      "text/plain": [
       "m2    0.157102\n",
       "m4   -0.010449\n",
       "Name: 2021-01-02 00:00:00, dtype: float64"
      ]
     },
     "execution_count": 32,
     "metadata": {},
     "output_type": "execute_result"
    }
   ],
   "source": [
    "# If one row is selected, we get a series\n",
    "df.loc['2021-01-02' , ['m2', 'm4'] ]"
   ]
  },
  {
   "cell_type": "code",
   "execution_count": 46,
   "id": "944e7990-1a0f-4297-a4fa-de22a15636b0",
   "metadata": {},
   "outputs": [
    {
     "name": "stdout",
     "output_type": "stream",
     "text": [
      "<class 'pandas.core.frame.Pandas'>\n",
      "Pandas(Index=Timestamp('2021-01-01 00:00:00', freq='D'), m1=-0.2045754825951432, m2=-0.585537383640488, m3=1.4171207874405807, m4=2.8631053274843423)\n",
      "2021-01-01 00:00:00\n",
      "-0.585537383640488\n",
      "----------\n",
      "<class 'pandas.core.frame.Pandas'>\n",
      "Pandas(Index=Timestamp('2021-01-02 00:00:00', freq='D'), m1=2.0088355041831965, m2=0.1571024480353518, m3=-1.063654575404825, m4=-0.010448811174960446)\n",
      "2021-01-02 00:00:00\n",
      "0.1571024480353518\n",
      "----------\n",
      "<class 'pandas.core.frame.Pandas'>\n",
      "Pandas(Index=Timestamp('2021-01-03 00:00:00', freq='D'), m1=-0.12654281491554603, m2=0.10873241990235902, m3=0.2596384620583242, m4=1.5032566542740755)\n",
      "2021-01-03 00:00:00\n",
      "0.10873241990235902\n",
      "----------\n",
      "<class 'pandas.core.frame.Pandas'>\n",
      "Pandas(Index=Timestamp('2021-01-04 00:00:00', freq='D'), m1=-0.039054023801359514, m2=-0.0069523203687770225, m3=-1.0253971643827653, m4=0.8467299342544358)\n",
      "2021-01-04 00:00:00\n",
      "-0.0069523203687770225\n",
      "----------\n",
      "<class 'pandas.core.frame.Pandas'>\n",
      "Pandas(Index=Timestamp('2021-01-05 00:00:00', freq='D'), m1=-0.6208072267621688, m2=-1.5404772662085682, m3=0.6949910986727564, m4=-0.2101431006610598)\n",
      "2021-01-05 00:00:00\n",
      "-1.5404772662085682\n",
      "----------\n",
      "<class 'pandas.core.frame.Pandas'>\n",
      "Pandas(Index=Timestamp('2021-01-06 00:00:00', freq='D'), m1=-0.11500127954868651, m2=1.1010823287666465, m3=1.1821840044293337, m4=-0.33026231826450125)\n",
      "2021-01-06 00:00:00\n",
      "1.1010823287666465\n",
      "----------\n"
     ]
    }
   ],
   "source": [
    "# Iterate a pandas dataframe. Type with index=False, and True\n",
    "for row in df.itertuples(index=True):\n",
    "    print(type(row))\n",
    "    print(row)     # print entire row tuple\n",
    "    print(row[0])  # print value from column with index 0\n",
    "    print(row.m2)  # print value from column with name m2\n",
    "    print('----------')"
   ]
  },
  {
   "cell_type": "markdown",
   "id": "7521635c-df98-407f-9fe9-a1e1b2dfdc6d",
   "metadata": {},
   "source": [
    "# Copying, Updating Data Frames"
   ]
  },
  {
   "cell_type": "code",
   "execution_count": 40,
   "id": "1b459f1c-4e7b-407a-aab5-8e54ee0ee2d2",
   "metadata": {},
   "outputs": [
    {
     "name": "stdout",
     "output_type": "stream",
     "text": [
      "                  m1        m2        m3        m4\n",
      "2021-01-01 -0.204575 -0.585537  1.417121  2.863105\n",
      "2021-01-02  2.008836  0.157102 -1.063655 -0.010449\n",
      "2021-01-03 -0.126543  0.108732  0.259638  1.503257\n",
      "2021-01-04 -0.039054 -0.006952 -1.025397  0.846730\n",
      "2021-01-05 -0.620807 -1.540477  0.694991 -0.210143\n",
      "2021-01-06 -0.115001  1.101082  1.182184 -0.330262\n"
     ]
    }
   ],
   "source": [
    "# you can create a copy of a dataframe\n",
    "dfCopy = df.copy()\n",
    "print(dfCopy)"
   ]
  },
  {
   "cell_type": "code",
   "execution_count": 42,
   "id": "302e9dc7-f842-45f6-8ac8-2b6eaf23b0a9",
   "metadata": {},
   "outputs": [
    {
     "name": "stdout",
     "output_type": "stream",
     "text": [
      "                  m1        m2        m3        m4\n",
      "2021-01-01 -0.204575 -0.585537  1.417121  2.863105\n",
      "2021-01-02  2.008836  0.157102 -1.063655 -0.010449\n",
      "2021-01-03 -0.126543  0.000000  0.000000  1.503257\n",
      "2021-01-04 -0.039054  0.000000  0.000000  0.846730\n",
      "2021-01-05 -0.620807 -1.540477  0.694991 -0.210143\n",
      "2021-01-06 -0.115001  1.101082  1.182184 -0.330262\n"
     ]
    }
   ],
   "source": [
    "# You can set values for a selection\n",
    "# note that iloc, loc etc do not create new copy of the data, but are views on the original dataframe, dfCopy\n",
    "\n",
    "dfCopy.iloc[2:4,1:3] = 0\n",
    "print(dfCopy)"
   ]
  },
  {
   "cell_type": "code",
   "execution_count": 50,
   "id": "2795460b-d2fd-4771-96c0-aa0386b4c3ec",
   "metadata": {},
   "outputs": [
    {
     "data": {
      "text/html": [
       "<div>\n",
       "<style scoped>\n",
       "    .dataframe tbody tr th:only-of-type {\n",
       "        vertical-align: middle;\n",
       "    }\n",
       "\n",
       "    .dataframe tbody tr th {\n",
       "        vertical-align: top;\n",
       "    }\n",
       "\n",
       "    .dataframe thead th {\n",
       "        text-align: right;\n",
       "    }\n",
       "</style>\n",
       "<table border=\"1\" class=\"dataframe\">\n",
       "  <thead>\n",
       "    <tr style=\"text-align: right;\">\n",
       "      <th></th>\n",
       "      <th>m1</th>\n",
       "      <th>m2</th>\n",
       "      <th>m3</th>\n",
       "      <th>m4</th>\n",
       "    </tr>\n",
       "  </thead>\n",
       "  <tbody>\n",
       "    <tr>\n",
       "      <th>2021-01-06</th>\n",
       "      <td>-0.115001</td>\n",
       "      <td>1.101082</td>\n",
       "      <td>1.182184</td>\n",
       "      <td>-0.330262</td>\n",
       "    </tr>\n",
       "    <tr>\n",
       "      <th>2021-01-02</th>\n",
       "      <td>2.008836</td>\n",
       "      <td>0.157102</td>\n",
       "      <td>-1.063655</td>\n",
       "      <td>-0.010449</td>\n",
       "    </tr>\n",
       "    <tr>\n",
       "      <th>2021-01-03</th>\n",
       "      <td>-0.126543</td>\n",
       "      <td>0.108732</td>\n",
       "      <td>0.259638</td>\n",
       "      <td>1.503257</td>\n",
       "    </tr>\n",
       "    <tr>\n",
       "      <th>2021-01-04</th>\n",
       "      <td>-0.039054</td>\n",
       "      <td>-0.006952</td>\n",
       "      <td>-1.025397</td>\n",
       "      <td>0.846730</td>\n",
       "    </tr>\n",
       "    <tr>\n",
       "      <th>2021-01-01</th>\n",
       "      <td>-0.204575</td>\n",
       "      <td>-0.585537</td>\n",
       "      <td>1.417121</td>\n",
       "      <td>2.863105</td>\n",
       "    </tr>\n",
       "    <tr>\n",
       "      <th>2021-01-05</th>\n",
       "      <td>-0.620807</td>\n",
       "      <td>-1.540477</td>\n",
       "      <td>0.694991</td>\n",
       "      <td>-0.210143</td>\n",
       "    </tr>\n",
       "  </tbody>\n",
       "</table>\n",
       "</div>"
      ],
      "text/plain": [
       "                  m1        m2        m3        m4\n",
       "2021-01-06 -0.115001  1.101082  1.182184 -0.330262\n",
       "2021-01-02  2.008836  0.157102 -1.063655 -0.010449\n",
       "2021-01-03 -0.126543  0.108732  0.259638  1.503257\n",
       "2021-01-04 -0.039054 -0.006952 -1.025397  0.846730\n",
       "2021-01-01 -0.204575 -0.585537  1.417121  2.863105\n",
       "2021-01-05 -0.620807 -1.540477  0.694991 -0.210143"
      ]
     },
     "execution_count": 50,
     "metadata": {},
     "output_type": "execute_result"
    }
   ],
   "source": [
    "# sorted copy\n",
    "# use inplace=True for changing original dataset\n",
    "dfSorted = df.sort_values(by='m2', ascending=False)\n",
    "dfSorted"
   ]
  },
  {
   "cell_type": "code",
   "execution_count": 86,
   "id": "cefe31ee-ed23-4c37-ad6f-4e6073cce1e5",
   "metadata": {},
   "outputs": [
    {
     "data": {
      "text/html": [
       "<div>\n",
       "<style scoped>\n",
       "    .dataframe tbody tr th:only-of-type {\n",
       "        vertical-align: middle;\n",
       "    }\n",
       "\n",
       "    .dataframe tbody tr th {\n",
       "        vertical-align: top;\n",
       "    }\n",
       "\n",
       "    .dataframe thead th {\n",
       "        text-align: right;\n",
       "    }\n",
       "</style>\n",
       "<table border=\"1\" class=\"dataframe\">\n",
       "  <thead>\n",
       "    <tr style=\"text-align: right;\">\n",
       "      <th></th>\n",
       "      <th>m1</th>\n",
       "      <th>m2</th>\n",
       "      <th>m3</th>\n",
       "      <th>m4</th>\n",
       "      <th>m5</th>\n",
       "    </tr>\n",
       "  </thead>\n",
       "  <tbody>\n",
       "    <tr>\n",
       "      <th>2021-01-01</th>\n",
       "      <td>-0.204575</td>\n",
       "      <td>-0.585537</td>\n",
       "      <td>1.417121</td>\n",
       "      <td>2.863105</td>\n",
       "      <td>0.432523</td>\n",
       "    </tr>\n",
       "    <tr>\n",
       "      <th>2021-01-02</th>\n",
       "      <td>2.008836</td>\n",
       "      <td>0.157102</td>\n",
       "      <td>-1.063655</td>\n",
       "      <td>-0.010449</td>\n",
       "      <td>-0.123223</td>\n",
       "    </tr>\n",
       "    <tr>\n",
       "      <th>2021-01-03</th>\n",
       "      <td>-0.126543</td>\n",
       "      <td>0.108732</td>\n",
       "      <td>0.259638</td>\n",
       "      <td>1.503257</td>\n",
       "      <td>-0.231232</td>\n",
       "    </tr>\n",
       "    <tr>\n",
       "      <th>2021-01-04</th>\n",
       "      <td>-0.039054</td>\n",
       "      <td>-0.006952</td>\n",
       "      <td>-1.025397</td>\n",
       "      <td>0.846730</td>\n",
       "      <td>0.001231</td>\n",
       "    </tr>\n",
       "    <tr>\n",
       "      <th>2021-01-05</th>\n",
       "      <td>-0.620807</td>\n",
       "      <td>-1.540477</td>\n",
       "      <td>0.694991</td>\n",
       "      <td>-0.210143</td>\n",
       "      <td>-0.236980</td>\n",
       "    </tr>\n",
       "    <tr>\n",
       "      <th>2021-01-06</th>\n",
       "      <td>-0.115001</td>\n",
       "      <td>1.101082</td>\n",
       "      <td>1.182184</td>\n",
       "      <td>-0.330262</td>\n",
       "      <td>-0.412310</td>\n",
       "    </tr>\n",
       "  </tbody>\n",
       "</table>\n",
       "</div>"
      ],
      "text/plain": [
       "                  m1        m2        m3        m4        m5\n",
       "2021-01-01 -0.204575 -0.585537  1.417121  2.863105  0.432523\n",
       "2021-01-02  2.008836  0.157102 -1.063655 -0.010449 -0.123223\n",
       "2021-01-03 -0.126543  0.108732  0.259638  1.503257 -0.231232\n",
       "2021-01-04 -0.039054 -0.006952 -1.025397  0.846730  0.001231\n",
       "2021-01-05 -0.620807 -1.540477  0.694991 -0.210143 -0.236980\n",
       "2021-01-06 -0.115001  1.101082  1.182184 -0.330262 -0.412310"
      ]
     },
     "execution_count": 86,
     "metadata": {},
     "output_type": "execute_result"
    }
   ],
   "source": [
    "# adding columns\n",
    "m5values = [0.432523, -0.123223, -0.231232, 0.001231, -0.23698, -0.41231]\n",
    "dfCopy = df.copy()\n",
    "dfCopy['m5'] = m5values\n",
    "dfCopy"
   ]
  },
  {
   "cell_type": "code",
   "execution_count": 87,
   "id": "53aab3f0-baa6-44af-9f36-9a463775abd4",
   "metadata": {},
   "outputs": [
    {
     "data": {
      "text/html": [
       "<div>\n",
       "<style scoped>\n",
       "    .dataframe tbody tr th:only-of-type {\n",
       "        vertical-align: middle;\n",
       "    }\n",
       "\n",
       "    .dataframe tbody tr th {\n",
       "        vertical-align: top;\n",
       "    }\n",
       "\n",
       "    .dataframe thead th {\n",
       "        text-align: right;\n",
       "    }\n",
       "</style>\n",
       "<table border=\"1\" class=\"dataframe\">\n",
       "  <thead>\n",
       "    <tr style=\"text-align: right;\">\n",
       "      <th></th>\n",
       "      <th>m1</th>\n",
       "      <th>m2</th>\n",
       "      <th>m3</th>\n",
       "      <th>m4</th>\n",
       "      <th>m5</th>\n",
       "    </tr>\n",
       "  </thead>\n",
       "  <tbody>\n",
       "    <tr>\n",
       "      <th>2021-01-01</th>\n",
       "      <td>-0.204575</td>\n",
       "      <td>-0.585537</td>\n",
       "      <td>1.417121</td>\n",
       "      <td>2.863105</td>\n",
       "      <td>0.432523</td>\n",
       "    </tr>\n",
       "    <tr>\n",
       "      <th>2021-01-02</th>\n",
       "      <td>2.008836</td>\n",
       "      <td>0.157102</td>\n",
       "      <td>-1.063655</td>\n",
       "      <td>-0.010449</td>\n",
       "      <td>-0.123223</td>\n",
       "    </tr>\n",
       "    <tr>\n",
       "      <th>2021-01-03</th>\n",
       "      <td>-0.126543</td>\n",
       "      <td>0.108732</td>\n",
       "      <td>0.259638</td>\n",
       "      <td>1.503257</td>\n",
       "      <td>-0.231232</td>\n",
       "    </tr>\n",
       "    <tr>\n",
       "      <th>2021-01-04</th>\n",
       "      <td>-0.039054</td>\n",
       "      <td>-0.006952</td>\n",
       "      <td>-1.025397</td>\n",
       "      <td>0.846730</td>\n",
       "      <td>0.001231</td>\n",
       "    </tr>\n",
       "    <tr>\n",
       "      <th>2021-01-05</th>\n",
       "      <td>-0.620807</td>\n",
       "      <td>-1.540477</td>\n",
       "      <td>0.694991</td>\n",
       "      <td>-0.210143</td>\n",
       "      <td>-0.236980</td>\n",
       "    </tr>\n",
       "    <tr>\n",
       "      <th>2021-01-06</th>\n",
       "      <td>-0.115001</td>\n",
       "      <td>1.101082</td>\n",
       "      <td>1.182184</td>\n",
       "      <td>-0.330262</td>\n",
       "      <td>-0.412310</td>\n",
       "    </tr>\n",
       "    <tr>\n",
       "      <th>2021-02-07</th>\n",
       "      <td>0.260651</td>\n",
       "      <td>0.099972</td>\n",
       "      <td>0.961207</td>\n",
       "      <td>0.859050</td>\n",
       "      <td>0.683756</td>\n",
       "    </tr>\n",
       "    <tr>\n",
       "      <th>2021-02-08</th>\n",
       "      <td>0.103412</td>\n",
       "      <td>0.288607</td>\n",
       "      <td>0.501539</td>\n",
       "      <td>0.078259</td>\n",
       "      <td>0.052238</td>\n",
       "    </tr>\n",
       "    <tr>\n",
       "      <th>2021-02-09</th>\n",
       "      <td>0.902411</td>\n",
       "      <td>0.469965</td>\n",
       "      <td>0.511603</td>\n",
       "      <td>0.479744</td>\n",
       "      <td>0.177155</td>\n",
       "    </tr>\n",
       "  </tbody>\n",
       "</table>\n",
       "</div>"
      ],
      "text/plain": [
       "                  m1        m2        m3        m4        m5\n",
       "2021-01-01 -0.204575 -0.585537  1.417121  2.863105  0.432523\n",
       "2021-01-02  2.008836  0.157102 -1.063655 -0.010449 -0.123223\n",
       "2021-01-03 -0.126543  0.108732  0.259638  1.503257 -0.231232\n",
       "2021-01-04 -0.039054 -0.006952 -1.025397  0.846730  0.001231\n",
       "2021-01-05 -0.620807 -1.540477  0.694991 -0.210143 -0.236980\n",
       "2021-01-06 -0.115001  1.101082  1.182184 -0.330262 -0.412310\n",
       "2021-02-07  0.260651  0.099972  0.961207  0.859050  0.683756\n",
       "2021-02-08  0.103412  0.288607  0.501539  0.078259  0.052238\n",
       "2021-02-09  0.902411  0.469965  0.511603  0.479744  0.177155"
      ]
     },
     "execution_count": 87,
     "metadata": {},
     "output_type": "execute_result"
    }
   ],
   "source": [
    "# add rows\n",
    "for i in range(7,10):\n",
    "    dfCopy.loc[ pd.Timestamp('2021-02-0'+str(i)),:] = [ np.random.rand() for j in range(5) ]\n",
    "dfCopy"
   ]
  },
  {
   "cell_type": "code",
   "execution_count": 88,
   "id": "4395e864-e86b-4efd-a6ee-a670c699d8c6",
   "metadata": {},
   "outputs": [
    {
     "data": {
      "text/html": [
       "<div>\n",
       "<style scoped>\n",
       "    .dataframe tbody tr th:only-of-type {\n",
       "        vertical-align: middle;\n",
       "    }\n",
       "\n",
       "    .dataframe tbody tr th {\n",
       "        vertical-align: top;\n",
       "    }\n",
       "\n",
       "    .dataframe thead th {\n",
       "        text-align: right;\n",
       "    }\n",
       "</style>\n",
       "<table border=\"1\" class=\"dataframe\">\n",
       "  <thead>\n",
       "    <tr style=\"text-align: right;\">\n",
       "      <th></th>\n",
       "      <th>m1</th>\n",
       "      <th>m2</th>\n",
       "      <th>m3</th>\n",
       "      <th>m4</th>\n",
       "    </tr>\n",
       "  </thead>\n",
       "  <tbody>\n",
       "    <tr>\n",
       "      <th>2021-01-01</th>\n",
       "      <td>-0.204575</td>\n",
       "      <td>-0.585537</td>\n",
       "      <td>1.417121</td>\n",
       "      <td>2.863105</td>\n",
       "    </tr>\n",
       "    <tr>\n",
       "      <th>2021-01-02</th>\n",
       "      <td>2.008836</td>\n",
       "      <td>0.157102</td>\n",
       "      <td>-1.063655</td>\n",
       "      <td>-0.010449</td>\n",
       "    </tr>\n",
       "    <tr>\n",
       "      <th>2021-01-03</th>\n",
       "      <td>-0.126543</td>\n",
       "      <td>0.108732</td>\n",
       "      <td>0.259638</td>\n",
       "      <td>1.503257</td>\n",
       "    </tr>\n",
       "    <tr>\n",
       "      <th>2021-01-04</th>\n",
       "      <td>-0.039054</td>\n",
       "      <td>-0.006952</td>\n",
       "      <td>-1.025397</td>\n",
       "      <td>0.846730</td>\n",
       "    </tr>\n",
       "    <tr>\n",
       "      <th>2021-01-05</th>\n",
       "      <td>-0.620807</td>\n",
       "      <td>-1.540477</td>\n",
       "      <td>0.694991</td>\n",
       "      <td>-0.210143</td>\n",
       "    </tr>\n",
       "    <tr>\n",
       "      <th>2021-01-06</th>\n",
       "      <td>-0.115001</td>\n",
       "      <td>1.101082</td>\n",
       "      <td>1.182184</td>\n",
       "      <td>-0.330262</td>\n",
       "    </tr>\n",
       "  </tbody>\n",
       "</table>\n",
       "</div>"
      ],
      "text/plain": [
       "                  m1        m2        m3        m4\n",
       "2021-01-01 -0.204575 -0.585537  1.417121  2.863105\n",
       "2021-01-02  2.008836  0.157102 -1.063655 -0.010449\n",
       "2021-01-03 -0.126543  0.108732  0.259638  1.503257\n",
       "2021-01-04 -0.039054 -0.006952 -1.025397  0.846730\n",
       "2021-01-05 -0.620807 -1.540477  0.694991 -0.210143\n",
       "2021-01-06 -0.115001  1.101082  1.182184 -0.330262"
      ]
     },
     "execution_count": 88,
     "metadata": {},
     "output_type": "execute_result"
    }
   ],
   "source": [
    "# remove rows, creating a new dataframe\n",
    "# use inplace=True to change existing dataframe\n",
    "dfDropped = dfCopy.drop(index=pd.date_range('2021-02-07','2021-02-09'),columns='m5')\n",
    "dfDropped"
   ]
  },
  {
   "cell_type": "code",
   "execution_count": 92,
   "id": "f99621cf-a9f6-4543-a404-5ecd8a23c245",
   "metadata": {},
   "outputs": [
    {
     "data": {
      "text/html": [
       "<div>\n",
       "<style scoped>\n",
       "    .dataframe tbody tr th:only-of-type {\n",
       "        vertical-align: middle;\n",
       "    }\n",
       "\n",
       "    .dataframe tbody tr th {\n",
       "        vertical-align: top;\n",
       "    }\n",
       "\n",
       "    .dataframe thead th {\n",
       "        text-align: right;\n",
       "    }\n",
       "</style>\n",
       "<table border=\"1\" class=\"dataframe\">\n",
       "  <thead>\n",
       "    <tr style=\"text-align: right;\">\n",
       "      <th></th>\n",
       "      <th>state</th>\n",
       "      <th>capital</th>\n",
       "      <th>population</th>\n",
       "    </tr>\n",
       "  </thead>\n",
       "  <tbody>\n",
       "    <tr>\n",
       "      <th>0</th>\n",
       "      <td>Washington</td>\n",
       "      <td>Olympia</td>\n",
       "      <td>7288000</td>\n",
       "    </tr>\n",
       "    <tr>\n",
       "      <th>1</th>\n",
       "      <td>Oregon</td>\n",
       "      <td>Salem</td>\n",
       "      <td>4093000</td>\n",
       "    </tr>\n",
       "  </tbody>\n",
       "</table>\n",
       "</div>"
      ],
      "text/plain": [
       "        state  capital  population\n",
       "0  Washington  Olympia     7288000\n",
       "1      Oregon    Salem     4093000"
      ]
     },
     "execution_count": 92,
     "metadata": {},
     "output_type": "execute_result"
    }
   ],
   "source": [
    "# joining 2 data frames\n",
    "df1 = pd.DataFrame( {'state': ['Washington', 'Oregon'], 'capital': ['Olympia', 'Salem']} )\n",
    "df2 = pd.DataFrame( {'name': ['Washington', 'Oregon'], 'population':[7288000, 4093000]} )\n",
    "merged = pd.merge(df1, df2, left_on='state', right_on='name')\n",
    "merged.drop(columns='name', inplace=True)\n",
    "merged"
   ]
  },
  {
   "cell_type": "markdown",
   "id": "a6435484-80d9-48db-a2f0-b221e479806c",
   "metadata": {},
   "source": [
    "# Dataframes - Filtering via Boolean Indexing"
   ]
  },
  {
   "cell_type": "code",
   "execution_count": 104,
   "id": "4fba346f-b7b6-4e2a-9f4d-7a4c08b0aa03",
   "metadata": {},
   "outputs": [],
   "source": [
    "m5values = [0.432523, -0.123223, -0.231232, 0.001231, -0.23698, -0.41231]\n",
    "dfj = df.copy()\n",
    "dfj['m5'] = m5values"
   ]
  },
  {
   "cell_type": "code",
   "execution_count": 105,
   "id": "d5b21261-21f7-4be6-b8ac-90a08e1e5d11",
   "metadata": {},
   "outputs": [
    {
     "data": {
      "text/html": [
       "<div>\n",
       "<style scoped>\n",
       "    .dataframe tbody tr th:only-of-type {\n",
       "        vertical-align: middle;\n",
       "    }\n",
       "\n",
       "    .dataframe tbody tr th {\n",
       "        vertical-align: top;\n",
       "    }\n",
       "\n",
       "    .dataframe thead th {\n",
       "        text-align: right;\n",
       "    }\n",
       "</style>\n",
       "<table border=\"1\" class=\"dataframe\">\n",
       "  <thead>\n",
       "    <tr style=\"text-align: right;\">\n",
       "      <th></th>\n",
       "      <th>m1</th>\n",
       "      <th>m2</th>\n",
       "      <th>m3</th>\n",
       "      <th>m4</th>\n",
       "      <th>m5</th>\n",
       "    </tr>\n",
       "  </thead>\n",
       "  <tbody>\n",
       "    <tr>\n",
       "      <th>2021-01-01</th>\n",
       "      <td>False</td>\n",
       "      <td>False</td>\n",
       "      <td>True</td>\n",
       "      <td>True</td>\n",
       "      <td>True</td>\n",
       "    </tr>\n",
       "    <tr>\n",
       "      <th>2021-01-02</th>\n",
       "      <td>True</td>\n",
       "      <td>True</td>\n",
       "      <td>False</td>\n",
       "      <td>False</td>\n",
       "      <td>False</td>\n",
       "    </tr>\n",
       "    <tr>\n",
       "      <th>2021-01-03</th>\n",
       "      <td>False</td>\n",
       "      <td>True</td>\n",
       "      <td>True</td>\n",
       "      <td>True</td>\n",
       "      <td>False</td>\n",
       "    </tr>\n",
       "    <tr>\n",
       "      <th>2021-01-04</th>\n",
       "      <td>False</td>\n",
       "      <td>False</td>\n",
       "      <td>False</td>\n",
       "      <td>True</td>\n",
       "      <td>True</td>\n",
       "    </tr>\n",
       "    <tr>\n",
       "      <th>2021-01-05</th>\n",
       "      <td>False</td>\n",
       "      <td>False</td>\n",
       "      <td>True</td>\n",
       "      <td>False</td>\n",
       "      <td>False</td>\n",
       "    </tr>\n",
       "    <tr>\n",
       "      <th>2021-01-06</th>\n",
       "      <td>False</td>\n",
       "      <td>True</td>\n",
       "      <td>True</td>\n",
       "      <td>False</td>\n",
       "      <td>False</td>\n",
       "    </tr>\n",
       "  </tbody>\n",
       "</table>\n",
       "</div>"
      ],
      "text/plain": [
       "               m1     m2     m3     m4     m5\n",
       "2021-01-01  False  False   True   True   True\n",
       "2021-01-02   True   True  False  False  False\n",
       "2021-01-03  False   True   True   True  False\n",
       "2021-01-04  False  False  False   True   True\n",
       "2021-01-05  False  False   True  False  False\n",
       "2021-01-06  False   True   True  False  False"
      ]
     },
     "execution_count": 105,
     "metadata": {},
     "output_type": "execute_result"
    }
   ],
   "source": [
    "dfj > 0"
   ]
  },
  {
   "cell_type": "code",
   "execution_count": 106,
   "id": "a5f53d4d-4439-4b06-a511-96c145aa14a7",
   "metadata": {},
   "outputs": [
    {
     "data": {
      "text/plain": [
       "2021-01-01     True\n",
       "2021-01-02    False\n",
       "2021-01-03     True\n",
       "2021-01-04     True\n",
       "2021-01-05     True\n",
       "2021-01-06     True\n",
       "Freq: D, Name: m1, dtype: bool"
      ]
     },
     "execution_count": 106,
     "metadata": {},
     "output_type": "execute_result"
    }
   ],
   "source": [
    "dfj.m1 * 2 < 2"
   ]
  },
  {
   "cell_type": "code",
   "execution_count": 107,
   "id": "f46b451b-6926-4170-a82c-fca2cfd9f2a4",
   "metadata": {},
   "outputs": [
    {
     "data": {
      "text/plain": [
       "True     5\n",
       "False    1\n",
       "Name: m1, dtype: int64"
      ]
     },
     "execution_count": 107,
     "metadata": {},
     "output_type": "execute_result"
    }
   ],
   "source": [
    "(dfj.m1 * 2 < 0.2).value_counts()"
   ]
  },
  {
   "cell_type": "code",
   "execution_count": 108,
   "id": "7cff1f3c-715b-4afc-b2c5-c608f2bcfe19",
   "metadata": {},
   "outputs": [
    {
     "name": "stdout",
     "output_type": "stream",
     "text": [
      "2021-01-01     True\n",
      "2021-01-02    False\n",
      "2021-01-03     True\n",
      "2021-01-04     True\n",
      "2021-01-05     True\n",
      "2021-01-06     True\n",
      "Freq: D, Name: m1, dtype: bool\n",
      "2021-01-01    False\n",
      "2021-01-02     True\n",
      "2021-01-03     True\n",
      "2021-01-04    False\n",
      "2021-01-05    False\n",
      "2021-01-06     True\n",
      "Freq: D, Name: m2, dtype: bool\n",
      "2021-01-01    False\n",
      "2021-01-02     True\n",
      "2021-01-03    False\n",
      "2021-01-04    False\n",
      "2021-01-05    False\n",
      "2021-01-06    False\n",
      "Freq: D, Name: m1, dtype: bool\n",
      "2021-01-01    False\n",
      "2021-01-02    False\n",
      "2021-01-03     True\n",
      "2021-01-04    False\n",
      "2021-01-05    False\n",
      "2021-01-06     True\n",
      "Freq: D, dtype: bool\n",
      "2021-01-01    True\n",
      "2021-01-02    True\n",
      "2021-01-03    True\n",
      "2021-01-04    True\n",
      "2021-01-05    True\n",
      "2021-01-06    True\n",
      "Freq: D, dtype: bool\n"
     ]
    }
   ],
   "source": [
    "v1 = dfj.m1 * 2 < 0.2\n",
    "print(v1)\n",
    "v2 = dfj.m2 > 0\n",
    "print(v2)\n",
    "print(~v1)\n",
    "print(v1 & v2)\n",
    "print(v1 | v2)"
   ]
  },
  {
   "cell_type": "code",
   "execution_count": null,
   "id": "385c5430-350a-4642-84ba-33ba582b943f",
   "metadata": {},
   "outputs": [],
   "source": []
  }
 ],
 "metadata": {
  "kernelspec": {
   "display_name": "Python 3 (ipykernel)",
   "language": "python",
   "name": "python3"
  },
  "language_info": {
   "codemirror_mode": {
    "name": "ipython",
    "version": 3
   },
   "file_extension": ".py",
   "mimetype": "text/x-python",
   "name": "python",
   "nbconvert_exporter": "python",
   "pygments_lexer": "ipython3",
   "version": "3.9.6"
  }
 },
 "nbformat": 4,
 "nbformat_minor": 5
}
