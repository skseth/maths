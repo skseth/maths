{
 "cells": [
  {
   "cell_type": "markdown",
   "id": "f419e5d5-5d9f-47a2-9e99-e47a53b18089",
   "metadata": {},
   "source": [
    "https://meridian.allenpress.com/tjs/article/71/1/Article%2010/443947/ESSENTIAL-TRIGONOMETRY-WITHOUT-GEOMETRY"
   ]
  },
  {
   "cell_type": "markdown",
   "id": "ba9983ab-2549-4bde-81e2-8067d8cd568b",
   "metadata": {},
   "source": [
    "# Exponential Functions\n",
    "\n",
    "in general, an exponential function is of the form\n",
    "\n",
    "$$f(x) = a^x$$\n",
    "\n",
    "Where a is a postive constant. "
   ]
  },
  {
   "cell_type": "markdown",
   "id": "7c3b3e8d-ee92-4e00-86c0-6174f07fb67c",
   "metadata": {},
   "source": [
    "But what does this mean for rational or real numbers?\n",
    "\n",
    "For x = n, a positive integer,$a^x = a.a...a  \\text{ (n factors)}$\n",
    "\n",
    "We can also define that if $b^n = a$, then $a = b^{1/n}$, where a is a positive real number. \n",
    "\n",
    "With this, we can define exponents for rationals. If $x = p/q$ is a rational number, we define $a^{p/q} = {(a^{1/q})}^p$\n",
    "\n",
    "Finally, we can then define, for any real x, for any a > 0 :\n",
    "\n",
    "$a^{x} = \\lim_{r->x} a^r \\text{ (r rational)}$\n",
    "\n",
    "Note: It is not obvious that this limit exists, but in fact it does. To prove this, we can use the fact that the rationals are \"dense\" in R, i.e. in any neighborhood of a real number x, there will be a rational number. By taking successively smalled, nested neigborhoods of x, we can build a cauchy sequence of $a^r$'s which converge."
   ]
  },
  {
   "cell_type": "code",
   "execution_count": null,
   "id": "5575a603-9db7-4183-89b5-f66dfd2e051a",
   "metadata": {},
   "outputs": [],
   "source": []
  },
  {
   "cell_type": "code",
   "execution_count": null,
   "id": "bbcf1823-1e12-4e09-a79c-9d3ba7ff792b",
   "metadata": {},
   "outputs": [],
   "source": []
  }
 ],
 "metadata": {
  "kernelspec": {
   "display_name": "Python 3 (ipykernel)",
   "language": "python",
   "name": "python3"
  },
  "language_info": {
   "codemirror_mode": {
    "name": "ipython",
    "version": 3
   },
   "file_extension": ".py",
   "mimetype": "text/x-python",
   "name": "python",
   "nbconvert_exporter": "python",
   "pygments_lexer": "ipython3",
   "version": "3.9.6"
  }
 },
 "nbformat": 4,
 "nbformat_minor": 5
}
