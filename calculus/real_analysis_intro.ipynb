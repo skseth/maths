{
 "cells": [
  {
   "cell_type": "markdown",
   "id": "3779ef26-ff53-41e5-bda6-f3f769d287a7",
   "metadata": {},
   "source": [
    "https://www.math.ucdavis.edu/~hunter/intro_analysis_pdf/intro_analysis.pdf"
   ]
  },
  {
   "cell_type": "code",
   "execution_count": null,
   "id": "2878ee43-29de-4319-a063-56f9ddf4e3b8",
   "metadata": {},
   "outputs": [],
   "source": []
  }
 ],
 "metadata": {
  "kernelspec": {
   "display_name": "Python 3 (ipykernel)",
   "language": "python",
   "name": "python3"
  },
  "language_info": {
   "codemirror_mode": {
    "name": "ipython",
    "version": 3
   },
   "file_extension": ".py",
   "mimetype": "text/x-python",
   "name": "python",
   "nbconvert_exporter": "python",
   "pygments_lexer": "ipython3",
   "version": "3.9.6"
  }
 },
 "nbformat": 4,
 "nbformat_minor": 5
}
