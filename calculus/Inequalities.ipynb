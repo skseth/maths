{
 "cells": [
  {
   "cell_type": "markdown",
   "id": "ff9ebba6-e8e4-4145-85b8-63a862e01316",
   "metadata": {},
   "source": [
    "### Difference of Powers Inequality\n",
    "From : https://www.math.ucla.edu/~allen/131aSSC19_lecture_notes.pdf\n",
    "\n",
    "For any n, such that For any n ∈ N such that n ≥ 2 and a, b ∈ R,\n",
    "\n",
    "$a^n - b^n = (a - b)(a^{n-1} + a^{n-2}b + ... + ab^{n-1})$\n",
    "\n",
    "It follows that if 0 < a < b, then, \n",
    "$$(b - a)na^{n-1} < b^n - a^n < b^n - a^n < (b - a)nb^{n-1}$$\n",
    "\n",
    "Proof: Just expand the right side and cancel"
   ]
  },
  {
   "cell_type": "markdown",
   "id": "bb2a6412-ee38-4405-adba-b503694774c0",
   "metadata": {},
   "source": [
    "### Power Inequality\n",
    "\n",
    "Given $n \\in N$ and x,y in R, 0 <= x < y, $0 <= x^n < y^n$\n",
    "\n",
    "Proof: Using the fact that given real c > 0, and 0 <= x < y, xc < yc, we can use induction to prove this easily."
   ]
  },
  {
   "cell_type": "markdown",
   "id": "23f85004-fc88-44cb-94e4-30ddb5f3218f",
   "metadata": {},
   "source": [
    "#### Bernoulli's Inequality"
   ]
  },
  {
   "cell_type": "markdown",
   "id": "8e319a94-97fd-4322-a282-c61f531a1bb5",
   "metadata": {},
   "source": [
    "Given 1 + x > 0, $(1 + x)^n \\geq 1 + nx$\n",
    "\n",
    "Proof: Use induction, starting with P(1) : 1 + x = 1 + x. Given $(1 + x)^n \\geq 1 + nx$ :  \n",
    "$$\n",
    "\\begin{align*}\n",
    "(1 + x)^n*(1 + x) &\\geq (1 + nx)(1 + x) &\\text{  since 1 + x > 0}\\\\\n",
    "                  &= (1 + (n+1)x) + nx^2 \\\\\n",
    "\\therefore (1 + x)^{n+1} & \\geq 1 + (n+1)x\\\\\n",
    "\\end{align*}\n",
    "$$\n"
   ]
  },
  {
   "cell_type": "code",
   "execution_count": null,
   "id": "b48ca2d7-81fa-4193-bbde-1a0209b65944",
   "metadata": {},
   "outputs": [],
   "source": []
  },
  {
   "cell_type": "code",
   "execution_count": null,
   "id": "b7807981-e3d5-4a35-8b97-5e07a7ca7e8e",
   "metadata": {},
   "outputs": [],
   "source": []
  }
 ],
 "metadata": {
  "kernelspec": {
   "display_name": "Python 3 (ipykernel)",
   "language": "python",
   "name": "python3"
  },
  "language_info": {
   "codemirror_mode": {
    "name": "ipython",
    "version": 3
   },
   "file_extension": ".py",
   "mimetype": "text/x-python",
   "name": "python",
   "nbconvert_exporter": "python",
   "pygments_lexer": "ipython3",
   "version": "3.9.6"
  }
 },
 "nbformat": 4,
 "nbformat_minor": 5
}
