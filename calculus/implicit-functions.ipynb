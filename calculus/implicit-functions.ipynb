{
 "cells": [
  {
   "cell_type": "markdown",
   "id": "ccc53870-ddba-41cc-a66d-5c3fd94f5fb2",
   "metadata": {},
   "source": [
    "https://www.math.ucla.edu/~archristian/teaching/32a-f16/implicit-function-theorem.pdf\n"
   ]
  },
  {
   "cell_type": "code",
   "execution_count": null,
   "id": "9c683a8c-cd8b-43c5-b876-cb1a67decbdb",
   "metadata": {},
   "outputs": [],
   "source": []
  }
 ],
 "metadata": {
  "kernelspec": {
   "display_name": "Python 3 (ipykernel)",
   "language": "python",
   "name": "python3"
  },
  "language_info": {
   "codemirror_mode": {
    "name": "ipython",
    "version": 3
   },
   "file_extension": ".py",
   "mimetype": "text/x-python",
   "name": "python",
   "nbconvert_exporter": "python",
   "pygments_lexer": "ipython3",
   "version": "3.9.6"
  }
 },
 "nbformat": 4,
 "nbformat_minor": 5
}
