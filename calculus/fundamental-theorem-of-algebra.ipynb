{
 "cells": [
  {
   "cell_type": "markdown",
   "id": "e0712da2-fa60-4da4-8350-e23deae98ec0",
   "metadata": {},
   "source": [
    "https://web.archive.org/web/20200514114052/https://sites.math.washington.edu/~morrow/336_14/fta.pdf"
   ]
  },
  {
   "cell_type": "markdown",
   "id": "06f59476-a193-4879-9e03-937f45175bd6",
   "metadata": {},
   "source": [
    "The Fundamental Theorem of Algebra by Benjamin Fine"
   ]
  },
  {
   "cell_type": "markdown",
   "id": "2d06696f-9fe4-461c-8f51-9675b2f8fcdf",
   "metadata": {},
   "source": [
    "https://web.archive.org/web/20200514114052/https://sites.math.washington.edu/~morrow/336_14/fta.pdf"
   ]
  },
  {
   "cell_type": "code",
   "execution_count": null,
   "id": "7c00988b-4f72-4c0b-89eb-67417c9a6456",
   "metadata": {},
   "outputs": [],
   "source": []
  }
 ],
 "metadata": {
  "kernelspec": {
   "display_name": "Python 3 (ipykernel)",
   "language": "python",
   "name": "python3"
  },
  "language_info": {
   "codemirror_mode": {
    "name": "ipython",
    "version": 3
   },
   "file_extension": ".py",
   "mimetype": "text/x-python",
   "name": "python",
   "nbconvert_exporter": "python",
   "pygments_lexer": "ipython3",
   "version": "3.9.6"
  }
 },
 "nbformat": 4,
 "nbformat_minor": 5
}
