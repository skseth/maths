{
 "cells": [
  {
   "cell_type": "markdown",
   "id": "4f0ca49e-75f2-401c-8af0-d8cd0d6ecd11",
   "metadata": {},
   "source": [
    "https://www.math.ucla.edu/~allen/131aSSC19_lecture_notes.pdf"
   ]
  },
  {
   "cell_type": "markdown",
   "id": "511a5e10-2495-4343-81a8-8860bb91fa1f",
   "metadata": {},
   "source": [
    "Initially define power function, with a real number b > 0:\n",
    "\n",
    "$$\n",
    "\\begin{align*}\n",
    "p_0(k) &= b \\cdot b \\cdot b & \\text{ ... n times, if k > 0} \\\\\n",
    "&= 1 & \\text{ if k = 0} \\\\\n",
    "&= b^{-1} \\cdot b^{-1} \\cdot b^{-1} & \\text{ ... n times, if k < 0}\n",
    "\\end{align*}\n",
    "$$"
   ]
  },
  {
   "cell_type": "markdown",
   "id": "08dacd23-ce02-4256-8a9b-778a3ee801dd",
   "metadata": {},
   "source": [
    "In other words, $p_0(k) = b^{k}$, with domain Z.\n"
   ]
  },
  {
   "cell_type": "markdown",
   "id": "cc2a39ef-1d5d-4440-b010-385d06148643",
   "metadata": {},
   "source": [
    "Properties of $b^k$ :\n",
    "\n",
    "(Exponent Rule) : $b^{k+l} = b^k \\cdot b^l$  \n",
    "(Monotonicity) : Given k < l,  \n",
    "- if b > 1, $b^k < b^l$,  \n",
    "- if b = 1, $b^k = b^l = 1$,  \n",
    "- if b < 1 $b^k > b^l$"
   ]
  },
  {
   "cell_type": "markdown",
   "id": "2f90bc59-34c4-4036-addc-40ad69808ed5",
   "metadata": {},
   "source": [
    "### Can we extend $b^k:Z \\to R$ to a unique function $b^x: R \\to R$? while keeping the exponent rule and monotonicity for real exponents?"
   ]
  },
  {
   "cell_type": "markdown",
   "id": "c09f35c1-da95-46f6-8c89-8b388e41a75b",
   "metadata": {},
   "source": [
    "### Define nth root $a^{1/n}$ for real a"
   ]
  },
  {
   "cell_type": "markdown",
   "id": "591b5c60-83fb-4be9-a977-1bca99331b55",
   "metadata": {},
   "source": [
    "#### Step 1: Given reals a,b,y > 0, $a < y^n < b$, there exist h,k > 0, such that, $a < (y-k)^n < y^n < (y+h)^n < b$\n",
    "\n",
    "We choose h such that 0 < h < 1 and \n",
    "$$h < \\frac{b-y^n}{n(y+1)^{n-1}}$$ \n",
    "\n",
    "We choose k such that :\n",
    "$$k = \\frac{y^n - a}{ny^{n-1}} > 0$$ \n",
    "\n",
    "Using the Difference of Powers Inequality, and the relationship above:\n",
    "\n",
    "$$(y+h)^{n} - y^n < hn(y+h)^{n-1} < hn(y+1)^{n-1} < b - y^n \\implies y^n < (y + h)^n  < b$$\n",
    "\n",
    "Similarly, for k, note that k < y i.e. (y - k) > 0. \n",
    "\n",
    "$$y^n - (y - k)^n < kny^{n-1} < y^n - a \\implies a < (y-k)^n < y^n$$\n",
    "\n"
   ]
  },
  {
   "cell_type": "markdown",
   "id": "83895757-60f0-4f2d-93f8-4bdfd3f7bef9",
   "metadata": {},
   "source": [
    "#### Step 2: Every positive real has a unique nth root\n",
    "Fix b > 0  \n",
    "Define $E := {t \\in R: t^n < b}$.\n",
    "\n",
    "**E is non-empty** : $0 \\in E$  \n",
    "**E has a positive element**: set $t = b/(b+1)$, then $0 < t < min(1,b) => 0 \\le t^n < t < b \\implies t \\in E$\n",
    "**E is bounded above**: b+1 is an upper bound\n",
    "\n",
    "**We prove $y = sup E$ exists and is positive**:  \n",
    "Since E is non-empty and bounded above y = sup E exists by the Completeness Axiom, and y > 0 since E has a positive element. \n",
    "\n",
    "$y^n = b$: if $y^n < b$, then by step 1, there exists an h such that $(y+h)^n < b$, a contradiction as y is the supremum of E. If $y^n > b$, then there exists a k such that $b < (y-k)^n$ => (y - k) is an upper bound of E. Hence, $y^n = b$\n",
    "\n",
    "**y is unique - $z^n = b \\implies z = y$**: If not, then if $z < y \\implies z^n < y^n = b$, and $z > y \\implies z^n > y^n = b$, a contradiction in both cases.\n",
    "\n",
    "Thus $y = b^{1/n}$ exists and is unique for any positive real b."
   ]
  },
  {
   "cell_type": "markdown",
   "id": "a1fd85a0-6be9-47c5-b1be-2dae41d6d2b9",
   "metadata": {},
   "source": [
    "#### Step 3: $(ab)^{1/n} = a^{1/n}b^{1/n}$\n",
    "\n",
    "Starting from the right side, $(a^{1/n}b^{1/n})^n = ab$ (using the rules for integer powers). Thus $a^{1/n}b^{1/n}$ is *the* nth root of ab (as we have established this is unique in step 2."
   ]
  },
  {
   "cell_type": "markdown",
   "id": "042ee0f3-caae-4886-9959-e18c910c1e93",
   "metadata": {},
   "source": [
    "### Rational Power Theorem"
   ]
  },
  {
   "cell_type": "markdown",
   "id": "b86a89cf-a3e8-4060-a416-bf13b1714480",
   "metadata": {},
   "source": [
    "#### Step 1: Define, for a fixed b > 1, $p_1(m,n) = (b^{m})^{1/n}: ZxR \\to R$ as an extension of $p_0(k): Z \\to R$ such that if $m/n = k/l$, then $p_1(m,n) = p_1(k,l)$\n",
    "\n",
    "First we prove a lemma :\n",
    "\n",
    "$(a^m)^{1/l} = (a^{1/l})^{m}$. To prove this note that $((a^{1/l})^{m})^l = ((a^{1/l}) \\cdot (a^{1/l}) .. \\text{m times})^l = a^m$\n",
    "\n",
    "Hence, $p_1(k,l) = (b^k)^{1/l} = (b^{1/l})^k$  \n",
    "Thus, $p_1(k,l)^n = (b^{1/l})^kn = (b^{1/l})^ml = ((b^{1/l})^m)^l = ((b^m)^{1/l})^l = b^m = p_1(m,n)^n$ \n"
   ]
  },
  {
   "cell_type": "markdown",
   "id": "552adfcf-7419-4cac-b5cd-aec944944a3b",
   "metadata": {},
   "source": [
    "#### Step 2: Define a unique function $p_2(q) = p_1(m,n)$ where q = m/n, which extends $p_0$ and follows the exponent rule and monotonicity\n",
    "\n",
    "We have to prove  (assuming b > 1)\n",
    "(a) p_2(k) = p_0(k) for all k in Z  \n",
    "(b) p_2(q + r) = p_2(q)p_2(r), and  \n",
    "(c) if q < r, p_2(q) < p_2(r)\n",
    "\n",
    "(d) We have to also prove uniqueness: if there is a p_b(q), supporting (a) and (b) above, we have to show p_b(q) = p_2(q) for all q in Q.\n",
    "\n",
    "(e) Finally, prove for b = 1, 0 < b < 1\n",
    "\n",
    "We have already shown that if $q = m/n = k/l$, then $p_1(m,n) = p_1(k,l)$. Hence, p_2(q) is a valid function from $Q \\to R$.\n",
    "\n",
    "(a) If k in Z, then $p_2(k) = p_1(k,1) = b^k = p_0(k)$\n",
    "\n",
    "We prove two lemmas for (b)  \n",
    "$b^{1/nl} = (b^{1/n})^{1/l}$. Proof: Raise both sides to nl. By uniqueness of root, the two sides are equal.\n",
    "\n",
    "$(b^{ml})^{1/l} = b^m$. Proof: Raise both sides l. By uniqueness of root, the two sides are equal.\n",
    "\n",
    "(b) Let $q=m/n, r=k/l$, then \n",
    "\n",
    "$$\n",
    "\\begin{align*} \n",
    "p_2(q+r) &= (b^{ml + nk})^{1/nl} \\\\\n",
    "         &= (b^{ml})^{1/nl}(b^{nk})^{1/nl} \\\\\n",
    "         &= ((b^{ml})^{1/l})^{1/n}((b^{nk})^{1/n})^{1/l} \\\\\n",
    "         &= (b^m)^{1/n}(b^k)^{1/l} \\\\\n",
    "         &= p_2(q)p_2(r)\n",
    "\\end{align*}\n",
    "$$\n",
    "\n",
    "(c) Let q = m/n, r = k/l, q < r\n",
    "\n",
    "$p_2(q)^{nl} = ((b^m)^{1/n})^{nl} = (b^m)^l = b^{ml}$ and $p_2(r)^{nl} = ((b^k)^{1/l})^{nl} = b^{kn}$\n",
    "\n",
    "But, $ml < kn \\implies (p_2(q))^{nl} < (p_2(r))^{nl} \\implies p_2(q) < p_2(q) \\text{ since b > 1, using the integer property}$\n",
    "\n",
    "(d) For uniqueness, assume $p_b$ exists and supports (a) and (b). Let q = m/n\n",
    "\n",
    "Note that : (a) p_b(m) = p_0(m) and $p_b(m/n+m/n) = p_b(m/n)^2$.\n",
    "\n",
    "Expanding further, we get $p_b(nq) = (p_b(q))^n = p_0(m) = b^m$\n",
    "\n",
    "Taking roots, we get: $p_b(q) = (b^m)^{1/n} = p_2(q)$\n",
    "\n",
    "Thus, p_2 is unique, and we can define $b^x: Q \\to R$ as the unique function $p_2$ defined above.\n",
    "\n",
    "(e) The only place where value of b matters is (c).   \n",
    "If b = 1, then p_2(q)^{nl} = $p_2(r)^{nl} = 1 => p_2(q) = p_2(r)$, \n",
    "If b < 1, then $ml < kn \\implies b^{ml} > b^{kn} => (p_2(q))^{nl} > (p_2(r))^{nl} \\implies p_2(q) > p_2(r)$\n",
    "\n",
    "\n",
    "\n",
    "\n"
   ]
  },
  {
   "cell_type": "markdown",
   "id": "d71afb34-1333-43be-b8bc-485322cb5e3e",
   "metadata": {},
   "source": [
    "### Real Power Theorem"
   ]
  },
  {
   "cell_type": "markdown",
   "id": "f65f606c-a60e-4e47-858e-10b903aadf91",
   "metadata": {},
   "source": [
    "We now prove the existence of a unique power function $b^x$ for all reals which reduces to $b^q$ for rationals, and satisfies the Exponent & Monotonicity properties."
   ]
  },
  {
   "cell_type": "markdown",
   "id": "b8617b21-cc13-4854-90b4-87104e98f20b",
   "metadata": {},
   "source": [
    "Assume b > 1. We define, for each x in R, a set $B_x = \\{b^q: b^q = p_2(q), q \\in Q, q \\le x\\}$."
   ]
  },
  {
   "cell_type": "markdown",
   "id": "9d138b90-5d68-4972-8e2e-111edbf779f7",
   "metadata": {},
   "source": [
    "#### Step 1: B_x is non-empty and bounded above. Hence sup $B_x$ exists.\n",
    "\n",
    "E is non-empty : 0 < b, $0^q = 0 < b$\n",
    "\n",
    "Let n be a natural number, such that x < n (such a number always exists, by the archimedean principle)\n",
    "\n",
    "Then, $b^q < b^n$ whenever q <= x < n. Thus $b^n$ is an upper bound of B_x.\n",
    "\n",
    "Hence sup $B_x$ exists."
   ]
  },
  {
   "cell_type": "markdown",
   "id": "11d6d59f-f684-485d-88c2-6546cabaab84",
   "metadata": {},
   "source": [
    "#### Step 2: Define p_3(x) = sup B_x, for each x in R. \n",
    "\n",
    "a) For r in Q, $p_3(x) = b^r$  \n",
    "b) $p_3(x + y) = p_3(x)p_3(y)$, for any x,y in R  \n",
    "c) For every x,y in R, if x < y, then $p_3(x) < p_3(y)$  \n",
    "\n",
    "a) for r in Q, $p_3(r) = p_2(r)$, since $b^r$ is defined, and by definition above, since b > 1, $b^r > b^q$ whenever q < r. \n",
    "\n",
    "Thus, $sup B_x = b^r$\n",
    "\n",
    "b) Let $\\alpha = sup B_x$ and $\\beta = sup B_y$\n",
    "\n",
    "We define a set $C = \\{ b^rb^s = b^{r+s}: r,s \\in Q, r \\le x, s \\le y \\}$\n",
    "\n",
    "$b^rb^s \\le sup_{s < y} b^rb^s = b^r\\beta \\le sup_{r < x}b^r\\beta = \\alpha\\beta$. So $\\alpha\\beta$ is an upper bound of C.\n",
    "\n",
    "On the other hand, let u be any other upper bound of C. Then, for all $r \\le x, s \\le y$\n",
    "\n",
    "$$\n",
    "\\begin{align*} \n",
    "b^rb^s &\\le u \\\\\n",
    "b^s &\\le u.(b^r)^{-1} \\\\\n",
    "sup b^s &\\le u.(b^r)^{-1} \\\\\n",
    "b^r &\\le (sup b^s)^{-1}.u \\\\\n",
    "sup b^r &\\le (sup b^s)^{-1}.u \\\\\n",
    "sup b^s supb^r &\\le u \\\\\n",
    "\\alpha \\beta &\\le u\n",
    "\\end{align*}\n",
    "$$\n",
    "\n",
    "Thus, $\\alpha\\beta = \\sup{C}$.\n",
    "\n",
    "Now, let $\\gamma = p_3(x + y) = sup \\{ b^q: q \\in Q, q \\le x + y \\}$\n",
    "\n",
    "If $\\gamma > \\alpha\\beta \\implies \\exists t \\le x + y, b^t > \\alpha\\beta$\n",
    "\n",
    "If $t < x + y$, we can show that there exist r < x, s < y, such that r + s > t, contradicting $\\gamma > \\alpha\\beta$\n",
    "\n",
    "If $t = x + y$, then $\\gamma = b^t$, since t is rational. \n",
    "\n",
    "TODO - prove why this is not possible, or gamma < \\alpha\\beta.\n",
    "\n",
    "\n",
    "\n",
    "\n",
    "c) If x < y, then in the open interval (x,y), we can choose r,s, r < s (since Q is dense in R)\n",
    "By definition of $B_x$, for any q < x < r, b^r > b^q, hence $b^r$ is an upper bound of $B_x$, i.e. $sup B_x < b^r$\n",
    "Similarly, since s < y, $b^s \\in B_y\\ \\implies sup B_x < b^r < b^s \\le sup B_y$\n",
    "\n",
    "Thus p_3 is the required function for b > 1.\n",
    "\n"
   ]
  },
  {
   "cell_type": "markdown",
   "id": "2ed92099-f3ca-45ce-9932-16d35de5ef5e",
   "metadata": {},
   "source": [
    "#### Step 3: Prove for b = 1, and b < 1.\n",
    "\n",
    "b = 1 is fairly trivial. We simple define 1^x = 1 for all x in R. It is easy to see that the corresponding exponent and monotonicity properties are met.\n",
    "\n",
    "For 0 < b < 1, we choose $B_x = \\{b^q: q \\in Q, q \\ge x\\}$. We define p_4 = sup B_x. \n",
    "\n",
    "It's easy to see B_x is non-empty (choose any n > x). It is bounded above - choose s in Q such that 0 < s < x, then b^s is an upper bound.\n",
    "\n",
    "p_4(q) = b^q, if q is in Q \n",
    "And the proof of the exponent property is the same as in step 2, with some change \n"
   ]
  },
  {
   "cell_type": "markdown",
   "id": "2fa2dd85-b264-4e83-89ce-12a64f188d99",
   "metadata": {},
   "source": [
    "https://proofwiki.org/wiki/Power_Function_to_Rational_Power_permits_Unique_Continuous_Extension"
   ]
  },
  {
   "cell_type": "code",
   "execution_count": null,
   "id": "616efa30-0943-456e-b2a6-efc6d216eee0",
   "metadata": {},
   "outputs": [],
   "source": []
  }
 ],
 "metadata": {
  "kernelspec": {
   "display_name": "Python 3 (ipykernel)",
   "language": "python",
   "name": "python3"
  },
  "language_info": {
   "codemirror_mode": {
    "name": "ipython",
    "version": 3
   },
   "file_extension": ".py",
   "mimetype": "text/x-python",
   "name": "python",
   "nbconvert_exporter": "python",
   "pygments_lexer": "ipython3",
   "version": "3.9.6"
  }
 },
 "nbformat": 4,
 "nbformat_minor": 5
}
