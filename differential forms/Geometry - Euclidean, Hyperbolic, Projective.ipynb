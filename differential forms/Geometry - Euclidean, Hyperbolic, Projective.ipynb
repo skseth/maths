{
 "cells": [
  {
   "cell_type": "markdown",
   "metadata": {},
   "source": [
    "# Geometry\n",
    "\n",
    "A Course in Modern Geometries - Judith Greenberg\n",
    "Eucliden and non-Euclidean Geometris - George Martin\n",
    "\n",
    "Euclidean Geometry\n",
    "Projective Geometry\n",
    "Hyperbolic Geometry\n",
    "\n",
    "Groups \n",
    "Isometries of the Euclidean Plane\n",
    "Symmetries of a n-polygon\n",
    "\n",
    "Symmetries of 3D Space"
   ]
  },
  {
   "cell_type": "code",
   "execution_count": null,
   "metadata": {},
   "outputs": [],
   "source": []
  }
 ],
 "metadata": {
  "kernelspec": {
   "display_name": "Python 3 (ipykernel)",
   "language": "python",
   "name": "python3"
  },
  "language_info": {
   "codemirror_mode": {
    "name": "ipython",
    "version": 3
   },
   "file_extension": ".py",
   "mimetype": "text/x-python",
   "name": "python",
   "nbconvert_exporter": "python",
   "pygments_lexer": "ipython3",
   "version": "3.9.6"
  }
 },
 "nbformat": 4,
 "nbformat_minor": 4
}
