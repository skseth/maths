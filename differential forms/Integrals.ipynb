{
 "cells": [
  {
   "cell_type": "markdown",
   "id": "5519bb54-51d9-4b15-907b-6cd28f37edfc",
   "metadata": {},
   "source": [
    "A non-constant 1-form in x,y,z space is described by the equation \n",
    "\n",
    "A(x,y,z)dx + B(x,y,z)dy + C(x,y,z)dz\n",
    "\n",
    "A non-constant flow has the 2-form in xyz space of:\n",
    "\n",
    "A(x,y,z)dydz + B(x,y,z)dzdx + C(x,y,z)dxdy\n",
    "\n",
    "A 3-form in xyz space is:\n",
    "\n",
    "A(x,y,z)dxdydz"
   ]
  },
  {
   "cell_type": "markdown",
   "id": "fe870329-80c0-4c2a-916f-c7a18e855a61",
   "metadata": {},
   "source": [
    "### Problem 2.1 - 1 : Central Force Field\n",
    "\n",
    "First: Given a force of type Adx + Bdy + Cdz, let $X = \\sqrt{A^2 + B^2 + C^2}$. The distance from (0,0,0) to (A/X, B/X, C/X) is unit distance. And the work done in moving this distance is $X = \\sqrt{A^2 + B^2 + C^2}$ = magnitude of the force.\n",
    "\n",
    "A central force field on a large body in the solar system is directed towards the sun and inversely proportional to square of distance from the sun. Let the sun be at (0,0,0) and the body at (x,y,z). Since the force is acting radially, a particle at (x,y,z) would be moved to (x+cx,y+cy,z+cz) i.e. in the radial direction. From the previous section we see that such a force would have the form cxdx + cydy + czdz. The magnitude of such a force would be $c\\sqrt{x^2+y^2 +z^2} = cr$. But we know that $cr = k/r^2$ i.e. $c = k/r^3$. Hence the form of the central force field is :\n",
    "\n",
    "$$\\frac{k}{r^3}xdx + \\frac{k}{r^3}ydy + \\frac{k}{r^3}zdz$$"
   ]
  },
  {
   "cell_type": "markdown",
   "id": "d318e16b-791e-4c06-8b29-3288dfc881cd",
   "metadata": {},
   "source": [
    "### Problem 2.1 - 2 : Planar Flow from a Source\n",
    "\n",
    "We have a source producting an incompressible fluid which is flowing out radially with magnitude inversely proportional to the radius.\n",
    "\n",
    "A point at (x,y) would move to (x+cxt,y+cyt) in time t, since the flow is radial. From the last section in constant forms, we have seen that if an item in a flow moves from (x,y) to (x + At, y + Bt), the flow has the form Ady - Bdx. So here the flow has the form cxdy - cydx. The magnitude is $cr = k/r$. So we get the form as :\n",
    "\n",
    "$$\\frac{k}{r^2}xdy - \\frac{k}{r^2}ydx$$"
   ]
  },
  {
   "cell_type": "markdown",
   "id": "f6b7d0f8-d2a7-496d-afe3-3cb9e9a76d92",
   "metadata": {},
   "source": [
    "### Problem 2.1 - 2 : Spatial Flow from a Source\n",
    "\n",
    "We have a source producting an incompressible fluid which is flowing out radially with magnitude dependent only on r.\n",
    "\n",
    "An item at (x,y,z) would move to (x + cxt, y+cyt,z + czt) - as see under constant forms, this describes a flow of type :\n",
    "\n",
    "$$cxdydz + cydzdx + czdxdy$$\n",
    "\n",
    "The flow must be inversely proportional to the square of the radius: A sphere has area proportional to $r^2$. If we take a patch (x0,y0,z0), (x1,y1,z1), (x2,y2,z2), (x3,y3,z3) on one sphere, the particles will be at : (x0+cx0, y0+cy0, z0+cz0)  and so on. But it is easy to see that if the initial points are on the same sphere, so are the final points on another, large sphere. So flow out of first sphere = flow out of second sphere => flow is inversely proportional to square of radius. As in 2.1-1, we conclude the form of the force is :\n",
    "\n",
    "$$\\frac{k}{r^3}xdx + \\frac{k}{r^3}ydy + \\frac{k}{r^3}zdz$$\n"
   ]
  },
  {
   "cell_type": "markdown",
   "id": "6c056279-1ae2-4c73-bceb-6c4b37056784",
   "metadata": {},
   "source": [
    "### Problem 2.1-3 : Linear flow\n",
    "\n",
    "A linear flow is described by a 0-form assigning numbers to oriented points. Find the 0-form describing flow from a source at 0 on the line. How would a zero form be described in general?\n",
    "\n",
    "Assuming fluid is incompressible flow is the same in all directions. All we can distinguish is the direction of the flow. -ve points have flow from right to left, +ve points have flow from left to right. The 0-form is :\n",
    "\n",
    "$$sgn x = \\frac{x}{\\sqrt{x^2}}$$"
   ]
  },
  {
   "cell_type": "code",
   "execution_count": null,
   "id": "8988668f-99e5-4abb-b156-df42c88e69d5",
   "metadata": {},
   "outputs": [],
   "source": []
  }
 ],
 "metadata": {
  "kernelspec": {
   "display_name": "Python 3 (ipykernel)",
   "language": "python",
   "name": "python3"
  },
  "language_info": {
   "codemirror_mode": {
    "name": "ipython",
    "version": 3
   },
   "file_extension": ".py",
   "mimetype": "text/x-python",
   "name": "python",
   "nbconvert_exporter": "python",
   "pygments_lexer": "ipython3",
   "version": "3.9.6"
  }
 },
 "nbformat": 4,
 "nbformat_minor": 5
}
