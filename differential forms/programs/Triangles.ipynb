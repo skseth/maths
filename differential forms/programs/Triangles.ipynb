{
 "cells": [
  {
   "cell_type": "code",
   "execution_count": 1,
   "id": "50126feb-66e4-49d4-a673-b320780946cc",
   "metadata": {},
   "outputs": [],
   "source": [
    "%matplotlib widget\n"
   ]
  },
  {
   "cell_type": "code",
   "execution_count": 2,
   "id": "9a3ad688-44e0-47fe-a2f8-c9cb2ec40865",
   "metadata": {},
   "outputs": [
    {
     "data": {
      "application/vnd.jupyter.widget-view+json": {
       "model_id": "4e90c3fd3dbc4db0a0ddff72a096588c",
       "version_major": 2,
       "version_minor": 0
      },
      "text/plain": [
       "Canvas(toolbar=Toolbar(toolitems=[('Home', 'Reset original view', 'home', 'home'), ('Back', 'Back to previous …"
      ]
     },
     "metadata": {},
     "output_type": "display_data"
    }
   ],
   "source": [
    "from mpl_toolkits.mplot3d import Axes3D\n",
    "from mpl_toolkits.mplot3d.art3d import Poly3DCollection\n",
    "import matplotlib.pyplot as plt\n",
    "fig = plt.figure()\n",
    "ax = Axes3D(fig, auto_add_to_figure=False)\n",
    "ax.set_xlim(0, 4)\n",
    "ax.set_ylim(0, 5)\n",
    "ax.set_zlim(-1, 2)\n",
    "fig.add_axes(ax)\n",
    "x = [0,1,1]\n",
    "y = [0,2,4]\n",
    "z = [0,3,0]\n",
    "verts = [list(zip(x,y,z))]\n",
    "\n",
    "collection = Poly3DCollection(verts, linewidths=1, alpha=0.5)\n",
    "collection.set_edgecolor('k')\n",
    "ax.add_collection3d(collection)\n",
    "\n",
    "plt.show()"
   ]
  },
  {
   "cell_type": "code",
   "execution_count": 13,
   "id": "48b3d66a-7e09-4adc-a7c2-83a9bcfb676c",
   "metadata": {},
   "outputs": [
    {
     "name": "stdout",
     "output_type": "stream",
     "text": [
      "2 1 4 3 4 7 2 2 9\n",
      "3.8333333333333335\n",
      "-4 1 3 -3 2 3 1 3 0\n",
      "1.0\n",
      "5 8 2 1 4 2 0 3 2\n",
      "0.0\n"
     ]
    }
   ],
   "source": [
    "def heron(a,b,c):\n",
    "    s = (a + b + c) / 2   \n",
    "    area = (s*(s-a) * (s-b)*(s-c)) ** 0.5        \n",
    "    return area\n",
    "\n",
    "def distance3d(a,b):\n",
    "    d2=(a[0]-b[0])**2+(a[1]-b[1])**2 + (a[2]-b[2])**2\n",
    "    return d2 ** 0.5  \n",
    "\n",
    "def areatriangle3d(a,b,c):  \n",
    "    da=distance3d(a,b)  \n",
    "    db=distance3d(b,c)  \n",
    "    dc=distance3d(c,a)  \n",
    "    return heron(da,db,dc)  \n",
    "    \n",
    "def triangleArea2D(a,b,c):\n",
    "  return (0.5)*(a[0]*(b[1]-c[1])+b[0]*(c[1]-a[1])+c[0]*(a[1]-b[1]))\n",
    " \n",
    "def triangleProjectionArea(verts, ax1, ax2):\n",
    "    a = (verts[0][ax1], verts[0][ax2])\n",
    "    b = (verts[1][ax1], verts[1][ax2])\n",
    "    c = (verts[2][ax1], verts[2][ax2])\n",
    "    return triangleArea2D(a,b,c)\n",
    "\n",
    "def triangleConst2Form(form, verts):\n",
    "    xarea = triangleProjectionArea(verts,1,2)\n",
    "    yarea = triangleProjectionArea(verts,2,0)\n",
    "    zarea = triangleProjectionArea(verts,0,1)\n",
    "    return form[0]*xarea + form[1]*yarea + form[2]*zarea\n",
    "\n",
    "def areaPolygon3d(verts):\n",
    "    l = len(verts)\n",
    "    area = 0\n",
    "    for j in range(l-1):\n",
    "        area += verts[j][0]*verts[j+1][1] - verts[j+1][0]*verts[j][1]\n",
    "    return area / 2\n",
    "\n",
    "def coplanar(verts):\n",
    "    l = len(verts)\n",
    "    a1 = verts[1][0] - verts[0][0] ;\n",
    "    b1 = verts[1][1] - verts[0][1] ;\n",
    "    c1 = verts[1][2] - verts[0][2] ;\n",
    "    a2 = verts[2][0] - verts[0][0] ;\n",
    "    b2 = verts[2][1] - verts[0][1] ;\n",
    "    c2 = verts[2][2] - verts[0][2] ;\n",
    "    a3 = verts[3][0] - verts[0][0] ;\n",
    "    b3 = verts[3][1] - verts[0][1] ;\n",
    "    c3 = verts[3][2] - verts[0][2] ;\n",
    "    print(a1,b1,c1,a2,b2,c2,a3,b3,c3)\n",
    "    a = b1 * c2 - b2 * c1 ;\n",
    "    b = a2 * c1 - a1 * c2 ;\n",
    "    c = a1 * b2 - b1 * a2 ;\n",
    "    return (a*a3 + b*b3 + c*c3)/6\n",
    "\n",
    "# print(areatriangle3d(verts[0][0], verts[0][1], verts[0][2]))\n",
    "# print(triangleProjectionArea(verts[0],1,2))\n",
    "# print(triangleProjectionArea(verts[0],2,0))\n",
    "# print(triangleProjectionArea(verts[0],0,1))\n",
    "# print(triangleConst2Form([0,-3,1],verts[0]))\n",
    "\n",
    "print(coplanar([(0,0,0),(2,1,4),(3,4,7),(2,2,9)]))\n",
    "print(coplanar([(3,-1,-2),(-1,0,1),(0,1,1),(4,2,-2)]))\n",
    "print(coplanar([(2,1,4),(7,9,6),(3,5,6),(2,4,6)]))\n",
    "\n"
   ]
  },
  {
   "cell_type": "code",
   "execution_count": 4,
   "id": "232f5948-0f94-413b-a90a-9ae4f4c26905",
   "metadata": {},
   "outputs": [
    {
     "name": "stdout",
     "output_type": "stream",
     "text": [
      "-9.0\n"
     ]
    }
   ],
   "source": [
    "x2 = [1,3,4]\n",
    "y2 = [1,5,2]\n",
    "z2 = [2,-1,1]\n",
    "verts2 = [list(zip(x2,y2,z2))]\n",
    "\n",
    "print(triangleConst2Form([1,1,1],verts2[0]))\n"
   ]
  },
  {
   "cell_type": "code",
   "execution_count": 5,
   "id": "a18410cd-ed44-45ef-9abb-d287e5195586",
   "metadata": {},
   "outputs": [
    {
     "name": "stdout",
     "output_type": "stream",
     "text": [
      "2*r + 8*s + t\n",
      "3*r + 11*s + t\n",
      "2*r + 4*s + 2*t\n"
     ]
    }
   ],
   "source": [
    "import sympy as sp\n",
    "\n",
    "r,s,t = sp.symbols(\"r,s,t\")\n",
    "\n",
    "u = r + 3*s\n",
    "v = 2*s + t\n",
    "w = r - s + t\n",
    "\n",
    "\n",
    "x = 2*u + v\n",
    "y = 3*u + v\n",
    "z = u + v + w\n",
    "\n",
    "xs = x.subs([(u, u), (v, v), (w,w)])\n",
    "ys = y.subs([(u, u), (v, v), (w,w)])\n",
    "zs = z.subs([(u, u), (v, v), (w,w)])\n",
    "print(xs)\n",
    "print(ys)\n",
    "print(zs)"
   ]
  },
  {
   "cell_type": "code",
   "execution_count": 32,
   "id": "ad93437a-4159-4a40-8ed8-7d8b3eaa1861",
   "metadata": {},
   "outputs": [
    {
     "name": "stdout",
     "output_type": "stream",
     "text": [
      "0.4444444444444444\n",
      "0.483265306122449\n",
      "0.4971271546525046\n",
      "0.49927363629165716\n",
      "0.4998178845720848\n",
      "0.4999190163331116\n",
      "0.4999927086158623\n",
      "0.4999999270833893\n",
      "0.49999999927086036\n",
      "0.4999999999910704\n"
     ]
    }
   ],
   "source": [
    "def flow(x,y,z,lenx,leny,lenz):\n",
    "    r = (x**2 + y**2 + z**2)**(0.5)\n",
    "    r3 = r**3\n",
    "    sum = x*lenx + y*leny + z*lenz\n",
    "    return sum/r3\n",
    "    \n",
    "\n",
    "def lineIntegration(v, iters):\n",
    "    xincr = (v[1][0]-v[0][0])/iters\n",
    "    yincr = (v[1][1]-v[0][1])/iters\n",
    "    zincr = (v[1][1]-v[0][2])/iters\n",
    "    \n",
    "    xnext = v[0][0] + (xincr / 2)\n",
    "    ynext = v[0][1] + (yincr / 2)\n",
    "    znext = v[0][2] + (zincr / 2)\n",
    "    \n",
    "    total = 0\n",
    "    \n",
    "    for i in range(iters):\n",
    "        total += flow(xnext,ynext,znext,xincr,yincr,zincr)\n",
    "        xnext = xnext + xincr\n",
    "        ynext = ynext + yincr\n",
    "        znext = znext + zincr\n",
    "    return total\n",
    "    \n",
    "    \n",
    "print(lineIntegration([(1,0,0),(2,0,0)],1))\n",
    "print(lineIntegration([(1,0,0),(2,0,0)],2))\n",
    "print(lineIntegration([(1,0,0),(2,0,0)],5))\n",
    "print(lineIntegration([(1,0,0),(2,0,0)],10))\n",
    "print(lineIntegration([(1,0,0),(2,0,0)],20))\n",
    "print(lineIntegration([(1,0,0),(2,0,0)],30))\n",
    "print(lineIntegration([(1,0,0),(2,0,0)],100))\n",
    "print(lineIntegration([(1,0,0),(2,0,0)],1000))\n",
    "print(lineIntegration([(1,0,0),(2,0,0)],10000))\n",
    "print(lineIntegration([(1,0,0),(2,0,0)],100000))\n",
    "    "
   ]
  },
  {
   "cell_type": "code",
   "execution_count": null,
   "id": "a0df13cc-e37f-4a6b-ba76-859b66444a44",
   "metadata": {},
   "outputs": [],
   "source": []
  }
 ],
 "metadata": {
  "kernelspec": {
   "display_name": "Python 3 (ipykernel)",
   "language": "python",
   "name": "python3"
  },
  "language_info": {
   "codemirror_mode": {
    "name": "ipython",
    "version": 3
   },
   "file_extension": ".py",
   "mimetype": "text/x-python",
   "name": "python",
   "nbconvert_exporter": "python",
   "pygments_lexer": "ipython3",
   "version": "3.9.6"
  }
 },
 "nbformat": 4,
 "nbformat_minor": 5
}
