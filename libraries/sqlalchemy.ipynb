{
 "cells": [
  {
   "cell_type": "code",
   "execution_count": 1,
   "id": "ec32345a-33d2-41d1-b73f-6bb7dd769f58",
   "metadata": {},
   "outputs": [],
   "source": [
    "import sqlalchemy\n",
    "\n",
    "# Connect to the database...\n",
    "from sqlalchemy import create_engine\n",
    "engine = create_engine('sqlite:///:memory:', echo=False)"
   ]
  },
  {
   "cell_type": "code",
   "execution_count": 2,
   "id": "50ed526b-93e0-4200-be94-1fc02ea3a88f",
   "metadata": {},
   "outputs": [],
   "source": [
    "from sqlalchemy.ext.declarative import declarative_base\n",
    "Base = declarative_base()"
   ]
  },
  {
   "cell_type": "code",
   "execution_count": 3,
   "id": "8d5dab1e-b0a7-4b73-b705-fc9e7a355753",
   "metadata": {},
   "outputs": [],
   "source": [
    "from sqlalchemy import Column, Integer, String\n",
    "class User(Base):\n",
    "    __tablename__ = 'users'\n",
    "    \n",
    "    id = Column(Integer, primary_key=True)\n",
    "    name = Column(String)\n",
    "    fullname = Column(String)\n",
    "    password = Column(String)\n",
    "    \n",
    "    # Defines to_string() representation \n",
    "    def __repr__(self):\n",
    "        return \"<User(name='%s', fullname='%s', password='%s')>\" % (\n",
    "                self.name, self.fullname, self.password)"
   ]
  },
  {
   "cell_type": "code",
   "execution_count": 4,
   "id": "88f85122-38d9-45c3-8dd6-4e6dea9b8a45",
   "metadata": {},
   "outputs": [],
   "source": [
    "Base.metadata.create_all(engine)"
   ]
  },
  {
   "cell_type": "code",
   "execution_count": 5,
   "id": "53dfb4cd-d09d-40fa-90ed-15abf1851678",
   "metadata": {},
   "outputs": [],
   "source": [
    "from sqlalchemy.orm import sessionmaker\n",
    "Session = sessionmaker(bind=engine)\n",
    "session = Session()"
   ]
  },
  {
   "cell_type": "code",
   "execution_count": 6,
   "id": "07e067d8-b2d8-4ff3-9a52-85e2e1558a49",
   "metadata": {},
   "outputs": [
    {
     "data": {
      "text/plain": [
       "<User(name='ed', fullname='Ed Jones', password='edspassword')>"
      ]
     },
     "execution_count": 6,
     "metadata": {},
     "output_type": "execute_result"
    }
   ],
   "source": [
    "ed_user = User(name='ed', fullname='Ed Jones', password='edspassword')\n",
    "session.add(ed_user)\n",
    "ed_user"
   ]
  },
  {
   "cell_type": "code",
   "execution_count": 7,
   "id": "b196bd63-ffe4-470a-9278-43039d9cd66e",
   "metadata": {},
   "outputs": [],
   "source": [
    "our_user = session.query(User).filter_by(name='ed').first()"
   ]
  },
  {
   "cell_type": "code",
   "execution_count": 8,
   "id": "e259dd0c-755c-45a1-91bc-5c0730312829",
   "metadata": {},
   "outputs": [
    {
     "data": {
      "text/plain": [
       "True"
      ]
     },
     "execution_count": 8,
     "metadata": {},
     "output_type": "execute_result"
    }
   ],
   "source": [
    "ed_user is our_user"
   ]
  },
  {
   "cell_type": "code",
   "execution_count": 9,
   "id": "f694a209-4f09-4dab-b4d3-0051449b25f0",
   "metadata": {},
   "outputs": [],
   "source": [
    "session.add_all([\n",
    "        User(name='wendy', fullname='Wendy Williams', password='foobar'),\n",
    "        User(name='mary', fullname='Mary Contrary', password='xxg527'),\n",
    "        User(name='fred', fullname='Fred Flinstone', password='blah')])\n",
    "\n",
    "ed_user.password = 'f8s7ccs'"
   ]
  },
  {
   "cell_type": "code",
   "execution_count": 10,
   "id": "5f16df3e-e430-4e50-b6dc-3a5165bdd35b",
   "metadata": {},
   "outputs": [],
   "source": [
    "session.commit()"
   ]
  },
  {
   "cell_type": "code",
   "execution_count": 11,
   "id": "945ba290-c99d-4dfd-b4f0-562ebe212daf",
   "metadata": {},
   "outputs": [
    {
     "data": {
      "text/plain": [
       "[<User(name='wendy', fullname='Wendy Williams', password='foobar')>]"
      ]
     },
     "execution_count": 11,
     "metadata": {},
     "output_type": "execute_result"
    }
   ],
   "source": [
    "session.query(User).filter(User.name.in_(['wendy', 'fakeuser'])).all()"
   ]
  },
  {
   "cell_type": "code",
   "execution_count": null,
   "id": "243662c1-aa10-4db0-89f4-d018895ad451",
   "metadata": {},
   "outputs": [],
   "source": []
  }
 ],
 "metadata": {
  "kernelspec": {
   "display_name": "Python 3 (ipykernel)",
   "language": "python",
   "name": "python3"
  },
  "language_info": {
   "codemirror_mode": {
    "name": "ipython",
    "version": 3
   },
   "file_extension": ".py",
   "mimetype": "text/x-python",
   "name": "python",
   "nbconvert_exporter": "python",
   "pygments_lexer": "ipython3",
   "version": "3.9.6"
  }
 },
 "nbformat": 4,
 "nbformat_minor": 5
}
