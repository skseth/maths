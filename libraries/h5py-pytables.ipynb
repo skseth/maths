{
 "cells": [
  {
   "cell_type": "markdown",
   "id": "fa0fecff-30b9-4606-a2a3-7e12be38846d",
   "metadata": {},
   "source": [
    "https://github.com/jackdbd/hdf5-pydata-munich"
   ]
  },
  {
   "cell_type": "code",
   "execution_count": null,
   "id": "94104266-79c3-47d2-b3e5-54a81b7e2c25",
   "metadata": {},
   "outputs": [],
   "source": []
  }
 ],
 "metadata": {
  "kernelspec": {
   "display_name": "Python 3 (ipykernel)",
   "language": "python",
   "name": "python3"
  },
  "language_info": {
   "codemirror_mode": {
    "name": "ipython",
    "version": 3
   },
   "file_extension": ".py",
   "mimetype": "text/x-python",
   "name": "python",
   "nbconvert_exporter": "python",
   "pygments_lexer": "ipython3",
   "version": "3.9.6"
  }
 },
 "nbformat": 4,
 "nbformat_minor": 5
}
