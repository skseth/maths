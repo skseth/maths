{
 "cells": [
  {
   "cell_type": "code",
   "execution_count": 1,
   "id": "e6df0d1d-3951-480c-807a-dc047982ffa8",
   "metadata": {},
   "outputs": [],
   "source": [
    "import numpy as np\n",
    "import numexpr as ne"
   ]
  },
  {
   "cell_type": "code",
   "execution_count": 2,
   "id": "61e5e561-def8-4491-b019-8024d1ad6db8",
   "metadata": {},
   "outputs": [],
   "source": [
    "x, y, z = np.random.rand(3, 1000000)\n"
   ]
  },
  {
   "cell_type": "code",
   "execution_count": 3,
   "id": "8ad94eb6-3a5e-47f3-b5aa-af383b112c1b",
   "metadata": {},
   "outputs": [
    {
     "name": "stdout",
     "output_type": "stream",
     "text": [
      "8.41 ms ± 39.5 µs per loop (mean ± std. dev. of 7 runs, 100 loops each)\n"
     ]
    }
   ],
   "source": [
    "%timeit x + (y**2 + (z*x + 1)*3)"
   ]
  },
  {
   "cell_type": "code",
   "execution_count": 4,
   "id": "a28b4057-eef1-4aa0-b382-681c26beabbc",
   "metadata": {},
   "outputs": [
    {
     "name": "stdout",
     "output_type": "stream",
     "text": [
      "2.19 ms ± 109 µs per loop (mean ± std. dev. of 7 runs, 100 loops each)\n"
     ]
    }
   ],
   "source": [
    "%timeit ne.evaluate('x + (y**2 + (z*x + 1)*3)')"
   ]
  },
  {
   "cell_type": "code",
   "execution_count": null,
   "id": "2fb1aeeb-321c-4692-b311-044a6571ff94",
   "metadata": {},
   "outputs": [],
   "source": []
  }
 ],
 "metadata": {
  "kernelspec": {
   "display_name": "Python 3 (ipykernel)",
   "language": "python",
   "name": "python3"
  },
  "language_info": {
   "codemirror_mode": {
    "name": "ipython",
    "version": 3
   },
   "file_extension": ".py",
   "mimetype": "text/x-python",
   "name": "python",
   "nbconvert_exporter": "python",
   "pygments_lexer": "ipython3",
   "version": "3.9.6"
  }
 },
 "nbformat": 4,
 "nbformat_minor": 5
}
