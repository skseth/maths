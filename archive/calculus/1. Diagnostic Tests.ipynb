{
 "cells": [
  {
   "cell_type": "markdown",
   "id": "cfd89dbf-34de-412c-be34-ad0760ad1df0",
   "metadata": {},
   "source": [
    "# Algebra"
   ]
  },
  {
   "cell_type": "code",
   "execution_count": 9,
   "id": "a92395b4-3fd6-42c7-9485-a40c64e7f004",
   "metadata": {},
   "outputs": [],
   "source": [
    "from sympy import symbols, Rational\n",
    "x,y = symbols('x y')\n",
    "a,b = symbols('a b')"
   ]
  },
  {
   "cell_type": "code",
   "execution_count": 4,
   "id": "90d59432-6c84-4941-8bee-102abede867a",
   "metadata": {},
   "outputs": [
    {
     "data": {
      "text/latex": [
       "$\\displaystyle 11 x - 2$"
      ],
      "text/plain": [
       "11*x - 2"
      ]
     },
     "execution_count": 4,
     "metadata": {},
     "output_type": "execute_result"
    }
   ],
   "source": [
    "3*(x + 6) + 4*(2*x - 5)"
   ]
  },
  {
   "cell_type": "code",
   "execution_count": 13,
   "id": "c8a0196a-5bb7-4d60-bd62-2c9fbde7e9ec",
   "metadata": {},
   "outputs": [
    {
     "data": {
      "text/latex": [
       "$\\displaystyle \\frac{3 x^{\\frac{3}{2}} y^{3}}{a^{2}}$"
      ],
      "text/plain": [
       "3*x**(3/2)*y**3/a**2"
      ]
     },
     "execution_count": 13,
     "metadata": {},
     "output_type": "execute_result"
    }
   ],
   "source": [
    "3*x**(Rational(3,2))*y**3/a**2"
   ]
  },
  {
   "cell_type": "code",
   "execution_count": null,
   "id": "1bdaadf7-f99f-494f-8b29-ebea2c90efbc",
   "metadata": {},
   "outputs": [],
   "source": []
  }
 ],
 "metadata": {
  "kernelspec": {
   "display_name": "Python 3 (ipykernel)",
   "language": "python",
   "name": "python3"
  },
  "language_info": {
   "codemirror_mode": {
    "name": "ipython",
    "version": 3
   },
   "file_extension": ".py",
   "mimetype": "text/x-python",
   "name": "python",
   "nbconvert_exporter": "python",
   "pygments_lexer": "ipython3",
   "version": "3.9.6"
  }
 },
 "nbformat": 4,
 "nbformat_minor": 5
}
