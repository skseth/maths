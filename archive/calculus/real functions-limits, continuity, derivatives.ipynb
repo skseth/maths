{
 "cells": [
  {
   "cell_type": "markdown",
   "id": "a8ce9b7e-1ed0-4dcc-bc31-27b1229fbe6b",
   "metadata": {},
   "source": [
    "# Functions - Limits, Continuity and Derivatives Summary"
   ]
  },
  {
   "cell_type": "code",
   "execution_count": 1,
   "id": "68b4c58d-2e70-4263-9f25-f0530b47091d",
   "metadata": {},
   "outputs": [],
   "source": [
    "import sympy as sp\n",
    "x,y = sp.symbols('x y', real=True)\n",
    "a,b = sp.symbols('a b')"
   ]
  },
  {
   "cell_type": "markdown",
   "id": "575393d9-af75-438a-80fc-77def2cdc2c9",
   "metadata": {},
   "source": [
    "# Functions and Their Representations\n",
    "\n",
    "1.1 Function Representations\n",
    "- piecewise defined e.g. abs\n",
    "- symmetry - odd and even\n",
    "- step functions e.g Heaviside function H(x)\n",
    "- increasing / decreasing\n",
    "\n",
    "1.2 Key Functions\n",
    "- polynomials - linear, quadratic, cubic, and higher. degrees\n",
    "- power functions - $x^a$ with special cases for $a = n \\text{ odd},n \\text{ even}, 1/n, -1$\n",
    "- root functions\n",
    "- rational functions - ratio of two polynomials\n",
    "- trigonometric functions\n",
    "- exponential / logarithmic functions\n",
    "- transformations - translations, scaling and reflection\n",
    "- combinations - $f+g, f-g, fg, f/g, f \\circ g$ - the last is function composition\n"
   ]
  },
  {
   "cell_type": "markdown",
   "id": "165766b4-3965-4908-9c23-02b5b7474325",
   "metadata": {},
   "source": [
    "# Limits\n",
    "\n",
    "1.3 The Limit of a Function\n",
    "- limit of a function f(x) when x approaches a\n",
    "- common limits : $\\lim_{x \\to 0} \\frac{\\sin(x)}{x} = 1$\n",
    "- limit may not exist : e.g $\\lim_{x \\to 0} \\sin(\\frac{\\pi}{x})$\n",
    "- one-sided limits - left / right handed limits - $\\lim_{x \\to 0^-} H(x) = 0, \\lim_{x \\to 0^+} H(x) = 1$\n",
    "- $\\epsilon-\\delta$ definition of limit\n",
    "- limits of $f+g, f-g, fg, f/g, c \\cdot f(x)$ exist, if f and g have limits\n",
    "\n",
    "1.4 Calculating Limits\n",
    "- $lim_{x \\to a}[f(x)]^n = [lim_{x \\to a} f(x)]^n$, following from product law\n",
    "- $lim_{x \\to a} c = c$, $lim_{x \\to a} x = a$\n",
    "- $lim_{x \\to a} x^n = a^n$, by product law\n",
    "- $lim_{x \\to a} x^{1/n} = a^{1/n}$\n",
    "- $lim_{x \\to a} [f(x)]^{1/n} = [lim_{x \\to a}f(x)]^{1/n}$, more generally\n",
    "- Direct Substitution Property - Polynomials, Rational Functions, Trigonometric\n",
    "- Direct Substitution implies continuity (but not vice versa)\n",
    "\n",
    "- if $f(x) = g(x)$ whenever $x \\neq a$, then $\\lim_{x \\to a} f(x) = \\lim_{x \\to a} g(x)$, provided the limits exist\n",
    "- Limit of a function at a point exists if and only if the right and left hand limits both exist and are equal\n",
    "- if $f(x) \\leq g(x)$ for all x near a (except perhaps a itself), then lim of f(x) <= lim of g(x) at a.\n",
    "\n",
    "While $\\infty$ is not a real number, we talk of limit at infinity (positive or negative), and, for discontinuous functions, infinite limits. Horizontal asymptotes may exists for limits at infinity, and vertical asymptotes for infinite limits. \n",
    "\n",
    "The laws listed above all apply for limits at infinity, except the limits of $x^n, x^{1/n}$. Instead we have a new rule :\n",
    "$lim_{x \\to \\infty} \\frac{1}{x^n} = 0 = lim_{x \\to -\\infty} \\frac{1}{x^n}$\n",
    "\n"
   ]
  },
  {
   "cell_type": "markdown",
   "id": "c6a3ec53-2f1e-4a26-97b0-b63c929f8e6b",
   "metadata": {},
   "source": [
    "## Link to Analysis - Real Numbers, Basic Topology, Sequences and Series\n",
    "\n",
    "The limit of a function can be defined in terms of limits of sequences. A function has a limit at x = p, if every for every sequence {$p_n$}, such that $p_n \\ne p$, $\\lim_{n \\to \\infty}{p_n} = p$, then $\\lim_{n \\to \\infty}{f(p_n)} = p$.\n",
    "\n",
    "**End of link**\n"
   ]
  },
  {
   "cell_type": "markdown",
   "id": "596cfd73-d3ab-44db-a929-3decafc672dc",
   "metadata": {},
   "source": [
    "The Squeeze Theorem: if $f(x) \\leq g(x) \\leq h(x)$ when x is near a (except possibly at a), and $\\lim_{x \\to a} f(x) = \\lim_{x \\to a} h(x) = L$, then $\\lim_{x \\to a} g(x) = L$\n",
    "\n",
    "Example: $g(x) = \\lim_{x \\to 0} x^2 \\sin(1/x)$. Here f(x) = -x^2 and $h(x) = x^2$, L = 0. \n",
    "    \n"
   ]
  },
  {
   "cell_type": "markdown",
   "id": "62d8a972-c864-45a6-9c29-8770a33273f4",
   "metadata": {},
   "source": [
    "Limit of composite functions :\n",
    "\n",
    "If f is continuous at b and $\\lim_{x \\to a} g(x) = b$, then $\\lim_{x \\to a} f(g(x)) = f(b)$ i.e. $\\lim_{x \\to a} f(g(x)) = f(\\lim_{x \\to a} g(x))$\n",
    "\n",
    "But what f is not continuous, or $\\lim_{x \\to a} g(x) = b$ does not exist? In that case, we have to work out the answer in each individual case, as described in the link.\n",
    "\n",
    "https://teachingcalculus.com/2019/08/26/limit-of-composite-functions/"
   ]
  },
  {
   "cell_type": "markdown",
   "id": "885eb535-5d21-43a0-9cd4-b691a5adb5a4",
   "metadata": {},
   "source": [
    "## Continuity"
   ]
  },
  {
   "cell_type": "markdown",
   "id": "557e2c3d-2eac-4bd7-b66d-2723cfaffdc6",
   "metadata": {},
   "source": [
    "1.5 Continuity\n",
    "\n",
    "- function f is continuous as a, if limit at a exists and is f(a)\n",
    "- we can define continuity of f from the left / right, using the corresponding limits\n",
    "- f is continuous on an interval iff it is continuous at each point in the interval, except the endpoints where continuity from right/left is required\n",
    "- if f and g are continuous, the usual suspects, $f+g, f-g, cf, fg, f/g$ are continuous\n",
    "- If f is continuous at b, and $\\lim_{x \\to a} g(x) = b$, then :$\\lim_{x \\to a} f(g(x)) = f(\\lim_{x \\to a} g(x))$\n",
    "- if g is continuous at a, and f is continuous at g(a), the $f \\circ g$ is continuous at a\n",
    "- polynomials, rational functions, root functions, trigonometric functions are continuous everywhere in their domain\n",
    "\n"
   ]
  },
  {
   "cell_type": "markdown",
   "id": "56f64bc3-b3b9-4a6b-81c7-121099dab74d",
   "metadata": {},
   "source": [
    "### Intermediate Value Theorem\n",
    "\n",
    "Let f be a continuous function in [a,b] and let N be any number s.t f(a) < N < f(b) ($f(a) \\ne f(b)$).\n",
    "\n",
    "Then, there exists a point c in (a,b) such that f(c) = N.\n",
    "\n",
    "\n"
   ]
  },
  {
   "cell_type": "markdown",
   "id": "3502e6d5-a6f8-46e8-9122-543726652af7",
   "metadata": {},
   "source": [
    "# Derivative"
   ]
  },
  {
   "cell_type": "markdown",
   "id": "38f5b299-a99d-4654-ae5e-aaeb1bdc03a4",
   "metadata": {},
   "source": [
    "$$f^{'}(a) = \\lim_{h \\to 0} \\frac{f(a + h) - f(a)}{h}$$"
   ]
  },
  {
   "cell_type": "markdown",
   "id": "324cf600-96cb-458f-af82-7ab5c4fd8945",
   "metadata": {},
   "source": [
    "- derivative as a tangent, velocity, instantaneous rate of change\n",
    "- Leibniz notation $\\frac{dy}{dx}$, also $Df(x)$, or $D_x f(x)$"
   ]
  },
  {
   "cell_type": "markdown",
   "id": "17ced601-56ac-451d-8466-673f9e39ef62",
   "metadata": {},
   "source": [
    "- f is differentiable at a if $f^{'}(a)$ exists.\n",
    "- f is differentiable in an open interval (a,b) if it is differentiable at every point in the interval - including a,b being $\\infty$\n",
    "- f is differentiable at a => f is continuous at a. Converse is not true, in general. e.g. f(x) = |x|."
   ]
  },
  {
   "cell_type": "markdown",
   "id": "383ea33c-bb6c-4f60-9dfd-393e28db5808",
   "metadata": {},
   "source": [
    "Why derivative may not exist at a point :\n",
    "\n",
    "- discontinuity\n",
    "- there is a sharp corner (2 tangents)\n",
    "- tangent of slope infinity\n"
   ]
  },
  {
   "cell_type": "markdown",
   "id": "81c20ebd-d83b-40a5-a5f9-839945f2883b",
   "metadata": {},
   "source": [
    "### Basic Derivatives :\n",
    "\n",
    "$$\\newcommand{\\dv}[2]{\\frac{\\mathrm{d}{#1}}{\\mathrm{d}{#2}}}$$\n",
    "$$\\newcommand{\\dvx}[2]{\\mathrm{D}_{#2} ( #1 ) }$$\n",
    "\n",
    "$$\n",
    "\\begin{align*} \n",
    "&\\dvx{c}{x} =  0 \\\\ \n",
    "&\\dvx{x}{x} =  1 \\\\ \n",
    "&\\dvx{x^n}{x} = nx^{n-1} & \\text{power rule - n is any real no } \\\\ \n",
    "&\\dvx{cf(x)}{x} = c \\dvx{f(x)}{x}  \\\\ \n",
    "&\\dvx{f(x)+g(x)}{x} = \\dvx{f(x)}{x} + \\dvx{g(x)}{x}  \\\\ \n",
    "&\\dvx{f(x)-g(x)}{x} = \\dvx{f(x)}{x} - \\dvx{g(x)}{x}  \\\\ \n",
    "& \\text{with the rules above, we can differentiate any polynomial}\n",
    "\\end{align*}\n",
    "$$"
   ]
  },
  {
   "cell_type": "markdown",
   "id": "2ea6428d-516f-44df-b297-b5f8cb52420d",
   "metadata": {},
   "source": [
    "### Product, Quotient Rules\n",
    "\n",
    "$$\n",
    "\\begin{align*} \n",
    "&\\dvx{f(x)g(x)}{x} = f(x)\\dvx{g(x)}{x} + g(x)\\dvx{f(x)}{x} \\\\ \n",
    "&\\dvx{\\frac{f(x)}{g(x)}}{x} = \\frac{g(x)\\dvx{f(x)}{x} - f(x)\\dvx{g(x)}{x}}{[g(x)]^2} \\\\ \n",
    "\\end{align*}\n",
    "$$"
   ]
  },
  {
   "cell_type": "markdown",
   "id": "d3db6f82-907c-4391-bdb7-6c4d9b4f6009",
   "metadata": {},
   "source": [
    "### Chain Rule\n",
    "\n",
    "$$\\dvx{(f \\circ g)(x)}{x} = \\dvx{f(g(x))}{x} \\cdot \\dvx{g(x)}{x}$$\n",
    "\n",
    "For example:\n",
    "\n",
    "$$\n",
    "\\begin{align*} \n",
    "F(x) &= \\sqrt{x^2 + 1}, f(x) = \\sqrt{x}, g(x) = x^2 + 1 \\\\\n",
    "F(x) &= (f \\circ g)(x)) \\\\\n",
    "\\dvx{F(x)}{x} &= \\frac{1}{2\\sqrt{x^2+1}} 2x = \\frac{x}{\\sqrt{x^2+1}}\n",
    "\\end{align*}\n",
    "$$\n"
   ]
  },
  {
   "cell_type": "markdown",
   "id": "ee0c5bd4-afd6-4011-9399-351f0068f1b9",
   "metadata": {},
   "source": [
    "### Implicit Differentiation\n",
    "\n",
    "Given $x^2 + y^2 = 25$, find $D_x(y)$\n",
    "\n",
    "Solution : Differentiate both sides with respect to x\n",
    "\n",
    "$$\n",
    "\\begin{align*} \n",
    "2x + 2yD_x(y) &= 0 \\\\\n",
    "D_x(y) &= -\\frac{x}{y}\n",
    "\\end{align*}\n",
    "$$\n",
    "\n",
    "Note that $x^2 + y^2 = 25$ cannot be a single function, since it is a circle! In fact, we need to think, in this case of $x^2 + (f(x))^2 = 25$, and you can see that there are two functions with the same domain:\n",
    "$$f(x) = \\sqrt{1 - x^2}, f(x) = -\\sqrt{1 - x^2}$$\n",
    "\n",
    "It can be easily verified that both functions have the same expression for the derivative.\n",
    "\n",
    "In fact, in this case, implicit differentiation amounts to differentiating a function $f:R^2 \\to R$\n"
   ]
  },
  {
   "cell_type": "markdown",
   "id": "4a63b01a-2865-411f-be47-5c086b93abf1",
   "metadata": {},
   "source": [
    "### Linear Approximations and Differentials"
   ]
  },
  {
   "cell_type": "markdown",
   "id": "1cf53e0d-32c6-4190-9e95-755a422d10db",
   "metadata": {},
   "source": [
    "A derivative give the slope of the tangent. The tangent line at a point can be a good \"linear\" approximation of the function near the point in question.\n",
    "\n",
    "$$y = f(a) + f^{'}(a)(x - a)$$"
   ]
  },
  {
   "cell_type": "markdown",
   "id": "4e8f38c5-44b1-4d13-999c-63d16b4a5455",
   "metadata": {},
   "source": [
    "The concept of differentials can be used for approximations. \n",
    "\n",
    "For example, if the radius of a sphere is r, then its volume is $V = 4/3\\pi r^3$.\n",
    "Assume, now, that we have an error $\\Delta r$ in the measurement of r. What is the error in the volume? We can approach it as follows :\n",
    "\n",
    "$dV = 4\\pi r^2dr$\n",
    "\n",
    "If $r = 21$, $\\Delta r = 0.05$, then the **absolute error** in V is approximately:\n",
    "\n",
    "$dv = 4\\pi*21^2*0.05 = 277$\n",
    "\n",
    "The **relative error** :\n",
    "\n",
    "$$\\frac{\\Delta V}{V} \\approx \\frac{4\\pi r^2dr}{4/3\\pi r^3} = 3 \\frac{dr}{r}$$"
   ]
  },
  {
   "cell_type": "markdown",
   "id": "bd0954b4-87e8-4347-a138-9a7ebb00af3c",
   "metadata": {},
   "source": [
    "i.e. the relative error in volume is thrice the relative error in radius. Since $dr/r \\approx 0.05/21 \\approx .24\\%$, the relative error in V is $\\approx .7\\%$"
   ]
  },
  {
   "cell_type": "markdown",
   "id": "006e2eb7-98e0-49c6-b4cb-c1be906525b1",
   "metadata": {},
   "source": [
    "### Inverse Functions\n",
    "\n",
    "A function f is said to have an inverse $f^{-1}$, if $f^{-1}(f(x)) = x$ for every x in the domain of f. \n",
    "\n",
    "The range of $f^{-1}$ is the domain of f, and the domain of $f^{-1}$ is the range of f.\n",
    "\n",
    "f must be one-one to have an inverse, else $f^{-1}$ wouldn't be a function.\n",
    "\n",
    "Some theorems about inverse functions:\n",
    "\n",
    "- if f is a 1-1, continuous on an interval, then its inverse $f^{-1}$ is also continuous. Intuitively, the graph of the inverse just has axis reversed, so should not affect continuity.\n",
    "\n",
    "- If f is a 1-1 function differentiable at a, so is its inverse and \n",
    "\n",
    "$${f^{'}}^{-1}(a) = \\frac{1}{f^{'}(f^{-1}(a))}$$\n",
    "\n",
    "Thus the slope of the inverse function at a is 1 / slope of the function at the image of a.\n",
    "\n"
   ]
  },
  {
   "cell_type": "markdown",
   "id": "7a502708-73dc-4c2e-b4a5-29f547a0ca7f",
   "metadata": {},
   "source": [
    "#### L'Hospital's Rule\n",
    "\n",
    "if f(x) and g(x) are differentiable and $D_x(g(x))$ is non-zero near a (except possibly a). Also suppose that both function limits are either 0 or both are +/-$\\infty$. Then\n",
    "\n",
    "$$\\lim_{x \\to a} \\frac{f(x)}{g(x)} = \\lim_{x \\to a} \\frac{f'(x)}{g'(x)}$$\n",
    "\n",
    "Provided the limit on the right exists or is + or - $\\infty$\n",
    "\n",
    "L'hospital's Rule also works if $x \\to a^+, a^-, \\infty, -\\infty$\n",
    "\n",
    "**Indeterminate Types** :\n",
    "\n",
    "$$\n",
    "\\begin{align*}\n",
    "&\\text{type } \\frac{0}{0} &\\lim_{x \\to 1}\\frac{ln(x)}{x - 1} = 1  \\\\\n",
    "&\\text{type } \\frac{\\infty}{\\infty} &\\lim_{x \\to \\infty}\\frac{e^x}{x^2} = \\infty  \\\\\n",
    "\\end{align*}\n",
    "$$\n",
    "\n",
    "**Counterexample** (cannot use L'Hospital's Rule):\n",
    "\n",
    "$$\n",
    "\\begin{align*}\n",
    "&\\text{type } NA \\lim_{x \\to \\pi^-} \\frac{sin(x)}{1 - cos(x)}\n",
    "\\end{align*}\n",
    "$$\n",
    "\n",
    "**Indeterminate Products** (type $0\\cdot\\infty$): Convert $fg$ to $\\frac{f}{1/g}$\n",
    "\n",
    "Example : $\\lim_{x \\to 0^+} x ln(x) = \\lim_{x \\to 0^+} \\frac{ln(x)}{1/x} = \\lim_{x \\to 0^+} -x = 0$\n",
    "\n",
    "**Indeterminate Difference** (type $\\infty - \\infty$) : Convert to fraction by extractinng common factors\n",
    "\n",
    "Example : $\\lim_{x \\to {\\pi/2}^-} (sec(x) - tan(x)) = \\lim_{x \\to {\\pi/2}^-} \\frac{1 - sin(x)}{cos(x)} = \\lim_{x \\to {\\pi/2}^-} \\frac{cos(x)}{sin(x)} = 0$\n",
    "\n",
    "**Indeterminate Powers** ($0^0, \\infty^0, 1^\\infty$): Take logs\n",
    "\n",
    "Example : $\\lim_{x \\to 0^+} (1 + sin(4x))^{cot(x)}$\n",
    "$$\n",
    "\\begin{align*}\n",
    "\\text{let } y &= (1 + sin(4x))^{cot(x)} \\\\\n",
    "ln(y) &= cot(x)ln(1 + sin(4x)) \\\\\n",
    "&= \\frac{ln(1 + sin(4x))}{tan(x)} \\\\\n",
    "\\end{align*}\n",
    "$$\n",
    "\n",
    "Hence, taking limits/derivatives:\n",
    "\n",
    "$$\n",
    "\\begin{align*}\n",
    "\\lim_{x \\to 0^+} ln(y) &= \\lim_{x \\to 0^+} \\frac{\\frac{4Cos(4x}{1 + sin(4x)}}{sec^2(x)} \\\\\n",
    "&= 4 \\\\\n",
    "\\lim_{x \\to 0^+} y &= \\lim_{x \\to 0^+} e^{ln(y)} = e^4\n",
    "\\end{align*}\n",
    "$$\n",
    "\n",
    "\n",
    "\n",
    "\n",
    "\n",
    "\n"
   ]
  },
  {
   "cell_type": "markdown",
   "id": "c6dff45b-b265-4a9f-99f9-6ce0afe45606",
   "metadata": {},
   "source": [
    "### Derivatives of Exponential, Trigonometric and Hyperbolic Functions"
   ]
  },
  {
   "cell_type": "markdown",
   "id": "1d7b2f16-cc33-40ab-8369-ac33499a283d",
   "metadata": {},
   "source": [
    "**Exponential/Logarithmic Functions**\n",
    "$$\n",
    "\\begin{align*}\n",
    "\\dvx{log(x)}{x} &= \\frac{1}{x} \\\\\n",
    "\\dvx{log_a(x)}{x} &= \\frac{1}{x log(a)}\n",
    "\\end{align*}\n",
    "$$\n",
    "\n",
    "**Trigonometric Functions**\n",
    "\n",
    "$$\n",
    "\\begin{align*} \n",
    "\\dvx{\\sin(x)}{x} &= \\cos(x) \\\\\n",
    "\\dvx{\\cos(x)}{x} &= -\\sin(x) \\\\\n",
    "\\dvx{\\tan(x)}{x} &= \\sec^2(x) \\\\\n",
    "\\dvx{\\csc(x)}{x} &= -\\csc(x) \\cot(x) \\\\\n",
    "\\dvx{\\sec(x)}{x} &= \\sec(x) \\tan(x) \\\\\n",
    "\\dvx{\\cot(x)}{x} &=  -\\csc^2(x)\\\\\n",
    "\\end{align*}\n",
    "$$\n",
    "\n",
    "**Inverse Trigonometric Functions**\n",
    "\n",
    "$$\n",
    "\\begin{align*} \n",
    "\\dvx{\\sin^{-1}(x)}{x} &= \\frac{1}{\\sqrt{1 - x^2}} \\\\\n",
    "\\dvx{\\cos^{-1}(x)}{x} &= -\\frac{1}{\\sqrt{1 - x^2}} \\\\\n",
    "\\dvx{\\tan^{-1}(x)}{x} &= \\frac{1}{1 + x^2} \\\\\n",
    "\\dvx{\\csc^{-1}(x)}{x} &= -\\frac{1}{x\\sqrt{1 - x^2}} \\\\\n",
    "\\dvx{\\sec^{-1}(x)}{x} &= \\frac{1}{x\\sqrt{x^2 - 1}} \\\\\n",
    "\\dvx{\\cot^{-1}(x)}{x} &= \\frac{1}{1 + x^2} \\\\\n",
    "\\end{align*}\n",
    "$$\n",
    "\n",
    "**Hyperbolic Functions**\n",
    "\n",
    "$$\n",
    "\\begin{align*} \n",
    "&\\sinh(x) = \\frac{e^x - e^{-x}}{2} & \\dvx{\\sinh(x)}{x} &= \\cosh(x) \\\\\n",
    "&\\cosh(x) = \\frac{e^x + e^{-x}}{2} & \\dvx{\\cosh(x)}{x} &= -\\sinh(x) \\\\\n",
    "&\\tanh(x) = \\frac{\\sinh(x)}{\\cosh(x)} & \\dvx{\\tanh(x)}{x} &= sech^2(x) \\\\\n",
    "&csch(x) = \\frac{1}{\\sinh(x)} & \\dvx{csch(x)}{x} &= -csch(x)coth(x) \\\\\n",
    "&sech(x) = \\frac{1}{\\cosh(x)} & \\dvx{sech(x)}{x} &= -sech(x)tanh(x) \\\\\n",
    "&coth(x) = \\frac{1}{\\tanh(x)} & \\dvx{coth(x)}{x} &= -csch^2(x) \\\\\n",
    "\\end{align*}\n",
    "$$\n",
    "\n",
    "**Inverse Hyperbolic Functions**\n",
    "\n",
    "$$\n",
    "\\begin{align*} \n",
    "\\dvx{\\sinh^{-1}(x)}{x} &= \\frac{1}{\\sqrt{1 + x^2}} \\\\\n",
    "\\dvx{\\cosh^{-1}(x)}{x} &= \\frac{1}{\\sqrt{x^2 - 1}} \\\\\n",
    "\\dvx{\\tanh^{-1}(x)}{x} &= \\frac{1}{1 - x^2} \\\\\n",
    "\\dvx{csch^{-1}(x)}{x} &= -\\frac{1}{|x|\\sqrt{x^2 + 1}} \\\\\n",
    "\\dvx{sech^{-1}(x)}{x} &= -\\frac{1}{x\\sqrt{1 - x^2}} \\\\\n",
    "\\dvx{\\coth^{-1}(x)}{x} &= \\frac{1}{1 - x^2} \\\\\n",
    "\\end{align*}\n",
    "$$\n"
   ]
  },
  {
   "cell_type": "markdown",
   "id": "871b32d7-e51d-443f-b6fb-8b8453897297",
   "metadata": {},
   "source": [
    "NOTE: $f^2(x) = f(f(x))$ or  $(f(x))^2$. In general, it is better to use $(f(x))^2$, but it seems to be common especially for transcendental functions i.e. log, sin etc.\n",
    "\n",
    "See : https://math.stackexchange.com/questions/1102156/why-does-notation-for-functions-seem-to-be-abused-and-ambiguous"
   ]
  },
  {
   "cell_type": "markdown",
   "id": "456112a7-fb51-44fd-8c2b-45e4b71e83ad",
   "metadata": {},
   "source": [
    "## Applications of Differentiation"
   ]
  },
  {
   "cell_type": "markdown",
   "id": "fe3f06ce-9791-46c6-80f5-892af2d4382f",
   "metadata": {},
   "source": [
    "### Extreme Value Theorem\n",
    "\n",
    "If f is continuous on a closed interval [a,b] then f attains an absolute maximum value f(c) and an absolute minimum value f(d) at some numbers c and d in the interval.\n",
    "\n",
    "Note: \n",
    "Extreme values may be attained multiple times\n",
    "\n",
    "If either continuity / closed intervals are excluded, there is no guarantee the values will exist"
   ]
  },
  {
   "cell_type": "markdown",
   "id": "12c34319-46f5-4109-b375-3e7564b3d7a2",
   "metadata": {},
   "source": [
    "### Fermat's Theorem (local maximum / minimum)\n",
    "\n",
    "If f has a local maximum or minimum at C, and $f^{'}(c)$ exists, then $f^{'}(c) = 0$\n",
    "\n",
    "Note:  \n",
    "a) A local maximum may not have a derivative  \n",
    "b) Converse is not necessarily true. Slope may be 0, without a maximum / minimum.  \n",
    "c) A point where $f^{'}(c) = 0$ is called a **critical number**"
   ]
  },
  {
   "cell_type": "markdown",
   "id": "f001a95b-84d7-4eaa-8f7f-52d39069be71",
   "metadata": {},
   "source": [
    "### Closed Interval Method to find absolute maximum and minimum\n",
    "Give a function f differentiable on a closed interval [a,b]  \n",
    "Let A = {x: x = a, x = b or x is a critical number of f in [a,b]}  \n",
    "Then the absolute maximum = max A / absolute minimum = min A."
   ]
  },
  {
   "cell_type": "markdown",
   "id": "88b91f34-4ab6-44ff-b6eb-84aee2a063c9",
   "metadata": {},
   "source": [
    "### Rolle's Theorem\n",
    "\n",
    "Let f be a function such that\n",
    "- f is continuous on [a,b]\n",
    "- f is differentiable on (a,b)\n",
    "- f(a) = f(b)\n",
    "\n",
    "The there is a c in (a,b) s.t f'(c) = 0\n",
    "\n",
    "Proof: \n",
    "\n",
    "**f(x) = k, a constant**: c can be any point in (a,b). f'(x) = 0 everywhere.\n",
    "\n",
    "**f(x) > f(a) for some x in (a,b)** : Since f is continuous, by Extreme Value Theorem, there is a point in [a,b] where f attains an absolute maximum. Since f(a) = f(b), this absolute maximum must be at a point c in (a,b). Since f is differentiable in (a,b), f'(c) must exist and by Fermat's Theorem must $f'(c) = 0$.\n",
    "\n",
    "**f(x) < f(a) for some x in (a,b)** : Same argument as above.\n"
   ]
  },
  {
   "cell_type": "markdown",
   "id": "8dc4aa6d-fcb2-429f-b2e2-19912d0a2359",
   "metadata": {},
   "source": [
    "### Mean Value Theorem\n",
    "\n",
    "Let f be a function such that :\n",
    "\n",
    "- f is continuous on [a,b]\n",
    "- f is differentiable on (a,b)\n",
    "\n",
    "Then, there is a point c in (a,b) such that :\n",
    "\n",
    "$f^{'}(c) = \\frac{f(b) - f(a)}{b - a}$\n",
    "\n",
    "Proof:  \n",
    "Define $h(x) = f(x) - f(a) - \\frac{f(b) - f(a)}{b - a}(x - a)$  \n",
    "h(x) meets the conditions for Rolle's Theorem, and we have c in (a,b) s.t $0 = h^{'}(c) = f'(c) - \\frac{f(b) - f(a)}{b - a}$\n",
    "\n",
    "Note: The mean value theorem basically states that under the right conditions, a function always achieves an instantaneous rate of change in an interval, equal to its average rate of change. If you drive at an average of 70 kmph, somewhere on the drive, you must have actually been driving at that speed, assuming you drove continuously and smoothly enough."
   ]
  },
  {
   "cell_type": "markdown",
   "id": "9463881d-bf59-4c56-b1be-ada398603745",
   "metadata": {},
   "source": [
    "### Shapes of Graphs"
   ]
  },
  {
   "cell_type": "markdown",
   "id": "cc59aac8-2940-4333-8a33-39f74c133331",
   "metadata": {},
   "source": [
    "### First Derivative Test\n",
    "\n",
    "If f'(x) > 0 on an interval, then f is increasing in the interval\n",
    "If f'(x) < 0 on an interval, then f is decreasing in the interval\n",
    "\n",
    "if f'(c) = 0, f may be a local minimum / maximum at c. To confirm, you need the second derivative, or you need to check the first derivative on nearby points. For a minimum, sign changes from -ve, to +ve, and vice versa for the maximum.\n",
    "\n",
    "### Second Derivative Test\n",
    "\n",
    "If f''(x) > 0 on an interval, then f is concave upward in the interval\n",
    "If f''(x) < 0 on an interval, then f is concave downward in the interval\n",
    "\n",
    "An inflection point is a point where f changes concavity. At inflection point a curve crosses its tangent.\n",
    "\n",
    "In view of the above, there is a point of inflection at any point where f''(x) changes sign. \n",
    "\n",
    "Suppose f'' is continuous at c:\n",
    "f'(c) = 0, f''(c) > 0 => c is local minimum\n",
    "f'(c) = 0, f''(c) < 0 => c is local maximum\n",
    "\n",
    "\n",
    "\n",
    "\n",
    "\n",
    "\n",
    "\n",
    "\n"
   ]
  },
  {
   "cell_type": "markdown",
   "id": "63ef5361-7b8b-46f0-888e-d49ad7d868c6",
   "metadata": {},
   "source": [
    "## Numerical Methods"
   ]
  },
  {
   "cell_type": "markdown",
   "id": "94bb903e-8de2-43f5-815d-76c279deaf5d",
   "metadata": {},
   "source": [
    "#### Newton-Raphson Method for finding roots\n",
    "\n",
    "To find the roots of an equation : Take an initial guess $x_0$. Calculate successively closer values:\n",
    "\n",
    "$x_{n+1} = x_n - \\frac{f(x_n)}{f'(x_{n})}$"
   ]
  },
  {
   "cell_type": "markdown",
   "id": "81542f07-2d17-4706-9a66-a0cc0a2a1257",
   "metadata": {},
   "source": [
    "https://personal.math.ubc.ca/~anstee/math104/newtonmethod.pdf"
   ]
  },
  {
   "cell_type": "code",
   "execution_count": 2,
   "id": "fe382d95-fc20-4ec6-a192-db14129dbd33",
   "metadata": {},
   "outputs": [
    {
     "data": {
      "text/latex": [
       "$\\displaystyle 2 x - 4$"
      ],
      "text/plain": [
       "2*x - 4"
      ]
     },
     "execution_count": 2,
     "metadata": {},
     "output_type": "execute_result"
    }
   ],
   "source": [
    "import numpy as np\n",
    "from sympy import *\n",
    "# define what is the variable\n",
    "x = symbols('x')\n",
    "# define the function\n",
    "f = x**2-4*x-5\n",
    "# find the first derivative\n",
    "fderivative = f.diff(x)\n",
    "fderivative"
   ]
  },
  {
   "cell_type": "code",
   "execution_count": 5,
   "id": "65a2e3b2-5e35-4618-91ad-a54fd72dfc75",
   "metadata": {},
   "outputs": [
    {
     "name": "stdout",
     "output_type": "stream",
     "text": [
      "The 1 iteration xn is -3.0 and f(xn) is 1.6e+01\n",
      "The 2 iteration xn is -1.4 and f(xn) is 2.6\n",
      "The 3 iteration xn is -1.0 and f(xn) is 0.14\n",
      "The 4 iteration xn is -1.0 and f(xn) is 0.00055\n",
      "The 5 iteration xn is -1.0 and f(xn) is 8.4e-09\n",
      "The 6 iteration xn is -1.0 and f(xn) is 9.5e-125\n",
      "The 7 iteration xn is -1.0 and f(xn) is 9.5e-125\n",
      "The 8 iteration xn is -1.0 and f(xn) is 9.5e-125\n",
      "The 9 iteration xn is -1.0 and f(xn) is 9.5e-125\n",
      "The 10 iteration xn is -1.0 and f(xn) is 9.5e-125\n"
     ]
    }
   ],
   "source": [
    "xn = 1\n",
    "for i in range(10):\n",
    "    xn = xn - np.float64(f.evalf(subs= {x:xn})) / np.float64(fderivative.evalf(subs= {x:xn}))\n",
    "    print(f'The {i+1} iteration xn is {xn:.2} and f(xn) is {np.float64(f.evalf(subs= {x:xn})):.2}')\n"
   ]
  },
  {
   "cell_type": "code",
   "execution_count": null,
   "id": "c04c70b4-ff31-4c76-b79f-2ef779df93dd",
   "metadata": {},
   "outputs": [],
   "source": []
  }
 ],
 "metadata": {
  "kernelspec": {
   "display_name": "Python 3 (ipykernel)",
   "language": "python",
   "name": "python3"
  },
  "language_info": {
   "codemirror_mode": {
    "name": "ipython",
    "version": 3
   },
   "file_extension": ".py",
   "mimetype": "text/x-python",
   "name": "python",
   "nbconvert_exporter": "python",
   "pygments_lexer": "ipython3",
   "version": "3.9.6"
  }
 },
 "nbformat": 4,
 "nbformat_minor": 5
}
