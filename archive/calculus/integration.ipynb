{
 "cells": [
  {
   "cell_type": "markdown",
   "id": "bb528bdc-ec7e-4fb1-9366-e0b911033f41",
   "metadata": {},
   "source": [
    "# Integrals"
   ]
  },
  {
   "cell_type": "markdown",
   "id": "62ec6303-6710-4633-a254-697bc6d3ec53",
   "metadata": {},
   "source": [
    "### Riemann Sum\n",
    "\n",
    "If $f$ is a function defined on $[a,b]$, the definite integral of f from a to b is the number \n",
    "\n",
    "$$\\int_a^b{f(x)dx} = \\lim_{max(\\Delta x_i) \\to 0} \\sum_{i=1}^n{f(x_i^*)\\Delta x_i} $$\n",
    "\n",
    "provided that this limit exists. If it does exist, we say f is integrable on $[a,b]$\n",
    "\n",
    "Here $\\Delta x_i$ form a partition of $[a,b]$, with $x_{i-1} \\le x_i^* \\le x_i$\n",
    "\n",
    "Note that we choose the partition to be regular or not, and $x_i^*$ may be the any point in the ith interval, including the leftmost, the rightmost or the middle."
   ]
  },
  {
   "cell_type": "markdown",
   "id": "5dc95da0-ab27-4e1d-a44c-af471cb970a1",
   "metadata": {},
   "source": [
    "### Theorem\n",
    "\n",
    "If f is continuous on $[a,b]$ or if f has only a finite number of jump discontinuities, then f is integrable on $[a,b]$ that is, the definite integral $\\int_a^b{f(x)dx}$ exists."
   ]
  },
  {
   "cell_type": "markdown",
   "id": "9ac75cff-15ef-4711-ac6a-d68c2f2dd24e",
   "metadata": {},
   "source": [
    "### Properties\n",
    "\n",
    "$$\n",
    "\\begin{align*}\n",
    "\\int_a^b{cdx} &= c(b - a) \\\\\n",
    "\\int_a^b{[f(x) + g(x)]dx} &=  \\int_a^b{f(x)dx} + \\int_a^b{g(x)dx} \\\\\n",
    "\\int_a^b{cf(x)dx} &=  c\\int_a^b{f(x)dx} \\\\\n",
    "\\int_a^b{[f(x) - g(x)]dx} &=  \\int_a^b{f(x)dx} - \\int_a^b{g(x)dx} \\\\\n",
    "\\int_a^b{f(x)dx} + \\int_b^c{f(x)dx} &=  \\int_a^c{f(x)dx} \\\\\n",
    "\\end{align*}\n",
    "$$\n",
    "\n",
    "\n",
    "if $f(x) \\ge 0$ for x in $[a,b]$, $\\int_a^b{f(x)} \\ge 0$  \n",
    "if $f(x) \\ge g(x)$ for x in $[a,b]$, $\\int_a^b{f(x)} \\ge \\int_a^b{g(x)}$  \n",
    "$m \\le f(x) \\le M$ for x in $[a,b]$, $m(b - a) \\le \\int_a^b{f(x)} \\le M(b-a)$\n",
    "\n",
    "\n"
   ]
  },
  {
   "cell_type": "markdown",
   "id": "bdffb253-8dd2-4862-9fd0-4cb9bc53bb22",
   "metadata": {},
   "source": [
    "### Evaluation Theorem (Fundamental Theorem of Calculus)\n",
    "\n",
    "if f is continuous on $[a,b]$, and F is a function such that F'(x) = f(x) for x in $[a,b]$, then :\n",
    "\n",
    "$$\\int_a^b{f(x)dx} = F(b) - F(a)$$\n",
    "\n",
    "Proof: Given a regular partition of $[a,b]$ into n parts, for the ith partition :\n",
    "\n",
    "$$\n",
    "\\begin{align*}\n",
    "F(x_i) - F(x_{i-1}) &= F'(x_i^*)\\Delta{x} \\text{  ... by Mean Value Theorem} \\\\\n",
    "&= f(x_i^*)\\Delta{x}\n",
    "\\end{align*}\n",
    "$$\n",
    "\n",
    "Summing across all i's, and taking limit as n tends to infinity, we get the desired result."
   ]
  },
  {
   "cell_type": "markdown",
   "id": "be3ba0d8-8a5d-4106-9175-d1ef0d373854",
   "metadata": {},
   "source": [
    "### Indefinite integral\n",
    "\n",
    "Based on the Evaluation Theorem, we can define the indefinite integral :\n",
    "\n"
   ]
  }
 ],
 "metadata": {
  "kernelspec": {
   "display_name": "Python 3 (ipykernel)",
   "language": "python",
   "name": "python3"
  },
  "language_info": {
   "codemirror_mode": {
    "name": "ipython",
    "version": 3
   },
   "file_extension": ".py",
   "mimetype": "text/x-python",
   "name": "python",
   "nbconvert_exporter": "python",
   "pygments_lexer": "ipython3",
   "version": "3.9.6"
  }
 },
 "nbformat": 4,
 "nbformat_minor": 5
}
