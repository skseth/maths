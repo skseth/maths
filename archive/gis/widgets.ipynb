{
 "cells": [
  {
   "cell_type": "code",
   "execution_count": 5,
   "id": "bf961136-87b1-42c3-bcab-1e34ac163971",
   "metadata": {},
   "outputs": [
    {
     "data": {
      "application/vnd.jupyter.widget-view+json": {
       "model_id": "1d893963a09f4fd6beff17f8c2551006",
       "version_major": 2,
       "version_minor": 0
      },
      "text/plain": [
       "Output()"
      ]
     },
     "metadata": {},
     "output_type": "display_data"
    },
    {
     "data": {
      "application/vnd.jupyter.widget-view+json": {
       "model_id": "954f2d67ddf6414e8b26cd95b933280e",
       "version_major": 2,
       "version_minor": 0
      },
      "text/plain": [
       "Button(description='1', style=ButtonStyle())"
      ]
     },
     "metadata": {},
     "output_type": "display_data"
    },
    {
     "data": {
      "application/vnd.jupyter.widget-view+json": {
       "model_id": "05beed6cf04b4b1f99a57a97ba58fa5b",
       "version_major": 2,
       "version_minor": 0
      },
      "text/plain": [
       "Button(description='2', style=ButtonStyle())"
      ]
     },
     "metadata": {},
     "output_type": "display_data"
    },
    {
     "data": {
      "application/vnd.jupyter.widget-view+json": {
       "model_id": "c1d14ff44ff3461cbb8c17dca6c49d7d",
       "version_major": 2,
       "version_minor": 0
      },
      "text/plain": [
       "Button(description='3', style=ButtonStyle())"
      ]
     },
     "metadata": {},
     "output_type": "display_data"
    }
   ],
   "source": [
    "from ipywidgets import widgets \n",
    "from IPython.display import display \n",
    "\n",
    "output = widgets.Output()\n",
    "\n",
    "@output.capture()\n",
    "def onButtonClick(b):\n",
    "    print(\"Button \" + b.description + \" has been clicked\")\n",
    "\n",
    "display(output)\n",
    "    \n",
    "for i in range(1,4):\n",
    "    button = widgets.Button(description=str(i))\n",
    "    display(button)\n",
    "    button.on_click(onButtonClick)\n",
    "\n"
   ]
  },
  {
   "cell_type": "code",
   "execution_count": null,
   "id": "7fc22241-3cd4-45fc-91e7-09cba85a91d6",
   "metadata": {},
   "outputs": [],
   "source": []
  }
 ],
 "metadata": {
  "kernelspec": {
   "display_name": "Python 3 (ipykernel)",
   "language": "python",
   "name": "python3"
  },
  "language_info": {
   "codemirror_mode": {
    "name": "ipython",
    "version": 3
   },
   "file_extension": ".py",
   "mimetype": "text/x-python",
   "name": "python",
   "nbconvert_exporter": "python",
   "pygments_lexer": "ipython3",
   "version": "3.9.6"
  }
 },
 "nbformat": 4,
 "nbformat_minor": 5
}
