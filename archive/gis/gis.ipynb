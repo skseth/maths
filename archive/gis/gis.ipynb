{
 "cells": [
  {
   "cell_type": "markdown",
   "id": "54ea2b9f-4c05-4067-ad37-872fe2a2cdb5",
   "metadata": {},
   "source": [
    "http`s://automating-gis-processes.github.io/2016/course-info.html"
   ]
  },
  {
   "cell_type": "markdown",
   "id": "f03da978-7cfc-4cb0-9053-5507991955de",
   "metadata": {},
   "source": [
    "https://medium.com/planet-stories/a-gentle-introduction-to-gdal-part-1-a3253eb96082"
   ]
  },
  {
   "cell_type": "markdown",
   "id": "74413763-4184-42c6-b451-ff4dcd0846fa",
   "metadata": {},
   "source": [
    "https://geo-python-site.readthedocs.io/en/latest/notebooks/L4/functions.html"
   ]
  },
  {
   "cell_type": "markdown",
   "id": "facd9388-fe27-46b4-b186-bde2024edc12",
   "metadata": {},
   "source": []
  },
  {
   "cell_type": "markdown",
   "id": "b220198c-8155-4f8e-8770-522e86d185de",
   "metadata": {},
   "source": []
  }
 ],
 "metadata": {
  "kernelspec": {
   "display_name": "Python 3 (ipykernel)",
   "language": "python",
   "name": "python3"
  },
  "language_info": {
   "codemirror_mode": {
    "name": "ipython",
    "version": 3
   },
   "file_extension": ".py",
   "mimetype": "text/x-python",
   "name": "python",
   "nbconvert_exporter": "python",
   "pygments_lexer": "ipython3",
   "version": "3.9.6"
  }
 },
 "nbformat": 4,
 "nbformat_minor": 5
}
