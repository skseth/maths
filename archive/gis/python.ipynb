{
 "cells": [
  {
   "cell_type": "markdown",
   "id": "e30b5b5f-16e5-40fe-b739-6efb917ea45b",
   "metadata": {},
   "source": [
    "https://www.e-education.psu.edu/geog489/book/export/html/1734"
   ]
  },
  {
   "cell_type": "markdown",
   "id": "d259897d-6797-46c3-a354-7295b8388170",
   "metadata": {},
   "source": [
    "# Regular Expressions"
   ]
  },
  {
   "cell_type": "code",
   "execution_count": 3,
   "id": "0d61456b-7db0-40bd-a348-66940fe143c2",
   "metadata": {},
   "outputs": [
    {
     "name": "stdout",
     "output_type": "stream",
     "text": [
      "Julia Smith\n",
      "Susanne Walker\n"
     ]
    }
   ],
   "source": [
    "import re \n",
    "\n",
    "personList = [ 'Julia Smith', 'Francis Drake', 'Michael Mason',  \n",
    "                'Jennifer Johnson', 'John Williams', 'Susanne Walker',  \n",
    "                'Kermit the Frog', 'Dr. Melissa Franklin', 'Papa John', \n",
    "                'Walter John Miller', 'Frank Michael Robertson', 'Richard Robertson', \n",
    "                'Erik D. White', 'Vincent van Gogh', 'Dr. Dr. Matthew Malone', \n",
    "                'Rebecca Clark' ] \n",
    "\n",
    "pattern = \".u\"\n",
    "\n",
    "for person in personList:\n",
    "    if re.match(pattern, person):\n",
    "        print(person)\n"
   ]
  },
  {
   "cell_type": "markdown",
   "id": "a2bf0d1d-27c0-4844-9d1e-aa11eb6e757e",
   "metadata": {},
   "source": [
    "# Higher Order Functions & Lambdas"
   ]
  },
  {
   "cell_type": "code",
   "execution_count": 6,
   "id": "101d2d4a-aa97-458c-a3fe-bf6eafc52114",
   "metadata": {},
   "outputs": [
    {
     "name": "stdout",
     "output_type": "stream",
     "text": [
      "['BUILDING', 'ROAD', 'TREE']\n",
      "['building', 'road', 'tree']\n",
      "['Building', 'Road', 'Tree']\n"
     ]
    }
   ],
   "source": [
    "def applyToEachString(stringFunction, stringList):\n",
    "\tmyList = []\n",
    "\tfor item in stringList:\n",
    "\t\tmyList.append(stringFunction(item))\n",
    "\treturn myList\n",
    "\n",
    "allUpperCase = applyToEachString(str.upper, ['Building', 'ROAD', 'tree'] )\n",
    "print(allUpperCase)\n",
    "allLowerCase = applyToEachString(str.lower, ['Building', 'ROAD', 'tree'] )\n",
    "print(allLowerCase)\n",
    "\n",
    "def capitalizeFirstCharacter(s):\n",
    "\treturn s[:1].upper() + s[1:].lower()\n",
    "\n",
    "allCapitalized = applyToEachString(capitalizeFirstCharacter, ['Building', 'ROAD', 'tree'] )\n",
    "print(allCapitalized)"
   ]
  },
  {
   "cell_type": "code",
   "execution_count": 7,
   "id": "9d3ed005-224e-4a48-95d4-3142b04389ec",
   "metadata": {},
   "outputs": [
    {
     "name": "stdout",
     "output_type": "stream",
     "text": [
      "['Building', 'Road', 'Tree']\n"
     ]
    }
   ],
   "source": [
    "allCapitalized = applyToEachString(lambda s: s[:1].upper() +  s[1:].lower(), ['Building', 'ROAD', 'tree'] )\n",
    "print(allCapitalized)"
   ]
  },
  {
   "cell_type": "code",
   "execution_count": 9,
   "id": "f9375570-75bc-4d1f-aa47-56e9ff9f0dc5",
   "metadata": {},
   "outputs": [
    {
     "name": "stdout",
     "output_type": "stream",
     "text": [
      "['Building', 'Road', 'Tree']\n"
     ]
    }
   ],
   "source": [
    "allCapitalized = [(lambda s: s[:1].upper() + s[1:].lower())(q) for q in ['Building', 'ROAD', 'tree'] ]\n",
    "print(allCapitalized)"
   ]
  },
  {
   "cell_type": "code",
   "execution_count": 19,
   "id": "7afb52a7-0b0f-4fa2-8509-9105ab7cb0f7",
   "metadata": {},
   "outputs": [
    {
     "name": "stdout",
     "output_type": "stream",
     "text": [
      "[5, 8, 10]\n",
      "[5, 8, 10]\n"
     ]
    }
   ],
   "source": [
    "import operator\n",
    "print(list(map(operator.add, [1,3,4], [4,5,6])))\n",
    "print(list(map(lambda a,b: a + b, [1,3,4], [4,5,6])))"
   ]
  },
  {
   "cell_type": "code",
   "execution_count": 21,
   "id": "efd8f6a2-0aa7-4e59-9a8c-b49d7bc659ee",
   "metadata": {},
   "outputs": [
    {
     "data": {
      "text/plain": [
       "['ROAD']"
      ]
     },
     "execution_count": 21,
     "metadata": {},
     "output_type": "execute_result"
    }
   ],
   "source": [
    "list(filter(lambda s: s.startswith('R'), ['Building', 'ROAD', 'tree']))\n"
   ]
  },
  {
   "cell_type": "code",
   "execution_count": 22,
   "id": "caa66375-b881-414e-92d6-7e89905d3be1",
   "metadata": {},
   "outputs": [
    {
     "data": {
      "text/plain": [
       "240"
      ]
     },
     "execution_count": 22,
     "metadata": {},
     "output_type": "execute_result"
    }
   ],
   "source": [
    "import operator\n",
    "from functools import reduce\n",
    "\n",
    "reduce(operator.add, [234,3,3], 0)"
   ]
  },
  {
   "cell_type": "code",
   "execution_count": 24,
   "id": "153c726a-26db-464d-bdf3-dbb55384e854",
   "metadata": {},
   "outputs": [
    {
     "name": "stdout",
     "output_type": "stream",
     "text": [
      "Object `soup.get_text()` not found.\n",
      "326 µs ± 3.85 µs per loop (mean ± std. dev. of 7 runs, 1000 loops each)\n",
      "235 µs ± 1.73 µs per loop (mean ± std. dev. of 7 runs, 1000 loops each)\n"
     ]
    }
   ],
   "source": [
    "from bs4 import BeautifulSoup\n",
    "from bs4.element import Comment\n",
    "from functools import reduce\n",
    "import urllib.request\n",
    "\n",
    "documentURL = 'https://www.e-education.psu.edu/geog489/l1.html' \n",
    "\n",
    "def reduce_to_text(a,b):\n",
    "    if b.parent.name in ['style', 'script', 'head', 'title', 'meta', '[document]']:\n",
    "        return a\n",
    "    if isinstance(b, Comment):\n",
    "        return a\n",
    "    bstr = str.strip(str(b))\n",
    "    if len(bstr) == 0:\n",
    "        return a\n",
    "    return a + \"\\n\" + bstr\n",
    "\n",
    "def filter_text(b):\n",
    "    if b.parent.name in ['style', 'script', 'head', 'title', 'meta', '[document]']:\n",
    "        return False\n",
    "    if isinstance(b, Comment):\n",
    "        return False\n",
    "    bstr = str.strip(str(b))\n",
    "    if len(bstr) == 0:\n",
    "        return False\n",
    "    return True\n",
    "\n",
    "\n",
    "\n",
    "html = urllib.request.urlopen(documentURL).read()\n",
    "soup = BeautifulSoup(html, 'html.parser')\n",
    "texts = soup.findAll(text=True)\n",
    "%timeit reduced_text = reduce(reduce_to_text, texts, \"\")    \n",
    "%timeit filtered_text = '\\n'.join(filter(filter_text, texts))"
   ]
  },
  {
   "cell_type": "code",
   "execution_count": null,
   "id": "ebd21232-958b-431d-b5c8-300dccd0ef50",
   "metadata": {},
   "outputs": [],
   "source": []
  },
  {
   "cell_type": "code",
   "execution_count": null,
   "id": "d32038a9-7d5a-4546-a16d-ec675d4fc10a",
   "metadata": {},
   "outputs": [],
   "source": []
  }
 ],
 "metadata": {
  "kernelspec": {
   "display_name": "Python 3 (ipykernel)",
   "language": "python",
   "name": "python3"
  },
  "language_info": {
   "codemirror_mode": {
    "name": "ipython",
    "version": 3
   },
   "file_extension": ".py",
   "mimetype": "text/x-python",
   "name": "python",
   "nbconvert_exporter": "python",
   "pygments_lexer": "ipython3",
   "version": "3.9.6"
  }
 },
 "nbformat": 4,
 "nbformat_minor": 5
}
