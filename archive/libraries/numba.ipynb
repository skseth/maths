{
 "cells": [
  {
   "cell_type": "code",
   "execution_count": 1,
   "id": "4ef160ce-3261-4700-86e0-9ad3f1621af2",
   "metadata": {},
   "outputs": [],
   "source": [
    "import numpy as np\n",
    "import numba\n",
    "from numba import jit"
   ]
  },
  {
   "cell_type": "code",
   "execution_count": 2,
   "id": "6532c795-1f0a-4cb2-b750-e96967da233b",
   "metadata": {},
   "outputs": [],
   "source": [
    "@jit(nopython=True)\n",
    "def zero_clamp(x, threshold):\n",
    "    # assume 1D array.  See later in this notebook for more general function\n",
    "    out = np.empty_like(x)\n",
    "    for i in range(out.shape[0]):\n",
    "        if np.abs(x[i]) > threshold:\n",
    "            out[i] = x[i]\n",
    "        else:\n",
    "            out[i] = 0\n",
    "    return out   "
   ]
  },
  {
   "cell_type": "code",
   "execution_count": 3,
   "id": "4fa53bde-0fd6-4042-b94a-970bab613c84",
   "metadata": {},
   "outputs": [
    {
     "data": {
      "text/plain": [
       "array([0.        , 0.        , 0.        , 0.        , 0.        ,\n",
       "       0.        , 0.        , 0.        , 0.        , 0.        ,\n",
       "       0.        , 0.        , 0.        , 0.        , 0.        ,\n",
       "       0.30612245, 0.32653061, 0.34693878, 0.36734694, 0.3877551 ,\n",
       "       0.40816327, 0.42857143, 0.44897959, 0.46938776, 0.48979592,\n",
       "       0.51020408, 0.53061224, 0.55102041, 0.57142857, 0.59183673,\n",
       "       0.6122449 , 0.63265306, 0.65306122, 0.67346939, 0.69387755,\n",
       "       0.71428571, 0.73469388, 0.75510204, 0.7755102 , 0.79591837,\n",
       "       0.81632653, 0.83673469, 0.85714286, 0.87755102, 0.89795918,\n",
       "       0.91836735, 0.93877551, 0.95918367, 0.97959184, 1.        ])"
      ]
     },
     "execution_count": 3,
     "metadata": {},
     "output_type": "execute_result"
    }
   ],
   "source": [
    "a_small = np.linspace(0, 1, 50)\n",
    "zero_clamp(a_small, 0.3)"
   ]
  },
  {
   "cell_type": "code",
   "execution_count": 6,
   "id": "170daec1-67f0-4fee-a5ea-5ce1a91b4ed4",
   "metadata": {},
   "outputs": [],
   "source": [
    "n = 10000\n",
    "a_int16 = np.arange(n).astype(np.int16)\n",
    "a_float32 = np.linspace(0, 1, n, dtype=np.float32)\n",
    "a_float32_strided = np.linspace(0, 1, 2*n, dtype=np.float32)[::2]  # view of every other element"
   ]
  },
  {
   "cell_type": "code",
   "execution_count": 5,
   "id": "e170394e-d26d-4a1e-b82d-c7569a8d1dfc",
   "metadata": {},
   "outputs": [
    {
     "name": "stdout",
     "output_type": "stream",
     "text": [
      "11.5 µs ± 79.7 ns per loop (mean ± std. dev. of 7 runs, 100000 loops each)\n",
      "11.6 µs ± 88.9 ns per loop (mean ± std. dev. of 7 runs, 100000 loops each)\n",
      "17.3 µs ± 166 ns per loop (mean ± std. dev. of 7 runs, 100000 loops each)\n"
     ]
    }
   ],
   "source": [
    "%timeit zero_clamp(a_int16, 1600)\n",
    "%timeit zero_clamp(a_float32, 0.3)\n",
    "%timeit zero_clamp(a_float32_strided, 0.3)"
   ]
  },
  {
   "cell_type": "code",
   "execution_count": 7,
   "id": "5df16d75-4ef2-4355-8417-ce52a5a8878f",
   "metadata": {},
   "outputs": [
    {
     "data": {
      "text/plain": [
       "[(array(float64, 1d, C), float64),\n",
       " (array(int16, 1d, C), int64),\n",
       " (array(float32, 1d, C), float64),\n",
       " (array(float32, 1d, A), float64)]"
      ]
     },
     "execution_count": 7,
     "metadata": {},
     "output_type": "execute_result"
    }
   ],
   "source": [
    "zero_clamp.signatures"
   ]
  },
  {
   "cell_type": "code",
   "execution_count": 8,
   "id": "ace91080-3460-4bc1-9c63-cd64bb810eb8",
   "metadata": {},
   "outputs": [],
   "source": [
    "def np_zero_clamp(x, threshold):\n",
    "    return np.where(np.abs(x) > threshold, x, 0)"
   ]
  },
  {
   "cell_type": "code",
   "execution_count": 9,
   "id": "6228f4a3-12d3-4e14-a261-852b13eb6697",
   "metadata": {},
   "outputs": [
    {
     "name": "stdout",
     "output_type": "stream",
     "text": [
      "13.8 µs ± 122 ns per loop (mean ± std. dev. of 7 runs, 100000 loops each)\n",
      "17.1 µs ± 47.3 ns per loop (mean ± std. dev. of 7 runs, 100000 loops each)\n",
      "19.3 µs ± 595 ns per loop (mean ± std. dev. of 7 runs, 100000 loops each)\n"
     ]
    }
   ],
   "source": [
    "%timeit np_zero_clamp(a_int16, 1600)\n",
    "%timeit np_zero_clamp(a_float32, 0.3)\n",
    "%timeit np_zero_clamp(a_float32_strided, 0.3)"
   ]
  },
  {
   "cell_type": "code",
   "execution_count": null,
   "id": "69256e8a-8c37-4e3b-917f-2c125581a40e",
   "metadata": {},
   "outputs": [],
   "source": []
  }
 ],
 "metadata": {
  "kernelspec": {
   "display_name": "Python 3 (ipykernel)",
   "language": "python",
   "name": "python3"
  },
  "language_info": {
   "codemirror_mode": {
    "name": "ipython",
    "version": 3
   },
   "file_extension": ".py",
   "mimetype": "text/x-python",
   "name": "python",
   "nbconvert_exporter": "python",
   "pygments_lexer": "ipython3",
   "version": "3.9.6"
  }
 },
 "nbformat": 4,
 "nbformat_minor": 5
}
