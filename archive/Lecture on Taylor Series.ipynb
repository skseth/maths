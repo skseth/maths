{
 "cells": [
  {
   "cell_type": "markdown",
   "id": "4c46a56d-12e3-453f-bc90-7555081c4b05",
   "metadata": {},
   "source": [
    "https://notebook.community/mathinmse/mathinmse.github.io/Lecture-10A-Taylors-Series\n"
   ]
  },
  {
   "cell_type": "code",
   "execution_count": null,
   "id": "d3afc815-5ca0-4dfb-8a09-af2a78bcdd70",
   "metadata": {},
   "outputs": [],
   "source": []
  }
 ],
 "metadata": {
  "kernelspec": {
   "display_name": "Python 3 (ipykernel)",
   "language": "python",
   "name": "python3"
  },
  "language_info": {
   "codemirror_mode": {
    "name": "ipython",
    "version": 3
   },
   "file_extension": ".py",
   "mimetype": "text/x-python",
   "name": "python",
   "nbconvert_exporter": "python",
   "pygments_lexer": "ipython3",
   "version": "3.9.6"
  }
 },
 "nbformat": 4,
 "nbformat_minor": 5
}
