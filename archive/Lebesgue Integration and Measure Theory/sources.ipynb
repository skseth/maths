{
 "cells": [
  {
   "cell_type": "markdown",
   "metadata": {},
   "source": [
    "[OU BBC: The Lebesgue Integral](https://www.youtube.com/playlist?list=PLISEtDmihMo2i5tj7UCmz43dORdpG_SMY) - great 1st introduction from the 70s\n",
    "\n",
    "Lebesgue Integration and Measure by Alan Weir - Book accompanying the BBC series above\n",
    "\n",
    "Lebesgue Integration on Euclidean Space - Jones : A more modern book, greater rigor, but still a first introduction"
   ]
  }
 ],
 "metadata": {
  "language_info": {
   "name": "python"
  }
 },
 "nbformat": 4,
 "nbformat_minor": 2
}
