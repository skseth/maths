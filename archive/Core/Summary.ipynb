{
 "cells": [
  {
   "cell_type": "markdown",
   "metadata": {},
   "source": [
    "# Basics of Mathematics"
   ]
  },
  {
   "cell_type": "markdown",
   "metadata": {},
   "source": [
    "## Set Theory\n",
    "\n",
    "Source: Munkres, Halmos\n",
    "\n",
    "Basics\n",
    "- sets, and basic operations on sets (intersection, union, difference)\n",
    "- relations and functions\n",
    "- families, index sets\n",
    "\n",
    "Infinity\n",
    "- Axiom of infinity\n",
    "- Contructing the natural numbers\n",
    "- Infinite sets have a 1-1 correspondence with a proper subset\n",
    "- N is the smallest infinity\n",
    "\n",
    "Order & Equivalence Relations\n",
    "- Partial order\n",
    "- Equivalence relations\n",
    "\n",
    "Axiom of Choice and its implications\n",
    "\n",
    "- Axiom of Choice\n",
    "- Zorn's Lemma\n",
    "- Hausdorff Maximality Principle\n",
    "\n",
    "Cardinal & Ordinal Numbers\n",
    "- Orders of infinity\n",
    "- Continuum Hypothesis\n",
    "\n"
   ]
  },
  {
   "cell_type": "markdown",
   "metadata": {},
   "source": [
    "# Basic Numbers - N,Z,Q,R,C\n",
    "\n",
    "Rings\n",
    "Fields\n",
    "\n",
    "Construction of N,Z,Q,R,C\n",
    "\n",
    "Definition of powers and roots\n",
    "\n",
    "Beginnings of Abstract Algebra   \n",
    "Rings   \n",
    "Fields  \n",
    "Groups  \n"
   ]
  },
  {
   "cell_type": "markdown",
   "metadata": {},
   "source": [
    "# Vector Spaces\n",
    "\n",
    "Linear Algebra Done Right - Axler\n",
    "\n",
    "Vector Spaces over a field\n",
    "\n",
    "Bases, Dimension\n",
    "\n",
    "Solution to systems of linear equations\n",
    "\n",
    "Linear Operators\n",
    "\n",
    "Matrices representinng linear operators\n",
    "\n",
    "Determinants and the concept of volume\n",
    "\n",
    "Inner Product "
   ]
  },
  {
   "cell_type": "markdown",
   "metadata": {},
   "source": [
    "# Geometry\n",
    "\n",
    "A Course in Modern Geometries - Judith Greenberg\n",
    "Eucliden and non-Euclidean Geometris - George Martin\n",
    "\n",
    "Euclidean Geometry\n",
    "Projective Geometry\n",
    "Hyperbolic Geometry\n",
    "\n",
    "Groups \n",
    "Isometries of the Euclidean Plane\n",
    "Symmetries of a n-polygon\n",
    "\n",
    "Symmetries of 3D Space"
   ]
  },
  {
   "cell_type": "markdown",
   "metadata": {},
   "source": [
    "# Combinatorics\n",
    "\n",
    "Combinations  \n",
    "Permutations  \n",
    "Pigeonhole principle  \n"
   ]
  },
  {
   "cell_type": "markdown",
   "metadata": {},
   "source": [
    "# Probability  \n",
    "\n"
   ]
  }
 ],
 "metadata": {
  "kernelspec": {
   "display_name": "Python 3 (ipykernel)",
   "language": "python",
   "name": "python3"
  },
  "language_info": {
   "codemirror_mode": {
    "name": "ipython",
    "version": 3
   },
   "file_extension": ".py",
   "mimetype": "text/x-python",
   "name": "python",
   "nbconvert_exporter": "python",
   "pygments_lexer": "ipython3",
   "version": "3.9.6"
  }
 },
 "nbformat": 4,
 "nbformat_minor": 4
}
