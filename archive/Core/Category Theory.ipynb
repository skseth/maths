{
 "cells": [
  {
   "cell_type": "markdown",
   "metadata": {},
   "source": [
    "https://www.youtube.com/watch?v=ti-t0e9nMIo"
   ]
  },
  {
   "cell_type": "markdown",
   "metadata": {},
   "source": [
    "# Category\n",
    "\n",
    "A category contains\n",
    "- a set of objects A,B,C,D\n",
    "- a set of arrows or morphisms f,g,h such that \n",
    "\n",
    "(1) every arrow f has a domain  (dom(f)) and a codomain (cod(f)). We write f:A -> B  \n",
    "(2) Given an arrow f:A -> B, and g: B -> C, there is an arrow f o g : A -> C called the composition of f and g. compositions are associative : f o (g o h) = (f o g) o h  \n",
    "(3) every object A has an arrow $1_A$, s.t. given f: A -> B, $f\\ o\\ 1_A = 1_B\\ o\\ f = f$\n",
    "\n",
    "# Functors\n",
    "\n",
    "Given Categories C and D, with A,B as objects in C, a function F:C -> D defines maps between objects and arrows such that :\n",
    "\n",
    "$F(f: A -> B) = F(f): F(A) -> F(B)$   \n",
    "$F(1_A) = 1_{F_A}$  \n",
    "$F(f\\ o\\ g) = F(f)\\ o\\ F(g)$\n",
    "\n",
    "Every category has an identity functor."
   ]
  },
  {
   "cell_type": "markdown",
   "metadata": {},
   "source": [
    "## Examples of categories\n",
    "\n",
    "Concrete categories: Sets as objects, functions as arrows\n",
    "\n",
    "Sets with functions\n",
    "Finite Sets $Sets_{fin}$ with functions between them\n",
    "Poset with monotone functions\n",
    "Structures sets (vector spaces w/ linear maps, groups and group homomorphisms, R and continuous functions )\n",
    "\n",
    "More abstract categories :\n",
    "Rel : Sets as objects, relations as arrows.\n",
    "\n",
    "The category of sets is incredibly large. We can also have finite categories \n",
    "\n",
    "1 : 1 object, no arrows other than identity\n",
    "2 : 2 objects, one arrow. (if we have 2 arrows, we end up with an infinite category)\n",
    "3 : 3 objects, 3 arrows\n",
    "\n",
    "Basically in finite categories we have to avoid \"loops\" e.g. fgfgfg, which would make it infinite.\n",
    "\n",
    "How to show something is a category : Verify composition & unit identities are met\n",
    "\n",
    "Cat : category of categories\n",
    "\n",
    "Preorder\n",
    "\n",
    "Poset - category as a generalized poset\n",
    "\n",
    "T0 spaces in topology are a poset \n",
    "\n",
    "\n",
    "\n"
   ]
  },
  {
   "cell_type": "markdown",
   "metadata": {},
   "source": [
    "# Homorphism\n",
    "\n",
    "\n",
    "\n",
    "Monoid - semigroup with unit - a set M equipped with a binary operation and a unit, associative. No inverse necessarily. \n",
    "\n",
    "There is a simple map between a monoid and the category axioms - in fact we can treat a monoid as a category itself, with just one object. In this view every element of the monoid is an arrow, the unit becomes the identity for the one object of the monoid. Composition is the binary operation defined on the monoid, which is naturally may be addition or multiplication for example. Examples : N,Q,R\n",
    "\n",
    "For any set X, the set of all functions from X to X (called $Hom_{Sets}(X,X)$) form a monoid under composition. In general, for any category C, the set of morphisms from C to C (called $Hom_C(C,C)$) is a monoid under the composition operator of C.\n",
    "\n",
    "Mon is a category whose objects are monoid, and arrows between them preserve the monoid structure. Such arrows are called homomorphisms. A homomorphism h from A to B has the property that, given m,n in A\n",
    "\n",
    "$h(m\\ ._A n) = h(m) ._{B} h(n)$ and $h(u_A) = u_B$\n",
    "\n",
    "Note that a monoid homomorphism is a functor when we regard a monoid as a category.\n",
    "\n"
   ]
  },
  {
   "cell_type": "markdown",
   "metadata": {},
   "source": [
    "# Isomorphism\n",
    "\n",
    "In a category C, an arrow f: A -> B is called an isomorphism if there is an arrow g: B -> A such that :\n",
    "\n",
    "$g\\ o\\ f = 1_A, f\\ o\\ g = 1_B$\n",
    "\n",
    "Inverses are unique - hence $f = g^{-1}$\n",
    "Proof: $g\\ o\\ f\\ o\\ g' => 1_A\\ o\\ g' = g\\ o\\ 1_B => g' = g$\n",
    "Group is a monoid with inverse for every element g. Thus G is a category where every arrow is an isomorphism. \n",
    "\n",
    "Isomorphism on a category is an equivalence relation - reflexive, symmetric, transitive  \n",
    "Proof: Let f:A -> B be an isomorphism. g be the inverse. $1_A$ is its own inverse, since $1_A o 1_A = 1_A$. If g is inverse of f, then f is inverse of g, from definition. So B is isomorphic to A. Let k: B -> C be an isomorphism, with inverse l. So $l\\ o\\ k = 1_B$, $k\\ o\\ l = 1_C$. $g\\ o\\ l\\ o\\ k = g$ and $(g\\ o\\ l)\\ o\\ (k\\ o\\ f) = 1_A$. Similarly, $k\\ o\\ l = 1_C$ => $k\\ o\\ 1_B\\ o\\ l = 1_C$ => $k\\ o\\ (f\\ o\\ g)\\ \\o l = 1_C$ => $(k\\ o\\ f)\\ o\\ (g\\ o\\ l) = 1_C$ Thus (k o f) and (g o l) are inverse functions between A and C, and A is isomorphic to C.\n",
    "\n",
    "If f has an inverse, it follows the left and right cancellation laws (proof - just compose with inverse).\n",
    "\n",
    "## General Division : Determination and Choice\n",
    "\n",
    "Determination or extension : h: A -> C. f: A -> B. What are the g, such that h = g o f. If such a g exists, we say h is determined by f, or h is function of f.\n",
    "\n",
    "Lifting or choice : h: A -> C. g : B -> C. What is the f such that h = g o f\n",
    "\n",
    "Retraction : Determination, where h is identity. Thus a retraction for a map f: A -> B is a map r: B -> A such that $r\\ o\\ f = 1_A$. i.e. you take f first, then retract, and get back the identity on the domain.\n",
    "\n",
    "Section : Choice, where h is identity. Thus a section for a map f: A -> B is a map s: A -> B, such that $f\\ o\\ s = 1_B$\n",
    "\n",
    "\n",
    "\n",
    "\n",
    "\n",
    "\n",
    "For any set, the set of permutations (called automorphisms) form a group, called Aut(X), with the permutations being isomorphisms. A group of permutations is a subgroup $G \\subset Aut(X)$ for some X, i.e. a group of some automorphisms in X which has the identity function, and is closed under composition and inverses. \n",
    "\n",
    "A homomorphism of groups is just monoidal homomorphism, which also preserves inverses.  \n",
    "Proof: Let h be a homomorphism - then $h(m\\ ._A n) = h(m) ._{B} h(n)$ and $h(u_A) = u_B$\n",
    "$h(m\\ ._A m^{-1}) = h(I_A) = I_B = h(m) ._{B} h(m^{-1})$\n",
    "\n",
    "Theorem (Cayley) : Every group G is isomorphic to a group of permutations.\n",
    "\n",
    "\n"
   ]
  },
  {
   "cell_type": "code",
   "execution_count": null,
   "metadata": {},
   "outputs": [],
   "source": []
  }
 ],
 "metadata": {
  "kernelspec": {
   "display_name": "Python 3 (ipykernel)",
   "language": "python",
   "name": "python3"
  },
  "language_info": {
   "codemirror_mode": {
    "name": "ipython",
    "version": 3
   },
   "file_extension": ".py",
   "mimetype": "text/x-python",
   "name": "python",
   "nbconvert_exporter": "python",
   "pygments_lexer": "ipython3",
   "version": "3.9.6"
  }
 },
 "nbformat": 4,
 "nbformat_minor": 4
}
