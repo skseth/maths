{
 "cells": [
  {
   "cell_type": "markdown",
   "id": "fa2dc64e-4f31-4baf-a83b-0e427ae3f889",
   "metadata": {},
   "source": [
    "# Belief vs Frequency\n",
    "\n",
    "Consider the following statements :\n",
    "\n",
    "a) This coin is biased and will toss heads with a probability of 0.6\n",
    "\n",
    "b) We are 90% certain that the universe was created by a big bang, based on the evidence that more distant galaxies are receding faster. \n",
    "\n",
    "c) It will rain soon.\n",
    "\n",
    "The first proposition (coin toss) is a statement of how the coin will behave if tossed. It can be verified by conducting an experiment of tossing the coin repeatedly and making measurements. This is an example of **frequency-type** probability. It involved words such as frequency, tendency, propensity, disposition, symmetry.  This involves a statement of *how the world is*.\n",
    "\n",
    "The second proposition talks of evidence which could result in a belief or confidence in a proposition, based on evidence or some other reasons. This was **interpersonal/evidential reasoning** which can be shared across multiple people.The third proposition is an expression of personal belief. These are both examples of **belief-type** probability. It involved words such as belief, confidence, credibility, evidence. \n",
    "\n",
    "\n"
   ]
  },
  {
   "cell_type": "markdown",
   "id": "bb12e500-5c3b-4cca-a8d0-25fdb7fd4682",
   "metadata": {},
   "source": [
    "**interpersonal vs personal probability**\n",
    "\n",
    "Probability as applied to a person's belief. \n",
    "\n",
    "Consider two statements :\n",
    "\n",
    "> \"It is probable that dinosaurs went extinct when an asteroid hit the earth.\"\n",
    "\n",
    "vs\n",
    "\n",
    "> \"I am very confident that dinosaurs went extinct when an asteroid hit the earth.\"\n",
    "\n",
    "The first is a statement involving **interpersonal** belief - *anyone* who is well informed should share this view.\n",
    "\n",
    "The second is an expression of personal belief. This is subjective, and yet, to be coherent, personal beliefs still need to follow the rules of probability. \n",
    "\n",
    "\n",
    "**logical probability vs frequency of occurence**\n",
    "\n",
    "Probability as used in logic.\n",
    "\n",
    "Think of the following statement :\n",
    "\n",
    "> \"Relative to the available evidence, it is reasonable to have a high degree of belief in the dinosaur/asteroid hypothesis.\"\n",
    "\n",
    "Here we talk of the probability of a hypothesis being true, given the evidence - P(H/E). One view is that all probability is only relative in this sense. According to this view, saying P(H/E) = 0.9 is a statement about logical deductibility.\n",
    "\n",
    "Frequency dogmatists oppose this and insist that the probability of an event can be determined in an absolute sense. John Venn in the **Logic of Chance** argued that probability should not be identified with the rationality of holding a certain belief based on evidence. Instead he assumed a world of a class of events (experiments?), with probability being a measure of the frequency with which an event occurs among that class, *in the long run*. In theory, this converts probability to an objective statement about frequency rather than a subjective statement of belief.\n",
    "\n",
    "This concept of frequency in the long-run (the **limiting frequency**). The next idea that occurs to a mathematician is that of a convergence and mathematical limit. That leads to the idealization of an infinite sequence of trials in which the relative frequency of an outcome S converges to a limit. But that is not enough. We also need the trials to be **independent** - the impossibility of a gambling system.\n",
    "\n",
    "The limiting frequency idea emphasizes what can be seen too happen, rather than the underlying causes or structures. But a different frequency type idea is one of **propensity**. The key here is that there is in fact an inherent propensity or tendency of the chance setup. This view is particularly relevant when we think of stochastic processes in nature e.g. radioactive decay. The distribution of clicks on the Gieger counter may point us towards the actual answer, but there is an underlying physical cause for the decay which results in the click, whose objective properties we are analyzing.\n",
    "\n",
    "\n"
   ]
  },
  {
   "cell_type": "markdown",
   "id": "7857e815-afff-45c5-aded-f26884fb995d",
   "metadata": {},
   "source": [
    "## Probability as measure of belief\n",
    "\n"
   ]
  },
  {
   "cell_type": "markdown",
   "id": "b68f1770-5468-4eb0-ba07-5e5e15b23ba2",
   "metadata": {},
   "source": [
    "Learning from experience\n",
    "Bayesian thinking\n"
   ]
  }
 ],
 "metadata": {
  "kernelspec": {
   "display_name": "Python 3 (ipykernel)",
   "language": "python",
   "name": "python3"
  },
  "language_info": {
   "codemirror_mode": {
    "name": "ipython",
    "version": 3
   },
   "file_extension": ".py",
   "mimetype": "text/x-python",
   "name": "python",
   "nbconvert_exporter": "python",
   "pygments_lexer": "ipython3",
   "version": "3.9.6"
  }
 },
 "nbformat": 4,
 "nbformat_minor": 5
}
