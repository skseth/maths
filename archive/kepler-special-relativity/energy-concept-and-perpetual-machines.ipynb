{
 "cells": [
  {
   "cell_type": "markdown",
   "id": "d7b22a01-e277-42a3-b34f-3385da05a0ea",
   "metadata": {},
   "source": [
    "[Perpetual Machines](http://www.kilty.com/pmotion.htm)"
   ]
  },
  {
   "cell_type": "code",
   "execution_count": null,
   "id": "4303bcb8-83f8-45b3-91aa-7bf99d4e74ff",
   "metadata": {},
   "outputs": [],
   "source": []
  }
 ],
 "metadata": {
  "kernelspec": {
   "display_name": "Python 3 (ipykernel)",
   "language": "python",
   "name": "python3"
  },
  "language_info": {
   "codemirror_mode": {
    "name": "ipython",
    "version": 3
   },
   "file_extension": ".py",
   "mimetype": "text/x-python",
   "name": "python",
   "nbconvert_exporter": "python",
   "pygments_lexer": "ipython3",
   "version": "3.9.6"
  }
 },
 "nbformat": 4,
 "nbformat_minor": 5
}
