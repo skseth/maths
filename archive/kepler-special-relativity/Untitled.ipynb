{
 "cells": [
  {
   "cell_type": "markdown",
   "id": "5a6dbe55-5511-492d-9707-b3dbb3982f0c",
   "metadata": {},
   "source": [
    "# Classical Mechanics\n",
    "\n",
    "https://www.physics.rutgers.edu/~shapiro/507/book3.pdf\n",
    "\n",
    "https://www.youtube.com/playlist?list=PL5E4E56893588CBA8 (Prof Balakrishna)\n",
    "\n",
    "https://www.youtube.com/watch?v=TcmGYe39XG0 (Prof Balakrishna)"
   ]
  },
  {
   "cell_type": "markdown",
   "id": "ca6199b1-61eb-45bf-8054-c8f10071889a",
   "metadata": {},
   "source": [
    "# Pulling a Block\n"
   ]
  },
  {
   "cell_type": "code",
   "execution_count": 27,
   "id": "d8773f8b-2e3f-4522-828f-77535774d161",
   "metadata": {},
   "outputs": [],
   "source": [
    "import sympy as sp\n",
    "from sympy.plotting import plot\n",
    "sp.init_printing()"
   ]
  },
  {
   "cell_type": "code",
   "execution_count": 23,
   "id": "f1c51daa-fe17-44a3-bcc0-4ecfbceaca6c",
   "metadata": {},
   "outputs": [],
   "source": [
    "a = sp.symbols('a')"
   ]
  },
  {
   "cell_type": "code",
   "execution_count": 55,
   "id": "14300862-e099-4cb1-b6b2-81f5f001c706",
   "metadata": {},
   "outputs": [],
   "source": [
    "y = (0.42*9.8)/(sp.cos(a) + 0.42*sp.sin(a))"
   ]
  },
  {
   "cell_type": "code",
   "execution_count": 56,
   "id": "47480d65-69e9-41b1-8c60-dfe0495e914a",
   "metadata": {},
   "outputs": [
    {
     "data": {
      "image/png": "[encoded data removed]",
      "text/latex": [
       "$\\displaystyle \\frac{4.116}{0.42 \\sin{\\left(a \\right)} + \\cos{\\left(a \\right)}}$"
      ],
      "text/plain": [
       "       4.116        \n",
       "────────────────────\n",
       "0.42⋅sin(a) + cos(a)"
      ]
     },
     "execution_count": 56,
     "metadata": {},
     "output_type": "execute_result"
    }
   ],
   "source": [
    "y"
   ]
  },
  {
   "cell_type": "code",
   "execution_count": 59,
   "id": "ffea8bd7-1da3-4408-b62f-976d6fb0524d",
   "metadata": {},
   "outputs": [
    {
     "data": {
      "image/png": "[encoded data removed]",
      "text/plain": [
       "<Figure size 432x288 with 1 Axes>"
      ]
     },
     "metadata": {
      "needs_background": "light"
     },
     "output_type": "display_data"
    },
    {
     "data": {
      "text/plain": [
       "<sympy.plotting.plot.Plot at 0x7ff5deebf370>"
      ]
     },
     "execution_count": 59,
     "metadata": {},
     "output_type": "execute_result"
    }
   ],
   "source": [
    "plot(y, xlim=[0, sp.pi/2], ylim=[0,5])\n"
   ]
  },
  {
   "cell_type": "code",
   "execution_count": 49,
   "id": "a54bca41-7e83-479a-a787-0b3d0b1e8b71",
   "metadata": {},
   "outputs": [
    {
     "name": "stdout",
     "output_type": "stream",
     "text": [
      "sqrt(10)/10\n"
     ]
    }
   ],
   "source": [
    "from sympy.calculus.util import Interval\n",
    "ivl = Interval(0,sp.pi/2)\n",
    "print(sp.minimum(y, a, ivl))"
   ]
  },
  {
   "cell_type": "code",
   "execution_count": 64,
   "id": "f92b24ff-97cb-4959-8215-af4bcd94163b",
   "metadata": {},
   "outputs": [
    {
     "data": {
      "image/png": "[encoded data removed]",
      "text/latex": [
       "$\\displaystyle \\frac{4.116 \\left(\\sin{\\left(a \\right)} - 0.42 \\cos{\\left(a \\right)}\\right)}{\\left(0.42 \\sin{\\left(a \\right)} + \\cos{\\left(a \\right)}\\right)^{2}}$"
      ],
      "text/plain": [
       "4.116⋅(sin(a) - 0.42⋅cos(a))\n",
       "────────────────────────────\n",
       "                        2   \n",
       "  (0.42⋅sin(a) + cos(a))    "
      ]
     },
     "execution_count": 64,
     "metadata": {},
     "output_type": "execute_result"
    }
   ],
   "source": [
    "sp.diff(y)"
   ]
  },
  {
   "cell_type": "code",
   "execution_count": null,
   "id": "8180d72b-32b5-48ca-bef7-776e117053d8",
   "metadata": {},
   "outputs": [],
   "source": []
  }
 ],
 "metadata": {
  "kernelspec": {
   "display_name": "Python 3 (ipykernel)",
   "language": "python",
   "name": "python3"
  },
  "language_info": {
   "codemirror_mode": {
    "name": "ipython",
    "version": 3
   },
   "file_extension": ".py",
   "mimetype": "text/x-python",
   "name": "python",
   "nbconvert_exporter": "python",
   "pygments_lexer": "ipython3",
   "version": "3.9.6"
  }
 },
 "nbformat": 4,
 "nbformat_minor": 5
}
