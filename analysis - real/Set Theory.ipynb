{
 "cells": [
  {
   "cell_type": "markdown",
   "metadata": {},
   "source": [
    "Set Theory\n",
    "Source: Munkres, Halmos\n",
    "\n",
    "Basics\n",
    "\n",
    "sets, and basic operations on sets (intersection, union, difference)\n",
    "relations and functions\n",
    "families, index sets\n",
    "Infinity\n",
    "\n",
    "Axiom of infinity\n",
    "Contructing the natural numbers\n",
    "Infinite sets have a 1-1 correspondence with a proper subset\n",
    "N is the smallest infinity\n",
    "Order & Equivalence Relations\n",
    "\n",
    "Partial order\n",
    "Equivalence relations\n",
    "Axiom of Choice and its implications\n",
    "\n",
    "Axiom of Choice\n",
    "Zorn's Lemma\n",
    "Hausdorff Maximality Principle\n",
    "Cardinal & Ordinal Numbers\n",
    "\n",
    "Orders of infinity\n",
    "Continuum Hypothesis\n",
    "\n",
    "\n",
    "https://ncatlab.org/nlab/show/interactions+of+images+and+pre-images+with+unions+and+intersections#proofs_via_adjoints"
   ]
  },
  {
   "cell_type": "markdown",
   "metadata": {},
   "source": [
    "# Sets - Basic Definitions"
   ]
  },
  {
   "cell_type": "markdown",
   "metadata": {},
   "source": [
    "$A^B$ set of all functions from set B to A. The name comes from the fact that a function assigns one element of B, to each element of A - there are B choices and A slots, so we have ${\\#A}^{\\#B}$ possible combinations."
   ]
  },
  {
   "cell_type": "markdown",
   "metadata": {},
   "source": [
    "# Indexed Sets\n",
    "\n",
    "**Family or an Indexed Family** Given a set X and an set I, called the **index set**, is formally a function from I to X. X is called an **indexed set**. A key difference between a family and a set is that an item of the indexed set may appear multiple times in an indexed family.\n",
    "\n",
    "\n",
    "**List or n-tuple** A list or n-tiple is an indexed family with index as a the set of numbers {1,2..,n}. A list of length n looks like this : $(x_1, x_2, ..., x_n)$.\n",
    "\n",
    "Two lists are equal if and only if they have the same length and the same elements at the same index. "
   ]
  },
  {
   "cell_type": "markdown",
   "metadata": {},
   "source": [
    "R^n - set of all lists of length n from the set R"
   ]
  },
  {
   "cell_type": "code",
   "execution_count": null,
   "metadata": {},
   "outputs": [],
   "source": []
  }
 ],
 "metadata": {
  "kernelspec": {
   "display_name": "Python 3 (ipykernel)",
   "language": "python",
   "name": "python3"
  },
  "language_info": {
   "codemirror_mode": {
    "name": "ipython",
    "version": 3
   },
   "file_extension": ".py",
   "mimetype": "text/x-python",
   "name": "python",
   "nbconvert_exporter": "python",
   "pygments_lexer": "ipython3",
   "version": "3.9.6"
  }
 },
 "nbformat": 4,
 "nbformat_minor": 4
}
