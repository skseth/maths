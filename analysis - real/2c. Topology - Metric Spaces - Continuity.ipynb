{
 "cells": [
  {
   "cell_type": "markdown",
   "id": "6f7875d5-cb2a-47d7-b2b7-071421dc3cf6",
   "metadata": {},
   "source": [
    "Book : Introduction to Topology and Modern Analysis by George F Simmons - Chapter 2 : Metric Spaces"
   ]
  },
  {
   "cell_type": "markdown",
   "id": "410cc36a-12c1-4bd4-8b8b-43249e531f5a",
   "metadata": {},
   "source": [
    "**Definition : Continuity**  \n",
    "\n",
    "Let X and Y be metric spaces which metrics $d_1$ and $d_2$ respectively. A function $f:X \\to Y$ is said to be continuous if \n",
    "\n",
    "(a) at a point $x_0$ if for each $\\epsilon > 0$, there exists a $\\delta > 0$ such that $d_1(x, x_0) < \\delta \\implies d_2(f(x),f(x_0)) < \\epsilon$.\n",
    "\n",
    "or, equivalenty\n",
    "\n",
    "(b) for each open ball in the range : $B_{\\epsilon}(f(x_0))$, there is a open ball $B_{\\delta}(x_0)$ such that $f(B_{\\delta}(x_0)) \\subseteq B_{\\epsilon}(f(x_0))$\n",
    "\n",
    "Or, the general topological definition of continuity :\n",
    "\n",
    "(c) for every open set V in Y, $f^{-1}(V)$ is open in X.\n",
    "\n",
    "Note: $f^{-1}(V)$ is the pre-image of V in X. The pre-image of an open set can be complex. For example if $V = (1/2, 1/\\sqrt{2})$, then $sin^{-1}(V) = (\\pi/6, \\pi/4) \\cup (\\pi/6 + 2\\pi, \\pi/4 + 2\\pi) ...$ i.e. there may be multiple disjoint intervals forming the open set, if we are talking of R.\n",
    "\n",
    "\n",
    "Equivalence of the definitions :\n",
    "It is easy to see that (a) <=> B. And given (b) is true for every $x$ in X, we can get (c) : Since every open set in Y is a union of open balls, we see that the pre-image of a continuous function is also a union of open balls, and hence open. Does (c) imply (b) in a metric space?\n",
    "\n",
    "Let f be continuous as per (c). Then let $B_\\epsilon(y_0 = f(x_0))$ be an open set containing an arbitrary point $x_0$. Then $f^{-1}(B_{\\epsilon}(y_0))$ is open and contains $x_0$ (by definition of pre-image). This implies there is a ball $B_{\\delta}(x_0)$ entirely in $f^{-1}(B_{\\epsilon}(y_0))$ i.e. such that $f(B_{\\delta}(x_0)) \\subseteq B_\\epsilon(y_0)$.\n",
    "\n"
   ]
  },
  {
   "cell_type": "markdown",
   "id": "f7f77746-6865-4580-b291-8dec0727334f",
   "metadata": {},
   "source": [
    "**Theorem (Convergence of Sequences and functions): A function f from metric space X to metric space Y is continuous at $x_0$ iff $x_n \\to x_0 \\implies f(x_n) \\to f(x_0)$.**  \n",
    "\n",
    "Proof:  \n",
    "\n",
    "(=>)  \n",
    "Given $B_{\\epsilon}(f(x_0))$, we have an open ball $B_{\\delta}(x_0)$ such that $f(B_{\\delta}(x_0)) \\subseteq B_{\\epsilon}(f(x_0))$. If $x_n \\to x_0$, then there must be an N after which $d(x_n,x_0) < \\delta$ i.e. $x_n \\in B_{\\delta}(x_0)$ i.e. $f(x_n) \\in B_{\\epsilon}(f(x_0)) \\implies d(f(x_n), d(f(x_0))) < \\epsilon$ for all $n \\ge N$.\n",
    "\n",
    "(<=)  \n",
    "Assume f is not continuous at $x_0$. Then there is an open ball in Y, $B_\\epsilon(f(x_0))$, such that there is no open ball around $x_0$ contained entirely in the pre-image of $B_\\epsilon(f(x_0))$. We can now construct a sequence of open balls around $x_0$, $B_{1/n}(x_0)$ each of which contain a point $x_n$ not in the pre-image. We can see that $x_n \\to x_0$, but $f(x_n)$ does not have a limit of $f(x_0)$.\n"
   ]
  },
  {
   "cell_type": "markdown",
   "id": "ebdc3cec-20a7-44d9-8a0c-208750c34116",
   "metadata": {},
   "source": [
    "Note: Definitions (a) and (b) and the theorem above are defined for a point $x_0$. We can extend this definition to the entire domain of f if the condition holds through for every point in the domain.\n"
   ]
  },
  {
   "cell_type": "markdown",
   "id": "a91cda9c-af8a-4b8d-932d-2da5b30e2dfb",
   "metadata": {},
   "source": [
    "In the continuity definition above, given an $\\epsilon$, the $\\delta$ chosen depends on $\\epsilon$, but also on $x_0$. In a uniformly continuous function, there is a $\\delta$ that works for *every* point in the domain.\n",
    "\n",
    "e.g. $x^2, 1/x$ are not uniformly continuous. But $2x$ is.\n",
    "\n",
    "**Definition: Uniformly Continuity**  \n",
    "\n",
    "Let X and Y be metric spaces which metrics $d_1$ and $d_2$ respectively. A function $f:X \\to Y$ is said to be continuous if for each $\\epsilon$, there is a $\\delta$ such that for all x in X, $d_1(x,y) < \\delta$ \\implies $d_2(f(x), f(y)) < \\epsilon$.\n"
   ]
  },
  {
   "cell_type": "markdown",
   "id": "54d29bf4-6aef-48f4-a96c-7ac47e4dff76",
   "metadata": {},
   "source": [
    "**Theorem: Let X be a metric space, and Y be a complete metric space, and let A be a dense subspace of X. If f is a uniformly continuous mapping of A into Y, then f can be extended uniquely to a uniformly continuous function g from X into Y.**\n",
    "\n",
    "TBD\n",
    "\n",
    "**isometry, isometric mapping**"
   ]
  },
  {
   "cell_type": "markdown",
   "id": "c0d0eab3-a891-46a9-90d2-60bac366e0f6",
   "metadata": {},
   "source": [
    "## Spaces of Continuous Functions\n",
    "\n"
   ]
  },
  {
   "cell_type": "markdown",
   "id": "0d0b918b-1ce0-4bed-b22c-22702d53f0f6",
   "metadata": {},
   "source": [
    "linear space / vector space\n",
    "linear subspace\n",
    "normed linear space\n",
    "norm\n",
    "Banach Space\n",
    "\n",
    "Lemma: If f and g are continuous real functions defined on a metric space X, then f + g and $\\alpha f$ are also continuous, where $\\alpha$ is any real number.\n",
    "\n",
    "TBD - more details"
   ]
  },
  {
   "cell_type": "markdown",
   "id": "d5005967-bbb4-4079-88db-76b1a227c0ec",
   "metadata": {},
   "source": [
    "## Euclidean and Unitary Spaces\n",
    "\n",
    "Euclidean norm on $R^n$\n",
    "Cauchy's Inequality\n",
    "Minkowski's Inequality\n",
    "R^n is a Banach Space"
   ]
  },
  {
   "cell_type": "code",
   "execution_count": null,
   "id": "061c2e7c-a52c-44ac-887d-8f200ddcc566",
   "metadata": {},
   "outputs": [],
   "source": []
  }
 ],
 "metadata": {
  "kernelspec": {
   "display_name": "Python 3 (ipykernel)",
   "language": "python",
   "name": "python3"
  },
  "language_info": {
   "codemirror_mode": {
    "name": "ipython",
    "version": 3
   },
   "file_extension": ".py",
   "mimetype": "text/x-python",
   "name": "python",
   "nbconvert_exporter": "python",
   "pygments_lexer": "ipython3",
   "version": "3.9.6"
  }
 },
 "nbformat": 4,
 "nbformat_minor": 5
}
