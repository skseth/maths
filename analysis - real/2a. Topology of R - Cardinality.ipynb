{
 "cells": [
  {
   "cell_type": "markdown",
   "id": "4afb4d83-3f00-435a-92bb-c1ef987e2433",
   "metadata": {},
   "source": [
    "# Basic Topology of R"
   ]
  },
  {
   "cell_type": "markdown",
   "id": "175b18bf-e496-4373-9c05-3306e59126f3",
   "metadata": {},
   "source": [
    "## Summary\n",
    "\n",
    "Introduction to Topology and Modern Analysis by George F. Simmons\n",
    "\n",
    "[Baby Rudin Ch. 2: Basic Topology](https://medium.com/@intuitiverudin/baby-rudin-ch-2-basic-topology-6d0809c5079f)\n",
    "\n",
    "[What does compactness really mean](https://blogs.scientificamerican.com/roots-of-unity/what-does-compactness-really-mean/)"
   ]
  },
  {
   "cell_type": "markdown",
   "id": "7bef5971-de0b-4551-be3a-7d9de6271fe4",
   "metadata": {},
   "source": [
    "## Background\n",
    "\n",
    "Sets and Set Inclusion  \n",
    "The Algebra of Sets  \n",
    "Functions  \n",
    "Products of Sets (Including definition of $R^n$ or $C^n$) - index set, projection  \n",
    "Partitions and Equivalence Relations  \n"
   ]
  },
  {
   "cell_type": "markdown",
   "id": "fed11974-f6a6-45ea-acfd-b997f4db8795",
   "metadata": {},
   "source": [
    "## Cardinality \n",
    "\n",
    "\"Cardinality\" roughly equates to the number of elements in a set - to sets have the same cardinality (are numerically equivalence) if they have the same number of elements. It is easy to see that \"cardinality\" has the characteristics of an equivalence relation between sets (though for technical reasons there is no set of all sets, and hence this is not truly a relation).\n",
    "\n",
    "The basic idea is that two sets have the same cardinality if there exists a 1-1 and onto mapping between the two sets.\n",
    "\n",
    "For finite sets it is easy to see that why this is true. For infinite sets it is a little more complicated, because infinite sets have the property of being numerically equivalent to a subset of themselves! e.g. consider f(n) = n+1. For this we have the following theorem :\n",
    "\n",
    "**Theorem (Schroeder-Bernstein) : If X and Y are two sets each of which is numerically equivalent to a subset of the other, then X is numerically equivalent to Y**\n",
    "\n",
    "Proof:\n",
    "\n",
    "TBD"
   ]
  },
  {
   "cell_type": "markdown",
   "id": "b6128105-2c72-4011-8f9f-42db64b0874c",
   "metadata": {},
   "source": [
    "## Countable Sets\n",
    "\n",
    "Given two non-empty finite sets - we can basically associate a natural number n to each finite set representating the number of elements. Thus the **finite cardinal numbers** are just natural numbers.\n",
    "\n",
    "The cardinality of N (the set of natural numbers) : The set of natural numbers is the infinite - we can map natural numbers to a subset of itself. Any set which is numerically equivalent to N is said to be **countably infinite** and are said to have the cardinality $\\aleph_0$. \n",
    "\n",
    "A set is set to be **countable** if it's cardinality is finite or countably infinite. Note that the cardinal numbers can be ordered :\n",
    "\n",
    "$1 < 2 < 3 .. < \\aleph_0$\n",
    "\n",
    "**A countable union of countable sets is countable**\n",
    "\n",
    "TBD\n",
    "\n",
    "**The set of rational numbers is countable**\n",
    "\n",
    "TBD\n"
   ]
  },
  {
   "cell_type": "markdown",
   "id": "d79c8a26-54f5-4426-bc79-ab0cdd14d8d7",
   "metadata": {},
   "source": [
    "## Uncountable Sets\n",
    "\n",
    "Sets which are not countable are uncountable.\n",
    "\n",
    "**R is uncountable**\n",
    "\n",
    "Proof : Cantor's diagnolization argument\n",
    "\n",
    "Assume a 1-1 mapping f exists from N to R (for this we define $1/2$ to be 0.5000... and not .499... \n",
    "\n",
    "We can construct a number $.a_1a_2a_3..$ which differs from any of the numbers in the following way : $a_1 = 1$ if f(1) is 1, else $a_1 = 2$. We do this for each n - for example : $a_n = 1$ if f(n) is 1, else $a_n = 2$. Now we get a real number which is not in the domain of f - f is not onto. In other words there is no 1-1 and onto mapping from N to R i.e. R is uncountable.\n",
    "\n",
    "**Any open interval in R is uncountable and is numerically equivalent to R**\n",
    "\n",
    "Proof:\n",
    "\n",
    "TBD\n",
    "\n",
    "**Any subset of the real line and a subset X of itself containing an open interval I are numerically equivalent**\n",
    "\n",
    "Proof: X is numerically equivalent to itself, a subset of R. On the other hand, R is numerically equivalent to I which means X and R are numerically equivalent, by the Schroeder Bernstein theorem.\n",
    "\n",
    "**Cantor's Continuum Hypothesis**\n",
    "\n",
    "We denote c as the cardinality of R. Since R is uncountable.\n",
    "\n",
    "$1 < 2 < 3 .. < \\aleph_0 < c$\n",
    "\n",
    "Cantor's Continuum Hypothesis : There is no cardinal number between $\\aleph_0$ and c.\n",
    "\n",
    "**The cardinality of the power set of a set is always greater than the set itself**\n",
    "\n",
    "Given a set A, we refer to the power set as $2^A$. \n",
    "\n",
    "Proof: The mapping $x \\to \\{x\\}$ is 1-1 mapping from A to $2^A$. So we can have a 1-1 mapping between A and $2^A$.\n",
    "\n",
    "Assume a function f exists which is a 1-1 and onto mapping from A to $2^A$. We show this leads to contradiction.\n",
    "\n",
    "Assume $E = \\{x: x \\notin f(x)\\}$ - clearly E is a subset of A and hence $E \\in 2^A$. Note that if E is empty it is still in $2^A$.\n",
    "\n",
    "There must be an e such that $f(e) = E$. Is e in E? If yes, then by definition of E, $e \\notin f(e) = E$ - a contradiction. If no, then $e \\notin f(e) \\implies e \\in E$ - a contradiction. So clearly the assumptio of a 1-1 and onto mapping leads to contradiction.\n",
    "\n",
    "The result guarantees, given any cardinal number there is always a larger one.\n",
    "\n",
    "**Cardinality of R : $2^{\\aleph_0} = c$**\n",
    "\n",
    "Proof: \n",
    "\n",
    "Given the set of natural numbers N, the power set of N is $2^N$, with cardinality $2^{\\aleph_0}$. \n",
    "\n",
    "We can define a 1-1 and onto mapping from $2^N$ to $I = [0,1)$. We define a 1-1 mapping from $2^N$ to $I$ as follows :\n",
    "\n",
    "Given A in $2^N$, we define $f(A) = .d_1d_2d_3..$ where $d_n = 3$ or $d_n = 5$ based on whether n is in A or not.\n",
    "\n",
    "Next, we construct a 1-1 mapping from I to $2^N$. If x is in I, let $x = .b_1b_2...$, a binary expansion of x. We choose a subset A of N defined by $A = \\{n: b_n = 1\\}$. Clearly this is a 1-1 mapping.\n",
    "\n",
    "The Schroeder-Bernstein theorem then says that cardinality $2^N$ and c are the same.\n",
    "\n",
    "**There are infinite cardinal numbers**\n",
    "\n",
    "From the above, we see that there are infinite cardinal numbers :\n",
    "\n",
    "$1 < 2 < 3 .. < \\aleph_0 < c < 2^c < 2^{2^c} ...$\n",
    "\n",
    "\n",
    "\n",
    "\n",
    "\n",
    "\n"
   ]
  },
  {
   "cell_type": "markdown",
   "id": "4bf900c0-fabf-4624-badd-caf459333055",
   "metadata": {},
   "source": [
    "## Partially Ordered Sets and Lattices"
   ]
  },
  {
   "cell_type": "markdown",
   "id": "8886fbb0-4b2a-4622-8663-b4d5bf6aeedb",
   "metadata": {},
   "source": [
    "**Zorn's Lemma**\n",
    "\n",
    "Zorn's Lemma asserts that if P is a partially ordered set in which every chain has an upper bound, then P possesses a maximal element.\n",
    "\n",
    "A maximal element x in P is such that there is no y in P such that $y > x$.\n",
    "\n",
    "Zorn's lemma is logically equivalent to the **Axiom of Choice** : \"Given any non-empty class of disjoint non-empty sets, a set can be formed which contains precisely one element taken from each set in the given class.\"\n"
   ]
  }
 ],
 "metadata": {
  "kernelspec": {
   "display_name": "Python 3 (ipykernel)",
   "language": "python",
   "name": "python3"
  },
  "language_info": {
   "codemirror_mode": {
    "name": "ipython",
    "version": 3
   },
   "file_extension": ".py",
   "mimetype": "text/x-python",
   "name": "python",
   "nbconvert_exporter": "python",
   "pygments_lexer": "ipython3",
   "version": "3.9.6"
  }
 },
 "nbformat": 4,
 "nbformat_minor": 5
}
