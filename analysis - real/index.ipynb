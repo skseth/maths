{
 "cells": [
  {
   "cell_type": "markdown",
   "id": "ad84d673-a664-4aae-a5eb-43abc6d07f35",
   "metadata": {},
   "source": [
    "Course Material\n",
    "Baby Rudin\n",
    "http://www.youtube.com/harveymuddcollegeEDU\n",
    "\n",
    "Understanding Analysis by Abbott\n",
    "\n",
    "Sample tests and homework  : http://www-math.mit.edu/~rbm/18.100-F02.HMW/18.100-F02.HMW.html\n",
    "\n",
    "Rudin Supplementary Exercises : http://math.berkeley.edu/~gbergman/ug.hndts/m104_Rudin_exs.pdf\n",
    "\n",
    "Resources : \n",
    "http://books.google.co.in/books?id=UAM1HQnwQv8C&lpg=PA42&ots=uu9O6T4Xix&dq=raabe's%20test&pg=PA23#v=onepage&q=raabe's%20test&f=false\n",
    "\n",
    "\n",
    "http://math.ucsb.edu/~spjut/teaching/ma118a/\n",
    "\n",
    "http://www.mtts.org.in/expository-articles\n"
   ]
  },
  {
   "cell_type": "markdown",
   "id": "8bb96b27-7674-464a-9b7c-b84fb14814d6",
   "metadata": {},
   "source": []
  },
  {
   "cell_type": "code",
   "execution_count": null,
   "id": "f7dc3d52-241b-4076-8fde-a8f88c1cab40",
   "metadata": {},
   "outputs": [],
   "source": []
  }
 ],
 "metadata": {
  "kernelspec": {
   "display_name": "Python 3 (ipykernel)",
   "language": "python",
   "name": "python3"
  },
  "language_info": {
   "codemirror_mode": {
    "name": "ipython",
    "version": 3
   },
   "file_extension": ".py",
   "mimetype": "text/x-python",
   "name": "python",
   "nbconvert_exporter": "python",
   "pygments_lexer": "ipython3",
   "version": "3.9.6"
  }
 },
 "nbformat": 4,
 "nbformat_minor": 5
}
