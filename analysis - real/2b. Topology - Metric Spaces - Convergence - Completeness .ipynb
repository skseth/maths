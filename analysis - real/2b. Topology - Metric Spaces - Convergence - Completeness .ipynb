{
 "cells": [
  {
   "cell_type": "markdown",
   "id": "6f7875d5-cb2a-47d7-b2b7-071421dc3cf6",
   "metadata": {},
   "source": [
    "Book : Introduction to Topology and Modern Analysis by George F Simmons - Chapter 2 : Metric Spaces"
   ]
  },
  {
   "cell_type": "markdown",
   "id": "6c61e8b6-1a19-41ca-86a0-5da10899e8e7",
   "metadata": {},
   "source": [
    "Metric spaces are sets endowed with a concept of distance between their elements.\n",
    "\n",
    "For analysis, metric spaces are key to generalizing two key concepts of calculus : limits and continuity, both of which are based on the idea of distance."
   ]
  },
  {
   "cell_type": "markdown",
   "id": "6f812d42-872c-4afb-8290-c4d4e2bba54f",
   "metadata": {},
   "source": [
    "## Definition : Metric Space\n",
    "\n",
    "Let X be a non-empty set. A metric on X is a real function d of ordered pairs of elements of X such that :\n",
    "\n",
    "* $d(x,y) \\ge 0$ and $d(x,y) = 0 \\text{ iff } x = y$\n",
    "* $d(x,y) = d(y,x)$\n",
    "* $d(x,y) \\le d(x,z) + d(z,y)$ (**The Triangle Inequality**)\n",
    "\n",
    "Often more than one metric can be specified on a set - these are different metric spaces.\n",
    "\n",
    "The metric on R defined by $d(x,y) = |x - y|$ forms a metric.\n",
    "\n",
    "Besides this, we can define (using the extended real number system i.e. including $\\infty$ and $+\\infty$):\n",
    "\n",
    "**distance of point x from a set A** d(x,A) = $\\inf \\{d(x,a): a \\in A\\}$  \n",
    "**diameter of a set A** = $\\sup \\{d(a_1,a_2): a_1 \\in A, a_2 \\in A\\}$  \n",
    "\n",
    "$d(\\emptyset) = -\\infty$\n",
    "\n",
    "A bounded set is one whose diameter is finite."
   ]
  },
  {
   "cell_type": "markdown",
   "id": "2b31b7e0-622b-4357-9825-ca367e0dd28b",
   "metadata": {},
   "source": [
    "**Problem : If a set of intervals have a non-empty intersection, their union is an interval**\n",
    "\n",
    "Proof:\n",
    "\n",
    "By definition, a subset of R is an interval iff non-empty and contains every point \"between\" its endpoints - as can be easily proved by the definitions. If the intersection of a collection of intervals is non-empty, let x be in the intersection. Let a and b be any two points in the union of these intervals. Assume (wo loss of generality) a < b : We know then that intervals betweeen a & x and between b and x are in the union by the definition of an interval.\n",
    "\n",
    "(a < b < x):  \n",
    "Then $[a,b]$ in $[a,x]$ - hence belongs to the union\n",
    "\n",
    "(a < x < b):  \n",
    "Then $[a,b]$ = $[a,x] \\cup [x,b]$ - hence belongs to the union\n",
    "\n",
    "(x < a < b):\n",
    "Then $[a,b]$ in $[x,b]$ - hence belongs to the union\n",
    "\n",
    "Thus given any two points in the union, every point is in the union. Thus the union is an interval.\n",
    "\n",
    "\n",
    "\n",
    "\n"
   ]
  },
  {
   "cell_type": "markdown",
   "id": "ffb1335d-2dbd-4c12-b8ae-ee2c63e5a1be",
   "metadata": {},
   "source": [
    "### Normed Vector Space and Metric Spaces\n",
    "\n",
    "A **real vector space** is a set X with a special element 0, and three operations:\n",
    "\n",
    "Addition, Inverse, Scalar multiplication\n",
    "\n",
    "\n",
    "A **normed real vector space** is a real vector space X with an additional operation:\n",
    "\n",
    "**Norm**: Given an element x in X, one can form the norm ||x||, which is a non-negative number.\n",
    "This norm must satisfy the following axioms, for any x,y in X and any real number c:\n",
    "\n",
    "||x|| = 0 if and only if x = 0.  \n",
    "|| cx || = |c| ||x||.  \n",
    "|| x+y || <= ||x|| + ||y||  \n",
    "\n",
    "For any normed vector space we can define metric space :\n",
    "d(x,y) = ||x - y||"
   ]
  },
  {
   "cell_type": "markdown",
   "id": "1bc14903-bd42-4fc2-94d8-9a6758096a5d",
   "metadata": {},
   "source": [
    "## Open Sets in a metric space\n",
    "\n",
    "An open ball in a metric space X: $B_r(x) = \\{y: y \\in X, d(x,y) < r, r > 0\\}$\n",
    "\n",
    "An open set G in a metric space is a set such that for any x in G, there is a some r such that $B_r(x) \\subseteq G$.\n",
    "\n",
    "**Theorem: In any metric space X, $\\emptyset$ and X are always open**  \n",
    "**Theorem: In any metric space X, every open ball is open**  \n",
    "**Theorem: In any metric space X a set is open iff it is a union of open balls**\n",
    "**Theorem: In any metric space X, any union of open sets is open and any finite intersection of open sets in X is open**  \n",
    "Proof:  \n",
    "Since each open set is a union of open balls, the union of open sets is a union of open balls as well and hence open.\n",
    "Let $\\{G_i\\}$ be a finite collection of sets in X. If the collection is empty the intersection is all of X, which is open.\n",
    "If $\\{G_i\\}$ has n > 0 members. Let $G = \\cap_i G_i$. If G is empty, then it is open. If it is nonempty, then there must be an x in G such that $\\forall i \\le n: x \\in G_i$. So for each $G_i$ there must be an $r_i > 0$ such that $B_{r_i}(x)$ is in $G_i$. We can then see that for any x in G there is a ball containing members of G i.e. G is open.\n",
    "\n",
    "Note that an infinite intersection may not be open - in the limit the set of radii of the balls may tend to zero, and there may be no ball in G with radius > 0 around x.\n",
    "\n",
    "**A Metric Space X with the collection of open sets as defined is a topology**  \n",
    "\n",
    "Let X be a set, and T be a collection of subsets of X. We say T is a **topology** on X if :\n",
    "\n",
    "(1) X, $\\emptyset$ are in T  \n",
    "(2) Any union of a family of sets in T is also in T   \n",
    "(3) A finite intersection of sets in T is also in T  \n",
    "\n",
    "It follows from the above theorems that every metric space induces a topology based on the definitions above.\n",
    "\n",
    "A set is closed, if its complement is **open**. A set may be closed, open, both or neither. E.g. X and $\\emptyset$ are closed and open. We immediately get that the intersection of any family of closed sets is closed, and the union of a finite family of closed sets is closed (apply de Morgan's Laws).\n",
    "\n",
    "It follows that all the usual definitions of a topology apply :\n",
    "\n",
    "* neighborhood of x - contains an open set containing x\n",
    "* limit point of a subset A of X - every neighborhood of the limit point contains a point of A - a limit point is somehow closely connected to A, even when not in A\n",
    "* a set is closed iff it contains all its limit points.\n",
    "* a **closure** of a set A is the set together with its limit points, and is called $\\bar A$\n",
    "* the closure of a set A is the smallest closed set containing A.\n",
    "* a set is closed, iff it is equal to its closure\n",
    "* a set whose closure is the whole set is said to be **dense** in the set.\n",
    "* the **boundary** or **frontier** of a set A is the set of all points which are in the intersection of the closure of A and X-A. A point on the boundary is called a boundary point of A\n",
    "* A **interior point** of a set A is a point which has a neighborhood contained entirely in A, and the set of all interior points is called the **interior** of A Int(A)\n",
    "* Int(A) is an open subset of A containing every other open subset of A. $\\bar A$ is the smallest closed set containing A. For an open set A, A = Int(A). For a closed set A, $A = \\bar A$\n",
    "* The interior and boundary are disjoint\n",
    "\n",
    "**Theorem: Every non-empty open set on the real line is the union of a countable disjoint class of open intervals**  \n",
    "\n",
    "Let G be an open subset of R. Note that for any x, there is an open interval containing x, entirely in G. Also, this implies (because Q is dense in R) that each such open interval will contain one or more rational numbers. If we take the $I_x$ is the union of all open intervals containing x in G, since their intersection is non-empty, the union forms an interval. If y belongs to any interval containing x, then it is easy to see that $I_y = I_x$. Thus given any two points x and y in G, either $I_x$ and $I_y$ are disjoint or identical, because if they are not disjoint then they contain a common point z, and $I_x = I_z$ and $I_y = I_z = I_x$.  Else they are disjoint.\n",
    "\n",
    "Let I be the set of all $I_x$ for points x in G, and $G_r$ be the set of all rationals in G. $G_r$ is clearly non-empty (because G is non empty and every $I_x$ for x in G, contains a rational number). Let $f(r) = I_r$. Clearly f is onto i.e. its range is all of I. Thus $card(I) \\le card(G_r) \\le card(Q) = \\aleph_0$\n",
    "\n",
    "\n",
    "\n"
   ]
  },
  {
   "cell_type": "markdown",
   "id": "3c7c4b51-a43a-487f-b45e-d56f0f64462e",
   "metadata": {},
   "source": [
    "## Closed Sets in a metric space\n",
    "\n"
   ]
  },
  {
   "cell_type": "markdown",
   "id": "5c25c2a9-6d7e-4514-91db-79e91ab18cdd",
   "metadata": {},
   "source": [
    "What form do closed sets take in a metric space? We would hope that it coincides with our intuition that it has something to do with closed intervals.\n",
    "\n",
    "In Simmons the definition of a closed set is \"a set which contains all its limit points\"; Munkres defines a closed set as one whose complement is open. For this section, we will take the limit definition and prove its equivalence to the complement definition. \n",
    "\n",
    "**In a topology on a set X, a subset of X has all its limit points iff its complement is open**  \n",
    "\n",
    "Let C contain all its limit points. Then given any $x \\in C^c$ then there must be an open set around x not containing any point of C i.e. only containing points of $C^c$. So $C^c$ is open. Note that there may be no $x \\in C^c$, in which case again $C^c$ is open.\n",
    "\n",
    "It follows immediately that $X$ and $\\emptyset$ are both closed as well, in addition to being open.\n",
    "\n",
    "**Closed Ball of radius r centered on x: $B_r[x]$** \n",
    "\n",
    "TBD: Need to check if this is common notation\n",
    "\n",
    "**In a metric space X, closed balls are closed**\n",
    "\n",
    "Let $B_r[x]$ be a closed ball. Let C be its complement in X. If C is empty is it open. If C is not empty, then if $y \\n C$, d(x,y) > r = r + d, say, where d > 0. Consider an open ball B_d(y). For z in B_d(y), $d(x,y) \\le d(y,z) + d(x,z)$ i.e. $r + d < d + d(x,z) \\implies d(x,z) > r$ i.e. z is in C. Thus for every point in C, there is an open ball containing only points in C. Hence C is open, and $B_r[x]$ is closed.\n",
    "\n",
    "\n",
    "\n",
    "\n",
    "\n",
    "\n",
    "\n"
   ]
  },
  {
   "cell_type": "markdown",
   "id": "6e2a37ca-d685-4f8f-bd06-2296d3d72bc7",
   "metadata": {},
   "source": [
    "**Cantor Set**  \n",
    "\n",
    "What does a generalized closed set look like? Since an open set contains a countable number of disjoint open intervals, one way to create a closed set is to take away a countable number of disjoint open intervals from a metric space. One example is the Cantor set :\n",
    "\n",
    "Take the interval $F_0 = [0,1]$. We can take away countable intervals as follows : Take away the middle third so we get $F_1 = [0,1/3] \\cup [2/3,1]$. Again take away the next one third : $F_2 = [0,1/9] \\cup [2/9,1/3] \\cup [2/3,7/9] \\cup [8/9,1]$.\n",
    "\n",
    "The cantor set C is then defined by $C = \\cap_{n=0}^{\\infty} F_n$\n",
    "\n",
    "Some interesting facts about the Cantor set :\n",
    "\n",
    "**The cantor set contains the endpoints of the intervals**  \n",
    "\n",
    "The cantor set contains endpoints of the intervals : 0,1,1/3,2/3,1/9,2/9,7/9,8/9 ... since these are never removed.\n",
    "\n",
    "The endpoints are countably infinite since the new endpoints of each iteration of F are different from the previous (they are the endpoints of the middle third), but for each n, the no of new endpoints is finite. So $F_2$ has 2 new endpoints, $F_3$ has 4 and $F_n$ has $2^{n-1}$ new endpoints. \n",
    "\n",
    "Does the Cantor contain points which are not endpoints? The answer is yes, as we will see next.\n",
    "\n",
    "**The cantor set is uncountable**  \n",
    "\n",
    "We can represent numbers $[0,1]$ : We will define these numbers in ternary. In that case, in $F_1$, we retain all numbers $.0xxx$, and $0.2xxx$, but remove those with $0.1xxxx$. In this we represent $1/3 = 0.1 = 0.02222222$.  By induction we can prove that if it is true for $F_n$, that the nth digit is not 1, then in $F_{n+1}$ the (n+1)th digit is not 1. Thus we see that C contains all numbers with 0's and 2's in their representation in ternary.\n",
    "\n",
    "Now, we can also represent $[0,1]$ in binary i.e. with 0's and 1's. We can set up a 1-1 and onto function f from $[0,1]$ to C by saying f(x) = the number formed by replacing 1's by 2's. It is easy to see that this is 1-1 and onto. Thus C is uncountable.\n",
    "\n",
    "**The cantor set has no intervals of non-zero length**\n",
    "\n",
    "The total length of intervals removed are as follows : 1/3 + 2/9 + 4/27 + ... . We get :\n",
    "\n",
    "$$\\sum_{n=0}^{\\infty} \\frac{2^n}{3^{n+1}} = 1/3\\frac{1}{1-2/3} = 1$$\n",
    "\n",
    "This tells us that the cantor set has a total length of 0, even though it is uncountable, and even though it has exactly the same number of points as the interval $[0,1]$.\n"
   ]
  },
  {
   "cell_type": "markdown",
   "id": "dd831f39-7a3f-417c-bd88-b06a5ffbfe66",
   "metadata": {},
   "source": [
    "## Convergence, Completeness and Baire's Theorem\n",
    "\n"
   ]
  },
  {
   "cell_type": "markdown",
   "id": "91655f0b-99f0-4ca6-9e5a-d0ea5c09b2cb",
   "metadata": {},
   "source": [
    "Definitions :\n",
    "\n",
    "- sequence\n",
    "- convergent sequence\n",
    "- limit\n",
    "- Cauchy sequence\n",
    "\n",
    "A (cauchy) complete metric space is a metric space where every Cauchy sequence converges (to a point in the space).\n",
    "\n",
    "* d(x,y) = 0 if x = y, d(x,y) = 1 if $x \\ne y$.\n",
    "* R - real numbers\n",
    "* C - complex numbers\n",
    "* The set of bounded functions on domain $[0,1]$ with norm defined \n",
    "* Bounded continuous real functions on the closed unit interval\n",
    "\n",
    "\n"
   ]
  },
  {
   "cell_type": "markdown",
   "id": "a018564f-f57a-4d4c-9b7a-286348f4581f",
   "metadata": {},
   "source": [
    "**Theorem: If a convergent sequence $\\{a_n\\}$ in a metric space has infinitely many distinct points, then its limit is a limit point of the set of points of the sequence**  \n",
    "Note: A sequence always has infinite domain, but the range may not be infinite. \n",
    "\n",
    "Proof:\n",
    "Let limit of $\\{a_n\\}$ be a. Then if a is not a limit point of the *set* of $\\{a_n\\}$. Then there must be some $\\epsilon$ > 0, such that $B_{\\epsilon}(a)$ contains no point of this set. But since a is the limit of the sequence, there must be an N, such that for $n \\ge N$, $d(a_n,a) < r$ i.e. $a_n \\in B_{\\epsilon}(a)$. This is only possible if $a_n = a$ for $n \\ge N$. This means that there are N+1 elements in the sequence - i.e. the sequence is finite. So we can conclude that in any infinite sequence the limit is a limit point of the set of points of the sequence.\n"
   ]
  },
  {
   "cell_type": "markdown",
   "id": "9ccc6940-ef54-46ee-a354-79816ee5c09b",
   "metadata": {},
   "source": [
    "**Theorem: Let X be a complete metric space, and let Y be a subspace of X. Then Y is complete iff Y is closed.**  \n",
    "\n",
    "Proof:  \n",
    "\n",
    "Assume Y is complete. Given a limit point a of Y, we choose build an infinite sequence converging to a, by starting with an arbitrary neighborhood of Y as a starting point to pick a point $a_1$ in Y, and then choosing a smaller neighborhood not containing $a_1$ to choose the next point $a_2$ and so on. This is a sequence with an infinite range as the $a_n$'s are different. So \"a\" is a limit of the sequence of points in Y, and hence, since Y is complete, $a \\in Y$.\n",
    "\n",
    "Assume Y is closed. Given a cauchy sequence in Y, then it is also a Cauchy sequence in X, and since X is complete it converges to a point x in X. If the sequence is finite, then the limit must be repeated infinitely often in the sequence (as we have shown earlier) - and hence must be in Y. If the sequence is infinite, then any neighborhood of x contains an infinite number of points of the sequence (and hence of Y) - i.e. x must be a limit point of Y. Since Y is closed, $x \\in Y$."
   ]
  },
  {
   "cell_type": "markdown",
   "id": "3da0b2fb-dd57-44d2-ae9e-3852b99cfd60",
   "metadata": {},
   "source": [
    "**Theorem (Cantor's Intersection Theorem) : Let X be a (Cauchy) complete metric space, and let $\\{F_n\\}$ be a nested decreasing sequence of non-empty closed subsets of X such that $d(F_n) \\to 0$. Then $F = \\cap_{n=1}^{\\infty} F_n$ contains exactly one point.**  \n",
    "\n",
    "Proof:  \n",
    "\n",
    "Let $x_n$ be a point in $F_n$ (since $F_n$ is non-empty)  \n",
    "\n",
    "$d(F_n) \\to 0$, so $\\{x_n\\}$ is Cauchy, and since X is complete, $x_n$ has a limit x. \n",
    "\n",
    "Pick an arbitrary $n_0$. If range of $x_n$ is finite, then the limit x must be repeated infinitely => that for some N, all $n \\ge N$ $x \\in F_n$. This implies that some subset of $F_{n_0}$ contains x i.e. $F_{n_0}$ contains x. If range of $x_n$ is infinite, then x is a limit point of the sets in the sequence. It is therefore a limit point of range of $\\{x_n\\}$ for $n \\ge n_0$ all of which are in $F_{n_0}$. Since $F_{n_0}$ is closed, it contains all its limit points. Hence x is in $F_{n_0}$.\n",
    "\n",
    "\n",
    "\n",
    "\n",
    "\n",
    "\n"
   ]
  },
  {
   "cell_type": "markdown",
   "id": "7c522a50-4021-49dc-bc6f-bcc41e51abaa",
   "metadata": {},
   "source": [
    "\n",
    "**Definition (nowhere dense)**  A set A is said to be nowhere dense if it's closure has an empty interior. \n",
    "\n",
    "**Theorem : A is a nowhere dense set in a metric space X iff any non-empty open set contains an open ball disjoint from A**  \n",
    "\n",
    "Proof: \n",
    "\n",
    "$\\bar A$ contains no non-empty open set (since A is nowhere dense).\n",
    "\n",
    "Given any non-empty open set O : If O does not intersect A, then O being a non-empty open set contains an open ball disjoint from A.\n",
    "\n",
    "Assume O intersects $\\bar A$, let a' be a point of $\\bar A$ in O. \n",
    "\n",
    "Either a' is in A, or a' is a limit point of O. If a' is not in A, then it is a limit point of A, and any open set containing a' also contains a point of A. Let a be one such point - then a is in O. Else, let a = a', a point in O and A.\n",
    "\n",
    "We know that A has no interior, hence there is an open set containing a which is not containing any other points of A - the intersection of this set with O (which is non-empty because a is also in O), is a non-empty open set $O_2$ since intersection of 2 open sets in open. It is easy to see then that given a $b \\in O_2$ different from y, let $r_1 = d(a,b)$. And since b is in the open set O_2, there must be a ball $B_{r_2}(b)$ containing points only in $O_2$. Let $r = min(r_1,r_2)$. The non-empty open ball $B_r(b)$ is disjoint from A and entirely in O."
   ]
  },
  {
   "cell_type": "markdown",
   "id": "7d72bdb2-62d2-4b16-a6c3-71e3181d1b61",
   "metadata": {},
   "source": [
    "**Theorem: (Baire's Theorem) : A Complete Metric Space cannot be covered by nowhere dense sets) : If $\\{A_n\\}$ is a sequence of nowhere dense sets in a complete metric space X, then there exists a point X which is not in any of the $A_n$'s**\n",
    "\n",
    "Proof:  \n",
    "\n",
    "Since X is open and $A_1$ is nowhere dense, there is a non-empty open ball $B_1$ of radius r, say, in X disjoint from $A_1$. We can repeat this exercise with $B_1$ as an open set and $A_2$ - there would be a ball $B_2$ of radius less than $r/2$ disjoint from $A_2$ and so on. We get a decreasing sequence of $B_n$ such that $d(B_n) \\to 0$. Since X is complete, their intersection must have a point x, which is not in any $A_n$.\n"
   ]
  },
  {
   "cell_type": "markdown",
   "id": "1a25a515-5dd8-4206-98e4-2f1b7ac03ddb",
   "metadata": {},
   "source": [
    "\n",
    "**Theorem (Baire's Theorem - II): If a complete metric space is the union of a sequence of its subsets, then the closure of at least one set in the sequence must have non-empty interior.**\n",
    "\n",
    "Proof:  \n",
    "\n",
    "This is just a restatement of the previous theorem.\n",
    "\n",
    "**Categories and Baire's Category Theorem**  \n",
    "\n",
    "A subset of a metric space is said to be in the first category if it is the union of a sequence of nowhere dense sets, and of the second category if it is not of the first category. Baire's theorem is often called the Baire's Category theorem (stated as follows): Any complete metric space (considered as a subset of itself) is a set of the second category."
   ]
  },
  {
   "cell_type": "markdown",
   "id": "ef30d52f-106e-45ba-b9fc-fdb054aeb6a7",
   "metadata": {},
   "source": [
    "## Revisiting the Cantor Set "
   ]
  },
  {
   "cell_type": "markdown",
   "id": "2ee375c8-d6d0-4031-92ed-30850fae6b7a",
   "metadata": {},
   "source": [
    "\n",
    "**The cantor set is closed and nowhere dense**  \n",
    "\n",
    "The cantor set is the intersection of closed sets, hence it is closed. If the cantor set had an interior, there would be at least one point contained in an open interval (of non-zero length) entirely in the cantor set. This would imply the cantor set would have a non-zero length, which, as we have seen is not true.\n",
    "\n",
    "**Note on dense, co-dense and nowhere dense**  \n",
    "https://math.stackexchange.com/questions/116773/are-the-rationals-a-nowhere-dense-set\n",
    "\n",
    "A set A is co-dense if its complement is dense, or equivalently $Int(A)= \\emptyset$  \n",
    "A set A is nowhere-dense if its closure has no interior $Int(\\bar A)= \\emptyset$  \n",
    "Q is dense. It is also co-dense. The Cantor set is nowhere dense. Its complement is NOT co-dense ... i.e. it is itself not dense.\n",
    "\n",
    "Q is dense in R. R\\Q (irrationals) are dense in R - so Q is co-dense. Note that $int(Q) = \\emptyset$ because any open ball containing any q in Q also contains irrationals, so Int(Q) is empty. But closure of Q is all of R because every r in R is a limit point of Q - every neighborhood of any r in R contains points of Q other than r itself. Thus closure of Q is R. \n",
    "\n",
    "C on the other hand is uncountable (strictly greater cardinality than Q), but is nowhere dense. C is closed since each of the $C_n$'s are closed, being the union of finite number of closed sets. And C is the intersection of an infinite number of closed sets, hence closed. Being closed, the closure of C is itself. i.e. $Int(\\bar C)$ is empty, unlike the rationals - it contains all its limit points. \n",
    "\n",
    "**Definition (isolated point)**  A point x in a set A is said to be isolated if there is a neighborhood of x containing no points of A.  \n",
    "**Definition (Perfect Set)**  A set is called perfect if it is closed and has no isolated points. Examples of perfect sets in R are $\\emptyset$, R, closed intervals, and, as we will see, the Cantor set.\n",
    "\n",
    "\n",
    "**The cantor set is perfect and totally disconnected**  \n",
    "\n",
    "\n",
    "\n",
    "\n",
    "**Though perfect, the cantor set is disconnected**  \n"
   ]
  }
 ],
 "metadata": {
  "kernelspec": {
   "display_name": "Python 3 (ipykernel)",
   "language": "python",
   "name": "python3"
  },
  "language_info": {
   "codemirror_mode": {
    "name": "ipython",
    "version": 3
   },
   "file_extension": ".py",
   "mimetype": "text/x-python",
   "name": "python",
   "nbconvert_exporter": "python",
   "pygments_lexer": "ipython3",
   "version": "3.9.6"
  }
 },
 "nbformat": 4,
 "nbformat_minor": 5
}
