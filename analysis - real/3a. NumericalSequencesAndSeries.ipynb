{
 "cells": [
  {
   "cell_type": "markdown",
   "id": "b9e89980-1a14-4d2c-9cf7-543dedd3a12a",
   "metadata": {},
   "source": [
    "# Numerical Sequences"
   ]
  },
  {
   "cell_type": "markdown",
   "id": "e3c7f372-3427-4d97-9f81-643868a04463",
   "metadata": {},
   "source": [
    "Plan: In the context of metric spaces :\n",
    "\n",
    "- We define convergence of sequences and the conditions under which sequences converge\n",
    "- We define \"Cauchy sequences\" and that all convergent sequences are Cauchy, but not necessarily vice versa.\n",
    "- As a key result, we show that in Compact Metric Spaces, all Cauchy Sequences converge - such spaces are said to be \"complete\" or \"Cauchy-complete\"\n",
    "- For R (being totally ordered), we show that for monotonically increasing / decreasing sequences, convergence and boundedness are equivalent. In general boundedness does not imply convergence.\n"
   ]
  },
  {
   "cell_type": "markdown",
   "id": "0459af75-6a18-4653-ac01-96fd80363cc7",
   "metadata": {},
   "source": [
    "## Convergent Sequences - Basics"
   ]
  },
  {
   "cell_type": "markdown",
   "id": "5ded96ed-6cd3-422d-b5ed-68fd4b1f09c6",
   "metadata": {},
   "source": [
    "**convergence**: A sequence $\\{p_n\\}$ in a metric space X is said to converge if there is a point $p \\in X$ such that for every $\\epsilon > 0$ there is an integer N such that $n \\ge N$ implies that $d(p_n, p) < \\epsilon$. We say\n",
    "\n",
    "$$\\lim_{n \\to \\infty} p_n = p$$\n",
    "\n",
    "**bounded sequence** a sequence is said to be bounded if its range is bounded.\n",
    "\n",
    "In the following, let $\\{p_n\\}$ be a sequence in a metric space X."
   ]
  },
  {
   "cell_type": "markdown",
   "id": "d5bdfd8e-0c21-4a82-a451-e9b8d06e60bf",
   "metadata": {},
   "source": [
    "### Theorem: $\\{p_n\\}$ converges to $p \\in X$ iff every neighborhood of p contains $p_n$ for all but finitely many n.\n",
    "\n",
    "Proof :  \n",
    "(=>) By definition of convergence we can see that for any given neighborhood of p, we can choose an epsilon such that all p's after N are entirely in the neighborhood. Thus only a finite number of values are outside the neighborhood (i.e. N).\n",
    "\n",
    "(<=) Conversely, suppose every neighborhood of p contains all but finitely many p's. Then given an epsilon, define a neighborhood. Then by hypothesis, we will have an N such that for all $n \\ge N$, $d(p_n,p) < \\epsilon$\n"
   ]
  },
  {
   "cell_type": "markdown",
   "id": "5407e3f5-664f-44d8-92c8-34470f42daef",
   "metadata": {},
   "source": [
    "### Theorem: The limit of a convergent sequence is unique\n",
    "\n",
    "Proof: Let p and p' be two distinct limits of $\\{p_n\\}$. Choose two neighborhoods of radius d(p,p')/2 around each. We can immediately see that each neighborhood would have to contain all but a finite number of values of the sequence, which is not possible as the neighborhoods are disjoint."
   ]
  },
  {
   "cell_type": "markdown",
   "id": "947cae64-83f0-4c73-b718-2dcc17df66b7",
   "metadata": {},
   "source": [
    "### Theorem: Every convergent sequence is bounded\n",
    "\n",
    "Proof: Let p be a limit. Choose an arbitrary $\\epsilon$. Then let $r = \\max \\{\\epsilon, d(p_1,p), ..., d(p_N,p) \\} $. Then $d(p_n, p) \\le r$. Hence $d(p_n,p_m) \\le 2r$"
   ]
  },
  {
   "cell_type": "markdown",
   "id": "d25e10e7-26de-4578-9886-8e9dfcd649d9",
   "metadata": {},
   "source": [
    "### Theorem: If $E \\subset X$, and if p is a limit point of E, then there is a sequence $\\{p_n\\}$ in E which converges to p\n",
    "\n",
    "Proof: Define a sequence by choosing $p_n \\in E$ such that $d(p_n, p) < 1/n$. This is always possible by the definition of a limit point. It follows that given any epsilon, we can find $N > 1/\\epsilon$ such that $d(p_n,p) < \\epsilon$ for all $n \\ge N$."
   ]
  },
  {
   "cell_type": "markdown",
   "id": "69e79c08-db3d-4161-a47a-98df59947a1e",
   "metadata": {},
   "source": [
    "## Convergent Sequences - Algebraic and Order Limit Theorems"
   ]
  },
  {
   "cell_type": "markdown",
   "id": "03e5021d-6978-49cd-bd9b-bd13806af1e7",
   "metadata": {},
   "source": [
    "### Theorem (Algebraic Limit Theorem) : Addition, scaling, multiplication and inverse of convergent sequences\n",
    "\n",
    "Given two sequences $\\{s_n \\}$ converging to s, and $\\{t_n\\}$ converging to t, operations work roughly as expected.\n",
    "\n",
    "Proof: \n",
    "\n",
    "(+) For $s_n + t_n$ choose N's for $\\epsilon/2$ for each sequence.\n",
    "\n",
    "(multiplication by constant): $\\epsilon/c$\n",
    "\n",
    "(addition by constant) : trivial\n",
    "\n",
    "(multiplication) : Choose $\\sqrt{\\epsilon}$\n",
    "\n",
    "(reciprocal): \n",
    "Proof: We have to show :\n",
    "\n",
    "$$\\left|1/s_n - 1/s\\right| = \\left|\\frac{s_n - s}{s_ns}\\right|$$\n",
    "\n",
    "Now, given the convergence of $s_n$, we can choose m, such that for all n > m, $|s_n - s| < 1/2|s|$ which implies that $|s_n| > 1/2|s|$ for all n > m.\n",
    "\n",
    "Given n > m, $\\left|\\frac{s_n - s}{s_ns}\\right| \\le \\frac{2}{|s|^2}|s_n - s|$. Given that $|s_n - s|$ is always less than any given number for sufficiently large N, we see that the reciprocal also converges.\n"
   ]
  },
  {
   "cell_type": "markdown",
   "id": "9057696a-7022-4826-a1fb-7849b9479298",
   "metadata": {},
   "source": [
    "### Theorem (Order Limit Theorem)\n",
    "\n",
    "Assume $\\lim a_n = a$ and $\\lim b_n = b$ :\n",
    "\n",
    "a) If $\\forall n \\in N : a_n \\ge 0$, then $a \\ge 0$  \n",
    "b) If $\\forall n \\in N : a_n \\le b_n$, then $a \\le b$\n",
    "\n",
    "As a special case we can choose $a_n = c$ and conclude $c \\le b_n$.  $b_n = c$ and conclude $a_n \\le c$. \n",
    "\n",
    "Proof:  \n",
    "(a) If a < 0, then choose $\\epsilon = |a|$. By definition, there is an N, such that for all $n \\ge N$, $a_n < 0$ - in particular $a_N < \\epsilon$, contradicting the condition that $\\forall n \\in N : a_n \\ge 0$."
   ]
  },
  {
   "cell_type": "markdown",
   "id": "d82023c3-d01a-4d07-9a33-7d8b370b5681",
   "metadata": {},
   "source": [
    "### Theorem (Squeeze Theorem) : Show that $x_n \\le y_n \\le z_n$ for all $n \\in N$ and if $\\lim x_n = \\lim z_n = l$, then $\\lim y_n = l$ as well.\n",
    "\n",
    "By the Algebraic Limit theorem, $\\lim x_n - z_n = 0$ => $z_n - x_n \\le \\epsilon$ for all n > N => $z_n - y_n \\le \\epsilon$ since $x_n \\le y_n \\le z_n$. \n",
    "\n",
    "This implies $\\lim y_n - z_n = 0$ => $\\lim (y_n - z_n) + z_n = l$ => $\\lim y_n = l$\n"
   ]
  },
  {
   "cell_type": "markdown",
   "id": "9dd8eee2-e19d-45f0-bb0a-ea8d22f0ae3a",
   "metadata": {},
   "source": [
    "### Theorem (Monotone Convergence Theorem) \n",
    "\n",
    "We have shown that convergent sequences are bounded, but all bounded sequences may not be convergent, in general.\n",
    "\n",
    "However, in the case of monotonic sequences in R, boundedness and convergence are equivalent.\n",
    "\n",
    "**monotonically increasing / decreasing** A sequence $\\{s_n\\}$ of real numbers is said to be monotonically increasing if $s_n \\le s_{n+1}$ for all n, and monotonically decreasing if $s_n \\ge s_{n+1}$ for all n\n",
    "\n",
    "**Theorem: Suppose $\\{s_n\\}$ is monotonic. Then $\\{s_n\\}$ is convergent if and only if it is bounded.**\n",
    "\n",
    "Let $\\{s_n\\}$ be increasing. Since it is bounded, let s be the least upper bound. Then, for any $\\epsilon > 0$ there is an integer N such that $s - \\epsilon < s_N \\le s$ (otherwise $s - \\epsilon$ would be an upper bound). Since $s_n$ is increasing, it follows that for $n \\ge N$, $s - \\epsilon < s_n \\le s$ i.e. $\\{s_n\\}$ converges. The converse follows because any convergent sequence is bounded. \n"
   ]
  },
  {
   "cell_type": "markdown",
   "id": "09227e98-caef-4534-85d0-950ee8f83702",
   "metadata": {},
   "source": [
    "## Subsequences and the Bolzano-Weierstrass Theorem"
   ]
  },
  {
   "cell_type": "markdown",
   "id": "9723b2bc-e65b-457a-b978-357a8919c50f",
   "metadata": {},
   "source": [
    "**subsequence** Given a sequence $\\{p_n\\}$, consider a sequence $\\{n_k\\}$ of positive integers which is monotonically increasing i.e. $n_1 < n_2 < n_3 ...$. Then the sequence $\\{p_{n_k}\\}$ is called a subsequence of $p_n$.\n",
    "\n",
    "**Theorem: Subsequences converge to same limit as the sequence : $\\{p_n\\}$ converges to p, iff every subsequence converges to p**  \n",
    "Proof:  \n",
    "(=>) If $\\{p_n\\}$ converges to p, then for given $\\epsilon$, all n > N $d(p_n,p) < \\epsilon$. Choosing $n_k$ > N for $\\{p_{n_k}\\}$, we get the desired result.  \n",
    "(<=) if every subsequence converges to p. Proof by contradiction: Suppose original sequence does not converge to p. This means that there is some $\\epsilon$, such that given any N, there is a $a_n$ such that $d(a_n,p) \\ge \\epsilon$. We can now build a subsequence $\\{a_n\\}$ which does not converge to p.\n",
    "\n",
    "**(Subsequence Limits - Divergence Criterion)**  \n",
    "We now have a simple criteria to prove divergence : if two subsequences converge to different limits, then the sequence diverges.\n",
    "\n",
    "**(Bolzano-Weierstrass Theorem): Every bounded sequence in R has a convergent subsequence**  \n",
    "\n",
    "Proof:  \n",
    "Let $(a_n)$ be a bounded sequence so that there exists M > 0 satisfying $|a_n| \\le M$ for all $n \\in N$ i.e. $-M \\le a_n \\le M$. We split $[-M,M]$ into two intervals $[-M,0]$ and $[0,M]$ - at least one of these intervals will contain infinite number of values of $a_n$ - call this interval $I_2$. Choose $a_{n_1}$ from the interval with infinite number of values. \n",
    "\n",
    "Now split that interval again at the midpoint, and choose $a_{n_2}$ from one interval containing infinite number of values of $a_n$, such that $n_2 > n_1$ - we can always do that since there are infinite values. Call this second interval $I_2$\n",
    "\n",
    "Following this process, we can build a subsequence $a_{n_k}$, drawn from a series of nested intervals $I_n$. \n",
    "\n",
    "We note that the length of interval $I_k$ is $M(1/2)^{k-1}$. Note that given any $\\epsilon$ we can see that if $M(1/2)^{k-1} \\le \\epsilon$, then $M \\le 2^{k-1}\\epsilon$. Now, by the archimedean property of R, given a positive real number $\\epsilon$ and any other real number $M$, there is a number n such that $M \\le n\\epsilon$. And since $2^{k-1} \\ge n$ for some k (can be proved by showing 2^{k-1} has no limit), we can see that $M \\le 2^{k-1}\\epsilon$ for some k. We can then see that the length of $I_k$ tends to zero as $k \\to \\infty$.\n",
    "\n",
    "We know from the Nested Interval Property (NIP) that the intersection of $I_n$ has at least one element x. Given an $\\epsilon$, there is a N such that k >= N imples length of $I_k \\le \\epsilon$. Because x and $a_{n_k}$ are both in $I_k$, it follows that $|a_{n_k} - x| \\le \\epsilon$. Thus $\\lim {a_{n_k}} = x$.\n",
    "\n",
    "This proof of the Bolzano-Weierstrass Theorem uses the NIP and the Archimedean property.\n",
    "\n",
    "**(Bolzano-Weierstrass Theorem): Every sequence in R has a monotone subsequence**  \n",
    "https://math.stackexchange.com/questions/1126123/proof-of-existence-of-peaks-in-the-sequential-compactness-theorem\n",
    "\n",
    "Proof: We call an index m as a peak index for the sequence $\\{a_n\\}$ provided that $a_n \\le a_m$ for all the indices $n \\ge m$.\n",
    "\n",
    "(a - Finitely many peak indices)  \n",
    "If there are finitely many peak indices, then let N be the greatest of the peak indices. We can define a monotonically increasing subsequence of $a_n$ : choose $n_1 = N + 1$. Now, since $n_1$ is not a peak index, there must exist an $n_2$ such that $a_{n_2} \\ge a_{n_1}$. And we can continue this process to create a monotonically increasing sequence.\n",
    "\n",
    "\n",
    "(a - infinitely many peak indices)   \n",
    "Let ${n_k}$ be the kth peak index. Then $\\{a_{n_k}\\}$ is a sequence which is monotonically increasing. \n",
    "\n",
    "From this, it follows immediately that every bounded seequence in R has a convergent subsequence, since every bounded monotone sequence is convergent.\n",
    "\n",
    "\n",
    "**Theorem: If $\\{p_n\\}$ is a sequence in a compact metric space X, then some sub-sequence $\\{p_n\\}$ converges to a point of X.**  \n",
    "\n",
    "2.20 : If p is a limit point of a set E, then every neighborhood of p contains infinitely many points of E.\n",
    "2.37 : If E is an infinite subset of a compact set K, then E has a limit point in K.\n",
    "\n",
    "Proof: \n",
    "Let E = range of $\\{p_n\\}$  \n",
    "(a) If E is finite, then there must be at least one p in E to which infinite number of elements of $\\{p_n\\}$ are mapped (otherwise you get a contradiction). Choose a subsequence mapped to p, and obviously this converges to p.  \n",
    "(b) If E is infinite - then by the theorem 2.37, E has a limit point p in K. By 2.20, every neighborhood has infinitely many points of E. We can then choose neigborhoods of p of radius $1/n$, and we can then create a subsequence which converges to p. \n",
    "\n",
    "**Theorem: (BWT) Every bounded sequence in R has a convergent subsequence**  \n",
    "\n",
    "2.41 : Heine-borel theorem\n",
    "We can prove the BWT again, this time via the previous theorem, and the Heine-Borel Theorem.\n",
    "\n",
    "From the Heine-Borel theorem, any closed, bounded subset of R is compact. Given a bounded seqeunce, we can always enclosed it in a closed, bounded interval, which is a compact metric space. Then by the previous theorem, the sub-sequence converges.\n",
    "\n",
    "**Theorem: The subsequential limits of a sequence $\\{p_n\\}$ in a metric space X form a closed subset of X**\n",
    "Proof:  \n",
    "Let L = set of all subsequential limits of $\\{p_n\\}$. We have to show L contains all its limit points (one of the defining properties of a closed set). Let q be a limit point of L. \n",
    "\n",
    "Choose an n_1 such that ${p_{n_1}} \\ne q$ (if this does not exist, then the sequence is just q's and the proof is over). Suppose $n_1,n_2,..,n_{i-1}$ are chosen.\n",
    "We will construct nested neighborhoods around q of radius $2^{-i}\\delta$. Since q is a limit point of L, in the ith neighborhood, there is a point x in L. Hence there is some $n_i > n_{i-1}$ such that $d(p_{n_i},x) < 2^{-i}\\delta$. Hence $d(p_{n_i},q) < 2^{1-i}\\delta$. Thus $\\{p_{n_i}\\}$ is a subsequence of q converging to q i.e. q is in L and L is closed.\n"
   ]
  },
  {
   "cell_type": "markdown",
   "id": "fafb9bb8-7739-46a5-98c9-6230434bb118",
   "metadata": {},
   "source": [
    "## Cauchy Sequences"
   ]
  },
  {
   "cell_type": "markdown",
   "id": "68646a72-d4d2-4240-98f8-2abe8616c541",
   "metadata": {},
   "source": [
    "Convergent sequences converge to a point in the metric space they are in. In Cauchy sequences the points of the sequence come vanishingly close to each other, but the sequence may not always converge in the space.\n",
    "\n",
    "An example of a space where every Cauchy sequence does not converge in that space is Q : If we take successive approximations of $\\pi$, we see that the cauchy sequence does not converge in Q.\n",
    "\n",
    "A space where every Cauchy sequence converges is called Cauchy complete. It turns out, not surprisingly, that the reals are Cauchy complete. We have discussed Dedekind completeness earlier. So are the two completeness definitions equivalent? It turns out that any Cauchy Complete archimedean ordered field is a Dedekind complete ordered field and vice versa. \n",
    "\n",
    "We have defined convergent sequences in metric terms in terms of distance from a limit p. \n",
    "\n",
    "**diameter of a set** If E is a non-empty subset of a metric space X, then $\\operatorname{diam} E = \\sup \\{d(p,q): p \\in E, q \\in E\\}$\n",
    "\n",
    "**Cauchy Sequence** A sequence $\\{p_n\\}$ in a metric space X is a Cauchy sequence if for every $\\epsilon > 0$, there is an N such that for all n,m greater than N, $d(p_n,p_m) < \\epsilon$.\n",
    "\n",
    "Define $E_N = \\{p_n: n \\ge N\\}$. Then $\\{p_n\\}$ is a Cauchy Sequence iff : $\\lim_{N \\to \\infty} \\operatorname{diam} E_N = 0$ "
   ]
  },
  {
   "cell_type": "markdown",
   "id": "ada1e3c8-1c1b-4b6e-92be-2c54dc05f535",
   "metadata": {},
   "source": [
    "**Some Helper Theorems**\n",
    "\n",
    "Theorem : Let $\\bar{E}$ is the closure of a set E in a metric space X, then $\\operatorname{diam} \\bar{E} = \\operatorname{diam} E$\n",
    "Proof:\n",
    "Since $E \\subset \\bar{E}$, it follows $\\operatorname{diam} E \\le \\operatorname{diam} \\bar{E}$. Fix $\\epsilon > 0$ and choose $p \\in \\bar{E}, q \\in E$. By the definition of $\\bar{E}$, there are points p', q' in E such that $d(p,p') < \\epsilon$ and $d(q,q') < \\epsilon$. Hence, $d(p,q) \\le d(p,p') + d(p',q') + d(q,q') < 2\\epsilon + \\operatorname{diam} E$. Since $\\epsilon$ is arbitrary.\n",
    "\n",
    "Theorem: If $K_n$ is a nested sequence of compact sets in X with $lim_{n \\to \\infty} K_n = 0$, then $\\cap_{1}^{\\infty}K_n$ consists of exactly one point.\n",
    "\n",
    "2.36 : If $\\{K_a\\}$ is a collection of compact subsets of a metric space X such that the intersection of every finite subcollection of $\\{K_a\\}$ is nonempty, then $\\cap K_a$ is nonempty.\n",
    "\n",
    "Proof : By Theorem 2.36, $K = \\cap_{1}^{\\infty}K_n$ is not empty. If it contains 2 points, then $\\operatorname{diam} K > 0$.\n",
    "But then this means for any n, $\\operatorname{diam} K_n \\ge \\operatorname{diam} K$, contradicting the hypothesis that the in the limit the diameter tends to zero.\n",
    "\n"
   ]
  },
  {
   "cell_type": "markdown",
   "id": "d344a860-12ad-4f3f-bd14-e25be5b510d1",
   "metadata": {},
   "source": [
    "## Theorem: In any metric space X, every convergent sequence is a Cauchy sequence.\n",
    "Proof:\n",
    "\n",
    "If a sequence is convergent, then $d(p_n,p_m) < 2\\epsilon$ for all n,m > N. \n",
    "\n",
    "It follows the sequence is Cauchy.\n",
    "\n",
    "Note: This is **not** to say that every Cauchy sequence is convergent in X."
   ]
  },
  {
   "cell_type": "markdown",
   "id": "8c081b5c-1a24-45fc-94e4-5cd39d316e69",
   "metadata": {},
   "source": [
    "## Theorem: If X is a compact metric space and if $\\{p_n\\}$ is a Cauchy sequence in X, then $\\{p_n\\}$ converges to some point of X. \n",
    "\n",
    "2.35 Closed subsets of compact sets are compact.\n",
    "\n",
    "Let $\\{p_n\\}$ be a Cauchy sequence in the compact metric space X. Define $E_N$ as above, then :\n",
    "\n",
    "$$\\lim_{N \\to \\infty} \\operatorname{diam} \\bar{E_N}$$ \n",
    "\n",
    "by definition of Cauchy Sequence earlier, and the earlier result that the diameter of a closure equals the diameter of the set.\n",
    "\n",
    "Being a closed subset of the compact space X, $\\bar{E_N}$ is compact by Theorem 2.35. And the $\\bar{E_N}$'s are nested compact sets, since the $E_N$'s are nested. It follows then that there is a unique $p \\in X$ which lies in every $\\bar{E_N}$.\n",
    "\n",
    "We can now show that $\\{p_n\\}$ is convergent. Let $\\epsilon > 0$ be given. Then, there is an integer $N_0$ such that $\\operatorname{diam} \\bar{E_N} < \\epsilon$ if $N \\ge N_0$. Since $p \\in \\bar{E_N}$, it follows that $d(p,q) < \\epsilon$ for every $q \\in \\bar{E_N}$, hence for every $q \\in E_N$. In other words, $d(p,p_n) < \\epsilon$ if $n \\ge N_0$. This says precisely that $p_n \\to p$.\n",
    "\n",
    "\n"
   ]
  },
  {
   "cell_type": "markdown",
   "id": "e778b10d-6961-4600-9629-64221228318a",
   "metadata": {},
   "source": [
    "## Theorem: In $R^k$, every Cauchy Sequence converges (Cauchy Criterion to converge)\n",
    "\n",
    "If $\\{x_n\\}$ be a Cauchy sequence in $R^k$. It is easy to see that the range of $\\{x_n\\}$ is bounded. Since by the the Heine-Borel theorem, every bounded subset in $R^k$ has a compact closure in $R^k$, we conclude by the previous theorem that $\\{x_n\\}$ converges.\n",
    "\n",
    "**Cauchy Completeness** A metric space in which every Cauchy Sequence converges is said to be Cauchy complete.\n",
    "\n",
    "- All compact metric spaces\n",
    "- All Euclidean metric spaces\n",
    "- Every closed subset of complete metric space X is complete\n"
   ]
  },
  {
   "cell_type": "markdown",
   "id": "d10251d6-c73c-4121-a4a7-ce01421cd133",
   "metadata": {},
   "source": [
    "## lim sup and lim inf\n",
    "\n",
    "Let $\\{s_n\\}$ be a sequence of real numbers. Let E be the set of subsequential limits of $\\{s_n\\}$, in the **extended real system** i.e. including the case where the subsequences may be unbounded and the limit may include $\\infty, -\\infty$.\n",
    "\n",
    "$$\\lim_{n \\to \\infty} \\sup s_n = s^* = \\sup E$$\n",
    "$$\\lim_{n \\to \\infty} \\inf s_n = s_* = \\inf E$$\n",
    "\n",
    "**Theorem: Let $\\{s_n\\}$ be sequence of real numbers. Then $s^*$ has the following two properties:  \n",
    "a) $s^* \\in E$  \n",
    "b) If $x > s^*$ there is an integer N such that $n \\ge N$ implies $s_n < x$**\n",
    "\n",
    "2.28 : Let E be a nonempty set of real numbers which is bounded above. Let y = sup E. Then $y \\in \\bar{E}$. Hence $y \\in E$ if E is closed.\n",
    "\n",
    "(a)\n",
    "If $s^* = +\\infty$, then E is not bounded above, hence $\\{s_n\\}$ is not bounded above i.e there is a subsequence which tends to $+\\infty$.\n",
    "\n",
    "If $s^*$ is real, then E is bounded above and at least one subsequential limit exists. Since E is closed (contains all its limit points), it follows that $s^*$ is in E.\n",
    "\n",
    "If $s^* = -\\infty$, then E has no subsequential limits, and $-\\infty$ is the only member. This implies that given any real M, there are only finitely many values above M (otherwise we could form a sequence with all values greater than M. Hence $\\lim_{n \\to \\infty} {s_n} = -\\infty$.\n",
    "\n",
    "Thus, in every case $s^* \\in E$.\n",
    "\n",
    "(b) This is fairly obvious. If $x > s^*$, then if infinitely many values of $s_n$ where greater than or equal to x, we could form a subsequence which would converge to a number $y \\ge x > s^*$ and $y \\in E$, contradicting our assumption that $s^*$ is the supremum.\n",
    "\n",
    "Uniqueness of $s^*$ follows from (b) - if there were two limits p and q, p < q, then choose x such that p < x < q. Then we will find only p can obey (b) and not q.\n"
   ]
  },
  {
   "cell_type": "markdown",
   "id": "21f19469-45ef-4147-b62d-c6ef7af6fc8c",
   "metadata": {},
   "source": [
    "**Examples**\n",
    "\n",
    "a) Let ${s_n}$ be the set of all rationals (rationals are countable, so possible). The every real number is a subsequential limit, and $s^* = +\\infty$ and $s_* = -\\infty$\n",
    "\n",
    "b) For a real-valued sequence $\\{s_n\\}$, $\\lim_{n \\to +\\infty} s_n = s$ iff $\\limsup_{n \\to \\infty} s_n = \\liminf_{n \\to \\infty} s_n = s$.\n",
    "\n",
    "(=>) If limit of $s_n$ is s, this implies that all subsequential limits are s, and E = {s}.\n",
    "(<=) If lim sup and lim inf are s, this implies all subsequential limits are s => limit of $s_n$ is s."
   ]
  },
  {
   "cell_type": "markdown",
   "id": "5178d768-e7d6-4b95-952f-5c53c204300c",
   "metadata": {},
   "source": [
    "**Theorem: If $s_n \\le t_n$ for $n \\ge N$ where N is fixed, then**\n",
    "\n",
    "$$\\limsup_{n \\to \\infty} s_n \\le \\limsup_{n \\to \\infty} t_n$$\n",
    "$$\\liminf_{n \\to \\infty} s_n \\le \\liminf_{n \\to \\infty} t_n$$\n"
   ]
  },
  {
   "cell_type": "markdown",
   "id": "799dc840-c9b4-45c4-b5a1-f5a4ecc3d790",
   "metadata": {},
   "source": [
    "## Some Special Sequences"
   ]
  },
  {
   "cell_type": "markdown",
   "id": "df50963a-24d1-4129-9aa6-93ecc569f9cf",
   "metadata": {},
   "source": [
    "**1. If p > 0, then $\\lim_{n \\to \\infty} 1/n^p = 0$**\n",
    "\n",
    "Given $\\epsilon > 0$, choose $N = (1/\\epsilon)^{1/p}$. \n",
    "\n",
    "For $n > N \\implies n^p > N^p$\n",
    "\n",
    "Then, $1/n^p \\le 1/N^p = \\epsilon$, for all $n > N$\n",
    "\n",
    "**2. If p > 0, then $\\lim_{n \\to \\infty} p^{1/n} = 1$**\n",
    "\n",
    "If p = 1, then $p^{1/n} = 1$, so the result is trivially true.\n",
    "\n",
    "If p > 1, we write $x_n = p^{1/n} - 1$. Since $x_n > 1$, by the binomial theorem :\n",
    "\n",
    "$1 + nx_n \\le (1 + x_n)^n = p$ i.e. $0 < x_n \\le \\frac{p-1}{n}$\n",
    "\n",
    "Since $\\frac{p-1}{n} \\to 0$ as $n \\to +\\infty$ (by the previous result), we have $x_n \\to 0$ i.e. $p^{1/n} \\to 1$.\n",
    "\n",
    "If p < 1, let x = 1/p. Then $\\frac{1}{x^{1/n}}$ converges to 1, given the rule on reciprocals of limits on sequences.\n",
    "\n",
    "**3. $\\lim_{n \\to \\infty} n^{1/n} = 1$**\n",
    "\n",
    "Let $x_n = n^{1/n} - 1$. By Binomial theorem (using the second term only), for $n \\ge 2$ :\n",
    "\n",
    "$n = (1 + x_n)^n \\ge \\frac{n(n-1)}{2}x_n^2$\n",
    "\n",
    "Hence,\n",
    "\n",
    "$0 < x_n < \\sqrt{\\frac{2}{n-1}}$, $n \\ge 2$\n",
    "\n",
    "**If p > 0, $\\alpha$ real, $\\lim_{n \\to \\infty} \\frac{n^\\alpha}{(p + 1)^n} = 0$**\n",
    "\n",
    "Choose positive integer $k > \\alpha$, and let $n > 2k$\n",
    "\n",
    "Then, by binomial theorem : $(1+p)^n > \\binom{n}{k}p^k \\ge \\frac{n^k}{2^k k!}p^k$\n",
    "\n",
    "Thus $0 < \\frac{n^\\alpha}{(p + 1)^n} < \\frac{2^k k!}{p^k}n^{\\alpha - k}$\n",
    "\n",
    "As $\\alpha - k < 0$, and rest of the terms are constant, the right hand limit is 0.\n",
    "\n",
    "**If |x| < 1, $\\lim_{n \\to \\infty} x^n = 0$**\n",
    "\n",
    "If x > 0, then let $1/x = 1 + p$, p > 0. Hence $x^n = 1/(1 + p)^n$. By the previous result, we get $\\lim_{n \\to \\infty} x^n = 0$, taking $\\alpha = 0$.\n",
    "\n",
    "If x < 0, we know that $\\lim_{n \\to \\infty} (-x)^n = 0$. This implies, given $\\epsilon$, there is an N, such that for all n > N,\n",
    "\n",
    "$|(-x)^n - 0| < \\epsilon \\implies |(x)^n - 0| < \\epsilon$. Thus $\\lim_{n \\to \\infty} (x)^n = 0$"
   ]
  }
 ],
 "metadata": {
  "kernelspec": {
   "display_name": "Python 3 (ipykernel)",
   "language": "python",
   "name": "python3"
  },
  "language_info": {
   "codemirror_mode": {
    "name": "ipython",
    "version": 3
   },
   "file_extension": ".py",
   "mimetype": "text/x-python",
   "name": "python",
   "nbconvert_exporter": "python",
   "pygments_lexer": "ipython3",
   "version": "3.9.6"
  }
 },
 "nbformat": 4,
 "nbformat_minor": 5
}
