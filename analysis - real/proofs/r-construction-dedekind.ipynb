{
 "cells": [
  {
   "cell_type": "markdown",
   "id": "84149027-9d70-40aa-b344-1d080fd01b15",
   "metadata": {},
   "source": [
    "# Constructing R from Q via Dedekind Cuts\n"
   ]
  },
  {
   "cell_type": "markdown",
   "id": "be1b26e6-e436-4f88-afbc-924f2d0cbc73",
   "metadata": {},
   "source": [
    "**a. A member of R is a cut, a non-empty proper subset a of Q and with a property that if $p \\in a$, q < p, then  $q \\in a$. Secondly, if $p \\in a$, $p < r$, for some $r \\in a$ - i.e. a has no largest member.**\n",
    "\n",
    "\n"
   ]
  },
  {
   "cell_type": "markdown",
   "id": "5e409718-35d9-4db2-8164-5c966195255e",
   "metadata": {},
   "source": [
    "**b. We define the order relation between cuts a and b : a < b iff a is a proper subset of b. We can see this meets the conditions for an order relation. And we can see that given ant 2 cuts, either a < b, or a = b, or b < a. Thus R is an ordered set.**"
   ]
  },
  {
   "cell_type": "markdown",
   "id": "142c267b-6b99-484d-8634-dc0d2149a967",
   "metadata": {},
   "source": [
    "**c. R has the least-upper-bound property**\n",
    "\n",
    "Let A be a non-empty subset of R such that $\\beta$ is an upper bound in R.\n",
    "We can show that $\\gamma = \\cup A$ is a cut and $\\gamma = \\sup A$\n"
   ]
  },
  {
   "cell_type": "markdown",
   "id": "e6b0ab5c-78a3-496c-817f-d6f02b06859a",
   "metadata": {},
   "source": [
    "**d. We define addition : if $\\alpha \\in R$ and $\\beta \\in R$, then $\\alpha + \\beta$ is the set of all r + s, such that r is in $\\alpha$, and s is in $\\beta$. We define $0^*$ to be the cut consisting of all negative rational numbers. Using these definitions we can prove that a)$\\alpha + \\beta$ is a cut and b) Addition follows the field addition axioms for R. The proof for additive inverse is the most difficult.**"
   ]
  },
  {
   "cell_type": "markdown",
   "id": "8c26ef51-5a15-4b70-9147-a0722feebb13",
   "metadata": {},
   "source": [
    "**e. We then prove that the order relation is well behaved over addition i.e. if b < c, then a + b < a + c**"
   ]
  },
  {
   "cell_type": "markdown",
   "id": "2d31252d-13dc-4183-983b-70612baa94a9",
   "metadata": {},
   "source": [
    "**f. We now prove the multiplication axioms for $R^+$ reals greater than $0^*$. Define $1^*$ as the set of all q < 1. We can then prove the multiplicative and distributive laws**"
   ]
  },
  {
   "cell_type": "markdown",
   "id": "fe12fe6d-feb5-4467-846d-2fd34cce9436",
   "metadata": {},
   "source": [
    "**g. Finally, we can extend the definition of multiplication to all of R by defining : $\\alpha0^* = 0^*\\alpha = 0^*$, and also defining ab = (-a)(-b) if both a and b are negative, ab = -((-a)b), if a is negative, b is positive, and finally ab = -(a(-b)) if a is positive, b is negative. We can prove the multiplication / distribution axioms hold with this definition of multiplication.**"
   ]
  },
  {
   "cell_type": "markdown",
   "id": "9e15c142-ab59-4cb0-a751-21a37e391295",
   "metadata": {},
   "source": [
    "**With steps a-g we have proved R is an ordered field with the least-upper-bound property.**"
   ]
  },
  {
   "cell_type": "markdown",
   "id": "e9c3fa93-85f2-49a5-b0c1-f7bb57b78bc2",
   "metadata": {},
   "source": [
    "**h. We finally show that Q is \"embedded\" in R as we would expect : We map q in Q to set $q^*$ as the set of all rational numbers less than q. We can then see that this is a cut, and the mapping is an isomorphism which preserves the order and field properties of Q. In this sense Q is embedded in R.**"
   ]
  }
 ],
 "metadata": {
  "kernelspec": {
   "display_name": "Python 3 (ipykernel)",
   "language": "python",
   "name": "python3"
  },
  "language_info": {
   "codemirror_mode": {
    "name": "ipython",
    "version": 3
   },
   "file_extension": ".py",
   "mimetype": "text/x-python",
   "name": "python",
   "nbconvert_exporter": "python",
   "pygments_lexer": "ipython3",
   "version": "3.9.6"
  }
 },
 "nbformat": 4,
 "nbformat_minor": 5
}
