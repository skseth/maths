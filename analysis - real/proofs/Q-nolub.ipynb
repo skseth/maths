{
 "cells": [
  {
   "cell_type": "markdown",
   "id": "ce3a744d-45b5-4c4f-a626-0e3e79092ec3",
   "metadata": {},
   "source": [
    "## Q does not have the least upper bound property\n",
    "\n",
    "Based on this, we can define two sets A and B such that $A = \\{x: x \\in Q, x > 0, x^2 < 2\\}$ and $B = \\{x: x \\in Q, x > 0, x^2 > 2\\}$. We can prove that A containes no largest number and B contains no smallest number.\n",
    "\n",
    "Given a p, we can define a q as follows :\n",
    "$$\n",
    "\\begin{align*}\n",
    "q &= p - \\frac{p^2 - 2}{p + 2} \n",
    "&= \\frac{2p + 2}{p + 2}  \\\\\n",
    "q^2 - 2 &= \\frac{2(p^2 - 2)}{(p + 2)^2}\n",
    "\\end{align*}\n",
    "$$\n",
    "\n",
    "a) If p is in A then, the first equation says $p < q$. The second implies $q^2 < 2$ i.e. $q \\in A$. \n",
    "\n",
    "b) If p is in B then, the first equation says $p > q$. The second implies $q^2 > 2$ i.e. $q \\in B$. \n",
    "\n",
    "\n",
    "Thus A has no least upper bound. And similarly B has no lower bound."
   ]
  }
 ],
 "metadata": {
  "kernelspec": {
   "display_name": "Python 3 (ipykernel)",
   "language": "python",
   "name": "python3"
  },
  "language_info": {
   "codemirror_mode": {
    "name": "ipython",
    "version": 3
   },
   "file_extension": ".py",
   "mimetype": "text/x-python",
   "name": "python",
   "nbconvert_exporter": "python",
   "pygments_lexer": "ipython3",
   "version": "3.9.6"
  }
 },
 "nbformat": 4,
 "nbformat_minor": 5
}
