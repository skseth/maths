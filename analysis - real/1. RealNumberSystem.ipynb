{
 "cells": [
  {
   "cell_type": "markdown",
   "id": "1c02ed3d-472c-4ef1-a4ee-1bddffa81b81",
   "metadata": {},
   "source": [
    "**Books**\n",
    "\n",
    "* Mathematical Analysis by Rudin\n",
    "* A Course in Pure Mathematics by G.H.Hardy\n",
    "\n",
    "**Links**  \n",
    "* [On the complete ordered field](https://choum.net/~chris/cours_et_notes/reals.pdf) by Christian d'Elbee\n",
    "* [Real Analysis in Reverse](https://arxiv.org/pdf/1204.4483.pdf)"
   ]
  },
  {
   "cell_type": "markdown",
   "id": "7018a4d6-61d4-40c3-af87-f270000fb6e9",
   "metadata": {},
   "source": [
    "# Properties of Real Numbers"
   ]
  },
  {
   "cell_type": "markdown",
   "id": "16fdc2e6-af83-4923-9ef2-7ee120bd4ec0",
   "metadata": {},
   "source": [
    "Prerequisites:\n",
    "\n",
    "* Z - the set of integers\n",
    "* Q - the set of rationals\n",
    "* Fields\n",
    "* Ordered Sets and Fields esp supremum / infimum \n"
   ]
  },
  {
   "cell_type": "markdown",
   "id": "f9337d7d-f2c3-460f-9473-ccd644d38bc9",
   "metadata": {},
   "source": [
    "## $\\mathbb{Q}$ - Rational numbers form an ordered field\n",
    "\n",
    "The set of rational numbers, with the operations of addition and multiplication, form a field. \n",
    "\n",
    "They support the axioms of addition, axioms of multiplication and the distributive law.\n",
    "\n",
    "In fact, Q is an ordered field :\n",
    "\n",
    "* $x + y < x + z$ if $y < z$\n",
    "* $xy > 0$ if $x > 0, y > 0$\n",
    "\n",
    "Thus Q is a ordered field when endowed with +, . and <"
   ]
  },
  {
   "cell_type": "markdown",
   "id": "dd0b2446-7c83-4295-8699-c14da7ec3070",
   "metadata": {},
   "source": [
    "## $\\mathbb{Q}$ - There is no rational number whose square is 2\n",
    "\n",
    "Proof by contradiction:\n",
    "\n",
    "Let $p = m/n$, where both m,n are integers, not both even. such that $p^2 = 2$. We can always express any rational number in this way.\n",
    "\n",
    "Then, we get, $m^2 = 2n^2$\n",
    "\n",
    "If m is even, then we see immediately that n is even. And vice versa. This contradicts our hypothesis, hence no such p exists."
   ]
  },
  {
   "cell_type": "markdown",
   "id": "11debfa9-ee32-4708-834b-96bebfce9ee3",
   "metadata": {},
   "source": [
    "## $\\mathbb{Q}$ does not have the Least Upper Bound Property\n",
    "\n",
    "**An ordered set S is said to have the least-upper-bound property if given any set E such that $E \\subset S$, $E$ is not empty, E has an upper bound in S, then E has a least upper bound in S i.e. $\\sup E \\in S$**\n",
    "\n",
    "Based on this, we can define two sets A and B such that $A = \\{x: x \\in Q, x^2 < 2\\}$ and $B = \\{x: x \\in Q, x^2 > 2\\}$. We can prove that A containes no largest number and B contains no smallest number.\n",
    "\n",
    "Thus, Q has *gaps*, even though between any two rational numbers r and s, we can find another ($r < \\frac{r + s}{2} < s$).\n",
    "\n",
    "Here's the [proof](proofs/Q-nolub.ipynb)."
   ]
  },
  {
   "cell_type": "markdown",
   "id": "5169305f-c414-4eae-af60-0e48c997381a",
   "metadata": {},
   "source": [
    "## (Axiom of Completeness) : There exists an ordered field $\\mathbb{R}$ which has the least-upper-bound property and contains $\\mathbb{Q}$ as a sub-field\n",
    "\n",
    "The real number field can be constructed from the rationals in a way that the least upper bound property is satisfied.\n",
    "\n",
    "The most famous approach to doing this construction is the so-called Dedekind cut. See the [proof](proofs/r-construction-dedekind.ipynb). \n",
    "\n"
   ]
  },
  {
   "cell_type": "markdown",
   "id": "dff4c576-69c0-4434-8fc1-e03e18f6d6c2",
   "metadata": {},
   "source": [
    "### Theorem (The Cut Property): Given two nonempty, disjoint sets A and B such that : a) A U B = R and b) a < b for all a in A and all b in B, there is an element c in R such that $x \\le c$ whenever $x \\in A$ and $x \\ge c$ whenever $x \\in B$.\n",
    "\n",
    "Proof: Clearly A is bounded above since B is nonempty. Hence it has a least upper bound c such that $x \\le c$ for $x \\in A$. Assume that b in B is such that $b \\le c$. But we know $x \\le b$ for all $x \\in A$, which would imply c is not the least upper bound of A, contradicting our assumption. Hence there is no b in b such that $b \\le c$.\n",
    "\n",
    "**(Reverse Analysis) Cut Property implies the Axiom of Completeness**\n",
    "\n",
    "Given a nonempty set E in R, that is bounded above, let us build a set $F = \\{x: x \\in E \\text{ or } x < y \\text{ for some x in y}\\}$. Then, we take $F^c$ - we know $F^c$ is nonempty because F is bounded above (say by b), which implies any x > b is in $F^c$. Now, $F \\cup F^c = R$, and by the definition of F we see that for any a < b for any a in F and any b in $F^c$. It follows from the Cut Property that these is a c which meets the definition of a least upper bound i.e. $x \\le c$ for any x in F, and $x \\ge c$ for any x in $F^c$.\n",
    "\n",
    "This implies that Cut Property and the Axiom of Completeness are equivalent - either one can be used as a fundamental property that makes the real number system different from rationals.\n",
    "\n"
   ]
  },
  {
   "cell_type": "markdown",
   "id": "dfa99dca-da73-42fc-b901-f3c226da9e9d",
   "metadata": {},
   "source": [
    "## R has the archimedean property\n",
    "\n",
    "**If $x \\in R, y \\in R, x > 0$, then there is a positive integer n such that nx > y**\n",
    "\n",
    "Proof: Let A be the set nx, where n runs through positive integers. If y is an upper bound, then A has a least-upper-bound. Let $a = \\sup A$. Since x > 0, $a - x < a$ is not an upper bound of A. Hence a - x < mx for some positive number m i.e. a < (m+1)x - a contradiction. So A has no upper bound.\n",
    "\n",
    "**Equivalently, given any real number y, there is a natural number n such that y < n**\n",
    "\n",
    "Just choose x = 1"
   ]
  },
  {
   "cell_type": "markdown",
   "id": "366c467d-669a-4d49-8837-59290828672a",
   "metadata": {},
   "source": [
    "## Q is dense in R\n",
    "\n",
    "Since R is archimedean, it immediately follows that Q is dense in R i.e. given x,y in R, x < y, there is a p in Q such that x < p < y.\n",
    "\n",
    "Proof: We have to find integers m,n such that x < m/n < y.\n",
    "\n",
    "First pick n, such that $n(y-x) > 1$ (using the archimedean property). Thus, $ny > 1 + nx$.\n",
    "\n",
    "Now, we find $m_1$ and $m_2$ such that $m_1 > nx$, and $m_2 > -nx$ i.e. $-m_2 < nx < m_1$. Thus there must be an m such that $-m_2 \\le m \\le m_1$, such that :\n",
    "$m-1 \\le nx < m$\n",
    "\n",
    "Hence, $nx < m \\le 1 + nx < ny$. Thus, $x < m/n < y$."
   ]
  },
  {
   "cell_type": "markdown",
   "id": "9cbcd8ee-62b1-4bfe-97c1-c5a1fc6fb8b5",
   "metadata": {},
   "source": [
    "## Some consequences of Completeness\n",
    "\n",
    "**(Existence of nth Roots): For every real x > 0, and every integer n > 0 there is one and only one positive real y such that $y^n = x$**\n",
    "\n",
    "Corollary: If a and b are positive real numbers and n is a positive integer, then $(ab)^{1/n} = a^{1/n}b^{1/n}$\n",
    "\n",
    "**(Nested Interval Property): A nested sequence of closed intervals in R has a non-empty intersection.**\n",
    "\n",
    "Let the ith interval be $[a_i,b_i]$. Consider the set $E = \\{a_n: n \\in N\\}$. Clearly E is non empty and bounded above by any $b_n$, where $n \\in N$. It follows it has a least upper bound c. Now take a specific interval $[a_n,b_n]$ - clearly $a_n \\le c$, as c is the lub for E. And also, $c \\le b_n$, because $b_n$ is an upper bound of E and must be equal or greater than the least upper bound. It follows that the $c \\in [a_n,b_n]$ for all $n \\in N$ => intersection of the intervals at least contains c and is non-empty.\n",
    "\n",
    "**Representation of reals as decimals**\n",
    "\n",
    "Having chosen $n_0,n_1,...,n^{k-1}$, we choose the largest $n_k$ such that : $n_0 + n_110^{-1} + ... + n_k10^{k} \\le x$\n",
    "\n",
    "Define a set E of these numbers $n_0 + n_110^{-1} + ... + n_k10^{k}$, k = 0,1,2...\n",
    "\n",
    "Then $x = \\sup E$. The decimal expansion of x is :\n",
    "\n",
    "$n_0.n_1n_2n_3...$\n",
    "\n",
    "Conversely, given an infinite decimal, the set E of numbers is bounded above and is the decimal expansion of sup E.\n",
    "\n",
    "**The extended real system**\n",
    "\n",
    "We add two elements $+\\infty$ and $-\\infty$, and extend the order relation so that $-\\infty < x < +\\infty$, for all x in R.\n",
    "\n",
    "If E is a set of reals which is not bounded above, then $\\sup E = +\\infty$ in the extended real system.\n",
    "\n",
    "We conventionally define addition, division as follows : For any x in R,\n",
    "\n",
    "$x + \\infty = +\\infty$, $x - \\infty = -\\infty$, $x/{+\\infty} = x/{-\\infty} = 0$. \n",
    "\n",
    "Also, if x > 0 $x.(+\\infty) = +\\infty$, $x.(-\\infty) = -\\infty$, and vice versa for x < 0.\n",
    "\n",
    "It follows that the extended real number system is **not** a field, since $\\infty$ has no additive inverse - if it did, then $x + \\infty = \\infty$ would imply $x = 0$, which is not possible. Thus $\\infty - \\infty$ is not defined. Nor are $0.(+\\infty)$."
   ]
  },
  {
   "cell_type": "markdown",
   "id": "d909ca1a-99d8-4520-ae98-c39dd92cfd11",
   "metadata": {},
   "source": [
    "## Alternate Approach to R as a complete ordered field\n",
    "\n",
    "From the link (On the Complete Ordered Field) :\n",
    "\n",
    "We start with ordered fields :\n",
    "\n",
    "* Every ordered field has a subset which is isomorphic to N, the set of natural numbers (0,1,2....) - just define an isomorphism n -> 1 + 1 + .. (n times)\n",
    "* From this we can then define a subset isomorphic to Z (using the additive inverse) and Q (using the multiplicative inverse)\n",
    "\n",
    "We define a few key concepts :\n",
    "\n",
    "**complete ordered field** : An ordered field that satisfies the completeness axiom (Dedekind-completeness, or the least-upper-bound property)\n",
    "\n",
    "**archimedean field** : a field (k,+,.,<) where for all x in k, then is an n in k, such that x < n. Equivalently, this can be stated as : given positive x,y in k, there exists an n such that x < n.y. Informally there is no element bigger than any natural number.\n",
    "\n",
    "**density of Q** we say Q is dense in a field (k,+,.,<), if for all x,y in k such that x < y, there is a q in Q such that x < q < y.\n",
    "\n",
    "From this, we can form the following key theorems :\n",
    "\n",
    "**In every archimedean ordered field, Q is dense**  \n",
    "**Every complete ordered field is archimedean**  \n",
    "\n",
    "Hence, as a corollary:\n",
    "\n",
    "**In every complete ordered field, Q is dense**\n",
    "\n",
    "Note that Q itself is archimedean, too.\n",
    "\n",
    "Finally, we come to the key point : Complete orderered fields are isomorphic, or there is a unique (upto isomorphism) complete ordered field.\n",
    "\n",
    "We can now, starting with Q, construct the real numbers via Dedekind cuts, or as the limits of Q-Cauchy sequences. Either way we prove that the reals are a (in fact, the unique) complete ordered field."
   ]
  },
  {
   "cell_type": "code",
   "execution_count": null,
   "id": "92b1085a-ea6b-40ea-a273-c8c238025364",
   "metadata": {},
   "outputs": [],
   "source": []
  }
 ],
 "metadata": {
  "kernelspec": {
   "display_name": "Python 3 (ipykernel)",
   "language": "python",
   "name": "python3"
  },
  "language_info": {
   "codemirror_mode": {
    "name": "ipython",
    "version": 3
   },
   "file_extension": ".py",
   "mimetype": "text/x-python",
   "name": "python",
   "nbconvert_exporter": "python",
   "pygments_lexer": "ipython3",
   "version": "3.9.6"
  }
 },
 "nbformat": 4,
 "nbformat_minor": 5
}
