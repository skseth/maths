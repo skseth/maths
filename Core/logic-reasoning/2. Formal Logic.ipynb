{
 "cells": [
  {
   "cell_type": "markdown",
   "id": "6bb23001-708d-48b8-ad10-4d910d88c766",
   "metadata": {},
   "source": [
    "# Logic"
   ]
  },
  {
   "cell_type": "markdown",
   "id": "0c094e25-b770-4e53-ab35-d1cce233775d",
   "metadata": {},
   "source": [
    "## Sentences, Propositions, Types and Tokens\n",
    "\n",
    "[Types - Tokens](https://plato.stanford.edu/entries/types-tokens/)\n",
    "\n",
    "Consider a sentence : \"I came and I saw and I conquered\"\n",
    "\n",
    "Sentences are composed of words - each instance of a word would be an instance or **token**, an instance of a word **type**. The sentence above contains 8 word types, and 5 word tokens.\n",
    "\n",
    "Similarly consider the following paragraph : I am eating ice cream. I am eating ice cream. An ice cream is being eaten by me.\n",
    "\n",
    "This paragraph contains 3 sentence tokens, and 2 token types. But only one **proposition** - that I am eating ice cream.\n"
   ]
  },
  {
   "cell_type": "markdown",
   "id": "a905a490-fb41-4bbb-be79-43e718a66f36",
   "metadata": {},
   "source": [
    "## Formal Language - Propositional Variables and Connectives\n",
    "\n",
    "Letters such as p,q,r can be used to represent propositions, and are called **propositional variables**.\n",
    "\n",
    "These can be connected to form new propositions:\n",
    "\n",
    "- $\\neg p$ - negation of p\n",
    "- $p \\land q$ - conjunction of p and q\n",
    "- $p \\lor q$ - disjunction of p and q\n",
    "- $p \\implies q$ - material conditional : if p, then q. Here p is called the **antecedent**, q is called the **consequent**.\n",
    "- $p \\Leftrightarrow q$ - material biconditional : p if and only if q\n"
   ]
  },
  {
   "cell_type": "markdown",
   "id": "5eca761d-1348-420f-bc56-aea2494ad15e",
   "metadata": {},
   "source": [
    "## Paradoxes and limitations\n",
    "\n",
    "Let l be the sentence \"This sentence is false\". This is called the **liar sentence**. If l is true, then it is false. And vice versa. This means l is both true and false at the same time. This creates a paradox.\n",
    "\n",
    "Consider the sentence p : \"This sentence contains five words\". This is also self-referential, but it does not have the same issues as l, because it is not referring to it's own truth/falseness.\n",
    "\n",
    "However, when you combine this with the sentence \"This sentence contains exactly six words\" to form the sentence \"This sentence contains five words and This sentence contains exactly six words\" results in a paradox.\n",
    "\n",
    "[Mathematical Enchantments - Breaking logic with self-referential sentences](https://mathenchant.wordpress.com/2016/11/17/breaking-logic-with-self-referential-sentences/)  \n",
    "[Self-Reference](https://plato.stanford.edu/entries/self-reference/)  \n",
    "[Counterfactuals](https://plato.stanford.edu/entries/counterfactuals/)\n"
   ]
  },
  {
   "cell_type": "markdown",
   "id": "37c87611-4c63-4a8c-a105-f83323bfe40b",
   "metadata": {},
   "source": [
    "## Predicate Logic\n",
    "\n"
   ]
  },
  {
   "cell_type": "markdown",
   "id": "7a5c7707-992c-4567-af2b-064c97900a96",
   "metadata": {},
   "source": [
    "A **predicate** or predicate symbols is a parameterized sentence which takes an **object** as a parameter. E.g. \n",
    "\n",
    "Let a = Gandhi, b = Nehru and F be the predicate : \"... went to South Africa\". \n",
    "\n",
    "Then  \n",
    "\n",
    "F(a) is the sentence: Gandhi went to South Africa.  \n",
    "F(b) is the sentence: Nehru went to South Africa.  \n",
    "\n",
    "In the above statement a and b were **constants**. \n",
    "\n",
    "One can identify predicate symbols with more than one parameter as **relation symbols** e.g. one with 2 parameters is a binary relation symbol. We can then identify a predicate symbol with one parameter as a unary symbol, and propositional variables as 0-ary symbols.\n",
    "\n",
    "We can also have **individual variables** e.g. x, y. You can then **bind** these variables to a proposition using quantifier. e.g.\n",
    "\n",
    "$\\exists x P(x)$ - there exists an x, such that P(x) is true.  \n",
    "$\\forall x P(x)$ - for all x, P(x) is true.  \n",
    "\n",
    "An existentially quantified formula $\\exists x P(x)$ is true if there is at least one individual constant a for which the P(a) is true. Note that the existential quantifier is like an or statement, with one clause for each possible value of the variable. Thus if $x \\in \\{a,b,c\\}$, then $\\exists x P(x) = P(a) \\lor P(b) \\lor P(c)$.\n",
    "\n",
    "A universally quantified formula $\\forall x P(x)$ is true if there is no individual constant a for which P(a) is false. This means it may be vacuously true if there is no individual constant at all. Note that the universak quantifier is like an and statement, with one clause for each possible value of the variable. Thus if $x \\in \\{a,b,c\\}$, then $\\forall x P(x) = P(a) \\land P(b) \\land P(c)$.\n",
    "\n",
    "With these quantifiers, we can then use the same connectives as in propositional logic, except that we now are using constants, variables, quantifiers and relation symbols.\n",
    "\n",
    "Given a formula $\\alpha$, we define the sentence \"$\\alpha[a/x]$\" is the replacement of all **free occurence** of the word token x in $\\alpha$ with the constant symbol a. A free occurence of a token is one which has not already been bound using a quantifier.\n",
    "\n",
    "Thus, consider the formulas \n",
    "- $\\exists y L(x,y)$. Here y is bound, x is free.\n",
    "- $\\exists y L(x,y)[a/x] = \\exists y L(a,y)$. Here y is bound, x is free and is replaced by a.\n",
    "- $\\exists y L(x,y)[a/z] = \\exists y L(x,y)$. Since there is no z in the formula.\n",
    "\n",
    "\n",
    "[MIT OpenCourseWare - Albert Meyer - Predicate Logic](https://www.youtube.com/watch?v=UroprmQHTLc)\n"
   ]
  },
  {
   "cell_type": "code",
   "execution_count": null,
   "id": "a8042c8b-5fd6-4e62-ab3c-6a564bc9eebd",
   "metadata": {},
   "outputs": [],
   "source": []
  }
 ],
 "metadata": {
  "kernelspec": {
   "display_name": "Python 3 (ipykernel)",
   "language": "python",
   "name": "python3"
  },
  "language_info": {
   "codemirror_mode": {
    "name": "ipython",
    "version": 3
   },
   "file_extension": ".py",
   "mimetype": "text/x-python",
   "name": "python",
   "nbconvert_exporter": "python",
   "pygments_lexer": "ipython3",
   "version": "3.9.6"
  }
 },
 "nbformat": 4,
 "nbformat_minor": 5
}
