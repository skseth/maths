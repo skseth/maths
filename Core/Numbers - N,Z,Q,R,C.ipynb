{
 "cells": [
  {
   "cell_type": "markdown",
   "metadata": {},
   "source": [
    "# Basic Numbers - N,Z,Q,R,C\n",
    "\n",
    "Rings, Fields, Groups - Allenby\n",
    "\n",
    "Rings\n",
    "Fields\n",
    "\n",
    "Construction of N,Z,Q,R,C\n",
    "\n",
    "Definition of powers and roots\n",
    "\n",
    "Beginnings of Abstract Algebra   \n",
    "Rings   \n",
    "Fields  \n",
    "Groups  \n",
    "\n",
    "\n",
    "the integers ℤ are the ordered integral domain whose ordering satisfies the well-ordering principle;  \n",
    "the rationals ℚ are the field of fractions of the integers;  \n",
    "the reals ℝ are the complete ordered field;  \n",
    "the complex numbers ℂ are the algebraic closure of the reals.  "
   ]
  },
  {
   "cell_type": "code",
   "execution_count": null,
   "metadata": {},
   "outputs": [],
   "source": []
  }
 ],
 "metadata": {
  "kernelspec": {
   "display_name": "Python 3",
   "language": "python",
   "name": "python3"
  },
  "language_info": {
   "codemirror_mode": {
    "name": "ipython",
    "version": 3
   },
   "file_extension": ".py",
   "mimetype": "text/x-python",
   "name": "python",
   "nbconvert_exporter": "python",
   "pygments_lexer": "ipython3",
   "version": "3.8.2"
  }
 },
 "nbformat": 4,
 "nbformat_minor": 4
}
