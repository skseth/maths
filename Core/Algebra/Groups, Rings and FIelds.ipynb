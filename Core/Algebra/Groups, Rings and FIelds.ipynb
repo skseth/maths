{
 "cells": [
  {
   "cell_type": "markdown",
   "metadata": {},
   "source": []
  },
  {
   "cell_type": "markdown",
   "metadata": {},
   "source": [
    "https://people.maths.ox.ac.uk/flynn/genus2/sheets0405/grfnotes1011.pdf"
   ]
  },
  {
   "cell_type": "markdown",
   "metadata": {},
   "source": [
    "# Key Definitions and Example\n",
    "\n",
    "## Group\n",
    "\n",
    "In mathematics, a group is a set equipped with a binary operation that combines any two elements to form a third element in such a way that four conditions called group axioms are satisfied, namely closure, associativity, identity and invertibility. \n",
    "\n",
    "An abelian group has the additional property that the operation is commutative.\n",
    "\n",
    "\n",
    "\n",
    "## Field\n",
    "\n",
    "From Wikipedia :\n",
    "\n",
    "\"In mathematics, a **field** is a set on which addition, subtraction, multiplication, and division are defined and behave as the corresponding operations on rational and real numbers do. A field is thus a fundamental algebraic structure which is widely used in algebra, number theory, and many other areas of mathematics.\"\n",
    "\n",
    "A field has two operations, called addition and multiplication - it is an abelian group under addition with 0 as the additive identity; the nonzero elements are an abelian group under multiplication with 1 as the multiplicative identity; and multiplication distributes over addition.\n",
    "\n",
    "Examples of fields are : Q - set of rational numbers, R - set of real numbers, C - set of complex numbers. These generally behave as expected. However, fields can be very different from these as well. An example is the field of integers modulo p. In such a field, 1 + 1 + 1... p times = 0, while in the fields outlined earlier, this is never the case. Fields where adding the unit p times results in 0 is called a field of characteristic p. A field where the sum is never zero is called a field of **characteristic 0**. \n",
    "\n",
    "\n",
    "\n"
   ]
  },
  {
   "cell_type": "code",
   "execution_count": null,
   "metadata": {},
   "outputs": [],
   "source": []
  }
 ],
 "metadata": {
  "kernelspec": {
   "display_name": "Python 3",
   "language": "python",
   "name": "python3"
  },
  "language_info": {
   "codemirror_mode": {
    "name": "ipython",
    "version": 3
   },
   "file_extension": ".py",
   "mimetype": "text/x-python",
   "name": "python",
   "nbconvert_exporter": "python",
   "pygments_lexer": "ipython3",
   "version": "3.8.2"
  }
 },
 "nbformat": 4,
 "nbformat_minor": 4
}
