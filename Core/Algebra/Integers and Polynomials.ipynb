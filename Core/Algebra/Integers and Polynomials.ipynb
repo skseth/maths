{
 "cells": [
  {
   "cell_type": "markdown",
   "metadata": {},
   "source": [
    "# Binary Operations\n",
    "\n",
    "A binary operation on a set (often denoted by +, . or some other symbol, is a function that takes two elements of a set and produces another element of the set. Instead of using the function notation, binary operations are often defined using infix notation. \n",
    "\n",
    "A binary operation * over a set A may (or may not) have the following properties :\n",
    "\n",
    "Commutativity : a * b = b * a\n",
    "\n",
    "Identity : There is at least one element e such that a * e = a for all a. Since it follows that \n",
    "\n",
    "Inverse : For every a, there is a b such that a * b = 0 - b is called a right inverse of a. If b * a = 0, b is called a left inverse of a. \n",
    "\n",
    "Associativity : a * (b * c) = (a * b) * c\n",
    "\n",
    "Closure: A subset S of the set A may be such that given a and b in S, a * b is also in S. Then * is said to be closed in S - the property of being closed on a set is called closure.\n",
    "\n",
    "Cancellation : a*c = b*c => a = b is called the right cancellation property. Similarly we have the left cancellation property. "
   ]
  },
  {
   "cell_type": "markdown",
   "metadata": {},
   "source": [
    "# Integers Z and Natural Numbers N\n",
    "\n",
    "For a construction of natural number and integers starting for set theory, see the article on constructing N, Z. We now start with Z defined by a set of axioms.\n",
    "\n",
    "The set Z (of integers) has two operations + (Addition) and . (multiplication) with the following propertis :\n",
    "\n",
    "+ is commutative, associative, has a unique identity (0) and every element a in Z has a unique inverse (-a) \n",
    ". is commutative, associative, and has a unique identity (1)\n",
    "\n",
    "Multiplication is distributive over addition a.(b+c) = a.b + a.c and (a + b).c = a.c + b.c\n",
    "\n",
    "Z contains a non-empty subset N, such (a) every element of Z belongs to N, {0} or -N and (b) for all a,b in N, a.b $\\in$ N, and a + b $\\in$ N.\n",
    "\n",
    "The Principle of Mathematical Induction : If U is a subset of Z such that $1 \\in U$, and $a + 1 \\in U$ whenever a is in U, then U = N.\n",
    "\n",
    "N is the set of **positive integers**, -N is the set of **negative integers**."
   ]
  },
  {
   "cell_type": "code",
   "execution_count": null,
   "metadata": {},
   "outputs": [],
   "source": []
  }
 ],
 "metadata": {
  "kernelspec": {
   "display_name": "Python 3",
   "language": "python",
   "name": "python3"
  },
  "language_info": {
   "codemirror_mode": {
    "name": "ipython",
    "version": 3
   },
   "file_extension": ".py",
   "mimetype": "text/x-python",
   "name": "python",
   "nbconvert_exporter": "python",
   "pygments_lexer": "ipython3",
   "version": "3.8.2"
  }
 },
 "nbformat": 4,
 "nbformat_minor": 4
}
