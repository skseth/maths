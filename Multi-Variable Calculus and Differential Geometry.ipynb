{
 "cells": [
  {
   "cell_type": "markdown",
   "metadata": {},
   "source": [
    "https://ocw.mit.edu/courses/mathematics/18-02sc-multivariable-calculus-fall-2010/2.-partial-derivatives/part-a-functions-of-two-variables-tangent-approximation-and-optimization/session-24-functions-of-two-variables-graphs\n",
    "\n",
    "https://www.youtube.com/playlist?list=PLMsYJgjgZE8hh6d6ia2dP1NI0BKNRXbiw / http://mathswithphysics.blogspot.com/2016/07/the-we-heraeus-international-winter.html  \n",
    "\n",
    "http://www.supermath.info/DifferentialGeometry.html\n",
    "\n",
    "https://www.ese.wustl.edu/~nehorai/Porat_A_Gentle_Introduction_to_Tensors_2014.pdf\n",
    "\n",
    "https://pdfs.semanticscholar.org/dc6f/137515c832cbdfe3452dd6c0c93064a2390d.pdf\n"
   ]
  },
  {
   "cell_type": "markdown",
   "metadata": {},
   "source": [
    "# Single-Variable Calculus\n",
    "\n",
    "\n",
    "## Taylor's Theorem and Polynomial approximation\n",
    "\n",
    "Taylor operator of degree n\n",
    "\n",
    "$T_nf(a) = \\sum_{k=1}^{n} \\frac{f^{(k)}(a)}{k!}(x-a)^k$  \n",
    "\n",
    "A function can be approximated by its Taylor polynomial to any desired degree of accuracy.\n",
    "\n",
    "Well known expansions :\n",
    "\n",
    "$e^x$  \n",
    "$sin(x)$  \n",
    "$cos(x)$  \n",
    "$sinh(x)$  \n",
    "$cosh(x)$  \n",
    "\n",
    "Linear Approximation : if we take just the first derivation, we get a linear approximation for a function :\n",
    "\n",
    "$T_1f(a) = f(a) + f'(a)(x - a)$\n",
    "\n",
    "Quadratic approximation :\n",
    "\n",
    "$T_2f(a) = f(a) + f'a(x - a) + f''(a)/2(x-a)^2$\n"
   ]
  },
  {
   "cell_type": "markdown",
   "metadata": {},
   "source": [
    "# Vectors\n",
    "Vectors\n",
    "Dot Product\n",
    "Determinant\n",
    "\n",
    "Cross Product - value = area enclosed by vectors - direction is given by normal\n",
    "A x B = - B x A (anti-commutative)\n",
    "A.(A x B) = B.(A x B) = 0 (because perpendicular)\n",
    "\n",
    "If A = (a1, a2, a3) and B = (b1,b2,b3), then \n",
    "\n",
    "A x B = (a2b3 - a3b2) e1 - (a1b3 - a3b1)e2 + (a1b2 - a2b1)e3\n",
    "\n",
    "e1 x e2 = e3 etc.\n",
    "\n",
    "Volume of A parallelopiper enclosed by A, B and C : $(A x B) \\cdot C$\n",
    "\n",
    "Equation of Plane : Given 3 points P, Q, R in a plane, the normal vector to the plane is PQ x PR. Then for any point X in the plane, we have PX.(PQ x PR) = 0.\n",
    "\n",
    "Matrices\n",
    "Matrix Multiplication\n",
    "Matrix Inverse : AX = B => $X = A^{-1}B$\n",
    "\n",
    "adjoint A : find the minors, cofactors (flip some signs), transpose\n",
    "\n",
    "inverse A = (1/det A) adjoint A (no inverse if determinant is zero)\n",
    "\n",
    "\n",
    "### Solution to system of equations AX = b \n",
    "\n",
    "Given a normal vector n and a point O, a point P in the plane perpendicular to n and containing O has OP.n = 0.\n",
    "\n",
    "Given a normal vector ai + bj + ck and a point (x,y,z), the plane through origin would be ax + by + cz = 0, and through some other point will be ax + by + cz = d.\n",
    "\n",
    "A solution to a linear equation in $R3$ is when 3 planes meet - there are many options :\n",
    "\n",
    "Assume 2 of the planes may meet in a line. The third may :\n",
    "\n",
    "1) a line - plane contains the line - infinitely many solutions. The normal vectors are coplanar to this line\n",
    "2) no point - plane is parallel to the line, but does not contain it - no solutionn\n",
    "3) meet at one point - one solution\n",
    "4) a plane - all three planes are same\n",
    "\n",
    "Homogenous equations : pass through origin Ax = 0. Ax = b always has a trivial solution. If det A != 0, then 0 is the one and only solution.\n",
    "\n",
    "if det A = 0 => the planes dont meet at a single point (the origin). So solution is a line or a plane.\n",
    "\n",
    "From a vector perspective, the equation of a plane is :\n",
    "\n",
    "$f(t_1,t_2) = p + t_1v_1 + t_2v_2$ where p is a point on the plane, and $v_1$ and $v_2$ are two vectors parallel to the plane.\n",
    "\n",
    "A plane divides $R^3$ into \n",
    "\n",
    "### Equations of lines and curves\n",
    "$f(t) = p + tv$\n",
    "\n",
    "e.g. f(t) = (1+t, 2+t, 3+2t) goes through point p = (1,2,3) and along vector v = (1,1,2). This is the parametric equation for a line. Is a line on a plane ax + by + c? Is it perpendicular? If n is the normal to the plane, then the if v.n = 0 => line is parallel to the plane. If p satisfies the plane equation, the line is in the plane. On the other hand, if v.n != 0, then the line intersects the plane at exactly one point, which we can calculate by substituting the values.\n",
    "\n",
    "\n",
    "We can also think of $f(t) = (f_1(t), f_2(t),f_3(t))$ - and in fact this suffices for any curve. t can often be thought of as time, and p a moving point along the curve. \n",
    "\n",
    "An ellipse f(t) = (6 cos(t), 3 sin(t))  \n",
    "\n",
    "A cycloid $f(t) = (a\\theta - asin(\\theta), a - a cos(\\theta))$\n",
    "\n",
    "Taylor's expansion : f(t) = f(0) + t f'(0)/2 + t^2 f''(0)/6 + ...\n",
    "\n",
    "The velocity vector for a cycloid : v(t) = (1 - cos(t), sin(t)).  \n",
    "Instantaneous speed $|v(t)| = \\sqrt{2 - 2 cos(t)}$\n",
    "\n",
    "The acceleration a(t) = (sin(t), cos(t))\n",
    "\n",
    "Arc Length : $s = \\int_{0}^{2\\pi}\\sqrt{2 - 2 cos(t)}$\n",
    "\n",
    "Tangent vector $\\hat{T} = v / ||v||$\n",
    "\n",
    "So we have $v(t) = \\hat(T) ds/dt$ \n",
    "\n",
    "Motion of planets : move in a plane, and area swept out is equal in equal time.\n",
    "\n",
    "z = f(x,y) is a surface\n",
    "\n",
    "Contour Plots provide a view of the level curves - points which have the same value of f. These \"level sets\" provide a view of how fast the value is changing in a particular direction - closely spaced lines mean rate of change is higher.\n",
    "\n"
   ]
  },
  {
   "cell_type": "markdown",
   "metadata": {},
   "source": [
    "## Partial Derivatives\n",
    "\n",
    "\n",
    "$$\\frac{\\partial f(x_0,y_0)}{\\partial x} = lim_{\\Delta x \\to 0}\\frac{f(x_0 + \\Delta x, y_0) - f(x_0, y_0)}{\\Delta x}$$\n",
    "\n",
    "**Tangent Plane** approximation : Each partial derivative at a point determines a line. The lines together determine a plane. So the two lines (or vectors) together form a plane, called a tangent line, similar to the tangent line to a curve.\n",
    "\n",
    "If a and b are the partial derivates at a point $(x_0, y_0, z_0)$, then the tangent plane is :\n",
    "\n",
    "$$z_0 + a(x - x_0) + b(y - y_0) = 0$$\n",
    "\n",
    "**critical point** A point where partial derivatives are zero. In single variable, determining whether this is max, min, or inflection point can be decided by second derivative.\n",
    "\n",
    "In 2D we also have saddle points points which are min in one direction, maximum in another\n",
    "\n",
    "**Least Squares Method**  \n",
    "\n",
    "https://towardsdatascience.com/introduction-to-linear-regression-in-python-c12a072bedf0\n",
    "\n",
    "A general approach allowing us to do curve fitting against various curves.\n",
    "TODO: More investigation\n",
    "\n",
    "Critical point : \n",
    "\n",
    "\n",
    "\n"
   ]
  },
  {
   "cell_type": "markdown",
   "metadata": {},
   "source": [
    "# Differentials / Gradient / Directional Derivative\n",
    "\n",
    "Let f(x,y,z) be a function. Let x = x(t), y = y(t) and z = z(t). Then :\n",
    "\n",
    "$df/dt = f_x dx/dt + f_y dy / dy + f_z dy/dt$\n",
    "\n",
    "This is a multivariate chain rule. \n",
    "\n",
    "A gradient of function at each point can be defined as a vector such that :\n",
    "\n",
    "$\\nabla f = (f_x,f_y,f_z)$\n",
    "\n",
    "The gradient is always perpendicular to the level surfaces of function f. \n",
    "\n",
    "We can rewrite the chain rule as :\n",
    "\n",
    "$df/dt = \\nabla f \\cdot dr/dt$, where r is (x(t),y(t),z(t))\n",
    "\n",
    "**Directional Derivative**  \n",
    "\n",
    "$D_uf(p) = d/dt f(p + tu) = \\nabla f \\cdot du/dt$ where u is the unit vector.\n",
    "\n",
    "The gradient is the direction (of the domain), where the function increases the most quickly. This can be see by the dot product :\n",
    "\n",
    "$D_uf(p) = |\\nabla f| . |u| cos \\theta$ is maximum when u is in the direction of the gradient => that the gradient is the direction of fastest increase.\n",
    "\n",
    "Later, we will relax the assumption that u needs to be a unit vector."
   ]
  },
  {
   "cell_type": "markdown",
   "metadata": {},
   "source": [
    "# Lagrange Multipliers\n",
    "\n",
    "f(x,y,z) where we have a constraint : g(x,y,z) = c.\n",
    "\n",
    "https://arxiv.org/pdf/0705.0609.pdf - Physical meaning of lagrance multipliers \n",
    "\n",
    "At the point where the two curves intersect will have the tangent planes parallel i.e. the normals will be parallel, and we have :\n",
    "\n",
    "$\\nabla f = \\lambda \\nabla g$, provides a relationship where the \n",
    "\n",
    "# Non-independent variables\n",
    "\n",
    "f(x,y,z), where g(x,y,z) = c\n",
    "\n",
    "then, we can use $dg = g_xd_x + g_yd_y + g_zd_z = 0$\n",
    "\n",
    "We can then say : $\\frac{\\partial z}{\\partial x} = -\\frac{g_x}{g_z}$\n",
    "\n",
    "In general it is important to know in partial differentiation what we are keeping constant - the basic notation leaves that unclear. To take an example, assume a right angle triangle with sides a, b (hypotenuse) and an included angle $\\theta$.\n",
    "\n",
    "Then area $A = 0.5*a*b*sin(\\theta)$ and $a = b cos(\\theta)$\n",
    "\n",
    "$\\frac{\\partial A}{\\partial \\theta} = 0.5 *a*b*cos(\\theta)$, where a,b are fixed. But we no longer have right angled triangle.\n",
    "\n",
    "$(\\frac{\\partial A}{\\partial \\theta})_a = 0.5 *a*b*sin(\\theta) + 0.5*a*cos(\\theta)*a.(sec(\\theta)*tan(\\theta)) = $"
   ]
  },
  {
   "cell_type": "markdown",
   "metadata": {},
   "source": [
    "## Double Integrals\n",
    "\n",
    "Given z = f(x,y)\n",
    "\n",
    "$$\\iint_A f(x,y) \\,dA$$  \n",
    "\n",
    "Iterated Integral :\n",
    "\n",
    "$$\\int_{x=minx}^{x = maxx} \\big [\\int_{ymin(x)}^{ymax(x)} f(x,y) dy \\big ] dx$$\n",
    "\n",
    "\n",
    "Applications :\n",
    "\n",
    "Mass - integral of density\n",
    "\n",
    "Average Value - e.g. average temperature in a room : integral / area\n",
    "\n",
    "Weighted Average - 1 / mass (integral of function * density)\n",
    "\n",
    "center of mass (x,y) = (weighted average of x, wrighted average of y)\n",
    "\n",
    "Moment of inertia about an axis\n",
    "\n",
    "**Change of coordinates**  \n",
    "\n",
    "If new coordinates are connected by a linear function of the old, there will be a scaling factor between the two \"infinitesimal areas\", because the areas enclosed by the new basis vectors are just a simple multiple of the old, at every point.\n",
    "\n",
    "However, in general transformation of coordinates may not be linear. In this case the new coordinates may have a more complex relationship.\n",
    "\n",
    "x = x(u,v)\n",
    "y = y(u,v)\n",
    "\n",
    "$$dx dy = |det\\; J| du dv $$ - where |J| is the absolute value of the Jacobian of x and y w.r.t. u and v (absolute because we are not considering orientation of areas yet). The Jacobian is :\n",
    "\n",
    "$$J = \\begin{bmatrix} x_u & y_u \\\\x_v & y_v \\end{bmatrix}$$\n",
    "\n",
    "e.g. if $x = r cos(\\theta)$ and $y = r sin(\\theta)$, then :\n",
    "\n",
    "$$J = \\begin{bmatrix} cos(\\theta) & sin(\\theta)\\\\ -rsin(\\theta) & r cos(\\theta)\\end{bmatrix}$$\n",
    "\n",
    "$$|J| = r$$\n",
    "\n"
   ]
  },
  {
   "cell_type": "code",
   "execution_count": 34,
   "metadata": {},
   "outputs": [
    {
     "data": {
      "image/png": "[encoded data removed]",
      "text/latex": [
       "$\\displaystyle \\frac{\\pi}{8}$"
      ],
      "text/plain": [
       "π\n",
       "─\n",
       "8"
      ]
     },
     "execution_count": 34,
     "metadata": {},
     "output_type": "execute_result"
    }
   ],
   "source": [
    "import sympy as sp\n",
    "x, y = sp.var('x,y',real=True);\n",
    "\n",
    "expr = sp.Rational(2,3)*(1 - x*x)**sp.Rational(3,2)\n",
    "\n",
    "sp.integrate(expr,(x,(0,1)))"
   ]
  },
  {
   "cell_type": "code",
   "execution_count": 21,
   "metadata": {},
   "outputs": [
    {
     "data": {
      "image/png": "[encoded data removed]",
      "text/latex": [
       "$\\displaystyle 2 x^{2} + 3 y^{2}$"
      ],
      "text/plain": [
       "   2      2\n",
       "2⋅x  + 3⋅y "
      ]
     },
     "metadata": {},
     "output_type": "display_data"
    },
    {
     "data": {
      "image/png": "[encoded data removed]",
      "text/latex": [
       "$\\displaystyle x^{2} + y^{2} - 4$"
      ],
      "text/plain": [
       " 2    2    \n",
       "x  + y  - 4"
      ]
     },
     "metadata": {},
     "output_type": "display_data"
    },
    {
     "data": {
      "image/png": "[encoded data removed]",
      "text/latex": [
       "$\\displaystyle - \\lambda \\left(x^{2} + y^{2} - 4\\right) + 2 x^{2} + 3 y^{2}$"
      ],
      "text/plain": [
       "    ⎛ 2    2    ⎞      2      2\n",
       "- λ⋅⎝x  + y  - 4⎠ + 2⋅x  + 3⋅y "
      ]
     },
     "metadata": {},
     "output_type": "display_data"
    },
    {
     "data": {
      "image/png": "[encoded data removed]",
      "text/latex": [
       "$\\displaystyle \\left[ - 2 \\lambda x + 4 x, \\  - 2 \\lambda y + 6 y\\right]$"
      ],
      "text/plain": [
       "[-2⋅λ⋅x + 4⋅x, -2⋅λ⋅y + 6⋅y]"
      ]
     },
     "metadata": {},
     "output_type": "display_data"
    },
    {
     "data": {
      "image/png": "[encoded data removed]",
      "text/latex": [
       "$\\displaystyle \\left[ - 2 \\lambda x + 4 x, \\  - 2 \\lambda y + 6 y, \\  x^{2} + y^{2} - 4\\right]$"
      ],
      "text/plain": [
       "⎡                             2    2    ⎤\n",
       "⎣-2⋅λ⋅x + 4⋅x, -2⋅λ⋅y + 6⋅y, x  + y  - 4⎦"
      ]
     },
     "metadata": {},
     "output_type": "display_data"
    },
    {
     "data": {
      "image/png": "[encoded data removed]",
      "text/latex": [
       "$\\displaystyle \\left[ \\left\\{ \\lambda : 2, \\  x : -2, \\  y : 0\\right\\}, \\  \\left\\{ \\lambda : 2, \\  x : 2, \\  y : 0\\right\\}, \\  \\left\\{ \\lambda : 3, \\  x : 0, \\  y : -2\\right\\}, \\  \\left\\{ \\lambda : 3, \\  x : 0, \\  y : 2\\right\\}\\right]$"
      ],
      "text/plain": [
       "[{λ: 2, x: -2, y: 0}, {λ: 2, x: 2, y: 0}, {λ: 3, x: 0, y: -2}, {λ: 3, x: 0, y:\n",
       " 2}]"
      ]
     },
     "metadata": {},
     "output_type": "display_data"
    },
    {
     "data": {
      "image/png": "[encoded data removed]",
      "text/latex": [
       "$\\displaystyle \\left[ 8, \\  8, \\  12, \\  12\\right]$"
      ],
      "text/plain": [
       "[8, 8, 12, 12]"
      ]
     },
     "execution_count": 21,
     "metadata": {},
     "output_type": "execute_result"
    }
   ],
   "source": [
    "import sympy as sp\n",
    "x, y = sp.var('x,y',real=True);\n",
    "f = 2 * x**2 + 3 * y**2\n",
    "g = x**2 + y**2 - 4\n",
    "display(f)\n",
    "display(g)\n",
    "lam = sp.symbols('lambda', real = True)\n",
    "L = f - lam* g\n",
    "display(L)\n",
    "gradL = [sp.diff(L,c) for c in [x,y]] # gradient of Lagrangian w.r.t. (x,y)\n",
    "display(gradL)\n",
    "KKT_eqs = gradL + [g]\n",
    "display(KKT_eqs)\n",
    "\n",
    "stationary_points = sp.solve(KKT_eqs, [x, y, lam], dict=True) # solve the KKT equations\n",
    "display(stationary_points)\n",
    "\n",
    "[f.subs(p) for p in stationary_points]\n"
   ]
  },
  {
   "cell_type": "markdown",
   "metadata": {},
   "source": [
    "# Line Integrals\n",
    "\n",
    "## Work Done\n",
    "\n",
    "Vector Field - a vector at each point\n",
    "\n",
    "Example : F = (-y,x) - rotation by 90 of position vector, at each point\n",
    "\n",
    "Work done by a vector field \n",
    "\n",
    "$$W = \\int_{C} F \\cdot dr = \\int_{t=t_0}^{t=t_f} F \\cdot v dt$$ - here t would usually represent time.\n",
    "\n",
    "The work done depends on the curve, but not the parameterization. An alternate parameterization would get the same answer. Sometimes a geometric approach can help.\n",
    "\n",
    "## Fundamental Theorem of Line Integrals\n",
    "If you take the line integral of the gradient of a function, you get back the function.  Here we consider a curve starting at point $p_1$ and ending at $p_2$\n",
    "\n",
    "$$\\int_{C} \\vec{F} . d\\vec{r} = \\int_{C} \\nabla f . d\\vec{r} = \\int_{p_1}^{p_2} f_xdx + f_ydy = \\int_{p_1}^{p_2} df = f(p_2) - f(p_1)  $$\n",
    "\n",
    "### Conservative Fields and Potential\n",
    "A force field which can be expressed as a gradient of a scalar function is called a conservative field. The scalar field is called a potential field. In physics, usually, a force is given as a negative of the gradient, but this does not impact the result.\n",
    "\n",
    "Conservative fields show path independence - work done is independent of path taken, just the starting and ending positions. In a closed curve, work done will be zero.\n",
    "\n",
    "Again the level curves come in - the value of the potential function form level curves. So moving along a level means no work done. \n",
    "\n",
    "In general (for any force field), if F(x,y) = (M(x,y), N(x,y))\n",
    "\n",
    "$$ \\int_{C} \\vec{F} . d\\vec{r} = \\int_{C} M(x,y)dx + N(x,y)dy$$  \n",
    "\n",
    "So, the fundamental theorem is equivalent to saying that there is a function f, such that $M(x,y) = f_x$ and $N(x,y) = f_y$, then F is a gradient field of the function f, and hence is conservative.\n",
    "\n",
    "But $M = f_x$ and $N = f_y$, then $M_y = N_x = f_xy$\n",
    "\n",
    "To find the original function, you could choose a point as origin and compute the \"work\" done along any path to a point (x,y) - this will be the desired function (upto an integration constant).\n",
    "\n",
    "Another method of finding the function is to integrate the partial functions. You need to be careful that the \"constant\" term in the first integration (say by dx) may be a function of y. \n",
    "\n",
    "### Curl (in 2 dimensions)\n",
    "\n",
    "Curl = $N_x - M_y$.\n",
    "\n",
    "Thus, for a vector field F, curl F != 0 implies field is not conservative.\n",
    "\n",
    "How much a vector field fails to be conservative. For a velocity field, curl measures twice the angular velocity of a rotation.\n",
    "\n",
    "The curl of a force field measures the torque exerted on an object at any point\n",
    "\n"
   ]
  },
  {
   "cell_type": "code",
   "execution_count": 38,
   "metadata": {},
   "outputs": [
    {
     "data": {
      "image/png": "[encoded data removed]",
      "text/plain": [
       "<Figure size 432x288 with 1 Axes>"
      ]
     },
     "metadata": {
      "needs_background": "light"
     },
     "output_type": "display_data"
    }
   ],
   "source": [
    "%matplotlib inline\n",
    "import matplotlib.pyplot as plt\n",
    "import sympy as sp\n",
    "import numpy as np\n",
    "\n",
    "sp.init_printing()\n",
    "x,y = sp.symbols('x y')\n",
    "\n",
    "def gradient(f):\n",
    "    return (f.diff(x), f.diff(y))\n",
    "\n",
    "f = x*y**2\n",
    "g = gradient(f)\n",
    "g\n",
    "\n",
    "xrange = np.linspace(-3,3,15)\n",
    "yrange = np.linspace(-3,3,15)\n",
    "X,Y = np.meshgrid(xrange, yrange)\n",
    "\n",
    "U=X\n",
    "V=Y\n",
    "\n",
    "for i in range(len(xrange)):\n",
    "    for j in range(len(yrange)):\n",
    "        x1 = X[i,j]\n",
    "        y1 = Y[i,j]\n",
    "        U[i,j] = g[0].subs({x:x1, y:y1})\n",
    "        V[i,j] = g[1].subs({x:x1, y:y1})\n",
    "\n",
    "plt.quiver(X,Y,U,V, linewidth=1)\n",
    "plt.title(\"vector field\")\n",
    "plt.show()"
   ]
  },
  {
   "cell_type": "code",
   "execution_count": 1,
   "metadata": {},
   "outputs": [
    {
     "data": {
      "text/latex": [
       "$\\displaystyle \\left[\\begin{matrix}1 & 0 & 0\\\\0 & 0 & 2\\\\2 & 2 & 2\\end{matrix}\\right]$"
      ],
      "text/plain": [
       "⎡1  0  0⎤\n",
       "⎢       ⎥\n",
       "⎢0  0  2⎥\n",
       "⎢       ⎥\n",
       "⎣2  2  2⎦"
      ]
     },
     "metadata": {},
     "output_type": "display_data"
    },
    {
     "data": {
      "image/png": "[encoded data removed]",
      "text/latex": [
       "$\\displaystyle -4$"
      ],
      "text/plain": [
       "-4"
      ]
     },
     "metadata": {},
     "output_type": "display_data"
    },
    {
     "data": {
      "text/latex": [
       "$\\displaystyle \\left[\\begin{matrix}-4 & 0 & 0\\\\4 & 2 & -2\\\\0 & -2 & 0\\end{matrix}\\right]$"
      ],
      "text/plain": [
       "⎡-4  0   0 ⎤\n",
       "⎢          ⎥\n",
       "⎢4   2   -2⎥\n",
       "⎢          ⎥\n",
       "⎣0   -2  0 ⎦"
      ]
     },
     "metadata": {},
     "output_type": "display_data"
    },
    {
     "data": {
      "text/latex": [
       "$\\displaystyle \\left[\\begin{matrix}1 & 0 & 0\\\\-1 & - \\frac{1}{2} & \\frac{1}{2}\\\\0 & \\frac{1}{2} & 0\\end{matrix}\\right]$"
      ],
      "text/plain": [
       "⎡1    0     0 ⎤\n",
       "⎢             ⎥\n",
       "⎢-1  -1/2  1/2⎥\n",
       "⎢             ⎥\n",
       "⎣0   1/2    0 ⎦"
      ]
     },
     "metadata": {},
     "output_type": "display_data"
    },
    {
     "data": {
      "image/png": "[encoded data removed]",
      "text/latex": [
       "$\\displaystyle \\left\\{\\left( 0, \\  -1, \\  2\\right)\\right\\}$"
      ],
      "text/plain": [
       "{(0, -1, 2)}"
      ]
     },
     "execution_count": 1,
     "metadata": {},
     "output_type": "execute_result"
    }
   ],
   "source": [
    "from sympy import *\n",
    "from sympy.solvers.solveset import linsolve\n",
    "init_printing()\n",
    "\n",
    "M = Matrix([[1,0,0],[0,0,2],[2,2,2]])\n",
    "display(M)\n",
    "display(M.det())\n",
    "display(M.adjugate())\n",
    "display(M.inv())\n",
    "\n",
    "x, y, z = symbols('x, y, z')\n",
    "M = Matrix(((1, 1, 1, 1), (1, 1, 2, 3),(1,2,3,4)))\n",
    "system = A, b = M[:, :-1], M[:, -1]\n",
    "linsolve(system, x, y, z)\n"
   ]
  },
  {
   "cell_type": "markdown",
   "metadata": {},
   "source": [
    "# Green's Theorem\n",
    "\n",
    "If C is a closed curve going counterclockwise, enclosing a region R, then :\n",
    "\n",
    "$$ \\oint_{C} \\vec{F} \\cdot \\frac{d\\vec{r}}{dt} = \\iint_R curl\\; \\vec{F}\\ dA$$\n",
    "\n",
    "TODO - write up \n",
    "\n",
    "- normal form of green's theorem\n",
    "- simply connected region criteria\n",
    "- handling holes, using 2 curves to remove holes\n",
    "- restatement of conservative field definition in terms of connected regions"
   ]
  },
  {
   "cell_type": "markdown",
   "metadata": {},
   "source": [
    "# Triple Integrals\n",
    "\n",
    "\n",
    "Mass in a volume with density $\\delta(x,y,z)$\n",
    "\n",
    "$$Mass = \\iiint_R \\delta(x,y,z)\\ dV$$\n",
    "\n",
    "Average value of function f i a region R\n",
    "\n",
    "$$ \\bar{f} = \\frac{1}{vol (R)} \\iiint_R f(x,y,z) dV$$\n",
    "\n",
    "ith coordinate of center of mass of a body (weighted by mass)\n",
    "\n",
    "$$ \\bar{x_i} = \\frac{1}{Mass} \\iiint_R x_i dm \\frac{1}{Mass} \\iiint_R x_i \\delta dV$$\n",
    "\n",
    "\n",
    "Moment of Inertia around z axis (in cylindrical (r, $\\theta$, z) / cartesian coordinates)\n",
    "\n",
    "$$ I_z= \\iiint_R r^2 \\delta\\ dV  = \\iiint_R (x^2 + y^2) \\delta\\ dV$$\n",
    "\n",
    "\n",
    "Spherical coordinates : ($\\rho$, $\\theta$, $\\phi$)\n",
    "\n",
    "Take a plane containing the vector of the point and the z axis. Then $\\theta$ is the angle the intersection of this plane makes with the x-axis in counter-clockwise direction (start from x-axis, keep going till you hit the plane) . $\\phi$ is the angle between the positive z-axis to the vector - between 0 and $\\pi$. $\\phi$ is like a latitude, starting from north pole. $\\theta$ is like longitude, starting from x-axis.\n",
    "\n",
    "Gravitational Attraction - TODO\n"
   ]
  },
  {
   "cell_type": "markdown",
   "metadata": {},
   "source": [
    "# Vector Fields in Space\n",
    "\n",
    "Electric Fields, Magnetic Fields\n",
    "Gradient fields\n",
    "Velocity field\n",
    "\n",
    "\n",
    "\n",
    "Flux of a vector field in space through a surface S (orientation defined by normal vector $\\bar{n}$).\n",
    "\n",
    "$$ \\iint_{S} \\vec{F} \\cdot \\vec{n}\\ dS = \\iint_{S} \\vec{F} \\cdot \\vec{dS} $$\n",
    "\n",
    "## ndS for a surface\n",
    "\n",
    "This can be computed by the cross product of two vectors corresponding to small changes of x and y in the domain :\n",
    "\n",
    "$\\bar{n}dS = (-f_x, -f_y, 1) dx dy$\n",
    "\n",
    "Assume S is specified by x = x(u,v), y = y(u,v) and z = z(u,v). Then we can express ndS in terms of du and dv :\n",
    "\n",
    "$$\\bar{n} dS = \\big (\\frac{\\partial \\bar{r}}{du} x  \\frac{\\partial \\bar{r}}{dv} \\big ) du\\ dv$$\n",
    "\n",
    "Or if the surface has a normal $\\vec{N}$ specified (e.g. its a plane), and we want the projection to the x-y plane, that can be obtained by :\n",
    "\n",
    "$\\bar{n}dS = \\frac{\\vec{N}}{\\vec{N} \\cdot \\vec{k}} dx\\ dy $\n",
    "\n",
    "\n",
    "\n",
    "\n",
    "\n",
    "\n"
   ]
  },
  {
   "cell_type": "markdown",
   "metadata": {},
   "source": [
    "# Divergence Theorem\n",
    "\n",
    "Gauss Theorem, Gauss-Green Theorem\n",
    "\n",
    "Given a closed surface S enclosing a volume D, oriented with $\\hat{n}$ pointing outward, then the flux of the field $\\vec{F} = P\\hat{i} + Q\\hat{j} + R\\hat{k}$ through the surface :\n",
    "\n",
    "$$ \\iint_{S} \\vec{F} \\cdot d\\vec{S} = \\iiint_{D} div\\ \\vec{F}\\ dV$$\n",
    "\n",
    "where $$div\\ \\vec{F} = P_x + Q_y + R_z$$\n",
    "\n",
    "Flux = amount of \"incompressible fluid\" leaving the surface S (net)\n",
    "\n",
    "Divergence = amount of fluid produced (sources - sinks) per unit volume\n",
    "\n",
    "Del Operator :\n",
    "\n",
    "$\\nabla = (\\frac{\\partial}{\\partial\\, x}, \\frac{\\partial}{\\partial\\, y}, \\frac{\\partial}{\\partial\\, z})$  \n",
    "\n",
    "$\\nabla\\, f = (\\frac{\\partial\\,f}{\\partial\\, x}, \\frac{\\partial\\,f}{\\partial\\, y}, \\frac{\\partial\\,f}{\\partial\\, z})$  - Gradient  \n",
    "\n",
    "$\\nabla \\cdot \\vec{F} = (\\frac{\\partial\\,P}{\\partial\\, x}, \\frac{\\partial\\,Q}{\\partial\\, y}, \\frac{\\partial\\,R}{\\partial\\, z})$  - Divergence of $\\vec{F} = P\\hat{i} + Q\\hat{j} + R\\hat{k}$  \n",
    "\n",
    "\n",
    "## Diffusion equations\n",
    "\n",
    "\n",
    "Also called heat equation\n",
    "\n",
    "Let u(x,y,z,t) be the temperature/concentration \n",
    "\n",
    "$\\vec{F} = -k\\nabla\\,u$, since heat / dye would flow from higher to lower concentration\n",
    "\n",
    "Through any surface S enclosing a region region D, \n",
    "\n",
    "$\\iint_{S} \\vec{F} \\cdot d\\vec{S} = -\\frac{d}{dt}\\iiint_D u dV = \\iiint_D -\\frac{\\partial u}{\\partial t} dV$ - the flux of dye/heat going through S at time t is the change in concentration/heat in the region D\n",
    "\n",
    "But $\\iint_{S} \\vec{F} \\cdot d\\vec{S} = \\iiint_D div\\ F\\, dV$. Equating, we get \n",
    "\n",
    "$$\\frac{\\partial u}{\\partial t} = -div\\ \\vec{F} = k\\nabla^{2}\\, u$$\n",
    "\n",
    "When the $\\nabla^2$ is the Laplacian, which represents the divergence of the vector field formed by the gradient of u.\n"
   ]
  },
  {
   "cell_type": "markdown",
   "metadata": {},
   "source": [
    "# Curves in 3D\n",
    "\n",
    "Work done along curve S by force F :\n",
    "\n",
    "$$\\oint_{C} \\vec{F} \\cdot \\frac{d\\vec{r}}{dt}$$\n",
    "\n",
    "The fundamental theorem for line integrals holds - if a vector field F is a gradient of some function u, then the integral is path independent, and equal to the difference in the value of the function between the points.\n",
    "\n",
    "Difference with 2D comes in the following : If F = (P,Q,R), then F is a gradient field if $P_y = Q_x$, $Q_z = R_y$ and $R_x = P_z$. An alternate way to say is that the differential is exact i.e. :\n",
    "\n",
    "$dF = P_xdx + Q_ydy + R_zdz$\n",
    "\n",
    "\n",
    "Curl F - how much the vector field rotates i.e. fails to be conservative : \n",
    "\n",
    "$$curl\\ \\vec{F} = \\nabla\\, x\\, \\vec{F} $$"
   ]
  },
  {
   "cell_type": "markdown",
   "metadata": {},
   "source": [
    "# Stokes' Theorem\n",
    "\n",
    "- statement\n",
    "- path independence\n",
    "- simply connected in 3d\n",
    "- surface needs to be orientable (no mobius strips)\n",
    "- surface independence\n",
    "- divergence of curl is zero del.(del x F) = 0 like u.(u x v) = 0 for vectors u and v\n",
    "\n"
   ]
  },
  {
   "cell_type": "markdown",
   "metadata": {},
   "source": [
    "# Other topics\n",
    "\n",
    "## Curl in Physics\n",
    "\n",
    "In velocity fields, the meaning is fairly obvious. \n",
    "\n",
    "The curl of a velocity field is twice the angular velocity \n",
    "\n",
    "The curl of a force field represents the torque applied at a point per \"moment of inertia\" of a small object at that point. curl F = 0 implies force is irrotational.\n",
    "\n",
    "## Maxwell's Laws\n",
    "\n",
    "$\\vec{F} = q\\vec{E}$  \n",
    "\n",
    "$\\vec{F} = q \\vec{v} x \\vec{B}$\n",
    "\n",
    "$div\\ F = \\frac{\\rho}{\\epsilon_0}$ - Gauss-Coulomb Law - where $\\rho$ is electrical charge per unit volume (charge density). In an area with no electric charge, div E is zero. Applying divergence theorem, we get :\n",
    "\n",
    "flux of E over surface S = enclosed char / $\\epsilon_0$\n",
    "\n",
    "Example : Capacitor\n",
    "\n",
    "Faraday's Laws :\n",
    "\n",
    "Curl of Electrical Field = rate of change of magnetic field by time\n",
    "\n",
    "Example : Transformer\n",
    "\n",
    "Voltage is integration around a closed loop of wire by a varying magnetic field\n",
    "\n",
    "Div B = 0\n",
    "\n",
    "\n"
   ]
  },
  {
   "cell_type": "markdown",
   "metadata": {},
   "source": [
    "# Summary\n",
    "\n",
    "|left|right|\n",
    "|---|---|\n",
    "|Triple Integrals|ABC|\n",
    "|rect.,cylindrical, spherical coordinates||\n",
    "\n",
    "Double integrals \n",
    "Line integrals"
   ]
  },
  {
   "cell_type": "code",
   "execution_count": 14,
   "metadata": {},
   "outputs": [
    {
     "data": {
      "application/vnd.jupyter.widget-view+json": {
       "model_id": "f5e7ad7f87984671ad2336be2a7e4e1f",
       "version_major": 2,
       "version_minor": 0
      },
      "text/plain": [
       "Canvas(toolbar=Toolbar(toolitems=[('Home', 'Reset original view', 'home', 'home'), ('Back', 'Back to previous …"
      ]
     },
     "metadata": {},
     "output_type": "display_data"
    },
    {
     "data": {
      "application/vnd.jupyter.widget-view+json": {
       "model_id": "9c162c276f97437f8be3fb60eeaaafed",
       "version_major": 2,
       "version_minor": 0
      },
      "text/plain": [
       "Canvas(toolbar=Toolbar(toolitems=[('Home', 'Reset original view', 'home', 'home'), ('Back', 'Back to previous …"
      ]
     },
     "metadata": {},
     "output_type": "display_data"
    },
    {
     "data": {
      "application/vnd.jupyter.widget-view+json": {
       "model_id": "f5a484148dac44d3b3fcffdb2baaa4bd",
       "version_major": 2,
       "version_minor": 0
      },
      "text/plain": [
       "Canvas(toolbar=Toolbar(toolitems=[('Home', 'Reset original view', 'home', 'home'), ('Back', 'Back to previous …"
      ]
     },
     "metadata": {},
     "output_type": "display_data"
    },
    {
     "data": {
      "application/vnd.jupyter.widget-view+json": {
       "model_id": "8d4926673db94744824351bebc87d94e",
       "version_major": 2,
       "version_minor": 0
      },
      "text/plain": [
       "Canvas(toolbar=Toolbar(toolitems=[('Home', 'Reset original view', 'home', 'home'), ('Back', 'Back to previous …"
      ]
     },
     "metadata": {},
     "output_type": "display_data"
    },
    {
     "data": {
      "application/vnd.jupyter.widget-view+json": {
       "model_id": "b86f30bae618427981c333e1320ed5fe",
       "version_major": 2,
       "version_minor": 0
      },
      "text/plain": [
       "Canvas(toolbar=Toolbar(toolitems=[('Home', 'Reset original view', 'home', 'home'), ('Back', 'Back to previous …"
      ]
     },
     "metadata": {},
     "output_type": "display_data"
    },
    {
     "data": {
      "application/vnd.jupyter.widget-view+json": {
       "model_id": "834fedb2d76743e080abbe4790832ac7",
       "version_major": 2,
       "version_minor": 0
      },
      "text/plain": [
       "Canvas(toolbar=Toolbar(toolitems=[('Home', 'Reset original view', 'home', 'home'), ('Back', 'Back to previous …"
      ]
     },
     "metadata": {},
     "output_type": "display_data"
    },
    {
     "data": {
      "text/plain": [
       "<sympy.plotting.plot.Plot at 0x135e47190>"
      ]
     },
     "execution_count": 14,
     "metadata": {},
     "output_type": "execute_result"
    }
   ],
   "source": [
    "%matplotlib widget\n",
    "import matplotlib.pyplot as plt\n",
    "plt.rcParams[\"xtick.labelsize\"] = 16\n",
    "plt.rcParams[\"xtick.color\"] = \"red\"\n",
    "\n",
    "from sympy.plotting import plot, plot3d_parametric_line, plot3d, plot_implicit\n",
    "\n",
    "x = symbols('x')\n",
    "y = symbols('y')\n",
    "t = symbols('t')\n",
    "p1 = plot(x*x, show=False)\n",
    "p2 = plot(x, show=False)\n",
    "p1.append(p2[0])\n",
    "p1.show()\n",
    "\n",
    "t = symbols('t')\n",
    "alpha = [cos(t), sin(t), t]\n",
    "plot3d_parametric_line(*alpha)\n",
    "\n",
    "\n",
    "expr = 1 - x*x - y*y\n",
    "plot_implicit(expr)\n",
    "\n",
    "saddle = y*y - x*x\n",
    "plot3d(saddle)\n",
    "\n",
    "plot3d(2*x*x + 2*x*y + 3*y*y)\n",
    "\n",
    "plot3d(x + y + 1 / (x * y))\n",
    "\n"
   ]
  },
  {
   "cell_type": "code",
   "execution_count": 9,
   "metadata": {},
   "outputs": [
    {
     "data": {
      "image/png": "[encoded data removed]",
      "text/latex": [
       "$\\displaystyle 4 x + z^{8}$"
      ],
      "text/plain": [
       "       8\n",
       "4⋅x + z "
      ]
     },
     "execution_count": 9,
     "metadata": {},
     "output_type": "execute_result"
    }
   ],
   "source": [
    "from sympy import symbols, diff\n",
    "x, y, z = symbols('x y z', real=True)\n",
    "f = 4*x*y + x*sin(z) + x**3 + z**8*y\n",
    "diff(f, y)"
   ]
  },
  {
   "cell_type": "markdown",
   "metadata": {},
   "source": [
    "# Background\n",
    "\n",
    "Vector Spaces\n",
    "- vectors\n",
    "- scalars\n",
    "- vector space axioms\n",
    "- linear independence\n",
    "- span\n",
    "- standard basis on Euclidean space $R^n$\n",
    "- Elements of vector spaces are column vectors\n",
    "\n",
    "\n",
    "Linear Transformation\n",
    "- linear map (between spaces) / linear operator (if on same space)\n",
    "- linearity properties (T(v + w) = T(v) + T(w), T(cv) = cT(v)\n",
    "- linear functional (f:V->R)\n",
    "\n",
    "Matrices\n",
    "- Matrix multiplication $c_ij = \\sum_{k=1}^{m} a_{ik}b_{kj}$\n",
    "- Matrices represent linear transformations. Matrix entries represent the way to transform basis vectors, and this is sufficient to transform any vector.\n",
    "\n",
    "A linear transformation T:V -> W, with basis vectors $v_1, v_2, .., v_n$ and $w_1, w_2,..,w_m$ is unique specified by the matrix with values $a_ij$, where :\n",
    "\n",
    "$Tv_j = \\sum_{i=1}^{m} a_{ij}w_j$\n",
    "\n",
    "A linear functional is a 1xn matrix ie just a row vector (since the codomain is R, which has just one basis vector).\n",
    "\n",
    "Dual Space of V, V*\n",
    "- Linear functionals on vector space V form a vector space, called the dual space, itself a vector space\n",
    "- V* has the same dimension as V\n",
    "- if V has basis $e_1, e_2, .., e_n$, the dual space has a dual basis $e^1, e^2, ..., e^n$ \n",
    "- $e^i(e_j) = 1$ if i = j, else $e^i(e_j) = 0$ if i != j. $e^i(e_j) = \\delta_{ij}$, where $\\delta_{ij}$ is called **Kronecker's Delta Function**.\n",
    "- elements of dual space are always written as row vectors\n",
    "- Idea of level sets - elements in dual space can be represented in terms of \"level sets\" which have same value - the no of level sets cut by a vector represents (roughly) the value of the vector for that functional\n",
    "\n",
    "Volume and Determinants\n",
    "\n",
    "A determinant provides the length, area, volume etc enclosed by a parallelogram of vectors. If D is the determinant, $e_1,e_2,...e_n$ are the unit vectors, and $v_1, v_2,..v_n$ are vectors, then we have the following properties :\n",
    "\n",
    "- D(I) = 1, where I is the parallelogram spanned by vectors $e_1,e_2,...e_n$\n",
    "- $D(v_1, v_2,...v_n) = 0$ if $v_i = v_j$ for any i != j\n",
    "- D(v_1, v_2,..,v_j + cw,..,v_n) = $D(v_1, v_2,..v_{j-1},v_j,v_{j+1}..v_n) + cD(v_1, v_2,..v_{j-1},w,v_{j+1}..v_n)$ i.e. D is linear in each parameter.\n",
    "\n",
    "This leads to some surprising conclusions :\n",
    "\n",
    "- an transposition (exchange) of two vectors makes the determinant negative\n",
    "- if the vectors are linearly dependent, then the determinant is 0\n",
    "- adding a multiple of one vector to another does not change the determinant\n",
    "\n",
    "Let $S_n$ denote a permutation of n integers from 1..n, and if $\\sigma \\in S_n$, then let $sgn(\\sigma)$ denote the parity of transpositions - an odd number of transpositions makes sgn negative, an even number makes it positive. Let $v_i = a_{1i}e_i + ...+ a_{ni}e_n$, i = 1..n, be n vectors.\n",
    "\n",
    "$$D(v_1, v_2, .., v_n) = \\sum_{\\sigma \\in S_n} sgn(\\sigma) \\prod_{i=1}^{n} a_{\\sigma(i)i}$$\n",
    "\n"
   ]
  },
  {
   "cell_type": "markdown",
   "metadata": {},
   "source": [
    "## Derivatives as Linear Approximations\n",
    "\n",
    "In R, we have the derivative of a real valued function at $x_0$ as :\n",
    "\n",
    "$f(x) \\approx f'(x_0)(x - x_0) + f(x_0)$ - as the best linear approximation to f(x) near the point $x_0$\n",
    "\n",
    "In $R^n$, we can extend this to define, given a function $f:R^n \\to R^m$, the derivative Df as the best linear approximation such that, at a point $x_0$ in $R^n$:\n",
    "\n",
    "$f(x) \\approx Df(x_0)(x - x_0) + f(x_0)$\n",
    "\n",
    "Since Df is a linear transformation, it can be represented by a matrix which transforms the basis vectors. First let us represent $f = (f_1, f_2, ... f_m)$, where $f_i$ are real-valued functions on $R^n$. We have for each $f_i$, the partial derivative w.r.t $x_j$ : $\\frac{\\partial f_i}{\\partial x_j}$. Then,\n",
    "\n",
    "Df is the matrix with values $a_{ij}$, where each $a_{ij} = \\frac{\\partial f_i}{\\partial x_j}$, i = 1..m, j = 1..n. This matrix is called the **Jacobian matrix** of f.\n",
    "\n"
   ]
  },
  {
   "cell_type": "markdown",
   "metadata": {},
   "source": [
    "## Differential 1-form\n",
    "\n",
    "- **manifold** $R^n$ vs **vector space** $R^n$\n",
    "- functions on manifold, transformations or functionals on vector space\n",
    "- coordinate functions on $R^n$ e.g. x, y are such that x(p) gives x coordinate and so on. These may also apply for polar coordinates, cylindrical coordinates etc\n",
    "- In general a manifold is a space that is locally euclidean - e.g. $S^1$ - circle, $S^2$ - sphere, T - Torus are locally Euclidean, but not globally\n",
    "\n",
    "**Tangent Space** $T_pM$ is a vector space isomorphic to $R^n$ centered at the point p, where n is the dimension of the manifold at that point (provided the point is *nice* in some way). Vector in tangent spaces may be referred to as $v_p$, with the subscript p meaning that $v_p \\in T_pM$.\n",
    "\n",
    "**Tangent Bundle** $TM = \\cup {p} x T_pM$ for all p in M. TM is itself a manifold - if M is n dimension, TM is 2n dimensional.\n",
    "\n",
    "Note that a tangent bundle associates with every point p a collection of vectors in $T_pM$.\n",
    "\n",
    "\n",
    "\n",
    "We can define a projection $\\pi:T_p \\to M$ as a function such that $\\pi(x) = p$\n",
    "\n",
    "**Vector Field** V assigns to each p a member of $T_pM$. Thus V is a section of TM, since $\\pi(V(p)) = p$\n",
    "\n"
   ]
  },
  {
   "cell_type": "markdown",
   "metadata": {},
   "source": [
    "## Directional Derivative\n",
    "\n",
    "\n",
    "For $R^n$, we usually define the directional derivative of a function f, at a point p, along a **unit** vector u as :\n",
    "\n",
    "$D_uf(p) = \\frac{d}{dt}(f(p + tu))|_{t=0}$\n",
    "\n",
    "We now define a similar directional derivative, using the tangent space notation, but this time not restricting ourselves to unit vectors (thus the derivative is not rise/run, it is just the rise for the length of the vector.\n",
    "\n",
    "$v_p[f] = \\frac{d}{dt}(f(p + tv))|_{t=0}$\n",
    "\n",
    "We call $v_p$ an operator, which takes a function and returns another function.\n",
    "\n",
    "If $v_p = (v_1, v_2, ... v_n)$, then :\n",
    "\n",
    "$v_p[f] = \\sum_{i=1}^{n} v_i \\frac{\\partial}{\\partial x_i}(f)|_p$\n",
    "\n",
    "But then :\n",
    "\n",
    "$e_{ip} \\equiv \\frac{\\partial}{\\partial x_i}$ - we usually drop the p reference when it is obvious.  \n",
    "\n",
    "Effectively, we equate : $v = v_1e_1 + v_2e_2 + v_3e_3$ or as $v = v_1\\frac{\\partial}{\\partial x_1} +  v_2\\frac{\\partial}{\\partial x_2} +  v_3\\frac{\\partial}{\\partial x_3}$. And we identify every vector with a partial differentiation operation as well, as defined above.\n",
    "\n",
    "A **differential one-form** $\\alpha$ on manifold $R^n$ is a linear functional on the set of tangent vectors to the manifold $R^n$. Thus, at each point p of manifold $R^n$, $\\alpha:T_pR^n \\to R$ and :\n",
    "\n",
    "$\\alpha(v_p +_{R^n} w_p) = \\alpha(v_p) +_R \\alpha(w_p)$   \n",
    "$\\alpha(a._{R^n}v_p) = a._R\\alpha(v_p)$  \n",
    "\n",
    "Thus $\\alpha \\in T_p^*R^n$, the **dual space** of $T_pR^n$, also called the **cotangent space**.\n",
    "\n",
    "A **differential df of function $f:R^n \\to R$** is defined to be the one-form on $R^n$ such that for all vectors $v_p$, $df(v_p) = v_p[f]$.\n",
    "\n",
    "\n",
    "\n",
    "\n",
    "\n",
    "\n"
   ]
  },
  {
   "cell_type": "markdown",
   "metadata": {},
   "source": [
    "## Basics\n",
    "\n",
    "\n",
    "natural co-ordinate functions x(p), y(p), z(p)\n",
    "\n",
    "$C^{\\infty}$ - set of all smooth, infinitely differentiable functions on $R^n$ - all partial derivatives of all orders exist and are continuous\n",
    "\n",
    "$R^n$ - the Euclidean space of n dimensions, a vector space with vector addition, scalar multiplication\n",
    "\n",
    "**Definition (Tangent Vector $v_p$)** : $v_p$ = (p,v), where p is a point in $R^n$ and v is a vector in $R^n$\n",
    "\n",
    "**Definition (Tangent Space  $T_pR^n$)** : Set of all tangent vectors at a point p in $R^n$. The tangent space forms a vector space.\n",
    "\n",
    "**Definition (Tangent Bundle of $R^n$)** :  $TR^n = \\cup_{p \\in R^n} T_pR^n$ \n",
    "\n",
    "**Definition (Vector Field V)** : A function $V: R^n \\to TR^n$ assigns a tangent vector to every point in $R^n$. \n",
    "\n",
    "Addition of vector fields V and W : $(V + W)(p) = V(p) + W(p)$\n",
    "Scalar multiplication with functions on $R^n$ :\n",
    "\n",
    "fV(p) = f(p)V(p)\n",
    "\n",
    "**Definition (Natural Frame Field)** : $U_1(p) = (0,0,1)$, $U_2(p) = (0,1,0)$, $U_3(p) = (1,0,0)$ are natural frame fields. Any vector field V can be expressed in terms of 3 co-ordinate functions relative to this natural frame field:\n",
    "\n",
    "$V = v_1U_1 + v_2U_2 + v_3U_3$\n",
    "\n",
    "**Directional Derivative** : Let f be a differentiable real-valued function on $R^n$, and $v_p$ be a tangent vector at point p in $R^n$. Then :\n",
    "\n",
    "$v_p[f] = \\frac{d}{dt}(f(p + tv))|_{t=0}$ is the directional derivative of f with respect to $v_p$ i.e. at p in the direction of $\\bar v$. Note that we are not assuming v is the unit vector.\n",
    "\n",
    "$v_p[f] = \\sum v_i \\frac{\\delta f}{\\delta x_i}(p)$\n",
    "\n",
    "We have the directional derivative being **linear** in $v_p$ and in f. The Liebniz rule for differentition applies here also :\n",
    "\n",
    "$v_p[fg] = v_p[f]g(p) + f(p)v_p[g]$\n",
    "\n",
    "**Operation of a Vector Field on a Function $V_p[f]$** : Based on the directional derivative, a vector field operating on a function can immediately be defined as : $V[f](p) = V(p)[f]$ for each p in the domain.\n",
    "\n",
    "Based on this, we can define $U_i[f] = \\frac{\\partial f}{\\partial x_i} = \\frac{d}{dt}(f(p_1 + t, p_2, p_3))|_{t=0}$\n",
    "\n",
    "Rules :\n",
    "\n",
    "$(fV + gW)[h] = fV[h] + gW[h]$  \n",
    "$V[af + bg] = aV[f] + bV[g]$, for all real numbers a and b    \n",
    "$V[fg] = V[f]g + fV[g]$  \n",
    "\n",
    "\n",
    "**Theorem:** $V = \\sum_{i} V[x_i]U_i$, where $x_i$ is the coordinate function for the ith coordinate.  \n",
    "Proof: $V[x_j] = \\sum_{i} v_iU_i[x_j] = v_i$ since $U_i[x_j] = 1$ iff i = j.\n",
    "Hence $V = \\sum_{i} v_iU_i = \\sum_{i} V[x_i]U_i$.\n",
    "\n",
    "**Theorem:** If $V[f] = W[f]$ for every f, V = W\n",
    "\n",
    "Let $V = \\sum v_iU_i$ and $W = \\sum w_i U_i$\n",
    "\n",
    "Proof: Take f = x_j. Then $V = \\sum V[x_i]U_i = \\sum W[x_i]U_i = W$.\n"
   ]
  },
  {
   "cell_type": "markdown",
   "metadata": {},
   "source": [
    "## Curves in $R^3$\n",
    "\n",
    "**Definition (Curve in $R^3$)** A curve in $R^3$ is a differentiable function $\\alpha: I \\to R^3$ from an open interval I to $R^3$.\n",
    "\n",
    "Straight line : $\\alpha(t) = \\bar p + t \\bar q$.\n",
    "\n",
    "Helix : $\\alpha(t) = (a cos(t), a sin(t), bt)$ \n",
    "\n",
    "$\\alpha(t) = (e^t, e^{-t}, \\sqrt(2)t)$ \n",
    "\n",
    "**Definition (Velocity Vector of a curve)** Let $\\alpha: I \\to R^3$ be a curve with $\\alpha = (\\alpha_1, \\alpha_2, \\alpha_3)$.  Then the velocity vector of $\\alpha$ is the tangent vector :\n",
    "\n",
    "$\\alpha'(t) = \\bigr( \\frac{d \\alpha_1}{dt}(t), \\frac{d \\alpha_2}{dt}(t), \\frac{d \\alpha_2}{dt}(t) \\bigl)_{\\alpha(t)}$  Or :\n",
    "\n",
    "$\\alpha'(t) = \\sum_i \\frac{d \\alpha_i}{dt}(t)U_i(\\alpha(t))$\n",
    "\n",
    "**Definition (Reparametrization)** Let $\\alpha: I \\to R^3$ be a curve. If $h: J \\to I$ is a differentiable function on the open interval J, then :\n",
    "\n",
    "$\\beta = \\alpha(h)$ is a reparameterization of $\\alpha$ by h.\n",
    "\n",
    "$\\beta'(s) = (\\frac{dh}{ds})(s)\\alpha'(h(s))$. This can be shown by the chain rule.\n",
    "\n",
    "**Definition (Derivative w.r.t. Velocity)** Let $\\alpha$ be a curve. Let f be a differentiable function on $R^3$. Then :\n",
    "\n",
    "$\\alpha'(t)[f] = \\frac{df(\\alpha))}{dt}(t)$\n",
    "\n",
    "**Definition (Periodicity of Curve)** If there is some p > 0, s.t. $\\alpha(t + p) = \\alpha(t)$ \n",
    "\n",
    "**Definition (Regular Curve)** All velocity vectors are different from zero (no cusps or corners).\n",
    "\n",
    "Another way to define curves is via equations such as $x^2 + y^2 = r^2$. A equation like this may define many curves, on top of which parametrizations can result in many regular curves. The regular hyperbola $C: x^2 - y^2 = r^2$ splits into two branches. $\\alpha(t) = (r\\; cosh(t), r\\; sinh(t))$ parameterizes one of the branches.\n",
    "\n"
   ]
  },
  {
   "cell_type": "markdown",
   "metadata": {},
   "source": [
    "## 1-form\n",
    "\n",
    "**Definition (1-form)** A function $\\phi: TR^3 \\to R$ is called a 1-form if it is linear at each point i.e.\n",
    "\n",
    "$\\phi(a \\bar v + b \\bar w) = a\\phi(\\bar v) + b \\phi(\\bar w)$, where a,b are real, and v,w are tangent vectors at the same point p.\n",
    "\n",
    "$\\phi_p \\in T_pR^3*$ i.e. the dual space of $T_pR^3$\n",
    "\n",
    "If $\\phi, \\psi$ are 2 1-forms on $R^3$, then we can define addition naturally :\n",
    "\n",
    "$(\\phi + \\psi)(v) = \\phi(v) + \\psi(v)$\n",
    "\n",
    "Also, if f is a real-valued function on $R^3$, and $\\phi$ is a 1-form, then $f\\phi$ is a one form such that :\n",
    "\n",
    "$f\\phi(v_p) = f(p)\\phi(v_p)$\n",
    "\n",
    "**Definition (1-form over a Vector Field)** : If V is a vector field, $\\phi$ is a 1-form, then $\\phi(V)$ is the (real-valued) function such that $\\phi(V)$ at point p is $\\phi(V(p))$. Thus a 1-form converts a vector field into real values. If $\\phi(V)$ is differentiable whenever V is, we say $\\phi$ is differentiable.\n",
    "\n",
    "$\\phi(V)$ is linear in both $\\phi$ and V.\n",
    "\n",
    "**Definition (Differential df of function f)** Is a 1-form such that : $df(v_p) = v_p[f]$ for each point p.\n",
    "Proof: By definition, $v_p[f]$ is a real-valued function (since it returns the directional derivative of f. And it is linear.\n",
    "\n",
    "Note that these definitions are co-ordinate free.\n",
    "\n",
    "Examples of differentials :\n",
    "\n",
    "$dx_i$ - differential of the i-th coordinate function. Then :\n",
    "\n",
    "$dx_i(v_p) = v_p[x_i] = \\sum_j v_j \\frac{\\partial x_i}{\\partial x_j}(p) = \\sum_j v_j \\delta_{ij} = v_i$, where $v_j$ is the jth coordinate of $v_p$\n",
    "\n",
    "**Lemma** If $\\phi$ is a 1-form on $R^3$, then $\\phi = \\sum_j f_idx_i$, where $f_i = \\phi(U_i)$ are real-valued functions. The functions $f_i$ are called the euclidean co-ordinate functions of $\\phi$\n",
    "\n",
    "Proof: \n",
    "$\\phi(v_p) = \\phi(\\sum_i v_i U_i(p)) = \\sum_i v_i \\phi(U_i(p)) = \\sum_i v_i f_i(p)$\n",
    "\n",
    "$(\\sum_i f_idx_i)(v_p) = \\sum_i f_i(p)dx_i(v_p) = \\sum_i f_i(p) v_i$\n",
    "\n",
    "**Corollary** If f is differentiable function on $R^3$, then :\n",
    "\n",
    "$df = \\sum_i \\frac{\\partial f}{\\partial x_i}dx_i$\n"
   ]
  },
  {
   "cell_type": "code",
   "execution_count": null,
   "metadata": {},
   "outputs": [],
   "source": []
  }
 ],
 "metadata": {
  "kernelspec": {
   "display_name": "Python 3",
   "language": "python",
   "name": "python3"
  },
  "language_info": {
   "codemirror_mode": {
    "name": "ipython",
    "version": 3
   },
   "file_extension": ".py",
   "mimetype": "text/x-python",
   "name": "python",
   "nbconvert_exporter": "python",
   "pygments_lexer": "ipython3",
   "version": "3.8.2"
  }
 },
 "nbformat": 4,
 "nbformat_minor": 4
}
