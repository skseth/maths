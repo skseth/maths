{
 "cells": [
  {
   "cell_type": "markdown",
   "id": "f645456f-4f52-4a17-83db-d345b6364c0d",
   "metadata": {},
   "source": [
    "# Vectors and linear combinations - GS 1.1\n",
    "\n",
    "A **vector** is represented by a column matrix:\n",
    "\n",
    "$\n",
    "  \\begin{align}\n",
    "    v &= \\begin{bmatrix}\n",
    "           1 \\\\\n",
    "           2 \\\\\n",
    "           \\vdots \\\\\n",
    "           3\n",
    "         \\end{bmatrix}\n",
    "  \\end{align}\n",
    "$\n",
    "\n",
    "\n",
    "A **linear combination** of vectors combines scalar multiplication of vectors + addition of vectors to create a new vector\n",
    "\n",
    "$\n",
    "  \\begin{align}\n",
    "    2 \\begin{bmatrix} 4 \\\\ 1  \\end{bmatrix} + \n",
    "    3 \\begin{bmatrix} 2 \\\\ -1 \\end{bmatrix} = \n",
    "    \\begin{bmatrix} 14 \\\\ -1 \\end{bmatrix}\n",
    "  \\end{align}\n",
    "$\n",
    "\n",
    "\n",
    "A **matrix** is a collection of column vectors, and matrices with the right shapes can be multiplied. In general an **m by n** matrix has m rows with n columns. \n",
    "\n",
    "\n",
    "$\n",
    "\\begin{equation}\n",
    "\\left[ \\begin{array}{rrrr} 4 & 2 \\\\ 1 & -1 \\end{array}\\right] \\text{ ... a 2x2 matrix with 2 column vectors}\n",
    "\\end{equation}\n",
    "$\n",
    "\n",
    "The linear combination above can be expressed (using matrix multiplication) as:\n",
    "\n",
    "$\n",
    "\\begin{equation}\n",
    "\\left[ \\begin{array}{rrrr} 4 & 2 \\\\ 1 & -1 \\end{array}\\right] \\left[ \\begin{array}{rrrr} 2 \\\\ 3 \\end{array}\\right] = \\left[ \\begin{array}{rrrr} 14 \\\\ -1 \\end{array}\\right]\n",
    "\\end{equation}\n",
    "$\n",
    "\n",
    "\n",
    "A set of vectors are **linearly independent** if no one vector can be expressed as a linear combination of any of the others. \n",
    "\n",
    "The **identity matrix** leaves any vector unchanged on multiplication:\n",
    "\n",
    "$\n",
    "  \\begin{align}\n",
    "     \\begin{bmatrix} 1 & 0 & 0 \\\\ 0 & 1 & 0 \\\\ 0 & 0 & 1 \\end{bmatrix} v = v\n",
    "  \\end{align}\n",
    "$\n"
   ]
  },
  {
   "cell_type": "markdown",
   "id": "bf8f5266-4c4c-4b4f-afdf-239d577211d7",
   "metadata": {},
   "source": [
    "## Problem Set GS1.1"
   ]
  },
  {
   "cell_type": "code",
   "execution_count": 4,
   "id": "3938d468-387e-42e5-ab4e-0c14ddec96f9",
   "metadata": {},
   "outputs": [
    {
     "name": "stdout",
     "output_type": "stream",
     "text": [
      "[[ 6]\n",
      " [-1]] \n",
      "\n",
      "[[8]\n",
      " [2]]\n"
     ]
    }
   ],
   "source": [
    "\n",
    "# (3.4)\n",
    "\n",
    "import numpy as np\n",
    "\n",
    "v = np.array([4,1]).reshape(2,1)\n",
    "w = np.array([-2, 2]).reshape(2,1)\n",
    "\n",
    "print(v - w, '\\n')\n",
    "print(2*v)"
   ]
  },
  {
   "cell_type": "markdown",
   "id": "080a17b3-0932-48a0-8852-b65d52ea0081",
   "metadata": {},
   "source": [
    "## Problems: Linear Combinations of Vectors & Geometry (GS1.1. 18-23)\n",
    "\n",
    "18. What is : cv + dw, where c + d = 1: This is on the diagonal joining the tips of v and w. When c/d are positive this is within the parallelogram. But -v + 2w is beyond tip of w, and 2v - w is beyond tip of v.\n",
    "\n",
    "19. if 0 <= c <= 1, and 0 <= d <= 1, then 0 <= c+d <= 2. We know c+d=2 (u + w) is the far end of the parallelogram, and c+d = 0 is the origin, c+d =1 is in the middle. So all these points are within the parallelogram.\n",
    "\n",
    "If 0 <= c, and 0 <= d is the \"cone\" between v and w extended to the whole plane.\n",
    "\n",
    "20. Given 3 vectors u,v,w the tips of the vectors form a triangle (usually). 1/2 u + 1/2v is the midpoint of the side joining u and v. 1/3 u + 1/3 v + 1/3 w is the centroid of the triangle, within the triangle.\n",
    "\n",
    "given cu + dv + ew, what are the conditions on c,d,e for points within the triangle? And: c + d + e = 1 and c,d,e >= 0. \n",
    "\n",
    "21. Given 3 vectors u,v,w, the vectors v-u, u-w, w-v correspond to the triangle formed by the 3 vectors. The sum of these vectors is the zero vector, i.e. they are not linearly independent - they are in the same plane.\n",
    "\n",
    "22. For 20: if c + d + e <= 1, and c,d,e >=0, this is the pyramid between the origin and the triangle. if c+d+e >= 1, these are points beyond the triangle.\n"
   ]
  },
  {
   "cell_type": "markdown",
   "id": "4a1ab18f-ba07-4808-816a-33dbe89b16bb",
   "metadata": {},
   "source": [
    "# Lengths and Angles From Dot Product\n",
    "\n",
    "\n",
    "\n"
   ]
  },
  {
   "cell_type": "markdown",
   "id": "ce97bf70-5924-4a88-bccc-89342fc5596c",
   "metadata": {},
   "source": [
    "\n",
    "Let v and w be two vectors:\n",
    "\n",
    "\n",
    "$\n",
    "  \\begin{align}\n",
    "    \\vec{v} &= \\begin{bmatrix}\n",
    "           v_1 \\\\\n",
    "           v_2 \n",
    "         \\end{bmatrix}\n",
    "  \\end{align}\n",
    "$\n",
    "\n",
    "\n",
    "$\n",
    "  \\begin{align}\n",
    "    \\vec{w} &= \\begin{bmatrix}\n",
    "           w_1 \\\\\n",
    "           w_2 \n",
    "         \\end{bmatrix}\n",
    "  \\end{align}\n",
    "$\n",
    "\n",
    "\n",
    "The **dot product** of the two vectors: $\\vec{v} \\cdot \\vec{w} = v_1 w_1 + v_2 w_2$\n",
    "\n",
    "The **length or norm of vector** of the two vectors: $\\Vert \\vec{v} \\Vert = \\sqrt{\\vec{v} \\cdot \\vec{v}}$\n",
    "\n",
    "The **angle** between vectors: $\\cos{\\theta} = \\frac{\\displaystyle \\vec{v} \\cdot \\vec{w}}{\\displaystyle \\Vert \\vec{v} \\Vert \\Vert \\vec{w} \\Vert}$\n",
    "\n",
    "**Schwarz Inequality**\n",
    "\n",
    "Follows from cosine definition also:\n",
    "\n",
    "$| \\vec{v} \\cdot \\vec{w} |  \\le \\Vert \\vec{v} \\Vert \\Vert \\vec{w} \\Vert$\n",
    "\n",
    "\n",
    "**Triangle Inequality**\n",
    "\n",
    "$ \\Vert \\vec{v} + \\vec{w} \\Vert  \\le \\Vert \\vec{v} \\Vert + \\Vert \\vec{w} \\Vert$\n",
    "\n",
    "\n",
    "A **unit vector** has length = 1.\n",
    "\n",
    "$ \\Vert \\vec{u} \\Vert  = 1$\n",
    "\n",
    "$ \\vec{u} = \\frac{\\displaystyle v}{\\displaystyle \\Vert \\vec{v} \\Vert}$\n",
    "\n",
    "\n"
   ]
  },
  {
   "cell_type": "code",
   "execution_count": 2,
   "id": "70a39c62-e744-4e02-9658-e8e55fb82286",
   "metadata": {},
   "outputs": [],
   "source": [
    "import numpy as np\n",
    "import math\n",
    "\n",
    "def norm(v):\n",
    "    return math.sqrt(np.dot(v,v))\n",
    "\n",
    "def costheta(v1, v2):\n",
    "    return np.dot(v1, v2) / (norm(v1)*norm(v2))\n",
    "\n",
    "def theta(v1, v2):\n",
    "    return math.degrees(math.acos(costheta(v1,v2)))\n"
   ]
  },
  {
   "cell_type": "markdown",
   "id": "bb802413-3861-48a7-ac83-a55826d9979e",
   "metadata": {},
   "source": [
    "\n"
   ]
  },
  {
   "cell_type": "code",
   "execution_count": 21,
   "id": "cd073039-e404-4082-bffc-b5e00b1ebcce",
   "metadata": {},
   "outputs": [
    {
     "name": "stdout",
     "output_type": "stream",
     "text": [
      "0.0\n",
      "1.0\n",
      "1.0000000000000002\n",
      "10.0\n"
     ]
    }
   ],
   "source": [
    "# Problem set 1.2\n",
    "\n",
    "## 1\n",
    "\n",
    "import numpy as np\n",
    "u = np.array([-.6, .8])\n",
    "v = np.array([4.0,3.0])\n",
    "w = np.array([1,2])\n",
    "\n",
    "print(round(np.dot(u,v), 10))\n",
    "print(np.dot(u,w))\n",
    "print(np.dot(u, v+w))\n",
    "print(np.dot(w,v))\n",
    "\n"
   ]
  },
  {
   "cell_type": "markdown",
   "id": "fd88192f-3e8a-4d19-937d-6a069d301185",
   "metadata": {},
   "source": [
    "5. Find all vectors (w1, w2) perpendicular to v = (2, -1)\n",
    "\n",
    "2w1 - w2 = 0\n",
    "\n",
    "w1 = 1/2 w2\n",
    "\n",
    "e.g. (1, 2), (2, 4) etc."
   ]
  },
  {
   "cell_type": "markdown",
   "id": "72bcdb19-87af-4dea-92a8-df1309bff59d",
   "metadata": {},
   "source": [
    "6.(b) : All vectors perp to (1,1,1) lie in a plane : Let (x,y,z) represent a perp vector. Then x + y + z = 0 for all these vectors. \n",
    "Note that (0,0,0) lies in the plane x + y + z = 0, and of course the point (x,y,z) does also for any vector (x,y,z). \n",
    "Thus the entire vector lies in the plane.\n",
    "\n",
    "6.(c) : All vectors perp to (1,1,1) and (1,2,3) lie in a single line: Let (x,y,z) rep such a vector. Then x + y + z = 0, and x + 2y + 3z = 0.\n",
    "\n",
    "Equation of line: y = 2z, x = z, 2x = 2z. 2x = y = 2z or x/1 = y/2 = z/1 is the equation of the line.\n",
    "\n"
   ]
  },
  {
   "cell_type": "code",
   "execution_count": 12,
   "id": "fe62cd24-50cd-4bbe-bba3-7ab9fc67a513",
   "metadata": {},
   "outputs": [
    {
     "name": "stdout",
     "output_type": "stream",
     "text": [
      "63.612200038757\n",
      "60.0\n",
      "135.0\n"
     ]
    }
   ],
   "source": [
    "# 7.b,c,d\n",
    "\n",
    "print(theta([2,2,1], [2,-1,2]))\n",
    "print(round(theta([1, math.sqrt(3)], [-1, math.sqrt(3)]), 10))\n",
    "print(theta([3,1], [-1,-2]))\n"
   ]
  },
  {
   "cell_type": "markdown",
   "id": "0ac2a023-a675-4511-937d-4da08a5d1773",
   "metadata": {},
   "source": [
    "11. Given a vector v in 3d space, find all vectors w where v.w is less than zero:\n",
    "\n",
    "Ans: one-half of 3d space forms vectors w such that v.w is less than zero. "
   ]
  },
  {
   "cell_type": "markdown",
   "id": "e6894744-d23a-422b-bf82-70a5d849eb38",
   "metadata": {},
   "source": [
    "12. With v = (1,1) and w = (1, 5) choose a number ¢ so that w — cv is perpendicular to v. Then find the formula for c starting from any nonzero v and w.\n",
    "\n",
    "w - cv = (1-c, 5-c)\n",
    "\n",
    "v.(w -cv) = 1-c + 5 -c = 0 => c = 3.\n",
    "\n",
    "In generate v - (v1, v2), w = (w1,w2)\n",
    "\n",
    "w - cv = w1-cv1, w2-cv2\n",
    "\n",
    "v.(w-cv) = v1.(w1-cv1) + v2.(w2-cv2) = v.w - c(v1^2 + v2^2) = 0\n",
    "c = v.w/v.v\n",
    "\n"
   ]
  },
  {
   "cell_type": "markdown",
   "id": "39f8a1d1-e580-4aa7-99b3-f33c5c41ff5b",
   "metadata": {},
   "source": [
    "13. Non-zero vectors u,v,w perpendicular to (1,1,1,1) and each other.\n",
    "\n",
    "(1,1,-1,-1) \n",
    "\n",
    "(1,-1,1,-1) \n",
    "\n",
    "(1,-1,-1,1) \n",
    "\n"
   ]
  },
  {
   "cell_type": "code",
   "execution_count": 16,
   "id": "7945269e-159d-432b-84c5-c17271fdf635",
   "metadata": {},
   "outputs": [
    {
     "name": "stdout",
     "output_type": "stream",
     "text": [
      "0.9999999999999998\n"
     ]
    }
   ],
   "source": [
    "# 16.\n",
    "\n",
    "a = costheta([1,0,-1],[1,0,0])\n",
    "b = costheta([1,0,-1],[0,1,0])\n",
    "c = costheta([1,0,-1],[0,0,1])\n",
    "\n",
    "print(a*a + b*b + c*c)"
   ]
  },
  {
   "cell_type": "code",
   "execution_count": null,
   "id": "693cf3c4-1cab-423a-9922-8aaabad245d3",
   "metadata": {},
   "outputs": [],
   "source": []
  }
 ],
 "metadata": {
  "kernelspec": {
   "display_name": "Python 3 (ipykernel)",
   "language": "python",
   "name": "python3"
  },
  "language_info": {
   "codemirror_mode": {
    "name": "ipython",
    "version": 3
   },
   "file_extension": ".py",
   "mimetype": "text/x-python",
   "name": "python",
   "nbconvert_exporter": "python",
   "pygments_lexer": "ipython3",
   "version": "3.11.5"
  }
 },
 "nbformat": 4,
 "nbformat_minor": 5
}
