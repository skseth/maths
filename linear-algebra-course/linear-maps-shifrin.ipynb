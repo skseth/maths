{
 "cells": [
  {
   "cell_type": "markdown",
   "id": "ffe631e8-4d75-4c4d-ac73-dfa55b0588a3",
   "metadata": {},
   "source": [
    "# Linear Transformation \n",
    "The link of linear algebra with differentiation is that we view differentation as the way to get the best linear approximation to a function at a given point.\n",
    "\n",
    "<div class=\"alert alert-block alert-info\">\n",
    "\n",
    "A <b>linear transformation</b> or a <b>linear map</b> is a function \n",
    "\n",
    "$T: R^n \\to R^m$ if it meets the following condition\n",
    "\n",
    "- $T(\\vec{v} + \\vec{w}) = T(\\vec{v}) + T(\\vec{w})$\n",
    "- $T(c\\vec{v}) = cT(\\vec{v})$\n",
    "</div>"
   ]
  },
  {
   "cell_type": "markdown",
   "id": "99d75dda-cfec-455a-9cea-e5b549ec9047",
   "metadata": {},
   "source": [
    "Notes: \n",
    "\n",
    "y = mx + b is not linear by this definition, we need to use y = mx only.\n",
    "\n",
    "Examples for $T: R \\to R$:\n",
    "\n",
    "$T(x) = x$\n",
    "\n",
    "$T(x) = 0$\n",
    "\n",
    "$T(x) = 5x$\n",
    "\n",
    "Following are not linear:\n",
    "\n",
    "$T(x) = x + 1$\n",
    "\n",
    "$T(x) = |x|$\n",
    "\n",
    "\n",
    "\n"
   ]
  },
  {
   "cell_type": "markdown",
   "id": "04cc6995-88b5-4954-a005-0185a3a1d608",
   "metadata": {},
   "source": [
    "Examples for $T: R^n \\to R$:\n",
    "\n",
    "$T(\\vec{x}) = x_1$ if $\\vec{x}=\\begin{bmatrix} x_1 \\\\ x_2 \\\\ \\dots \\\\ x_n \\end{bmatrix}$\n",
    "\n",
    "For any vector $\\vec{a}$:\n",
    "\n",
    "$T(\\vec{x}) = x \\cdot a$ is a linear map.\n"
   ]
  },
  {
   "cell_type": "markdown",
   "id": "eac42886-4695-4b4a-8976-7df5fd0cd5a1",
   "metadata": {},
   "source": [
    "Examples for $T: R^2 \\to R^2$:\n",
    "\n",
    "Reflection on x axis:\n",
    "\n",
    "$T(\\begin{bmatrix} x_1 \\\\ x_2 \\end{bmatrix}) = \\begin{bmatrix} x_1 \\\\ -x_2 \\end{bmatrix}$\n",
    "\n",
    "Rotation by $\\pi/2$\n",
    "\n",
    "$T(\\begin{bmatrix} x_1 \\\\ x_2 \\end{bmatrix}) = \\begin{bmatrix} -x_2\\\\ x_1 \\end{bmatrix}$\n",
    "\n"
   ]
  },
  {
   "cell_type": "markdown",
   "id": "1a7d7947-bb81-43cc-a7f4-c3250aa6dd7d",
   "metadata": {},
   "source": [
    "# Matrices and Linear Maps\n",
    "\n",
    "To a linear map, $T: R^n \\to R^m$ we associate an **mxn** matrix, called the **standard matrix** of T which represents the mapped value of each of the standard basis vectors of $R^n$\n",
    "\n",
    "Assume $e_1, e_2, \\dots, e_n$ are the basis vectors for $R^n$, Then the matrix $\\begin{bmatrix}T(e_1) & T(e_2) & \\dots & T(e_n)\\end{bmatrix}$ is the standard matrix of T. \n",
    "\n",
    "Some examples: \n",
    "\n",
    "For reflection in $R^2$, the standard matrix is $\\begin{bmatrix} 1 & 0 \\\\ 0 & -1 \\end{bmatrix}$\n",
    "\n",
    "For rotation by $\\pi/2$ in $R^2$, the standard matrix is $\\begin{bmatrix} 0 & -1 \\\\ 1 & 0 \\end{bmatrix}$"
   ]
  },
  {
   "cell_type": "markdown",
   "id": "d233d552-252b-49ca-b7fe-17bc1b95cde5",
   "metadata": {},
   "source": [
    "## Proof that The value of T for standard basis vectors completely define T?\n",
    "\n",
    "Assume we know $T(e_1), T(e_2), \\dots, T(e_n)$. The given any $\\vec{x} \\in R$, we can express it as a linear combination of the standard basis vectors:\n",
    "\n",
    "$\\vec{x} = \\begin{bmatrix} x_1 \\\\ x_2 \\\\ \\dots \\\\ x_n\\end{bmatrix} = x_1 e_1 + x_2 e_2 + \\dots + x_n e_n$\n",
    "\n",
    "Then, we have:\n",
    "\n",
    "$T(\\vec{x}) = T(x_1 e_1 + x_2 e_2 + \\dots + x_n e_n) = T(x_1 e_1) + T(x_2 e_2) + \\dots + T(x_n e_n) = x_1T(e_1) + x_2T(e_2) + \\dots + x_n T(e_n)$\n",
    "\n",
    "Thus, given the value of T at the standard basis vectors, we can get the value of T for any vector in the vector space.\n"
   ]
  },
  {
   "cell_type": "markdown",
   "id": "a6a81d59-ba56-4850-a667-fabf2c947b58",
   "metadata": {},
   "source": [
    "Example : Rotation in $R^2$\n",
    "\n",
    "Let A = $\\begin{bmatrix} 0 & -1 \\\\ 1 & 0 \\end{bmatrix}$ be the standard matrix for function T.\n",
    "\n",
    "Then \n",
    "$$\n",
    "\\begin{align}\n",
    "T(\\vec{x}) &= x_1\\begin{bmatrix} 0 \\\\ 1 \\end{bmatrix} + x_2\\begin{bmatrix} -1 \\\\ 0 \\end{bmatrix} \n",
    "            &= \\begin{bmatrix} 0 & -1 \\\\ 1 & 0 \\end{bmatrix}\\begin{bmatrix}x_1 \\\\ x_2\\end{bmatrix}\n",
    "            &= \\begin{bmatrix} -x_2 \\\\ x_1  \\end{bmatrix}\n",
    "\\end{align}\n",
    "$$"
   ]
  },
  {
   "cell_type": "markdown",
   "id": "c3bfdcce-ff93-4468-b787-c20c54a280ce",
   "metadata": {},
   "source": [
    "# Matrix Multiplication by a vector - Column Vector view\n",
    "\n",
    "Based on above, we can define matrix multiplication of a matrix A by a vector $\\vec{x}$ as a linear combination of the column vectors of A, where each column vector is an m-component vector describing the vector to which the corresponding $R^n$ basis vector maps in $R^m$. If A is an m x n matrix, this implies that x must be an n-component vector.\n",
    "\n",
    "Assuming $A = \\begin{bmatrix}\\vec{a_1} & \\vec{a_2} & \\dots & \\vec{a_n} \\end{bmatrix}$, and $\\vec{x} = \\begin{bmatrix} x_1 \\\\ x_2 \\\\ \\dots \\\\ x_n\\end{bmatrix}$ we get:\n",
    "\n",
    "$A\\vec{x} = x_1\\vec{a_1} + x_2\\vec{a_2} + \\dots + x_n\\vec{a_n}$ - note that the result is a vector in $R^m$, because each of $a_i$ vectors is an m-component vector."
   ]
  },
  {
   "cell_type": "markdown",
   "id": "480c7c4e-b020-4e3b-90c5-aa2e3c7a39a2",
   "metadata": {},
   "source": [
    "# Matrix Multiplication by a vector - Row Vector view\n",
    "\n",
    "We can also consider the vector A to be comprised on m n-component **row** vectors. \n",
    "\n",
    "$A = \\begin{bmatrix} A_1 \\\\ A_2 \\\\ \\dots \\\\ A_m\\end{bmatrix}$ \n",
    "\n",
    "Then we see that we can also express the multiplication by vector $\\vec{x}$ as follows:\n",
    "\n",
    "$A\\vec{x} = \\begin{bmatrix} A_1 \\cdot \\vec{x} \\\\ A_2 \\cdot \\vec{x} \\\\ \\dots \\\\ A_m \\cdot \\vec{x}\\end{bmatrix}$\n",
    "\n",
    "This is a strange fact that the linear combination of column vectors, vs the dot product with row vectors are two completely equivalent ways to view the same operation of multiplication."
   ]
  },
  {
   "cell_type": "markdown",
   "id": "7a42c2b0-0cb0-4c40-897b-9104051fb2f8",
   "metadata": {},
   "source": [
    "# Matrix Multiplication by another matrix\n",
    "\n",
    "A natural extension of matrix multiplication is to multiply an mxn matrix A with an nxp matrix B, resulting in an mxp matrix. \n",
    "\n",
    "$A = \\begin{bmatrix} A_1 \\\\ A_2 \\\\ \\dots \\\\ A_m\\end{bmatrix}$  and \n",
    "\n",
    "$B = \\begin{bmatrix}a_1 & a_2 & \\dots & a_p \\end{bmatrix}$ where $a_1, a_2, \\dots, a_p$ are n-component column vectors.\n",
    "\n",
    "Then,\n",
    "\n",
    "$AB = \\begin{bmatrix} \n",
    "        A_1 \\cdot a_1 & A_1 \\cdot a_2 & \\dots & A_1 \\cdot a_p \\\\\n",
    "        A_2 \\cdot a_1 & A_2 \\cdot a_2 & \\dots & A_2 \\cdot a_p \\\\\n",
    "        \\dots \\\\\n",
    "        A_m \\cdot a_1 & A_m \\cdot a_2 & \\dots & A_m \\cdot a_p      \n",
    "      \\end{bmatrix}\n",
    "$\n",
    "\n",
    "As is obvious, this is an m x p matrix, with m rows (as the result is in $R^m$) and p columns, one for each column vector in matrix P.\n",
    "\n",
    "The resultant matrix is a function from $R^p$ to $R^m$, as opposed to the matrix A which is a function from $R^n$ to $R^m$. \n"
   ]
  },
  {
   "cell_type": "markdown",
   "id": "613dbbce-e84a-458c-b707-6cb86d8c5ee7",
   "metadata": {},
   "source": [
    "# Matrix Multiplication as function composition\n",
    "\n",
    "The mxn matrix A represents a function $T: R^n \\to R^m$, and the nxp matrix B represents a function $S: R^p \\to R^n$. The matrix multiplication represents a function formed by composition: $T \\circ S$, from $R^p$ to $R^m$. Thus assuming $\\vec{p}$ is a vector in $R^p$, then :\n",
    "\n",
    "$AB\\vec{p} = T \\circ S(\\vec{p}) = T(S(\\vec{p})) = \\vec{m}$\n",
    "\n",
    "Basically we map a vector p in $R^p$ to a vector m in $R^m$. \n",
    "\n",
    "Because matrix multiplication is basically composition, the following facts follow:\n",
    "\n",
    "a) Matrix multiplication is non-commutative\n",
    "\n",
    "b) Matrix multiplication is associative i.e. A(BC)x = (AB)Cx\n",
    "\n"
   ]
  },
  {
   "cell_type": "markdown",
   "id": "ab001d9b",
   "metadata": {},
   "source": [
    "## Proof Outline that Matrix Multiplication is equal to composition\n",
    "\n",
    "Based on definitions above, let A be the m x n standard matrix for function T, and B be the n x p matrix for function S. \n",
    "\n",
    "We have to show that $AB\\vec{x} = T \\circ S(\\vec{x})$\n",
    "\n",
    "Recall $A = \\begin{bmatrix}T(e_1) & T(e_2) & \\dots & T(e_n)\\end{bmatrix}$\n",
    "\n",
    "Similarly, $B = \\begin{bmatrix}b_1 & b_2 & \\dots & b_p \\end{bmatrix} = \\begin{bmatrix}S(e_1) & S(e_2) & \\dots & S(e_p)\\end{bmatrix}$ \n",
    "\n",
    "Now, for any j = 1 to p, \n",
    "\n",
    "$T \\circ S(\\vec{e_j}) = T(S(e_j)) = T(b_j) = Ab_j$\n",
    "\n",
    "But $Ab_j$ is the jth column of the matrix AB, i.e.\n",
    "\n",
    "$AB = \\begin{bmatrix}T \\circ S(e_1) & T \\circ S(e_2) & \\dots & T \\circ S(e_p)\\end{bmatrix}$\n",
    "\n",
    "Thus AB is the standard matrix of the function $T \\circ S$"
   ]
  },
  {
   "cell_type": "markdown",
   "id": "b0702a64",
   "metadata": {},
   "source": [
    "## Linear map $T:R^n \\to R$ is of the form $T(\\vec{x}) = \\vec{a} \\cdot \\vec{x}$\n",
    "\n",
    "Any linear map is defined by the values at the basis vectors. \n",
    "\n",
    "Hence if A is the standard matrix of T, then $A = \\begin{bmatrix} T(e_1) & T(e_2) & \\dots & T(e_n)\\end{bmatrix}$ \n",
    "\n",
    "Also, $A\\vec{x} = \\begin{bmatrix}x_1T(e_1) + x_2T(e_2) + \\dots + x_n T(e_n) \\end{bmatrix} = \\begin{bmatrix}T(\\vec{x})\\end{bmatrix}$\n",
    "\n",
    "If we take $\\vec{a} = A^T = \\begin{bmatrix} T(e_1) \\\\ T(e_2) \\\\ \\dots \\\\ T(e_n)\\end{bmatrix}$, then we see that $\\vec{a} \\cdot \\vec{x} = T(\\vec{x})$"
   ]
  },
  {
   "cell_type": "markdown",
   "id": "8cfaaf2b",
   "metadata": {},
   "source": [
    "## Matrix for Rotation in $R^2$\n",
    "\n",
    "Assume we rotate the $R^2$ plane by angle $\\theta$\n",
    "\n",
    "Then $T(e_1) = \\begin{bmatrix} \\cos{\\theta} \\\\ \\sin(\\theta) \\end{bmatrix}$ and $T(e_2) = \\begin{bmatrix} -\\sin{\\theta} \\\\ \\cos(\\theta) \\end{bmatrix}$\n",
    "\n",
    "Thus the standard matrix is \n",
    "$\\begin{bmatrix}\\cos{\\theta} & -\\sin{\\theta} \\\\ \\sin(\\theta) & \\cos{\\theta}\\end{bmatrix}$"
   ]
  },
  {
   "cell_type": "code",
   "execution_count": 26,
   "id": "78195719",
   "metadata": {},
   "outputs": [
    {
     "name": "stdout",
     "output_type": "stream",
     "text": [
      "[-1 -2 -2] [ 1 -3  2] 3.0 3.7416573867739413 [ 2 -1  3] 3.0 3.7416573867739413\n",
      "[1 2 2] [ 2 -1  4] 3.0 4.58257569495584 [4 3 7] 4.58257569495584 3.0\n",
      "[-1  3 -2] [-2  1 -4] 3.7416573867739413 4.58257569495584 [ 0  5 -1] 4.58257569495584 3.7416573867739413\n",
      "[ 0  5 -1]\n",
      "[ 2 -1  3]\n",
      "[4 3 7]\n"
     ]
    }
   ],
   "source": [
    "# Exercises\n",
    "\n",
    "import numpy as np\n",
    "from numpy.linalg import norm\n",
    "\n",
    "import numpy as np\n",
    "\n",
    "# These 3 points are given\n",
    "u = np.array([1,2,1])\n",
    "v = np.array([2,4,3])\n",
    "w = np.array([3,1,5])\n",
    "\n",
    "# we have to find all possible points for forming a parallelogram. \n",
    "\n",
    "vu = u - v\n",
    "vw = w - v\n",
    "\n",
    "p = w + u - v\n",
    "\n",
    "\n",
    "print(vu, vw, norm(vu), norm(vw), p, norm(p-w), norm(p-u))\n",
    "\n",
    "\n",
    "uv = v - u\n",
    "uw = w - u\n",
    "\n",
    "q = w + v - u\n",
    "\n",
    "print(uv, uw, norm(uv), norm(uw), q, norm(q-v), norm(q-w))\n",
    "\n",
    "wv = v - w\n",
    "wu = u - w\n",
    "\n",
    "r = u + v - w\n",
    "\n",
    "print(wv, wu, norm(wv), norm(wu), r, norm(r-v), norm(r-u))\n",
    "\n",
    "print(u + v - w)\n",
    "print(u + w - v)\n",
    "print(v + w - u)\n",
    "\n"
   ]
  },
  {
   "cell_type": "code",
   "execution_count": 27,
   "id": "e402f340",
   "metadata": {},
   "outputs": [
    {
     "data": {
      "text/latex": [
       "$\\displaystyle \\left[\\begin{matrix}-1\\\\1\\\\-1\\end{matrix}\\right]$"
      ],
      "text/plain": [
       "Matrix([\n",
       "[-1],\n",
       "[ 1],\n",
       "[-1]])"
      ]
     },
     "execution_count": 27,
     "metadata": {},
     "output_type": "execute_result"
    }
   ],
   "source": [
    "import sympy as s\n",
    "\n",
    "v1 = s.Matrix([1,2,1])\n",
    "v2 = s.Matrix([2,3,1])\n",
    "cross_result = v1.cross(v2)\n",
    "cross_result"
   ]
  }
 ],
 "metadata": {
  "kernelspec": {
   "display_name": ".venv",
   "language": "python",
   "name": "python3"
  },
  "language_info": {
   "codemirror_mode": {
    "name": "ipython",
    "version": 3
   },
   "file_extension": ".py",
   "mimetype": "text/x-python",
   "name": "python",
   "nbconvert_exporter": "python",
   "pygments_lexer": "ipython3",
   "version": "3.12.8"
  }
 },
 "nbformat": 4,
 "nbformat_minor": 5
}
