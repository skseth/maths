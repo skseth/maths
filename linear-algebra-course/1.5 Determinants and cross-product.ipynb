{
 "cells": [
  {
   "cell_type": "markdown",
   "metadata": {},
   "source": [
    "# Determinant in R^2 as area\n",
    "\n",
    "## Area of parallelogram between two vectors\n",
    "\n",
    "Given 2 vectors x and y, we see the area of the parallelogram formed by the two vectors\n",
    "\n",
    "area = $\\Vert x \\Vert \\Vert y \\Vert \\sin(\\theta)$\n",
    "\n",
    "Note that if we take $\\rho(x)$, then the dot product of $\\rho{x}$ on y is:\n",
    "\n",
    "$\\rho(x) \\cdot \\rho{y} = \\Vert \\rho(x) \\Vert \\Vert y \\Vert \\cos(\\pi/2 - \\theta) = \\Vert x \\Vert \\Vert y \\Vert \\sin(\\theta) = area$\n",
    "\n",
    "If $\\vec{x} = \\begin{bmatrix}x_1 \\\\ x_2\\end{bmatrix}$, then $\\rho(x) = \\begin{bmatrix} -x_2 \\\\ x_1\\end{bmatrix}$\n",
    "\n",
    "Let $\\vec{y} = \\begin{bmatrix}y_1 \\\\ y_2\\end{bmatrix}$\n",
    "\n",
    "The, the area is:\n",
    "\n",
    "$area = \\rho(x) \\cdot \\rho(y) = x_1y_1 - x_2y_2$\n",
    "\n",
    "## Determinant in $R^2$\n",
    "\n",
    "\n",
    "If $\\vec{x} = \\begin{bmatrix}x_1 \\\\ x_2\\end{bmatrix}$, and $\\vec{y} = \\begin{bmatrix}y_1 \\\\ y_2\\end{bmatrix}$\n",
    "\n",
    "We define \n",
    "\n",
    "$D(\\vec{x}, \\vec{y}) = x_1y_1 - x_2y_2$ = signed area of the parallelogram between $\\vec{x}$ and $\\vec{y}$.\n",
    "\n",
    "### Properties\n",
    "\n",
    "$D(\\vec{x}, \\vec{y}) = -D(\\vec{y}, \\vec{x})$ - signed area is negative, in opposite orientation\n",
    "\n",
    "It follows that $D(\\vec{x}, \\vec{x}) = 0$\n",
    "\n",
    "$D(\\vec{cx}, \\vec{y}) = cD(\\vec{x}, \\vec{y})$ - scaling one side proportionately increases area\n",
    "\n",
    "$D(\\vec{x + y}, \\vec{z}) = D(\\vec{x}, \\vec{z}) + D(\\vec{y}, \\vec{z})$  \n",
    "$D(\\vec{x}, \\vec{y} + \\vec{z}) = D(\\vec{x}, \\vec{y}) + D(\\vec{x}, \\vec{z})$\n",
    "\n",
    "$D(e_1, e_2) = 1$\n",
    "\n",
    "## Determinant in $R^3$\n",
    "\n",
    "\n",
    "If $\\vec{x} = \\begin{bmatrix}x_1 \\\\ x_2 \\\\ x_3 \\end{bmatrix}$, $\\vec{y} = \\begin{bmatrix}y_1 \\\\ y_2 \\\\ y_3 \\end{bmatrix}$, \n",
    "$\\vec{z} = \\begin{bmatrix}z_1 \\\\ z_2 \\\\ z_3 \\end{bmatrix}$\n",
    "\n",
    "We define \n",
    "\n",
    "$D(\\vec{x}, \\vec{y}, \\vec{z}) = x_1 \\begin{vmatrix}y_2 & z_2 \\\\ y_3 & z_3 \\end{vmatrix} - x_2 \\begin{vmatrix}y_1 & z_1 \\\\ y_3 & z_3 \\end{vmatrix} + x_3 \\begin{vmatrix}y_1 & z_1 \\\\ y_2 & z_2 \\end{vmatrix}$ \n",
    "\n",
    "\n",
    "\n",
    "= signed area of the parallelopiped between $\\vec{x}$, $\\vec{y}$ and $\\vec{z}$.\n",
    "\n",
    "### Properties\n",
    "\n",
    "- switching any two vectors reverses sign of D\n",
    "  It follows that whenever two vectors are the same, D is 0.\n",
    "\n",
    "- scaling any vector multiples d by the same constant\n",
    "- distributive over addition in each component\n",
    "- $D(e_1, e_2, e_3) = 1$\n",
    "\n",
    "### Note on volume\n",
    "\n",
    "Let $y' = y - proj_x y$, $z' = z - proj_x z - proj_y z$\n",
    "\n",
    "Then D(x,y',z') = D(x,y,z)\n",
    "\n",
    "It is obvious then that D(x,y,z) is the volume of the parallelopiped enclosed by x,y,z\n",
    "\n",
    "Proof:\n",
    "\n",
    "D(x, y - proj_x y, z - proj_x z - proj_y z) \n",
    "\n",
    "= D(x,y,z - proj_x z - proj_y z) + D(x,- proj_x y, z - proj_x z - proj_y z)\n",
    "\n",
    "= D(x,y,z - proj_x z - proj_y z) + D(x,- proj_x y, z - proj_x z - proj_y z)\n",
    "\n",
    "= D(x,y,z) + D(x, y, - proj_x z - proj_y z) + D(x,- proj_x y, z - proj_x z - proj_y z)\n",
    "\n",
    "= D(x,y,z) + D(x, y, - proj_x z) + D(x, y, - proj_y z) + D(x,- proj_x y, z) \n",
    "+ D(x,- proj_x y, - proj_x z) + D(x,- proj_x y, - proj_y z)\n",
    "\n",
    "= D(x,y,z) + 0 + 0 + 0 + 0 + 0 = D(x,y,z)\n",
    "\n",
    "# Cross Product\n",
    "\n",
    "$\\vec{x} \\times \\vec{y} = e_1 \\begin{vmatrix}y_2 & z_2 \\\\ y_3 & z_3 \\end{vmatrix} - e_2 \\begin{vmatrix}y_1 & z_1 \\\\ y_3 & z_3 \\end{vmatrix} + e_3 \\begin{vmatrix}y_1 & z_1 \\\\ y_2 & z_2 \\end{vmatrix}$ $\n",
    "\n",
    "$\\vec{z} \\cdot \\vec{x} \\times \\vec{y} = D(\\vec{z}, \\vec{x}, \\vec{y})$\n",
    "\n",
    "## Cross-product and Volumes\n",
    "\n",
    "$D(\\vec{x}, \\vec{y}, \\vec{x \\times y}) = D(\\vec{x \\times y, \\vec{x}, \\vec{y}}) = \\vec{x} \\times \\vec{y} \\cdot \\vec{x} \\times \\vec{y} = \\Vert \\vec{x} \\times \\vec{y} \\Vert^2 $\n",
    "\n",
    "\n",
    "Since $D(\\vec{x}, \\vec{y}, \\vec{x \\times y})$  = area of parallelogram bounding x & y  x length of $x \\times y = \\Vert \\vec{x} \\times \\vec{y} \\Vert^2$ \n",
    "\n",
    "it follows that $\\Vert \\vec{x} \\times \\vec{y} \\Vert = \\text{positive area of parallelogram bounding x and y}$"
   ]
  },
  {
   "cell_type": "markdown",
   "metadata": {},
   "source": [
    "# Ex 2: Show (in $R^2$), properties imply D(x,y) = $x_1y_2 - x_2y_1$\n",
    "\n",
    "D(e1,e2) = 1\n",
    "\n",
    "D(x1e1) = x1D(e1) = x1\n",
    "\n",
    "D(x1e1 + x2e2, y1e1 + y2e2) = D(x1e1,y1e1) + D(x1e1,y2e2) + D(x2e2,y1e1) + D(x2e2, y2e2)\n",
    "                            = x1y2 - x2y1"
   ]
  },
  {
   "cell_type": "markdown",
   "metadata": {},
   "source": [
    "# Ex 3: Area of a polygon with vertices $p_1, p_2, ..., p_n$\n",
    "\n",
    "$\n",
    "\\begin{align}\n",
    "\\frac{1}{2} \\sum_{i=2}^{n-1} (p_i - p_1) \\times (p_{i+1} - p_1) &= \\frac{1}{2} \\sum_{i=2}^{n-1} (p_i \\times p_{i+1} - p_i \\times p_1 + p_{i+1} \\times p_1) \\\\\n",
    "                &= \\frac{1}{2} \\sum_{i=2}^{n-1} p_i \\times p_{i+1}  + \\frac{1}{2}p_1 \\times p_2 + \\frac{1}{2}p_n \\times p_1 \\\\\n",
    "                &= \\frac{1}{2} \\sum_{i=1}^{n-1} p_i \\times p_{i+1}  + \\frac{1}{2}p_n \\times p_1\n",
    "\\end{align}\n",
    "$\n",
    "\n",
    "If $p_1$ is the origin, then the second part becomes zero, and the first term is the area.\n",
    "\n",
    "If $p_1$ is not the origin, then the triangles are between the origin and the vertices (including p1). The second term then subtracts the extra area of the origin triangles."
   ]
  },
  {
   "cell_type": "markdown",
   "metadata": {},
   "source": [
    "# Ex 4: A,B are 2x2 matrices. Prove det(AB) = det(A)det(B)\n",
    "\n",
    "a) Proof\n",
    "(AB)_ij = A_i.b_j\n",
    "\n",
    "det(AB) = (A_1.b_1)(A_2.b_2) - (A_1.b_2)(A_2.b_1) = (a_11.b_11 + a_12.b_21)(a_21.b_12 + a_22.b_22) - (a_11.b_12 + a_12.b_22)(a_21.b_11 + a_22.b_21)\n",
    "= a_11.b_11.a_21.b_12 + a_11.b_11.a_22.b_22 + a_12.b_21.a_21.b_12 + a_12.b_21.a_22.b_22 \n",
    "  - a_11.b_12.a_21.b_11  - a_11.b_12.a_22.b_21 - a_12.b_22.a_21.b_11 - a_12.b_22.a_22.b_21\n",
    "\n",
    "= a_11a_22(b_11.b_22 - b_12.b_21) - a_12.a_21(b_11.b_22 - b_12.b_21) + a_11.b_11.a_21.b_12 - a_11.b_12.a_21.b_11 + a_12.b_21.a_22.b_22 - a_12.b_22.a_22.b_21\n",
    "\n",
    "= (a_11a_22 - a_12.a_21)(b_11.b_22 - b_12.b_21)\n",
    "\n",
    "= det(A)det(B)\n",
    "\n",
    "b) $det(A_{\\theta}B) = det(B)$\n",
    "\n",
    "Follows from a, and det($A_{\\theta}$) = 1"
   ]
  },
  {
   "cell_type": "code",
   "execution_count": 2,
   "metadata": {},
   "outputs": [
    {
     "data": {
      "text/latex": [
       "$\\displaystyle \\left[\\begin{matrix}-9\\\\-12\\\\15\\end{matrix}\\right]$"
      ],
      "text/plain": [
       "Matrix([\n",
       "[ -9],\n",
       "[-12],\n",
       "[ 15]])"
      ]
     },
     "execution_count": 2,
     "metadata": {},
     "output_type": "execute_result"
    }
   ],
   "source": [
    "# Ex 5: Cross-Product\n",
    "import sympy as s\n",
    "\n",
    "x = s.Matrix([1,-2,-1])\n",
    "y = s.Matrix([7,1,5])\n",
    "\n",
    "x.cross(y)"
   ]
  },
  {
   "cell_type": "code",
   "execution_count": 6,
   "metadata": {},
   "outputs": [
    {
     "data": {
      "text/latex": [
       "$\\displaystyle \\left[\\begin{matrix}1\\\\-1\\\\1\\end{matrix}\\right]$"
      ],
      "text/plain": [
       "Matrix([\n",
       "[ 1],\n",
       "[-1],\n",
       "[ 1]])"
      ]
     },
     "metadata": {},
     "output_type": "display_data"
    },
    {
     "data": {
      "text/latex": [
       "$\\displaystyle \\left[\\begin{matrix}1\\\\-1\\\\1\\end{matrix}\\right]$"
      ],
      "text/plain": [
       "Matrix([\n",
       "[ 1],\n",
       "[-1],\n",
       "[ 1]])"
      ]
     },
     "execution_count": 6,
     "metadata": {},
     "output_type": "execute_result"
    }
   ],
   "source": [
    "# Ex 6\n",
    "A = s.Matrix([1,-1,1])\n",
    "B = s.Matrix([2,-1,0])\n",
    "C = s.Matrix([2,1,2])\n",
    "\n",
    "display(s.Rational(1,2)*(A.cross(B) + B.cross(C) + C.cross(A)))\n",
    "\n",
    "s.Rational(1,2)*((B-A).cross(C-A))\n"
   ]
  },
  {
   "cell_type": "code",
   "execution_count": 43,
   "metadata": {},
   "outputs": [
    {
     "data": {
      "text/latex": [
       "$\\displaystyle 2 x - 2 y + 2 z - 6$"
      ],
      "text/plain": [
       "2*x - 2*y + 2*z - 6"
      ]
     },
     "metadata": {},
     "output_type": "display_data"
    },
    {
     "data": {
      "text/latex": [
       "$\\displaystyle \\left[\\begin{matrix}2 & -2 & 2\\end{matrix}\\right]$"
      ],
      "text/plain": [
       "Matrix([[2, -2, 2]])"
      ]
     },
     "metadata": {},
     "output_type": "display_data"
    },
    {
     "data": {
      "text/latex": [
       "$\\displaystyle 6$"
      ],
      "text/plain": [
       "6"
      ]
     },
     "metadata": {},
     "output_type": "display_data"
    },
    {
     "data": {
      "text/latex": [
       "$\\displaystyle \\sqrt{3}$"
      ],
      "text/plain": [
       "sqrt(3)"
      ]
     },
     "metadata": {},
     "output_type": "display_data"
    }
   ],
   "source": [
    "# Ex. 7\n",
    "a = s.Point3D(1,-1,1)\n",
    "b = s.Point3D(2,-1,0)\n",
    "c = s.Point3D(2,1,2)\n",
    "\n",
    "display(s.Plane(a, b, c).equation())\n",
    "\n",
    "v = s.Matrix([tuple(b)]) - s.Matrix([tuple(a)])\n",
    "w = s.Matrix([tuple(c)]) - s.Matrix([tuple(a)])\n",
    "cross = v.cross(w)\n",
    "display(cross)\n",
    "display(cross.dot(s.Matrix([tuple(a)])))\n",
    "\n",
    "# distance from origin\n",
    "display(cross.dot(s.Matrix([tuple(a)]))/cross.norm())\n",
    "\n",
    "\n"
   ]
  },
  {
   "cell_type": "code",
   "execution_count": 52,
   "metadata": {},
   "outputs": [
    {
     "data": {
      "text/latex": [
       "$\\displaystyle x + y - 2 z$"
      ],
      "text/plain": [
       "x + y - 2*z"
      ]
     },
     "metadata": {},
     "output_type": "display_data"
    },
    {
     "data": {
      "text/latex": [
       "$\\displaystyle 2 x + y + z$"
      ],
      "text/plain": [
       "2*x + y + z"
      ]
     },
     "metadata": {},
     "output_type": "display_data"
    },
    {
     "data": {
      "text/latex": [
       "$\\displaystyle \\left( - 3 x + 4 y + 3, \\  5 x + 2 z - 25\\right)$"
      ],
      "text/plain": [
       "(-3*x + 4*y + 3, 5*x + 2*z - 25)"
      ]
     },
     "execution_count": 52,
     "metadata": {},
     "output_type": "execute_result"
    }
   ],
   "source": [
    "# Ex 9\n",
    "plane1 = s.Plane(s.Point3D(0,0,0), normal_vector=(1,1,-2))\n",
    "plane2 = s.Plane(s.Point3D(0,0,0), normal_vector=(2,1,1))\n",
    "display(plane1.equation(), plane2.equation())\n",
    "\n",
    "plane1.intersection(plane2)[0].equation()\n",
    "\n",
    "p1, p2 = s.Point3D(1, 0, 10), s.Point3D(5, 3, 0)\n",
    "l1 = s.Line3D(p1, p2)\n",
    "l1.equation()\n"
   ]
  },
  {
   "cell_type": "markdown",
   "metadata": {},
   "source": [
    "# Ex 10: find vector given dot / cross product with a know vector?\n",
    "\n",
    "$\\vec{a} \\cdot \\vec{x} = b$\n",
    "\n",
    "$\\vec{a} \\times \\vec{x} = \\vec{c}$\n",
    "\n",
    "$\\vec{a} \\cdot \\vec{x}$ denotes a plane which is normal to a, and the distance of the plane from origin is $(\\vec{a} \\cdot \\vec{x} = b)/(\\Vert a \\Vert)$ in direction of $\\vec{a}$. This is the component of x parallel to a.\n",
    "\n",
    "$x^{||} = b/(\\Vert a \\Vert^2) \\vec{a}$  # the squaring is to add a unit vector in direction of a.\n",
    "\n",
    "$\\vec{a} \\times \\vec{x} = \\vec{c}$ denotes a line perpendicular to the plane containing c and a, passing through the origin, naturally this is perpendicular to a. c has magnitude of x x a, and a of course has magnitude a. Hence\n",
    "\n",
    "$x^{\\perp} = (\\vec{a} \\times \\vec{c})/(\\Vert a \\Vert^2)$ \n",
    "\n",
    "Thus:\n",
    "\n",
    "$x = \\frac{1}{\\Vert a \\Vert^2} (b\\vec{a} + \\vec{a} \\times \\vec{c})$\n"
   ]
  },
  {
   "cell_type": "code",
   "execution_count": 58,
   "metadata": {},
   "outputs": [
    {
     "data": {
      "text/latex": [
       "$\\displaystyle \\left[\\begin{matrix}2\\\\-1\\\\-1\\end{matrix}\\right]$"
      ],
      "text/plain": [
       "Matrix([\n",
       "[ 2],\n",
       "[-1],\n",
       "[-1]])"
      ]
     },
     "metadata": {},
     "output_type": "display_data"
    },
    {
     "data": {
      "text/latex": [
       "$\\displaystyle \\left[\\begin{matrix}1\\\\0\\\\1\\end{matrix}\\right]$"
      ],
      "text/plain": [
       "Matrix([\n",
       "[1],\n",
       "[0],\n",
       "[1]])"
      ]
     },
     "metadata": {},
     "output_type": "display_data"
    },
    {
     "data": {
      "text/latex": [
       "$\\displaystyle \\frac{\\sqrt{6}}{6}$"
      ],
      "text/plain": [
       "sqrt(6)/6"
      ]
     },
     "execution_count": 58,
     "metadata": {},
     "output_type": "execute_result"
    }
   ],
   "source": [
    "# Ex 11: Distance between skew lines\n",
    "\n",
    "v1 = s.Matrix([0,1,-1])\n",
    "v2 = s.Matrix([1,1,1])\n",
    "\n",
    "# direction perpendicular to v1 and v2\n",
    "perp = v1.cross(v2)\n",
    "display(perp)\n",
    "\n",
    "# vector between two known points, one on each line\n",
    "\n",
    "pvec = s.Matrix([2,1,1]) - s.Matrix([1,1,0])\n",
    "display(pvec)\n",
    "\n",
    "# distance\n",
    "pvec.dot(perp)/perp.norm()"
   ]
  },
  {
   "cell_type": "code",
   "execution_count": 59,
   "metadata": {},
   "outputs": [
    {
     "data": {
      "text/latex": [
       "$\\displaystyle -2$"
      ],
      "text/plain": [
       "-2"
      ]
     },
     "execution_count": 59,
     "metadata": {},
     "output_type": "execute_result"
    }
   ],
   "source": [
    "# Ex 12: Volume of parallelopiped \n",
    "\n",
    "V = s.Matrix([[1,2,1], [2,3,1], [-1,0,3]])\n",
    "\n",
    "V.det()\n",
    "\n"
   ]
  },
  {
   "cell_type": "markdown",
   "metadata": {},
   "source": [
    "# Ex 13: Square of Area of paralelogram in $R^3$ as square of the areas of projections to $x_2x_3, x_3x_1, x_1x_2$ planes.\n",
    "\n",
    "Let x and y be two vectors forming the parallelogram.\n",
    "\n",
    "We know || x x y || is the area of the parallelogram. But each component of the vector is the are of the parallelogram formed by the projection on the respective axis. So it follows that:\n",
    "\n",
    "$(\\text{area of parallelogram})^2 = \\sum_{\\text{planes}} (\\text{area of projection on plane})^2 $"
   ]
  },
  {
   "cell_type": "markdown",
   "metadata": {},
   "source": [
    "# Ex 14: $x \\times (y \\times z)$ not same as $(x \\times y) \\times z$\n",
    "\n",
    "One is a linear combination of y and z, the other is a linear combination of x and y."
   ]
  },
  {
   "cell_type": "markdown",
   "metadata": {},
   "source": [
    "# Ex 15: $a = \\begin{bmatrix}a \\\\ b \\\\ c \\end{bmatrix}$. $T(\\vec{x}) = \\vec{a} \\times \\vec{x}$. Prove T is a linear transformation, give its standard matrix.\n",
    "\n",
    "$[T] = \\begin{bmatrix}0 & -c & b \\\\ c & 0 & -a \\\\ -b & a & 0\\end{bmatrix}$"
   ]
  },
  {
   "cell_type": "markdown",
   "metadata": {},
   "source": [
    "# Ex 16: $(\\vec{x} \\times \\vec{y}) \\cdot (\\vec{z} \\times \\vec{w}) = \\begin{vmatrix}\\vec{x} \\cdot \\vec{z} & \\vec{x} \\cdot \\vec{w} \\\\ \\vec{y} \\cdot \\vec{z} & \\vec{y} \\cdot \\vec{w}\\end{vmatrix}$\n",
    "\n",
    "\n",
    "$$\n",
    "\\begin{align}\n",
    "\n",
    "(\\vec{x} \\times \\vec{y}) \\cdot (\\vec{z} \\times \\vec{w}) &= D(\\vec{z} \\times \\vec{w}, \\vec{x}, \\vec{y}) \\\\\n",
    "     &= D(\\vec{x}, \\vec{y}, \\vec{z} \\times \\vec{w}) \\\\\n",
    "     &= \\vec{x}.(\\vec{y} \\times (\\vec{z} \\times \\vec{w})) \\\\\n",
    "     &= \\vec{x} \\cdot ((\\vec{y} \\cdot \\vec{w})\\vec{z} - (\\vec{y} \\cdot \\vec{z})\\vec{w}) \\\\\n",
    "     &= (\\vec{y} \\cdot \\vec{w}) \\cdot (\\vec{x} \\cdot \\vec{z}) - (\\vec{y} \\cdot \\vec{z})(\\vec{x} \\cdot \\vec{w}) \\\\\n",
    "     &= \\begin{vmatrix}\\vec{x} \\cdot \\vec{z} & \\vec{x} \\cdot \\vec{w} \\\\ \\vec{y} \\cdot \\vec{z} & \\vec{y} \\cdot \\vec{w}\\end{vmatrix}\n",
    "\n",
    "\\end{align}\n",
    "$$\n",
    "\n",
    "The argument above uses the triple vector product identity (bac-cab):\n",
    "\n",
    "$\\vec{a} \\times (\\vec{b} \\times \\vec{c}) = \\vec{b}(\\vec{a} \\cdot \\vec{c}) - \\vec{c}(\\vec{a} \\cdot \\vec{b})$\n",
    "\n",
    "**Proof (see https://math.stackexchange.com/questions/2926600/the-proof-of-triple-vector-products):**\n",
    "\n",
    "assume a x (b x c) is not 0.\n",
    "\n",
    "The result is a vector in the plane of b & c, so:\n",
    "\n",
    "$$\n",
    "\\begin{align}\n",
    "\\vec{a} \\times (\\vec{b} \\times \\vec{c}) = x\\vec{b} + y\\vec{c} \\\\\n",
    "\n",
    "\\text{The resulting vector is perpendicular to a so:} \\\\\n",
    "\n",
    "\\vec{a} \\cdot (x \\vec{b} + y\\vec{c}) = 0 = x(\\vec{a} \\cdot \\vec{b}) + y(\\vec{a} \\cdot \\vec{c}) \\\\\n",
    "\n",
    "\\text{Since the points (x,y) lie on a line, we can assume the equation of the line is : } \\\\\n",
    "\n",
    "(x,y) = \\lambda(\\vec{a} \\cdot \\vec{c}, -\\vec{a} \\cdot \\vec{b}) \\\\ \n",
    "\n",
    "\\vec{a} \\times (\\vec{b} \\times \\vec{c}) = \\lambda[\\vec{b}(\\vec{a} \\cdot \\vec{c}) - \\vec{c}(\\vec{a} \\cdot \\vec{b})]\n",
    "\n",
    "\\end{align}\n",
    "$$\n",
    "\n",
    "\n",
    "---Calculate lambda by project of a on plane of b and c---\n",
    "\n",
    "The value of $a x (bxc)$ is the same if we replace a by its projection on the bxc plane. And any vector in that place is a linear combination of b and c, so it suffices to show that value of lambda for (b x (b x c)) and (c x (b x c)) is same.\n",
    "\n",
    "\n",
    "$$\n",
    "\\begin{align}\n",
    "\\vec{b} \\times (\\vec{b} \\times \\vec{c}) &= \\lambda[\\vec{b}(\\vec{b} \\cdot \\vec{c}) - \\vec{c}(\\vec{b} \\cdot \\vec{b})] \\\\\n",
    "\\vec{c} . (\\vec{b} \\times (\\vec{b} \\times \\vec{c})) &= \\lambda[\\vec{b}.\\vec{c}(\\vec{b} \\cdot \\vec{c}) - \\vec{c}.\\vec{c}(\\vec{b} \\cdot \\vec{b})] \\\\\n",
    "\n",
    "\\text{But LHS, by permutation } \\\\\n",
    "\n",
    "\\vec{c} . (\\vec{b} \\times (\\vec{b} \\times \\vec{c})) &= (\\vec{b} \\times \\vec{c}) \\cdot (\\vec{c} \\times \\vec{b}) \\\\\n",
    "                                                    &= - \\Vert\\vec{b} \\times \\vec{c} \\Vert^2 \\\\\n",
    "                                                    &= (\\vec{b} \\cdot \\vec{c})^2 - \\Vert b \\Vert^2 \\Vert c \\Vert^2\n",
    "\n",
    "\\end{align}\n",
    "$$\n",
    "\n",
    "Comparing, we get $\\lambda$ = 1. Similarly, we get $\\lambda$ = 1 when we try evaluation b.(c x (b x c)).\n",
    "\n",
    "\n",
    "TBD.\n",
    "\n",
    "### Lagrange's Identity\n",
    "\n",
    "$|v \\cdot w|^2 + \\Vert v \\times w\\Vert^2 = \\Vert v \\Vert^2\\Vert w \\Vert^2$\n",
    "\n",
    "Easy to prove using sin / cos definitions.\n",
    "\n"
   ]
  },
  {
   "cell_type": "markdown",
   "metadata": {},
   "source": [
    "# Ex 17 : IN R2: u, v, w are non-collinear, x in R2\n",
    "\n",
    "(a) show x = ru + su tv, r + s + t = 1, for any x\n",
    "\n",
    "(v-u), (w-u) are not parallel. We can write:\n",
    "\n",
    "(x - u) = s(v-u) + t(w-u) i.e. x = (1 - s - t)u + sv + tw.\n",
    "\n",
    "\n",
    "Note: Example 11: \n",
    "\n",
    "In R2, if u = (u1,u2), v = (v1,v2) are non-parallel (u1v2 - u2v1 not 0), then any x can be expressed as a linear combination of u and v.\n",
    "\n",
    "we can write:  e1 = 1/(u1v2 - u2v1) (v2u - u2v), e2 = 1/(u1v2 - u2v1) (-v1u + u1v) thus any x can be expressed as linear combination.\n",
    "\n",
    "Alternately, let $A = [ \\vec{u} \\text{ }  \\vec{v}]$. If u1v2 - u2v1 not 0, $A^{-1}$ exists.\n",
    "\n",
    "Let $c = A^{-1}x$\n",
    "\n",
    "Then $x = A(A^{-1}x) = Ac = c1 u + c2 v$. Note the linear combination is unique. \n",
    "\n",
    "Assume x is not zero. if c1 u + c2 v = c1' u + c2' v => (c1 - c1')u + (c2 - c2')v = 0. If neither c1 - c1', nor c2 - c2' are zero, then:\n",
    "\n",
    "u = -(c2 - c2')/(c1 - c1') v - u,v are parallel.\n",
    "\n",
    "(b) show r is the ratio of signed area of triangle x,v,w with u,v,w\n",
    "\n",
    "x = ru + sv + tw\n",
    "\n",
    "Area of parallelogram = (v - x) x (w - x) = v x w - x x w - v x x + x x x \n",
    "\n",
    "                        = v x w - (ru + sv) x w - v x (ru + tw)  \n",
    "\n",
    "                        = v x w - r(u x w) - s(v x w) - r(v x u) - t(v x w)\n",
    "\n",
    "                        = r(v x w) - r(u x w) - r(v x u) \n",
    "\n",
    "                        = r(v x w) - r(u x (w - u)) - r(v x u) \n",
    "                        \n",
    "                        = r(v x (w - u)) - r x (u x (w -u))\n",
    "\n",
    "                        = r(v  - u) x (w - u)\n",
    "\n",
    "Triangles are half the size\n",
    "\n",
    "(c) x is intersection of medians of u, v, w\n",
    "\n",
    "x = ru + sv + tw, r = s = t = 1/3\n",
    "\n",
    "each triangle formed by x with any pair of vertices is 1/3 the total triangle\n",
    "\n",
    "(d) Let r = D(v,w), s = D(w,u), t = D(u,v) show ru + sv + tw = 0. \n",
    "\n",
    "Obviously ru + sv + tw = the origin\n",
    "\n",
    "D(v,w) = 2 * area of triangle formed with origin with v,w"
   ]
  },
  {
   "cell_type": "markdown",
   "metadata": {},
   "source": [
    "# Ex 18 : R3 - Determinant as signed volume\n",
    "\n",
    "a) Show Lagrange's Identity is true $\\Vert x \\times y \\Vert^2 = \\Vert x \\Vert^2\\Vert y \\Vert^2 - (x.y)^2$\n",
    "\n",
    "$$\n",
    "\\begin{align}\n",
    "\n",
    "\\Vert y^{\\perp} \\Vert^2 &= \\Vert y - \\frac{x.y}{|x|^2}x \\Vert^2 \\\\\n",
    "    &=  (y - \\frac{x.y}{|x|^2}x).(y - \\frac{x.y}{|x|^2}x) \\\\\n",
    "    &=  \\Vert y \\Vert^2 - \\frac{(x.y)^2}{\\Vert x \\Vert^2} \\\\\n",
    "\n",
    "\\text{(Unsigned Area of parallelogram)}^2 &= \\Vert y^{\\perp} \\Vert^2 \\Vert x \\Vert^2 \\\\\n",
    "    &= \\Vert x \\Vert^2\\Vert y \\Vert^2 - (x.y)^2\n",
    "    \n",
    "\\end{align}\n",
    "\n",
    "$$\n",
    "\n",
    "\n",
    "b) Show z.(x x y) is signed volume of parallelopiped spanned by x, y, z\n",
    "\n",
    "The projection of z on (x x y) = $\\frac{z.(x \\times y)}{\\Vert x \\times y \\Vert^2} (x \\times y)$\n",
    "\n",
    "Signed area of parallelopiped = (area of parallelogram)*(signed length of z) = $\\frac{z.(x \\times y)}{\\Vert x \\times y \\Vert} \\Vert x \\times y \\Vert = z.(x \\times y)$\n",
    "\n",
    "c) D(x,y,z) = D(z,x,y) = z.(x x y)\n",
    "\n"
   ]
  },
  {
   "cell_type": "markdown",
   "metadata": {},
   "source": [
    "# Ex 19: Heron's formula\n",
    "\n",
    "Triangle OAB, OA = x, OB = y, len(x) = a, len(y) = b and len(AB) = c. Let s = 1/2(a + b + c) - semi-perimeter\n",
    "\n",
    "Prove area A of OAB satisfies $A^2 = s(s-a)(s-b)(s-c)$\n",
    "\n",
    "Proof:\n",
    "\n",
    "a) Calculate x.y in terms of a,b,c\n",
    "\n",
    "|x-y|^2 = c^2 = |x|^2 + |y|^2 - 2x.y\n",
    "\n",
    "$x.y = 1/2(a^2 + b^2 - c^2)$\n",
    "\n",
    "b) Area\n",
    "\n",
    "$$\n",
    "\\begin{align}\n",
    "A^2 = \\frac{1}{4}(x \\times y)^2 &= \\frac{1}{4}(\\Vert x \\Vert^2\\Vert y \\Vert^2 - (x.y)^2) \\\\\n",
    "     &= \\frac{1}{4}(ab + \\frac{1}{2}(a^2 + b^2 - c^2))(ab - \\frac{1}{2}(a^2 + b^2 - c^2)) \\\\\n",
    "     &= \\frac{1}{16}(2ab + (a^2 + b^2 - c^2))(2ab - (a^2 + b^2 - c^2)) \\\\\n",
    "     &= \\frac{1}{16}((a + b)^2 - c^2)(c^2 - (a - b)^2 ) \\\\\n",
    "     &= \\frac{1}{16}(a + b + c)(a + b - c)(c + a - b)(c - a + b) \\\\\n",
    "     &= s(s-a)(s-b)(s-c)\n",
    "\n",
    "\\end{align}\n",
    "$$\n",
    "\n",
    "c) Let r be the inradius\n",
    "\n",
    "1/2r.(a + b + c) = area\n",
    "\n",
    "i.e. rs = sqrt(s(s-a)(s-b)(s-c))\n",
    "\n",
    "$r = \\frac{\\sqrt{s(s-a)(s-b)(s-c)}}{s} = \\sqrt{\\frac{(s-a)(s-b)(s-c)}{s}}$\n"
   ]
  }
 ],
 "metadata": {
  "kernelspec": {
   "display_name": ".venv",
   "language": "python",
   "name": "python3"
  },
  "language_info": {
   "codemirror_mode": {
    "name": "ipython",
    "version": 3
   },
   "file_extension": ".py",
   "mimetype": "text/x-python",
   "name": "python",
   "nbconvert_exporter": "python",
   "pygments_lexer": "ipython3",
   "version": "3.12.8"
  }
 },
 "nbformat": 4,
 "nbformat_minor": 2
}
