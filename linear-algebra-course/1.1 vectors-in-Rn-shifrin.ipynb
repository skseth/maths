{
 "cells": [
  {
   "cell_type": "markdown",
   "id": "16cc66ce",
   "metadata": {},
   "source": [
    "# Vectors in $R^n$\n",
    "\n",
    "A **vector** in $R^n$ is represented by a column matrix:\n",
    "\n",
    "$$\n",
    "    \\begin{align}\n",
    "    \\vec{x} &= \\begin{bmatrix}\n",
    "           x_1 \\\\\n",
    "           x_2 \\\\\n",
    "           \\vdots \\\\\n",
    "           x_n\n",
    "         \\end{bmatrix}\n",
    "  \\end{align}\n",
    "$$\n",
    "\n",
    "where $x_1, x_2, \\dots, x_n \\in R$\n",
    "\n",
    "**Zero Vector $\\vec{0}$** \n",
    "\n",
    "$$\n",
    "    \\begin{align}\n",
    "    \\vec{0} &= \\begin{bmatrix}\n",
    "           0 \\\\\n",
    "           0 \\\\\n",
    "           \\vdots \\\\\n",
    "           0\n",
    "         \\end{bmatrix}\n",
    "  \\end{align}\n",
    "$$\n",
    "\n",
    "**Length of a Vector**\n",
    "\n",
    "$\\Vert \\vec{x} \\Vert = \\sqrt{x_1^2 + x_2^2 + \\dots + x_n^2}$\n",
    "\n",
    "**Scalar Multiplication**\n",
    "\n",
    "Given a real number c, and vector $\\vec{x} = \\begin{bmatrix}x_1 \\\\ x_2 \\\\ \\dots \\\\ x_n \\end{bmatrix}$ then :\n",
    "\n",
    "$$c\\vec{x} = \\begin{bmatrix}c.x_1 \\\\ c.x_2 \\\\ \\dots \\\\ c.x_n \\end{bmatrix}$$\n",
    "\n",
    "This is a \"change of scale\".\n",
    "\n",
    "Two vectors are said to be **parallel** if one is a scalar multiple of the other. As a special case, the zero vector $\\vec{0}$ is parallel to all vectors.\n",
    "\n",
    "**Unit Vector**\n",
    "\n",
    "A vector with length of 1 is called a unit vector. For any vector $\\vec{x} \\ne \\vec{0}$, the unit vector in the direction of $\\vec{x}$\n",
    "\n",
    "$$\\frac{\\vec{x}}{\\Vert \\vec{x} \\Vert} = \\frac{1}{\\Vert \\vec{x} \\Vert} \\vec{x} $$\n",
    "\n",
    "**Vector Addition (and Subtraction)**\n",
    "\n",
    "Given vectors $\\vec{x} = \\begin{bmatrix}x_1 \\\\ x_2 \\\\ \\dots \\\\x_n\\end{bmatrix}$ and $\\vec{y} = \\begin{bmatrix}y_1 \\\\ y_2 \\\\ \\dots \\\\y_n\\end{bmatrix}$\n",
    "\n",
    "$$\n",
    "    \\begin{align}\n",
    "    \\vec{x} + \\vec{y} &= \\begin{bmatrix}\n",
    "           x_1 + y_1\\\\\n",
    "           x_2 + y_2\\\\\n",
    "           \\vdots \\\\\n",
    "           x_n + y_n\n",
    "         \\end{bmatrix}\n",
    "  \\end{align}\n",
    "$$\n",
    "\n",
    "$$\n",
    "    \\begin{align}\n",
    "    \\vec{x} - \\vec{y} &= \\begin{bmatrix}\n",
    "           x_1 - y_1\\\\\n",
    "           x_2 - y_2\\\\\n",
    "           \\vdots \\\\\n",
    "           x_n - y_n\n",
    "         \\end{bmatrix}\n",
    "  \\end{align}\n",
    "$$\n",
    "\n",
    "Notionally, one can visualizing the vector $\\vec{x} + \\vec{y}$ as the result of \"moving\" $\\vec{y}$ to the end of $\\vec{x}$, and drawing the vector \n",
    "\n",
    "Vector $\\vec{x} - \\vec{y}$ should be thought of as the vector to be added to $\\vec{y}$ to get $\\vec{x}$.\n",
    "\n"
   ]
  },
  {
   "cell_type": "markdown",
   "id": "7028ccf1",
   "metadata": {},
   "source": [
    "## Properties of Vector Algebra (Exercise 1.12)\n",
    "\n",
    "For all $\\vec{x}$, $\\vec{y}, \\vec{z}$ in $R^n$, and c,d in $R$:\n",
    "\n",
    "(a) $\\vec{x} + \\vec{y} = \\vec{y} + \\vec{x}$ \n",
    "\n",
    "(b) $\\vec{x} + (\\vec{y} + \\vec{z}) = (\\vec{x} + \\vec{y}) + \\vec{z}$ \n",
    "\n",
    "(c) $\\vec{0} + \\vec{x} = \\vec{x}$\n",
    "\n",
    "(d) For each $\\vec{x}$ there exists $\\vec{-x}$ s.t. $\\vec{x} + \\vec{-x} = \\vec{0}$\n",
    "\n",
    "(e) $c(d(\\vec{x})) = (cd) \\vec{x}$\n",
    "\n",
    "(f) $(c + d)(\\vec{x})) = c \\vec{x} + d \\vec{x}$\n",
    "\n",
    "(g) $c(\\vec{x} + \\vec{y})) = c (\\vec{x} + \\vec{y})$\n",
    "\n",
    "(h) $1\\vec{x} = \\vec{x}$\n",
    "\n",
    "**Prove (ex 1.13): $0\\vec{x} = \\vec{0}$**\n",
    "\n",
    "$0\\vec{x} = (0 + 0)\\vec{x} = 0\\vec{x} + 0 \\vec{x}$, using property (f)\n",
    "\n",
    "Using the additive inverse of $0\\vec{x}$, $-0\\vec{x}$ using property (d), and adding it to both sides, we get:\n",
    "\n",
    "$0 = (0\\vec{x} + 0 \\vec{x}) + -0\\vec{x}$, using property (f)\n",
    "\n",
    "Using property (b), we can rearrange the brackets:\n",
    "\n",
    "$0 = 0\\vec{x} + (0 \\vec{x} + -0\\vec{x})$, using property (f)\n",
    "\n",
    "Using property (d), we get:\n",
    "$0 = 0\\vec{x} + 0$, \n",
    "\n",
    "$0 = 0 + 0\\vec{x}$, using property (a)\n",
    "\n",
    "Hence,\n",
    "$0 = 0\\vec{x}$ using property (c)\n",
    "\n",
    "**Corollary: $(-1)\\vec{x} = \\vec{-x}$**\n",
    "\n",
    "$0\\vec{x} = 0$ => $(1 + -1)\\vec{x} = 0 => 1\\vec{x} + (-1)\\vec{x} = 0 => \\vec{x} + (-1)\\vec{x} = 0$\n",
    "\n",
    "Adding $\\vec{-x}$ on both sides:\n",
    "\n",
    "$\\vec{-x} + (\\vec{x} + (-1)\\vec{x}) = 0 + \\vec{-x}$\n",
    "\n",
    "$(\\vec{-x} + (\\vec{x}) + (-1)\\vec{x} = \\vec{-x}$\n",
    "\n",
    "$0 + (-1)\\vec{x} = \\vec{-x}$\n",
    "\n",
    "$(-1)\\vec{x} = \\vec{-x}$\n",
    "\n",
    "**Corollary: Additive inverse is unique**\n",
    "\n",
    "Let $\\vec{x} + \\vec{v} = 0$. Adding $-\\vec{x}$ to both sides\n",
    "\n",
    "$\\vec{-x} + \\vec{x} + \\vec{v} = -\\vec{x}$\n",
    "\n",
    "$\\vec{0} + \\vec{v} = -\\vec{x}$\n",
    "\n",
    "i.e. $\\vec{v} = -\\vec{x}$\n",
    "\n",
    "\n",
    "\n",
    "\n",
    "\n",
    "\n",
    "\n",
    "\n",
    "\n",
    "\n"
   ]
  },
  {
   "cell_type": "markdown",
   "id": "1f0d6a22",
   "metadata": {},
   "source": [
    "## Exercise 1.1"
   ]
  },
  {
   "cell_type": "code",
   "execution_count": 15,
   "id": "cf432aec",
   "metadata": {},
   "outputs": [
    {
     "data": {
      "text/latex": [
       "$\\displaystyle \\left[\\begin{matrix}2\\\\3\\end{matrix}\\right]$"
      ],
      "text/plain": [
       "Matrix([\n",
       "[2],\n",
       "[3]])"
      ]
     },
     "metadata": {},
     "output_type": "display_data"
    },
    {
     "data": {
      "text/latex": [
       "$\\displaystyle \\sqrt{13}$"
      ],
      "text/plain": [
       "sqrt(13)"
      ]
     },
     "metadata": {},
     "output_type": "display_data"
    },
    {
     "data": {
      "text/latex": [
       "$\\displaystyle \\left[\\begin{matrix}1\\\\\\frac{3}{2}\\end{matrix}\\right]$"
      ],
      "text/plain": [
       "Matrix([\n",
       "[  1],\n",
       "[3/2]])"
      ]
     },
     "metadata": {},
     "output_type": "display_data"
    },
    {
     "data": {
      "text/latex": [
       "$\\displaystyle \\left[\\begin{matrix}\\frac{2 \\sqrt{13}}{13}\\\\\\frac{3 \\sqrt{13}}{13}\\end{matrix}\\right]$"
      ],
      "text/plain": [
       "Matrix([\n",
       "[2*sqrt(13)/13],\n",
       "[3*sqrt(13)/13]])"
      ]
     },
     "metadata": {},
     "output_type": "display_data"
    },
    {
     "data": {
      "text/latex": [
       "$\\displaystyle \\left[\\begin{matrix}1\\\\4\\end{matrix}\\right]$"
      ],
      "text/plain": [
       "Matrix([\n",
       "[1],\n",
       "[4]])"
      ]
     },
     "metadata": {},
     "output_type": "display_data"
    },
    {
     "data": {
      "text/latex": [
       "$\\displaystyle \\left[\\begin{matrix}\\frac{1}{2}\\\\2\\end{matrix}\\right]$"
      ],
      "text/plain": [
       "Matrix([\n",
       "[1/2],\n",
       "[  2]])"
      ]
     },
     "metadata": {},
     "output_type": "display_data"
    }
   ],
   "source": [
    "# Exercise 1.1-1 \n",
    "\n",
    "import sympy as s\n",
    "\n",
    "x = s.Matrix([2,3])\n",
    "y = s.Matrix([-1,1])\n",
    "\n",
    "\n",
    "display(x, x.norm(), x/2, x/x.norm())\n",
    "\n",
    "display(x + y, s.Rational(1,2)*(x + y))\n",
    "\n"
   ]
  },
  {
   "cell_type": "code",
   "execution_count": 8,
   "id": "f1f82e22",
   "metadata": {},
   "outputs": [
    {
     "name": "stdout",
     "output_type": "stream",
     "text": [
      "[ 2 -1  3] 3.0 3.0 3.7416573867739413 3.7416573867739413\n",
      "[ 0  5 -1] 4.58257569495584 4.58257569495584 3.7416573867739413 3.7416573867739413\n",
      "[4 3 7] 3.0 3.0 4.58257569495584 4.58257569495584\n"
     ]
    }
   ],
   "source": [
    "import numpy as np\n",
    "from numpy.linalg import norm\n",
    "\n",
    "import numpy as np\n",
    "\n",
    "# These 3 points are given\n",
    "u = np.array([1,2,1])\n",
    "v = np.array([2,4,3])\n",
    "w = np.array([3,1,5])\n",
    "\n",
    "# we have to find all possible points for forming a parallelogram. Here is one example, using the diagonal uw:\n",
    "\n",
    "p = u + (w - v)\n",
    "\n",
    "print(p, norm(u-v), norm(p-w), norm(w-v), norm(p-u))\n",
    "\n",
    "\n",
    "# diagonal uv\n",
    "q = u + (v - w)\n",
    "print(q, norm(u-w), norm(q-v), norm(v-w), norm(q-u))\n",
    "\n",
    "# diagonal vw\n",
    "r = v + (w - u)\n",
    "print(r, norm(v-u), norm(r-w), norm(w-u), norm(r-v))\n",
    "\n"
   ]
  },
  {
   "cell_type": "markdown",
   "id": "128741f1",
   "metadata": {},
   "source": [
    "# Ex. 1.3 Polygon Vertices\n",
    "\n",
    "Origin is at center of a regular polygon of n sides.\n",
    "\n",
    "a) Sum of vectors to each vertex = 2 \n",
    "\n",
    "The simplest answer is to say: the angle between the vectors from the center to each vertex is $2\\pi/n$ and all vectors are the same length. Starting with one vector, if we move the next vector to its head, we have an exterior angle of $2\\pi/n$ which implies the sum of all the vectors angles adds up to 2 pi, forming a regular polygon i.e. ending back at the tail of the first vector. So the sum of the vectors from center to the vertices is zero.\n",
    "\n",
    "b) Sum of vectors from one vertex to the others:\n",
    "\n",
    "Number the vertices 1,2,...n, and let the vertex 1 be the one from which vectors $v_1, v_2, v_3, v_n$ are drawn (v_1 = 0). Let O be the center, and the vector from O to vertex i be called $\\vec{p_i}$.\n",
    "\n",
    "Then : $\\vec{v_i} = \\vec{p_i} - \\vec{p_1}$\n",
    "\n",
    "Summing, we get $Sum = (\\text{sum of vectors from origin}) -n \\vec{p_1} = \\vec{0} - n \\vec{p_1} = -n \\vec{p_1}$\n",
    "\n"
   ]
  },
  {
   "cell_type": "markdown",
   "id": "63839d6a",
   "metadata": {},
   "source": [
    "# Ex. 1.4 /1.5 Triangle, Quadrilateral - line joining midpoints\n",
    "\n",
    "Given triangle ABC, let M and N be the midpoints of AB and AC, respectively. Prove $\\vec{MN} = 1/2\\vec{BC}$\n",
    "\n",
    "Proof: \n",
    "\n",
    "Let AB = $\\vec{x}$, AC = $\\vec{y}$, and BC = $\\vec{y} - \\vec{x}$.\n",
    "\n",
    "Hence : AM = $1/2\\vec{x}$, AN = $1/2\\vec{y}$ and $\\vec{MN} = 1/2\\vec{y} - 1/2 \\vec{x} = 1/2\\vec{BC}$\n",
    "\n",
    "\n",
    "Given a quadrilateral ABCD, the lines joining the midpoints form a parallelogram. Let M,N,O,P be midpoints of AB, BC, CD, DA respectively.\n",
    "\n",
    "This follows because :\n",
    "\n",
    "AC splits the quadrilateral into two triangles : ABC abd ADC, with a common base AC. Then $\\vec{MN} = 1/2 \\vec{AC} = 1/2 \\vec{PO}$\n",
    "\n",
    "And similarly, we get $\\vec{NO} = 1/2 \\vec{BD} = \\vec{MP}$\n"
   ]
  },
  {
   "cell_type": "markdown",
   "id": "c0d7993c",
   "metadata": {},
   "source": [
    "# Ex 1.6 \n",
    "\n",
    "Let ABC be a triangle, with points D, E such that : len(AD) = 2/3 len(AB), and len(CE) = 2/5 len(CB).  If Q, is the intersection of CD and AE,  find the ratio len(AQ)/len(AE).\n",
    "\n",
    "Let AB = u, and AC = v.\n",
    "\n",
    "AE = v + 2/5 (u-v) = 3/5 v + 2/5 u.\n",
    "AQ = cAE = c(3/5v + 2/5 u) = c3/5v + c2/5u\n",
    "\n",
    "But also, AQ = AC + sCD = v + s(2/3u - v) = 2/3su + (1-s)v\n",
    "\n",
    "Hence, s2/3 = c2/5 i.e. s = 3/5c\n",
    "\n",
    "also, c3/5 = 1-s = 1-3/5c. Hence c = 5/6 and s = 1/2 i.e. Q is midpoint of CD.\n",
    "\n",
    "We can also do this by **mass-points**:\n",
    "\n",
    "Let A = 1, then B = 2, and C = 3. Weight at E = 5. AQ:QE = 5:1 i.e. AQ/AE = 5:6\n",
    "\n",
    "Also, weight at D = 3 = weight at C => Q is midpoint of CD."
   ]
  },
  {
   "cell_type": "markdown",
   "id": "1b90193f",
   "metadata": {},
   "source": [
    "# Ex 1.8 - Centroid of a triangle\n",
    "\n",
    "Let x,y,z represent points of a triangle, the midpoints are 1/2(x + y) and 1/2(x + z).\n",
    "\n",
    "c = y + s(1/2(x + z) - y) = s/2x + (1-s)y + s/2z\n",
    "d = t/2x + t/2y + (1-t)z\n",
    "\n",
    "equating: \n",
    "t/2 = 1-s i.e s = 1-t/2\n",
    "Also t = s\n",
    "s = 1-s/2 or 3s/2 = 1 or s = 2/3 = t.\n",
    "\n",
    "c = 1/3(x + y + z)\n"
   ]
  },
  {
   "cell_type": "markdown",
   "id": "be8fd93e",
   "metadata": {},
   "source": [
    "# Ex 1.9 - Points on a line, and in a Triangle\n",
    "\n",
    "$\\vec{u}$ and $\\vec{v}$ are two vectors.\n",
    "\n",
    "$\\vec{x} = s\\vec{u} + t\\vec{v}$, s + t = 1, \n",
    "\n",
    "Then,\n",
    "\n",
    "$\\vec{x} = \\vec{v} + s({\\vec{u} - \\vec{v}})$\n",
    "\n",
    "Thus, x is a **point on the line from v to u**. \n",
    "s = 0 => x = v\n",
    "s = 1 => x = u\n",
    "s < 0 => point away from v, opp to side of u\n",
    "s > 1 => point away from u, opp to side of v\n",
    "\n",
    "what happens if 0 < s + t < 1, both s and t positive? In fact, think of s & t as coordinates given axes u & v. \n",
    "Then if s and t are positive, these are points between vectors u and v. In addition, if s + t < 1, these are within the triangle formed by u and v.\n",
    "if s + t > 1, these are outside the triangle. Similarly we can conclude about other combinations of s and t.\n",
    "\n",
    "\n",
    "Similarly, let $\\vec{u}, \\vec{v} and \\vec{w}$ be three vectors.\n",
    "\n",
    "\n",
    "$\\vec{x} = r\\vec{u} + s\\vec{v} + t\\vec{w}$, r + s + t = 1.\n",
    "\n",
    "Then:\n",
    "\n",
    "$\\vec{x} = \\vec{u} + s(\\vec{v} - \\vec{u}) + t(\\vec{w} - \\vec{u})$, \n",
    "\n",
    "Note that s+t = 1 represents a point on the line joining head of v and w just like above. And in fact, taking u as the origin,\n",
    "s and t act like coordinates along the vectors (v - u) and (w-u) - thus we have 0 < s + t < 1 inside the triangle, s > 0, t > 0.\n",
    "But then, r = 1 - s - t > 0, i.e. inside the triangle, r,s and t are all greater than zero.\n",
    "\n",
    "\n",
    "\n",
    "\n",
    "\n",
    "\n",
    "\n",
    "\n"
   ]
  },
  {
   "cell_type": "markdown",
   "id": "e3beeecb",
   "metadata": {},
   "source": [
    "# Ex 1.10 - Linear combination rules\n",
    "\n",
    "If $\\vec{x}$ and $\\vec{y}$ are non-parallel vectors.\n",
    "\n",
    "**Prove: $s\\vec{x} + t \\vec{y} = 0$ => s,t = 0.**\n",
    "\n",
    "Note that x, y are not zero (as zero is parallel to every vector). \n",
    "\n",
    "Assume s and t and non-zero.\n",
    "\n",
    "But then: $\\vec{x} = -(t/s)\\vec{y}$ which implies the vectors are parallel, a contradiction.\n",
    "\n",
    "**Prove: $a\\vec{x} + b \\vec{y} = c\\vec{x} + d \\vec{y}$ => a = c, b = d**\n",
    "\n",
    "Subtracting, we get \n",
    "$(a-c)\\vec{x} + (b-d)\\vec{y} = 0$\n",
    "\n",
    "From the first result, it follows that a-c = 0, b-d = 0.\n",
    "\n"
   ]
  },
  {
   "cell_type": "markdown",
   "id": "f645456f-4f52-4a17-83db-d345b6364c0d",
   "metadata": {},
   "source": [
    "# Vectors and linear combinations - GS 1.1\n",
    "\n",
    "A **vector** is represented by a column matrix:\n",
    "\n",
    "$\n",
    "  \\begin{align}\n",
    "    v &= \\begin{bmatrix}\n",
    "           1 \\\\\n",
    "           2 \\\\\n",
    "           \\vdots \\\\\n",
    "           3\n",
    "         \\end{bmatrix}\n",
    "  \\end{align}\n",
    "$\n",
    "\n",
    "\n",
    "A **linear combination** of vectors combines scalar multiplication of vectors + addition of vectors to create a new vector\n",
    "\n",
    "$\n",
    "  \\begin{align}\n",
    "    2 \\begin{bmatrix} 4 \\\\ 1  \\end{bmatrix} + \n",
    "    3 \\begin{bmatrix} 2 \\\\ -1 \\end{bmatrix} = \n",
    "    \\begin{bmatrix} 14 \\\\ -1 \\end{bmatrix}\n",
    "  \\end{align}\n",
    "$\n",
    "\n",
    "\n",
    "A **matrix** is a collection of column vectors, and matrices with the right shapes can be multiplied. In general an **m by n** matrix has m rows with n columns. \n",
    "\n",
    "\n",
    "$\n",
    "\\begin{equation}\n",
    "\\left[ \\begin{array}{rrrr} 4 & 2 \\\\ 1 & -1 \\end{array}\\right] \\text{ ... a 2x2 matrix with 2 column vectors}\n",
    "\\end{equation}\n",
    "$\n",
    "\n",
    "The linear combination above can be expressed (using matrix multiplication) as:\n",
    "\n",
    "$\n",
    "\\begin{equation}\n",
    "\\left[ \\begin{array}{rrrr} 4 & 2 \\\\ 1 & -1 \\end{array}\\right] \\left[ \\begin{array}{rrrr} 2 \\\\ 3 \\end{array}\\right] = \\left[ \\begin{array}{rrrr} 14 \\\\ -1 \\end{array}\\right]\n",
    "\\end{equation}\n",
    "$\n",
    "\n",
    "\n",
    "A set of vectors are **linearly independent** if no one vector can be expressed as a linear combination of any of the others. \n",
    "\n",
    "The **identity matrix** leaves any vector unchanged on multiplication:\n",
    "\n",
    "$\n",
    "  \\begin{align}\n",
    "     \\begin{bmatrix} 1 & 0 & 0 \\\\ 0 & 1 & 0 \\\\ 0 & 0 & 1 \\end{bmatrix} v = v\n",
    "  \\end{align}\n",
    "$\n"
   ]
  },
  {
   "cell_type": "markdown",
   "id": "bf8f5266-4c4c-4b4f-afdf-239d577211d7",
   "metadata": {},
   "source": [
    "## Problem Set GS1.1"
   ]
  },
  {
   "cell_type": "code",
   "execution_count": 4,
   "id": "3938d468-387e-42e5-ab4e-0c14ddec96f9",
   "metadata": {},
   "outputs": [
    {
     "name": "stdout",
     "output_type": "stream",
     "text": [
      "[[ 6]\n",
      " [-1]] \n",
      "\n",
      "[[8]\n",
      " [2]]\n"
     ]
    }
   ],
   "source": [
    "\n",
    "# (3.4)\n",
    "\n",
    "import numpy as np\n",
    "\n",
    "v = np.array([4,1]).reshape(2,1)\n",
    "w = np.array([-2, 2]).reshape(2,1)\n",
    "\n",
    "print(v - w, '\\n')\n",
    "print(2*v)"
   ]
  },
  {
   "cell_type": "markdown",
   "id": "080a17b3-0932-48a0-8852-b65d52ea0081",
   "metadata": {},
   "source": [
    "## Problems: Linear Combinations of Vectors & Geometry (GS1.1. 18-23)\n",
    "\n",
    "18. What is : cv + dw, where c + d = 1: This is on the diagonal joining the tips of v and w. When c/d are positive this is within the parallelogram. But -v + 2w is beyond tip of w, and 2v - w is beyond tip of v.\n",
    "\n",
    "19. if 0 <= c <= 1, and 0 <= d <= 1, then 0 <= c+d <= 2. We know c+d=2 (u + w) is the far end of the parallelogram, and c+d = 0 is the origin, c+d =1 is in the middle. So all these points are within the parallelogram.\n",
    "\n",
    "If 0 <= c, and 0 <= d is the \"cone\" between v and w extended to the whole plane.\n",
    "\n",
    "20. Given 3 vectors u,v,w the tips of the vectors form a triangle (usually). 1/2 u + 1/2v is the midpoint of the side joining u and v. 1/3 u + 1/3 v + 1/3 w is the centroid of the triangle, within the triangle.\n",
    "\n",
    "given cu + dv + ew, what are the conditions on c,d,e for points within the triangle? And: c + d + e = 1 and c,d,e >= 0. \n",
    "\n",
    "21. Given 3 vectors u,v,w, the vectors v-u, u-w, w-v correspond to the triangle formed by the 3 vectors. The sum of these vectors is the zero vector, i.e. they are not linearly independent - they are in the same plane.\n",
    "\n",
    "22. For 20: if c + d + e <= 1, and c,d,e >=0, this is the pyramid between the origin and the triangle. if c+d+e >= 1, these are points beyond the triangle.\n"
   ]
  },
  {
   "cell_type": "markdown",
   "id": "4a1ab18f-ba07-4808-816a-33dbe89b16bb",
   "metadata": {},
   "source": [
    "# Lengths and Angles From Dot Product\n",
    "\n",
    "\n",
    "\n"
   ]
  },
  {
   "cell_type": "markdown",
   "id": "ce97bf70-5924-4a88-bccc-89342fc5596c",
   "metadata": {},
   "source": [
    "\n",
    "Let v and w be two vectors:\n",
    "\n",
    "\n",
    "$\n",
    "  \\begin{align}\n",
    "    \\vec{v} &= \\begin{bmatrix}\n",
    "           v_1 \\\\\n",
    "           v_2 \n",
    "         \\end{bmatrix}\n",
    "  \\end{align}\n",
    "$\n",
    "\n",
    "\n",
    "$\n",
    "  \\begin{align}\n",
    "    \\vec{w} &= \\begin{bmatrix}\n",
    "           w_1 \\\\\n",
    "           w_2 \n",
    "         \\end{bmatrix}\n",
    "  \\end{align}\n",
    "$\n",
    "\n",
    "\n",
    "The **dot product** of the two vectors: $\\vec{v} \\cdot \\vec{w} = v_1 w_1 + v_2 w_2$\n",
    "\n",
    "The **length or norm of vector** of the two vectors: $\\Vert \\vec{v} \\Vert = \\sqrt{\\vec{v} \\cdot \\vec{v}}$\n",
    "\n",
    "The **angle** between vectors: $\\cos{\\theta} = \\frac{\\displaystyle \\vec{v} \\cdot \\vec{w}}{\\displaystyle \\Vert \\vec{v} \\Vert \\Vert \\vec{w} \\Vert}$\n",
    "\n",
    "**Schwarz Inequality**\n",
    "\n",
    "Follows from cosine definition also:\n",
    "\n",
    "$| \\vec{v} \\cdot \\vec{w} |  \\le \\Vert \\vec{v} \\Vert \\Vert \\vec{w} \\Vert$\n",
    "\n",
    "\n",
    "**Triangle Inequality**\n",
    "\n",
    "$ \\Vert \\vec{v} + \\vec{w} \\Vert  \\le \\Vert \\vec{v} \\Vert + \\Vert \\vec{w} \\Vert$\n",
    "\n",
    "\n",
    "A **unit vector** has length = 1.\n",
    "\n",
    "$ \\Vert \\vec{u} \\Vert  = 1$\n",
    "\n",
    "$ \\vec{u} = \\frac{\\displaystyle v}{\\displaystyle \\Vert \\vec{v} \\Vert}$\n",
    "\n",
    "\n"
   ]
  },
  {
   "cell_type": "code",
   "execution_count": 2,
   "id": "70a39c62-e744-4e02-9658-e8e55fb82286",
   "metadata": {},
   "outputs": [],
   "source": [
    "import numpy as np\n",
    "import math\n",
    "\n",
    "def norm(v):\n",
    "    return math.sqrt(np.dot(v,v))\n",
    "\n",
    "def costheta(v1, v2):\n",
    "    return np.dot(v1, v2) / (norm(v1)*norm(v2))\n",
    "\n",
    "def theta(v1, v2):\n",
    "    return math.degrees(math.acos(costheta(v1,v2)))\n"
   ]
  },
  {
   "cell_type": "markdown",
   "id": "bb802413-3861-48a7-ac83-a55826d9979e",
   "metadata": {},
   "source": [
    "\n"
   ]
  },
  {
   "cell_type": "code",
   "execution_count": 21,
   "id": "cd073039-e404-4082-bffc-b5e00b1ebcce",
   "metadata": {},
   "outputs": [
    {
     "name": "stdout",
     "output_type": "stream",
     "text": [
      "0.0\n",
      "1.0\n",
      "1.0000000000000002\n",
      "10.0\n"
     ]
    }
   ],
   "source": [
    "# Problem set 1.2\n",
    "\n",
    "## 1\n",
    "\n",
    "import numpy as np\n",
    "u = np.array([-.6, .8])\n",
    "v = np.array([4.0,3.0])\n",
    "w = np.array([1,2])\n",
    "\n",
    "print(round(np.dot(u,v), 10))\n",
    "print(np.dot(u,w))\n",
    "print(np.dot(u, v+w))\n",
    "print(np.dot(w,v))\n",
    "\n"
   ]
  },
  {
   "cell_type": "markdown",
   "id": "fd88192f-3e8a-4d19-937d-6a069d301185",
   "metadata": {},
   "source": [
    "5. Find all vectors (w1, w2) perpendicular to v = (2, -1)\n",
    "\n",
    "2w1 - w2 = 0\n",
    "\n",
    "w1 = 1/2 w2\n",
    "\n",
    "e.g. (1, 2), (2, 4) etc."
   ]
  },
  {
   "cell_type": "markdown",
   "id": "72bcdb19-87af-4dea-92a8-df1309bff59d",
   "metadata": {},
   "source": [
    "6.(b) : All vectors perp to (1,1,1) lie in a plane : Let (x,y,z) represent a perp vector. Then x + y + z = 0 for all these vectors. \n",
    "Note that (0,0,0) lies in the plane x + y + z = 0, and of course the point (x,y,z) does also for any vector (x,y,z). \n",
    "Thus the entire vector lies in the plane.\n",
    "\n",
    "6.(c) : All vectors perp to (1,1,1) and (1,2,3) lie in a single line: Let (x,y,z) rep such a vector. Then x + y + z = 0, and x + 2y + 3z = 0.\n",
    "\n",
    "Equation of line: y = 2z, x = z, 2x = 2z. 2x = y = 2z or x/1 = y/2 = z/1 is the equation of the line.\n",
    "\n"
   ]
  },
  {
   "cell_type": "code",
   "execution_count": 12,
   "id": "fe62cd24-50cd-4bbe-bba3-7ab9fc67a513",
   "metadata": {},
   "outputs": [
    {
     "name": "stdout",
     "output_type": "stream",
     "text": [
      "63.612200038757\n",
      "60.0\n",
      "135.0\n"
     ]
    }
   ],
   "source": [
    "# 7.b,c,d\n",
    "\n",
    "print(theta([2,2,1], [2,-1,2]))\n",
    "print(round(theta([1, math.sqrt(3)], [-1, math.sqrt(3)]), 10))\n",
    "print(theta([3,1], [-1,-2]))\n"
   ]
  },
  {
   "cell_type": "markdown",
   "id": "0ac2a023-a675-4511-937d-4da08a5d1773",
   "metadata": {},
   "source": [
    "11. Given a vector v in 3d space, find all vectors w where v.w is less than zero:\n",
    "\n",
    "Ans: one-half of 3d space forms vectors w such that v.w is less than zero. "
   ]
  },
  {
   "cell_type": "markdown",
   "id": "e6894744-d23a-422b-bf82-70a5d849eb38",
   "metadata": {},
   "source": [
    "12. With v = (1,1) and w = (1, 5) choose a number ¢ so that w — cv is perpendicular to v. Then find the formula for c starting from any nonzero v and w.\n",
    "\n",
    "w - cv = (1-c, 5-c)\n",
    "\n",
    "v.(w -cv) = 1-c + 5 -c = 0 => c = 3.\n",
    "\n",
    "In generate v - (v1, v2), w = (w1,w2)\n",
    "\n",
    "w - cv = w1-cv1, w2-cv2\n",
    "\n",
    "v.(w-cv) = v1.(w1-cv1) + v2.(w2-cv2) = v.w - c(v1^2 + v2^2) = 0\n",
    "c = v.w/v.v\n",
    "\n"
   ]
  },
  {
   "cell_type": "markdown",
   "id": "39f8a1d1-e580-4aa7-99b3-f33c5c41ff5b",
   "metadata": {},
   "source": [
    "13. Non-zero vectors u,v,w perpendicular to (1,1,1,1) and each other.\n",
    "\n",
    "(1,1,-1,-1) \n",
    "\n",
    "(1,-1,1,-1) \n",
    "\n",
    "(1,-1,-1,1) \n",
    "\n"
   ]
  },
  {
   "cell_type": "code",
   "execution_count": 16,
   "id": "7945269e-159d-432b-84c5-c17271fdf635",
   "metadata": {},
   "outputs": [
    {
     "name": "stdout",
     "output_type": "stream",
     "text": [
      "0.9999999999999998\n"
     ]
    }
   ],
   "source": [
    "# 16.\n",
    "\n",
    "a = costheta([1,0,-1],[1,0,0])\n",
    "b = costheta([1,0,-1],[0,1,0])\n",
    "c = costheta([1,0,-1],[0,0,1])\n",
    "\n",
    "print(a*a + b*b + c*c)"
   ]
  },
  {
   "cell_type": "code",
   "execution_count": null,
   "id": "693cf3c4-1cab-423a-9922-8aaabad245d3",
   "metadata": {},
   "outputs": [],
   "source": []
  }
 ],
 "metadata": {
  "kernelspec": {
   "display_name": ".venv",
   "language": "python",
   "name": "python3"
  },
  "language_info": {
   "codemirror_mode": {
    "name": "ipython",
    "version": 3
   },
   "file_extension": ".py",
   "mimetype": "text/x-python",
   "name": "python",
   "nbconvert_exporter": "python",
   "pygments_lexer": "ipython3",
   "version": "3.12.8"
  }
 },
 "nbformat": 4,
 "nbformat_minor": 5
}
