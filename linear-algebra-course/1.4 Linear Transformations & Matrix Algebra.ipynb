{
 "cells": [
  {
   "cell_type": "markdown",
   "metadata": {},
   "source": [
    "# Linear Transformations\n",
    "\n",
    "\n",
    "The link of linear algebra with differentiation is that we view differentation as the way to get the best linear approximation to a function at a given point.\n",
    "\n",
    "Definition: A **linear transformation** or a **linear map** is a function \n",
    "\n",
    "$T: R^n \\to R^m$ if it meets the following condition\n",
    "\n",
    "- $T(\\vec{v} + \\vec{w}) = T(\\vec{v}) + T(\\vec{w})$\n",
    "- $T(c\\vec{v}) = cT(\\vec{v})$\n",
    "\n",
    "\n",
    "**Proposition: A linear map is identified entirely by it's values at the standard bases vectors of $R^n$.**\n",
    "\n",
    "Let $\\vec{x} = c_1\\vec{e_1} + c_2\\vec{e_2} + \\dots + c_n\\vec{e_n}$\n",
    "\n",
    "Then, we see that $T(\\vec{x}) = c_1T(\\vec{e_1}) + c_2T(\\vec{e_2}) + \\dots + c_nT(\\vec{e_n})$\n",
    "\n",
    "## Matrix for a Transformation\n",
    "\n",
    "We can see that $T(e_j) = \\begin{bmatrix} a_1j \\\\ a_2j \\\\ \\dots \\\\ a_nj \\end{bmatrix} \\in R^n$\n",
    "\n",
    "We can then associate a **matrix** with T, called the **standard matrix of T**\n",
    "\n",
    "$$\n",
    "\\begin{align}\n",
    "\n",
    "[T] = \\begin{bmatrix} a_{11} & a_{12} & \\dots & a_{1n} \\\\ a_{21} & a_{22} & \\dots & a_{2n} \\\\ \\dots \\\\ a_{m1} & a_{m2} & \\dots & a_{mn}\\end{bmatrix}\n",
    "\n",
    "\\end{align}\n",
    "$$\n",
    "\n",
    "Here $T(\\vec{e_j})$ forms the jth column of this matrix."
   ]
  },
  {
   "cell_type": "markdown",
   "metadata": {},
   "source": [
    "# Examples of Linear Maps\n",
    "\n",
    "## Dot Product: $T:R^n \\to R$ : $T(\\vec{x}) = \\vec{a} \\cdot \\vec{x}$\n",
    "\n",
    "$\\vec{a} = \\begin{bmatrix}a_1 \\\\ a_2 \\\\ \\dots \\\\ a_n\\end{bmatrix}$, $[T] = \\begin{bmatrix}a_1 & a_2 & \\dots & a_n\\end{bmatrix}$\n",
    "\n",
    "## Rotation by $\\pi/2$: $T(\\vec{x}) : R^2 \\to R^2$ : $T(\\vec{x}) = \\rho(\\vec{x})$\n",
    "\n",
    "$[T] = \\begin{bmatrix} 0 & -1 \\\\ 1 & 0\\end{bmatrix}$\n",
    "\n",
    "$T({\\begin{bmatrix} x_1 \\\\ x_2\\end{bmatrix}}) = \\begin{bmatrix} -x_2 \\\\ x_1\\end{bmatrix}$\n",
    "\n",
    "## Rotation by $\\theta$: $T(\\vec{x}) : R^2 \\to R^2$ \n",
    "\n",
    "$A_{\\theta} = [T] = \\begin{bmatrix} \\cos{\\theta} & -sin{\\theta} \\\\ sin{\\theta} & \\cos{\\theta} \\end{bmatrix}$\n",
    "\n",
    "\n",
    "## Reflection along $x_2 = x_1$: $T(\\vec{x}) : R^2 \\to R^2$ \n",
    "\n",
    "$[T] = \\begin{bmatrix} 0 & 1 \\\\ 1 & 0\\end{bmatrix}$\n",
    "\n",
    "$T({\\begin{bmatrix} x_1 \\\\ x_2\\end{bmatrix}}) = \\begin{bmatrix} x_2 \\\\ x_1\\end{bmatrix}$\n",
    "\n",
    "## Projection along a line $x_2 = mx_1$: $T(\\vec{x}) : R^2 \\to R^2$ \n",
    "\n",
    "Take vector $\\vec{p} = \\begin{bmatrix} 1 \\\\ m\\end{bmatrix}$ along the line.\n",
    "\n",
    "Then $proj_p \\begin{bmatrix} x_1 \\\\ x_2\\end{bmatrix} = \\frac{x + my}{1 + m^2}\\begin{bmatrix} 1 \\\\ m\\end{bmatrix}$\n",
    "\n",
    "$[T] = \\begin{bmatrix} \\frac{1}{1 + m^2} & \\frac{m}{1 + m^2} \\\\ \\frac{m}{1 + m^2} & \\frac{m^2}{1 + m^2}\\end{bmatrix}$\n",
    "\n",
    "## Reflection along a line $x_2 = mx_1$: $T(\\vec{x}) : R^2 \\to R^2$ \n",
    "\n",
    "Continuing from previous:\n",
    "\n",
    "$perp_p \\begin{bmatrix} x_1 \\\\ x_2\\end{bmatrix} = \\begin{bmatrix} x_1 \\\\ x_2 \\end{bmatrix} - proj_p \\begin{bmatrix} x_1 \\\\ x_2\\end{bmatrix}$\n",
    "\n",
    "$$\n",
    "\\begin{align}\n",
    "T(\\begin{bmatrix} x_1 \\\\ x_2 \\end{bmatrix}) &= proj_p \\begin{bmatrix} x_1 \\\\ x_2 \\end{bmatrix} - perp_p \\begin{bmatrix} x_1 \\\\ x_2 \\end{bmatrix} \\\\\n",
    "                &= 2 proj_p \\begin{bmatrix} x_1 \\\\ x_2 \\end{bmatrix} - \\begin{bmatrix} x_1 \\\\ x_2 \\end{bmatrix} \\\\\n",
    "                &= \\begin{bmatrix} \\frac{2x + 2my}{1+m^2} - x \\\\ \\frac{2mx + 2m^2y}{1 + m^2} \\end{bmatrix}\n",
    "\\end{align}\n",
    "$$\n",
    "\n",
    "$[T] = \\begin{bmatrix} \\frac{1-m^2}{1 + m^2} & \\frac{2m}{1 + m^2} \\\\ \\frac{2m}{1 + m^2} & -\\frac{1 - m^2}{1 + m^2}\\end{bmatrix}$\n",
    "\n",
    "\n",
    "## Shearing : $T(\\vec{x}) : R^2 \\to R^2$ \n",
    "\n",
    "$[T] = \\begin{bmatrix} 1 & c \\\\ 0 & 1\\end{bmatrix}$\n",
    "\n",
    "$T({\\begin{bmatrix} x_1 \\\\ x_2\\end{bmatrix}}) = \\begin{bmatrix} x_1 + cx_2 \\\\ x_2\\end{bmatrix}$\n",
    "\n",
    "## Reflection across plane $x_3 = 0$: $T(\\vec{x}) : R^3 \\to R^3$ \n",
    "\n",
    "$[T] = \\begin{bmatrix} 1 & 0 & 0 \\\\ 0 & 1 & 0 \\\\ 0 & 0 & -1\\end{bmatrix}$\n",
    "\n"
   ]
  },
  {
   "cell_type": "markdown",
   "metadata": {},
   "source": [
    "# Algebra of Linear Functions"
   ]
  },
  {
   "cell_type": "markdown",
   "metadata": {},
   "source": [
    "Let $M_{m \\times n}$ be set of all $m \\times n$ matrices.\n",
    "\n",
    "The zero matrix $O$ in $M_{m \\times n}$ is the matrix with all entries being zero. \n",
    "\n",
    "We can define *scalar multiplication* and *addition* of matrices based on the corresponding linear function definitions.\n",
    "\n",
    "Let $A \\in M_{m \\times n}$. Let $a_{ij}$ be the element in the matrix A in the ith row and jth column.\n",
    "\n",
    "Then, given a scalar c, we define $B = cA$ as the matrix in $M_{m \\times n}$ where $b_{ij} = c a_{ij}$\n",
    "\n",
    "Also, given  $A \\in M_{m \\times n}$ and  $B \\in M_{m \\times n}$:\n",
    "\n",
    "we define $C = A + B$ as the matrix in $M_{m \\times n}$ where $c_{ij} = a_{ij} + b_{ij}$\n",
    "\n",
    "## Properties of matrices in $M_{m \\times n}$\n",
    "\n",
    "Let A,B,C $\\in M_{m \\times n}$ and c,d $\\in R$\n",
    "\n",
    "### Addition Rules\n",
    "\n",
    "Commutative: A + B = B + A\n",
    "\n",
    "Distributive: A + (B + C) = (A + B) + C\n",
    "\n",
    "Additive Identity: 0 + A = A \n",
    "\n",
    "Additive Inverse: There is a matrix -A such that A + (-A) = 0\n",
    "\n",
    "Note that A is unique: If X + A = A, the X + (A + -A) = (A + -A) i.e. X = 0.\n",
    "\n",
    "### Scalar Multiplication Rules\n",
    "\n",
    "c(dA) = (cd)A\n",
    "\n",
    "c(A + B) = cA + cB\n",
    "\n",
    "(c + d)A = cA + dA\n",
    "\n",
    "1A = A\n",
    "\n"
   ]
  },
  {
   "cell_type": "markdown",
   "metadata": {},
   "source": [
    "# Linear Maps Composition & Matrix Multiplication\n",
    "\n",
    "## Row and Column Vectors\n",
    "\n",
    "Given an $m \\times n$ matrix A, we can define column vectors of matrix A:\n",
    "\n",
    "$\\vec{a_j} = \\begin{bmatrix} a_{1j} \\\\ a_{2j} \\\\ \\dots \\\\ a_{mj} \\end{bmatrix}$, j = 1 to n.\n",
    "\n",
    "And row vectors of matrix A:\n",
    "\n",
    "$\\vec{A_i} = \\begin{bmatrix} a_{i1} \\\\ a_{i2} \\\\ \\dots \\\\ a_{in} \\end{bmatrix}$, i = 1 to m.\n",
    "\n",
    "\n",
    "## Multiplying Matrix by a vector\n",
    "\n",
    "Given $\\vec{x} = \\begin{bmatrix} x_1 \\\\ x_2 \\\\ \\dots \\\\ x_n \\end{bmatrix}$ in $R^n$, \n",
    "\n",
    "we can represent $\\vec{x}$ we can define the product as a linear combination of column vectors:\n",
    "\n",
    "$$\n",
    "\\begin{align}\n",
    "A\\vec{x} &= T(\\vec{x}) \\\\\n",
    "         &= x_1T(\\vec{e_1}) + x_2T(\\vec{e_2}) + \\dots + x_nT(\\vec{e_n}) \\\\\n",
    "         &= x_1\\vec{a_1} + x_2\\vec{a_2} + \\dots + x_n\\vec{a_n} \\\\\n",
    "\\end{align}\n",
    "$$\n",
    "\n",
    "However, we can also represent this in terms of row vectors :\n",
    "\n",
    "$$\n",
    "\\begin{align}\n",
    "A\\vec{x} = \\begin{bmatrix} \\vec{A_1} \\cdot \\vec{x} \\\\ \\vec{A_2} \\cdot \\vec{x} \\\\ \\dots \\\\ \\vec{A_m} \\cdot \\vec{x} \\end{bmatrix}\n",
    "\\end{align}\n",
    "$$\n",
    "\n",
    "## Multiplying Matrices\n",
    "\n",
    "Given that linear maps are functions, we can compose them. And given matrices represent linear maps, we will define matrix multiplication such that multipliying two matrices we get their composition. Given two linear maps $T: R^n \\to R^m$ and $S: R^p \\to R^n$, we get:\n",
    "\n",
    "$[T][S]\\vec{x} = T \\circ S(\\vec{x})$, where $\\vec{x} \\in R^n$\n",
    "\n",
    "Here A = [T] is an $m \\times n$ matrix, and B = [S] is an $n \\times p$ matrix. Then,\n",
    "\n",
    "We note that given $e_j$ in $R^p$\n",
    "\n",
    "$S(\\vec{e_j}) = b_j$, where $b_j \\in R^n$\n",
    "\n",
    "Now,\n",
    "\n",
    "$A\\vec{b_j} = T(\\vec{b_j}) = T(S(\\vec{e_j})) = \\sum_{i=1}^{n} b_{ij}\\vec{a_i} = \\begin{bmatrix} A_1.\\vec{b_j} \\\\ A_2.\\vec{b_j} \\\\ \\dots \\\\ A_n.\\vec{b_j} \\end{bmatrix}$, where the result is in $R^m$. \n",
    "\n",
    "Thus, we can define matrix multiplication of A and B as the matrix AB, where:\n",
    "\n",
    "$(AB)_{ij} = A_i \\cdot b_j$\n",
    "\n",
    "## Identity Matrices\n",
    "\n",
    "Given the identity linear map $T:R^n \\to R^n: T(e_j) = e_j$, for j = 1 to n, let $I_n = [T]$. It follows that the jth column of $I_n$ is $e_j$.\n",
    "\n",
    "### Properties of Matrix Multiplication\n",
    "\n",
    "Since matrix multiplication represents the composition of linear maps, it follows that the same properties apply. \n",
    "\n",
    "Given A as an $m \\times n$ matrix, B as an $n \\times p$ matrix, C as a $p \\times q$ matrix:\n",
    "\n",
    "- non-commutative - in general, $AB \\ne BA$. In fact BA may not even exist, even if AB exists. If AB and BA both exists and A is an m x n matrix, then B must be n x m.\n",
    "- associative - $A(BC) = (AB)C$\n",
    "- left / right identities - $AI_n = A = I_mA$\n",
    "- distributive over addition - (A + B)C = AC + BC and A(B + C) = AB + AC\n",
    "- (cA)B = c(AB) = A(cB)\n",
    "\n",
    "### Cancellation in Matrices\n",
    "\n",
    "In general, if AB = 0 we cannot conclude A or B is zero. Similarly Ax = Bx does not imply A = B. But we have the following results.\n",
    "\n",
    "**$A\\vec{x} = 0$ for all $\\vec{x} \\in R^n$, then A = 0.**\n",
    "\n",
    "Proof:\n",
    "\n",
    "$A\\vec{e_j} = 0$ => jth column of A is zero, for j = 1 to n. \n",
    "\n",
    "**$A\\vec{x} = B\\vec{x}$ for all $\\vec{x} \\in R^n$, then A = B.**\n",
    "\n",
    "Proof:\n",
    "$A\\vec{e_j} = B\\vec{e_j} \\implies \\text{ jth column of A = jth column of B for j = 1 to n}$\n",
    "\n"
   ]
  },
  {
   "cell_type": "markdown",
   "metadata": {},
   "source": [
    "# Square Matrices\n",
    "\n",
    "We have seen n x n matrices e.g. $I_n$. Matrices with same number of rows and columns are called **square matrices**.\n",
    "\n",
    "In a square matrix A, we refer to the elements $a_{ii}$ as **diagonal entries**\n",
    "\n",
    "We call a square matrix \n",
    "\n",
    "a) a **diagonal matrix** if $a_{ij} = 0$ whenever $i \\ne j$.\n",
    "\n",
    "b) an **upper triangular** matrix if all entries below the diagonal are zero\n",
    "\n",
    "c) a **lower triangular** matrix if all entries above the diagonal are zero\n",
    "\n",
    "d) **symmetric** if $a_{ij} = a_{ji}$\n",
    "\n",
    "e) **skew-symmetric** if $a_{ij} = -a_{ij}$ whenever $i \\ne j$\n",
    "\n",
    "\n",
    "## Powers of a square matrix\n",
    "\n",
    "For a square matrix, we can consider multiplying it by itself:\n",
    "\n",
    "$A, AA = A^2, AAA = A^3$ and so on.\n",
    "\n",
    "e.g. If A rotates a vector by $\\theta$, then we can expect $A^3$ to rotate the resulting vector $3\\theta$. \n",
    "\n",
    "But consider A as the projection of a vector on a line. \n",
    "\n",
    "$A = \\begin{bmatrix} \\frac{1}{1 + m^2} & \\frac{m}{1 + m^2} \\\\ \\frac{m}{1 + m^2} & \\frac{m^2}{1 + m^2}\\end{bmatrix}$\n",
    "\n",
    "$A^2 = \\begin{bmatrix} \\frac{1}{1 + m^2} & \\frac{m}{1 + m^2} \\\\ \\frac{m}{1 + m^2} & \\frac{m^2}{1 + m^2}\\end{bmatrix} = A$\n",
    "\n",
    "A little reflection will show that after the first Ax, the resulting vector is already on the line, and it's projection is itself. Hence $A^2\\vec{x} = A\\vec{x}$. It can be easily verified that in this case, $A^i = A$\n",
    "\n",
    "On the other hand, consider the reflection matrix across line $x_2 = x_1$\n",
    "\n",
    "$A = \\begin{bmatrix} 0 & 1 \\\\ 1 & 0\\end{bmatrix}$. Here $A^2 = I$, and $A^3 = A$.\n",
    "\n",
    "\n"
   ]
  },
  {
   "cell_type": "markdown",
   "metadata": {},
   "source": [
    "# Matrix Inverse\n",
    "\n",
    "**Definition: Inverse of a Matrix** \n",
    "Let A be an $n \\times n$ matrix. We say A is invertible, if there is an $n \\times n$ matrix B, such that:\n",
    "\n",
    "$AB = BA = I_n$\n",
    "\n",
    "We call B the inverse of matrix A, and denote this by $B = A^{-1}$\n",
    "\n",
    "It is easy to see that if $A = [T]$, $A^{-1} = [T^{-1}]$\n",
    "\n",
    "Also, $A^{-1}$ is unique, as can be easily proven.\n",
    "\n",
    "### Example in R^2\n",
    "\n",
    "Given $A = \\begin{bmatrix} a & b \\\\ c & d \\end{bmatrix}$, $A^{-1} = \\frac{1}{ad-bc}\\begin{bmatrix} d & -c \\\\ -b & a \\end{bmatrix}$\n",
    "\n",
    "Inverse exists if $ad \\ne bc$\n",
    "\n",
    "## Inverse of a Matrix Multiplication\n",
    "\n",
    "Let A and B be invertible $n \\times n$ matrices. Then\n",
    "\n",
    "$(AB)^{-1} = B^{-1}A^{-1}$\n",
    "\n",
    "Proof: \n",
    "\n",
    "$B^{-1}A^{-1}AB = B^{-1}(A^{-1}A)B = B^{-1}I_nB = B^{-1}(I_nB) = B^{-1}B = I_n$\n",
    "\n",
    "$ABB^{-1}A^{-1} = A(BB^{-1})A^{-1} = AI_nA^{-1} = (AI_n)A^{-1} = AA^{-1} = I_n$\n"
   ]
  },
  {
   "cell_type": "markdown",
   "metadata": {},
   "source": [
    "# Matrix Transpose\n",
    "\n",
    "Given an $m \\times n$ matrix A, it's transpose $A^T$ is an $n \\times m$ matrix such that:\n",
    "\n",
    "$(A^T)_{ij} = (A)_{ji}$\n",
    "\n",
    "It follows that for a **symmetric matrix**, $A^T = A$, for a **skew-symmetric matrix**, $A^T = -A$\n",
    "\n",
    "## Properties of Transpose\n",
    "\n",
    "Let A and A' be $n \\times n$ matrices, B be an $n \\times p$ matrix. Then\n",
    "\n",
    "a) $(A^T)^T = A\n",
    "\n",
    "b) $(cA)^T = cA^T$\n",
    "\n",
    "c) $(A + A')^T = A^T + A'^T$\n",
    "\n",
    "d) $(AB)^T = B^TA^T$\n",
    "\n",
    "**Proof of (d):**\n",
    "\n",
    "Note first that AB is an $n \\times p$ matrix, so $(AB)^T$ is a $p \\times n$ matrix, same as $B^TA^T$.\n",
    "\n",
    "By definition:\n",
    "\n",
    "$(AB)^T_{ij} = AB_{ji} = A_j \\cdot b_i$\n",
    "\n",
    "$(B^TA^T)_{ij} = b_i \\cdot A_j = (AB)^T_{ij}$\n",
    "\n",
    "## Transpose and the Dot Product\n",
    "\n",
    "Given $\\vec{x}$ and $\\vec{y}$ in $R^n$, we can define a matrix:\n",
    "\n",
    "$\\vec{x}^T$ such that $\\vec{x}^T\\vec{y} = [\\vec{x}.\\vec{y}]$. For purpose of this discussion, we will write:\n",
    "\n",
    "$\\vec{x} \\cdot \\vec{y} = \\vec{x}^T\\vec{y}$\n",
    "\n",
    "... noting that the R.H.S. is a single-element matrix.\n",
    "\n",
    "### Prove: Given A in $M_{m \\times n}$, $\\vec{x} \\in R^n$, $\\vec{y} \\in R^m$, $A\\vec{x} \\cdot \\vec{y} = \\vec{x} \\cdot A^T\\vec{y}$\n",
    "\n",
    "$$\n",
    "\\begin{align}\n",
    "A\\vec{x} \\cdot \\vec{y} &= (A\\vec{x})^T\\vec{y} \\\\\n",
    "                       &= \\vec{x}^TA^T\\vec{y} \\\\\n",
    "                       &= \\vec{x}^T(A^T\\vec{y}) \\\\\n",
    "                       &= \\vec{x} \\cdot A^T \\vec{y}\n",
    " \n",
    "\\end{align}\n",
    "$$\n"
   ]
  },
  {
   "cell_type": "markdown",
   "metadata": {},
   "source": [
    "### Example of Transpose using products and ingredients\n",
    "\n",
    "Let vector $\\vec{x} = \\begin{bmatrix} x_1 \\\\ x_2 \\\\ \\dots \\\\ x_n \\end{bmatrix}$ represents units of products we want to manufacture. These n products need m ingredients, and the $m \\times n$ matrix A represents the quantity of ingredients needed for each product i.e. the jth column of A represents the quantity of each of the m ingredients needed per unit of product j. \n",
    "\n",
    "Then, $\\vec{y} = A\\vec{x}$ represents the total quantity of each of the m ingredients needed for all n products put together.\n",
    "\n",
    "Finally, we have the vector $\\vec{p}$ representing the unit price for each ingredient.\n",
    "\n",
    "We get total cost C:\n",
    "\n",
    "$C = \\vec{y} \\cdot \\vec{p} = A\\vec{x} \\cdot \\vec{p} = \\vec{x} \\cdot A^T \\vec{p}$\n",
    "\n",
    "Let $\\vec{q} = A^T \\vec{p} = \\begin{bmatrix} q_1 \\\\ q_2 \\\\ \\dots \\\\ q_n \\end{bmatrix}$. Then $q_i$ represents the price per unit of the ith product. "
   ]
  },
  {
   "cell_type": "markdown",
   "metadata": {},
   "source": [
    "# Ex 3 : Let A be an m x n matrix. Show V = $\\{ \\vec{x} \\in R: A\\vec{x} = 0 \\}$ is a subspace of R^n.\n",
    "\n",
    "Proof: \n",
    "\n",
    "a) $0 \\in V$, since $A.0 = 0$\n",
    "\n",
    "Choose any $x, y \\in V$\n",
    "\n",
    "b) $A(c\\vec{x}) = c(A\\vec{x}) = c.0 = 0$ \n",
    "\n",
    "c) $A(\\vec{x} + \\vec{y}) = A\\vec{x} + A\\vec{y} = 0 + 0 = 0$"
   ]
  },
  {
   "cell_type": "code",
   "execution_count": 29,
   "metadata": {},
   "outputs": [
    {
     "data": {
      "text/latex": [
       "$\\displaystyle \\left[\\begin{matrix}0 & 1\\\\1 & 0\\end{matrix}\\right]$"
      ],
      "text/plain": [
       "Matrix([\n",
       "[0, 1],\n",
       "[1, 0]])"
      ]
     },
     "metadata": {},
     "output_type": "display_data"
    },
    {
     "data": {
      "text/latex": [
       "$\\displaystyle \\left[\\begin{matrix}-1 & 0\\\\0 & -1\\end{matrix}\\right]$"
      ],
      "text/plain": [
       "Matrix([\n",
       "[-1,  0],\n",
       "[ 0, -1]])"
      ]
     },
     "metadata": {},
     "output_type": "display_data"
    },
    {
     "data": {
      "text/latex": [
       "$\\displaystyle \\left[\\begin{matrix}\\frac{1}{5} & \\frac{2}{5}\\\\\\frac{2}{5} & \\frac{4}{5}\\end{matrix}\\right]$"
      ],
      "text/plain": [
       "Matrix([\n",
       "[1/5, 2/5],\n",
       "[2/5, 4/5]])"
      ]
     },
     "metadata": {},
     "output_type": "display_data"
    },
    {
     "data": {
      "text/latex": [
       "$\\displaystyle \\left[\\begin{matrix}- \\frac{2}{5} & - \\frac{1}{5}\\\\\\frac{4}{5} & \\frac{2}{5}\\end{matrix}\\right]$"
      ],
      "text/plain": [
       "Matrix([\n",
       "[-2/5, -1/5],\n",
       "[ 4/5,  2/5]])"
      ]
     },
     "metadata": {},
     "output_type": "display_data"
    },
    {
     "data": {
      "text/latex": [
       "$\\displaystyle \\left[\\begin{matrix}\\frac{2}{5} & - \\frac{4}{5}\\\\\\frac{1}{5} & - \\frac{2}{5}\\end{matrix}\\right]$"
      ],
      "text/plain": [
       "Matrix([\n",
       "[2/5, -4/5],\n",
       "[1/5, -2/5]])"
      ]
     },
     "metadata": {},
     "output_type": "display_data"
    }
   ],
   "source": [
    "# Ex 5\n",
    "\n",
    "import sympy as s\n",
    "\n",
    "m = s.var('m')\n",
    "theta = s.var('t')\n",
    "\n",
    "reflect_matrix = (1/(1 + m**2)) * s.Matrix([[(1 - m**2), 2*m], [2*m, m**2 - 1]])\n",
    "proj_matrix = (1/(1 + m**2)) * s.Matrix([[1, m], [m, m**2]])\n",
    "rotate_matrix = s.Matrix([[s.cos(theta), -s.sin(theta)], [s.sin(theta), s.cos(theta)]])\n",
    "\n",
    "reflect_y = s.Matrix([[-1,0], [0, 1]])\n",
    "proj_y = s.Matrix([[0,0], [0, 1]])\n",
    "\n",
    "e1 = s.Matrix([1,0])\n",
    "e2 = s.Matrix([0,1])\n",
    "\n",
    "def reflect(slope):\n",
    "    if slope == s.oo:\n",
    "        r = reflect_y\n",
    "    else:\n",
    "        r = reflect_matrix.subs(m, slope)\n",
    "    return r\n",
    "\n",
    "\n",
    "def project(slope):\n",
    "    if slope == s.oo:\n",
    "        p = proj_y\n",
    "    else:\n",
    "        p = proj_matrix.subs(m, slope)\n",
    "    return p\n",
    "\n",
    "def rotate(angle):\n",
    "    return rotate_matrix.subs(theta, angle)\n",
    "\n",
    "# (b)\n",
    "display(reflect(1))\n",
    "\n",
    "# (c)\n",
    "display(reflect(s.oo)*reflect(0))\n",
    "\n",
    "# (d)\n",
    "\n",
    "display(project(2))\n",
    "\n",
    "# (e)\n",
    "\n",
    "display(rotate(s.pi/2)*project(s.Rational(1,2)))\n",
    "\n",
    "# (f)\n",
    "\n",
    "display(project(s.Rational(1,2))*rotate(s.pi/2))\n",
    "\n",
    "\n",
    "\n"
   ]
  },
  {
   "cell_type": "markdown",
   "metadata": {},
   "source": [
    "# Ex 9 : 2 x 2 matrices\n",
    "\n",
    "$A = \\begin{bmatrix}a & b \\\\ c & d\\end{bmatrix}$\n",
    "\n",
    "$A^2 = \\begin{bmatrix}a^2 + bc & b(a + d) \\\\ c(a + d) & d^2 + bc \\end{bmatrix}$\n",
    "\n",
    "**a) $A^2 = I_2$**\n",
    "\n",
    "$a^2 + bc = d^2 + bc = 1$, $b(a + d) = c(a + d) = 0$\n",
    "\n",
    "if b = 0, a & d = +-1, c: if a = d, c = 0, else c can be anything.\n",
    "\n",
    "if b not 0, a = -d. c = 1-a^2/b \n",
    "\n",
    "So, matrices are :\n",
    "\n",
    "$\\begin{bmatrix}1 & 0 \\\\ c & -1\\end{bmatrix}$ OR $\\begin{bmatrix}1 & 0 \\\\ 0 & -1 \\end{bmatrix}$ OR $\\begin{bmatrix}-1 & 0 \\\\ 0 & 1 \\end{bmatrix}$\n",
    "\n",
    "\n",
    "**a) $A^2 = 0$**\n",
    "\n",
    "$a^2 + bc = d^2 + bc = b(a + d) = c(a + d) = 0$\n",
    "\n",
    "if b = 0, a = 0, d = 0, c can be anything\n",
    "\n",
    "if b not 0, a = -d. c = -a^2/b\n",
    "\n",
    "So, matrices are :\n",
    "\n",
    "$\\begin{bmatrix}0 & 0 \\\\ c & 0\\end{bmatrix}$ OR  $\\begin{bmatrix}a & b \\\\ -\\frac{a^2}{b} & -a \\end{bmatrix}$\n",
    "\n",
    "**a) $A^2 = -I_2$**\n",
    "\n",
    "$a^2 + bc = d^2 + bc = -1$, $b(a + d) = c(a + d) = 0$\n",
    "\n",
    "if b = 0, then a/d are not real.\n",
    "\n",
    "if b not 0, a = -d. c = -1 - a^2 / b\n",
    "\n",
    "So, matrices are :\n",
    "\n",
    "$\\begin{bmatrix}a & b \\\\ \\frac{a^2-1}{b} & -a \\end{bmatrix}$\n"
   ]
  },
  {
   "cell_type": "code",
   "execution_count": 42,
   "metadata": {},
   "outputs": [
    {
     "data": {
      "text/latex": [
       "$\\displaystyle \\left[\\begin{matrix}\\cos{\\left(2 t \\right)} & \\sin{\\left(2 t \\right)}\\\\\\sin{\\left(2 t \\right)} & - \\cos{\\left(2 t \\right)}\\end{matrix}\\right]$"
      ],
      "text/plain": [
       "Matrix([\n",
       "[cos(2*t),  sin(2*t)],\n",
       "[sin(2*t), -cos(2*t)]])"
      ]
     },
     "metadata": {},
     "output_type": "display_data"
    },
    {
     "data": {
      "text/latex": [
       "$\\displaystyle \\left[\\begin{matrix}\\cos{\\left(2 t \\right)} & \\sin{\\left(2 t \\right)}\\\\\\sin{\\left(2 t \\right)} & - \\cos{\\left(2 t \\right)}\\end{matrix}\\right]$"
      ],
      "text/plain": [
       "Matrix([\n",
       "[cos(2*t),  sin(2*t)],\n",
       "[sin(2*t), -cos(2*t)]])"
      ]
     },
     "metadata": {},
     "output_type": "display_data"
    },
    {
     "data": {
      "text/latex": [
       "$\\displaystyle \\left[\\begin{matrix}\\cos{\\left(2 t \\right)} & \\sin{\\left(2 t \\right)}\\\\\\sin{\\left(2 t \\right)} & - \\cos{\\left(2 t \\right)}\\end{matrix}\\right]$"
      ],
      "text/plain": [
       "Matrix([\n",
       "[cos(2*t),  sin(2*t)],\n",
       "[sin(2*t), -cos(2*t)]])"
      ]
     },
     "metadata": {},
     "output_type": "display_data"
    }
   ],
   "source": [
    "# Ex 10\n",
    "\n",
    "display(s.simplify(reflect(s.sin(theta)/s.cos(theta))))\n",
    "\n",
    "display(rotate(2*theta)*reflect(0))\n",
    "\n",
    "display(s.simplify(rotate(theta)*reflect(0)*rotate(-theta)))\n"
   ]
  },
  {
   "cell_type": "markdown",
   "metadata": {},
   "source": [
    "# Ex 11 : Formula for A^n\n",
    "\n",
    "(a) $A = \\begin{bmatrix}1 & 1 \\\\ 0 & 1\\end{bmatrix}$ \n",
    "\n",
    "A shearing matrix. \n",
    "\n",
    "$A^2 = \\begin{bmatrix}1 & 2 \\\\ 0 & 1\\end{bmatrix}$ \n",
    "\n",
    "$A^n = \\begin{bmatrix}1 & n \\\\ 0 & 1\\end{bmatrix}$ \n",
    "\n",
    "\n",
    "b) $A = \\begin{bmatrix}d_1 \\\\ .. & d_2 \\\\ \\dots \\\\ .. & .. & .. & d_n\\end{bmatrix}$ a diagonal matrix\n",
    "\n",
    "$A^n = \\begin{bmatrix}d_1^n \\\\ .. & d_2^n \\\\ \\dots \\\\ .. & .. & .. & d_n^n\\end{bmatrix}$ a diagonal matrix\n",
    "\n",
    "\n"
   ]
  },
  {
   "cell_type": "markdown",
   "metadata": {},
   "source": [
    "# Ex 12: m+n matrix\n",
    "\n",
    "$\\begin{bmatrix}A & B \\\\ C & D\\end{bmatrix}\\begin{bmatrix}A' & B' \\\\ C' & D'\\end{bmatrix} = \\begin{bmatrix}AA' + BC' & AB' + BD' \\\\ CA' + DC' &  CB' + DD' \\end{bmatrix}$\n",
    "\n",
    "A,A' - m x m\n",
    "B,B' - m x n\n",
    "C,C' - n x m\n",
    "D,D' - n x n\n",
    "\n",
    "For first matrix: rows are of two types:\n",
    "\n",
    "$[A_i \\text{ } B_i]$ for i = 1 to m, with $A_i$ having m elements, $B_i$ having n.\n",
    "\n",
    "$[C_{i-m} \\text{ } D_{i-m}]$ for i = m+1 to m+n, with $C_i$ having m elements, $D_i$ having n.\n",
    "\n",
    "For second matrix: columns are of two types (shown horizontally for ease):\n",
    "\n",
    "$[A'_j \\text{ } C'_j]$ for j = 1 to m, with A'_j having m elements, C'_j having n.\n",
    "\n",
    "$[B'_{j-m} \\text{ } D'_{j-m}]$ for j = m+1 to m+n, with B' having m elements, D' having n.\n",
    "\n",
    "Multiplying, we see the four combinations for the ith row, jth column entry of the result:\n",
    "\n",
    "$[A_i.A'_j + B_i.C'_j]$ for i = 1 to m, j = 1 to m.\n",
    "\n",
    "$[A_i.B'_{j-m} + B_i.D'_{j-m}]$ for i = 1 to m, j = m+1 to m+n.\n",
    "\n",
    "$[C_{i-m}.A'_j + D_{i-m}.C'_j]$ for i = m+1 to m+n, j = 1 to m.\n",
    "\n",
    "$[C_{i-m}.B'_{j-m} + D_{i-m}.D'_{j-m}]$ for i = m+1 to m+n, j = m+1 to m+n.\n",
    "\n",
    "\n"
   ]
  },
  {
   "cell_type": "code",
   "execution_count": 47,
   "metadata": {},
   "outputs": [
    {
     "data": {
      "text/latex": [
       "$\\displaystyle \\left[\\begin{matrix}0 & -1\\\\1 & 0\\end{matrix}\\right]$"
      ],
      "text/plain": [
       "Matrix([\n",
       "[0, -1],\n",
       "[1,  0]])"
      ]
     },
     "metadata": {},
     "output_type": "display_data"
    },
    {
     "data": {
      "text/latex": [
       "$\\displaystyle \\left[\\begin{matrix}0 & -1\\\\-1 & 0\\end{matrix}\\right]$"
      ],
      "text/plain": [
       "Matrix([\n",
       "[ 0, -1],\n",
       "[-1,  0]])"
      ]
     },
     "metadata": {},
     "output_type": "display_data"
    },
    {
     "data": {
      "text/latex": [
       "$\\displaystyle \\left[\\begin{matrix}1 & 0\\\\0 & -1\\end{matrix}\\right]$"
      ],
      "text/plain": [
       "Matrix([\n",
       "[1,  0],\n",
       "[0, -1]])"
      ]
     },
     "metadata": {},
     "output_type": "display_data"
    },
    {
     "data": {
      "text/latex": [
       "$\\displaystyle \\left[\\begin{matrix}-1 & 0\\\\0 & 1\\end{matrix}\\right]$"
      ],
      "text/plain": [
       "Matrix([\n",
       "[-1, 0],\n",
       "[ 0, 1]])"
      ]
     },
     "metadata": {},
     "output_type": "display_data"
    }
   ],
   "source": [
    "# Ex 13\n",
    "\n",
    "# a\n",
    "T = rotate(s.pi/2)\n",
    "S = reflect(-1)\n",
    "display(T, S)\n",
    "\n",
    "# b\n",
    "display(T*S)\n",
    "\n",
    "# c\n",
    "display(S*T)\n"
   ]
  },
  {
   "cell_type": "code",
   "execution_count": 53,
   "metadata": {},
   "outputs": [
    {
     "data": {
      "text/latex": [
       "$\\displaystyle \\left[\\begin{matrix}\\frac{\\sqrt{2}}{2} & \\frac{\\sqrt{2}}{2}\\\\- \\frac{\\sqrt{2}}{2} & \\frac{\\sqrt{2}}{2}\\end{matrix}\\right]$"
      ],
      "text/plain": [
       "Matrix([\n",
       "[ sqrt(2)/2, sqrt(2)/2],\n",
       "[-sqrt(2)/2, sqrt(2)/2]])"
      ]
     },
     "metadata": {},
     "output_type": "display_data"
    }
   ],
   "source": [
    "# Ex 14\n",
    "\n",
    "# a\n",
    "\n",
    "angle = -s.pi/4\n",
    "\n",
    "\n",
    "display(rotate(angle))"
   ]
  },
  {
   "cell_type": "markdown",
   "metadata": {},
   "source": [
    "# Ex 17: $(BAB^{-1})^n$ and $(BAB^{-1})^{-1}$\n",
    "\n",
    "$(BAB^{-1})^2 = BAB^{-1}BAB^{-1} = BA^2B^{-1}$\n",
    "\n",
    "$(BA^nB^{-1})(BAB^{-1}) = BA^nAB^{-1} = BA^{n+1}B^{-1}$\n",
    "\n",
    "\n",
    "$EBAB^{-1} = I$\n",
    "\n",
    "$EBA = B$\n",
    "\n",
    "$EB = BA^{-1}$\n",
    "$E = BA^{-1}B^{-1}$\n",
    "\n",
    "A needs to be reversible.\n"
   ]
  },
  {
   "cell_type": "markdown",
   "metadata": {},
   "source": [
    "# Ex 18: $A^3 - 3A + 2I = 0$\n",
    "\n",
    "$A^3 - 3A + 2AA^{-1} = 0$\n",
    "$A(A^2 -3 + 2A^{-1}) = 0$\n",
    "\n",
    "Since A is non-zero,\n",
    "\n",
    "$A^2 -3 + 2A^{-1} = 0$\n",
    "\n",
    "$A^{-1} = 3/2 - 1/2 A^2$"
   ]
  },
  {
   "cell_type": "markdown",
   "metadata": {},
   "source": [
    "# Ex 19: Trace of a matrix\n",
    "\n",
    "A is an n x n matrix\n",
    "\n",
    "$tr(A) = \\sum_{i=1}^{n} a_{ii}$ \n",
    "\n",
    "a) $tr(A) = tr(A^T)$\n",
    "\n",
    "b) tr(cA) = ctr(A)\n",
    "\n",
    "c) tr(A + B) = tr(A) = tr(B)\n",
    "\n",
    "d) tr(AB) = tr(BA) \n",
    "\n",
    "Proof of (d)\n",
    "\n",
    "$(AB)_{ii} = A_i \\cdot b_i = \\sum_{k=1}^{n} a_{ik}b_{ki}$\n",
    "\n",
    "$tr(AB) = \\sum_{i=1}^{n}\\sum_{k=1}^{n} a_{ik}b_{ki}$\n",
    "\n",
    "$(BA)_{ii} = B_i \\cdot a_i = \\sum_{l=1}^{n} b_{il}a_{li}$\n",
    "\n",
    "$tr(BA) = \\sum_{i=1}^{n}\\sum_{l=1}^{n} b_{il}a_{li} = \\sum_{i=1}^{n}\\sum_{k=1}^{n} a_{ki}b_{ik} = \\sum_{i=1}^{n}\\sum_{k=1}^{n} a_{ik}b_{ki} = tr(AB)$\n"
   ]
  },
  {
   "cell_type": "code",
   "execution_count": 70,
   "metadata": {},
   "outputs": [
    {
     "data": {
      "text/latex": [
       "$\\displaystyle \\left[\\begin{matrix}1 & 3\\\\2 & 4\\end{matrix}\\right]$"
      ],
      "text/plain": [
       "Matrix([\n",
       "[1, 3],\n",
       "[2, 4]])"
      ]
     },
     "metadata": {},
     "output_type": "display_data"
    },
    {
     "data": {
      "text/latex": [
       "$\\displaystyle \\left[\\begin{matrix}0 & 0\\\\5 & 5\\end{matrix}\\right]$"
      ],
      "text/plain": [
       "Matrix([\n",
       "[0, 0],\n",
       "[5, 5]])"
      ]
     },
     "metadata": {},
     "output_type": "display_data"
    },
    {
     "data": {
      "text/latex": [
       "$\\displaystyle \\left[\\begin{matrix}1 & 0\\\\2 & 1\\\\1 & 2\\end{matrix}\\right]$"
      ],
      "text/plain": [
       "Matrix([\n",
       "[1, 0],\n",
       "[2, 1],\n",
       "[1, 2]])"
      ]
     },
     "metadata": {},
     "output_type": "display_data"
    },
    {
     "data": {
      "text/latex": [
       "$\\displaystyle \\left[\\begin{matrix}1 & 1\\\\3 & 1\\\\3 & 5\\end{matrix}\\right]$"
      ],
      "text/plain": [
       "Matrix([\n",
       "[1, 1],\n",
       "[3, 1],\n",
       "[3, 5]])"
      ]
     },
     "metadata": {},
     "output_type": "display_data"
    },
    {
     "data": {
      "text/latex": [
       "$\\displaystyle \\left[\\begin{matrix}1 & 5 & 7\\\\2 & 8 & 10\\end{matrix}\\right]$"
      ],
      "text/plain": [
       "Matrix([\n",
       "[1, 5,  7],\n",
       "[2, 8, 10]])"
      ]
     },
     "metadata": {},
     "output_type": "display_data"
    },
    {
     "data": {
      "text/latex": [
       "$\\displaystyle \\left[\\begin{matrix}1 & 3\\\\4 & 10\\\\5 & 11\\end{matrix}\\right]$"
      ],
      "text/plain": [
       "Matrix([\n",
       "[1,  3],\n",
       "[4, 10],\n",
       "[5, 11]])"
      ]
     },
     "metadata": {},
     "output_type": "display_data"
    },
    {
     "data": {
      "text/latex": [
       "$\\displaystyle \\left[\\begin{matrix}1 & 2 & 7\\\\3 & 4 & 17\\end{matrix}\\right]$"
      ],
      "text/plain": [
       "Matrix([\n",
       "[1, 2,  7],\n",
       "[3, 4, 17]])"
      ]
     },
     "metadata": {},
     "output_type": "display_data"
    }
   ],
   "source": [
    "A = s.Matrix([[1,2],[3,4]])\n",
    "B = s.Matrix([[2,1],[4, 3]])\n",
    "C = s.Matrix([[1,2,1],[0,1,2]])\n",
    "D = s.Matrix([[0,1],[1,0],[2,3]])\n",
    "\n",
    "\n",
    "display(A.T)\n",
    "display(2*A-B.T)\n",
    "display(C.T)\n",
    "display(C.T + D)\n",
    "display(A.T*C)\n",
    "# display(A*C.T)\n",
    "display(C.T*A.T)\n",
    "display(B*D.T)\n",
    "# display(D.T*B)\n",
    "# display(C*C.T)\n",
    "#display(C.T*C)\n",
    "#display(C.T*D.T)\n",
    "\n",
    "\n"
   ]
  },
  {
   "cell_type": "markdown",
   "metadata": {},
   "source": [
    "# Ex 24 : Prove A,B symmetric <=> AB = BA\n",
    "\n",
    "Proof:\n",
    "\n",
    "a) Assume AB symmetric \n",
    "\n",
    "$(AB)_{ij} = (AB)_{ji} = A_j.b_i = a_j.B_i = B_i.a_j = (BA)_{ij}$\n",
    "\n",
    "b) Assume AB = BA\n",
    "\n",
    "$(AB)_{ij} = (BA)_{ij} = B_i.a_j = b_i.A_j = (AB)_{ji}$\n",
    "\n"
   ]
  },
  {
   "cell_type": "markdown",
   "metadata": {},
   "source": [
    "# Ex 25: A is an m x n matrix. Prove $A^TA$ is symmetric\n",
    "\n",
    "$(A^TA)_{ij} = A^T_i.A_j = A_i.A^T_j = (A^TA)_{ji}$\n",
    "\n"
   ]
  },
  {
   "cell_type": "markdown",
   "metadata": {},
   "source": [
    "# Ex 26: A is invertible. Prove $(A^{-1})^TA^T = I = (A^{-1})^TA^T$ i.e. $A^T$ is invertible.\n",
    "\n",
    "$A^{-1}A = I => A^T(A^{-1})^T = I^T = I$\n",
    "\n",
    "$AA^{-1} = I => (A^{-1})^TA^T = I^T = I$\n",
    "\n",
    "Thus $(A^{-1})^T$ is the inverse of $A^T$, when A is invertible."
   ]
  },
  {
   "cell_type": "markdown",
   "metadata": {},
   "source": [
    "# Ex 27: Permutation Matrices\n",
    "\n",
    "An n x n matrix is called a permutation matrix if it has a single 1 in each row and column.\n",
    "\n",
    "c) Prove product of two permutation matrices is a permutation matrix\n",
    "\n",
    "If P and Q are permutation matrices: Let $(p_1, p_2, ..., p_n)$ be the location of the 1's in each row of p, and $(q_1,q_2,...,q_n)$ be ones in each column of p.\n",
    "\n",
    "row i of PQ = $[P_i.q_1 P_i.q_2               P_i.q_n    ] = [q_{p_i1} q_{p_i2} ... q_{p_in}] = Q_{p_i}$ \n",
    "\n",
    "col j of PQ = $[P_1.q_j P_2.q_j ... P_n.q_j] = [p_1{q_j} p_2{q_j} ... p_n{q_j}] = p_{q_j}$ \n",
    "\n",
    "Thus the ith row of PQ is the $p_i$ th row of Q - since every $p_i$ is different, this means that this is a permutation of the rows of Q, so every row has only one 1.\n",
    "\n",
    "The jth column of PQ is the $q_j$ th column of P. Since every $q_j$ is different, this means this is a permutation of the columns of P, hence every column has only one 1.\n",
    "\n",
    "c) Prove every permutation matrix is invertible and $P^{-1} = P^T$\n",
    "\n",
    "Let Q = P^T. Q is a permutation matrix.\n",
    "\n",
    "Then P_i = q_i. Also\n",
    "\n",
    "Also, (PQ)_{ii} = P_i.q_i = 1, since they have 1 in the same place. \n",
    "\n",
    "Also, (QP)_{ii} = Q_i.p_i = 1, since they have 1 in the same place. \n",
    "\n",
    "\n",
    "Also PQ / QP are products of two permutation matrices, so each row, column has only one 1. i.e. PQ = I = QP\n",
    "\n",
    "Q = $P^T = P^{-1}$\n",
    "\n",
    "e) PA = A with rows exchanged, AP = A with columns exchanged\n"
   ]
  },
  {
   "cell_type": "code",
   "execution_count": 92,
   "metadata": {},
   "outputs": [
    {
     "data": {
      "text/latex": [
       "$\\displaystyle \\left[\\begin{matrix}1 & 0\\\\0 & 1\\end{matrix}\\right]$"
      ],
      "text/plain": [
       "Matrix([\n",
       "[1, 0],\n",
       "[0, 1]])"
      ]
     },
     "metadata": {},
     "output_type": "display_data"
    },
    {
     "data": {
      "text/latex": [
       "$\\displaystyle \\left[\\begin{matrix}0 & 1\\\\1 & 0\\end{matrix}\\right]$"
      ],
      "text/plain": [
       "Matrix([\n",
       "[0, 1],\n",
       "[1, 0]])"
      ]
     },
     "metadata": {},
     "output_type": "display_data"
    },
    {
     "data": {
      "text/latex": [
       "$\\displaystyle \\left[\\begin{matrix}1 & 0 & 0\\\\0 & 1 & 0\\\\0 & 0 & 1\\end{matrix}\\right]$"
      ],
      "text/plain": [
       "Matrix([\n",
       "[1, 0, 0],\n",
       "[0, 1, 0],\n",
       "[0, 0, 1]])"
      ]
     },
     "metadata": {},
     "output_type": "display_data"
    },
    {
     "data": {
      "text/latex": [
       "$\\displaystyle \\left[\\begin{matrix}1 & 0 & 0\\\\0 & 0 & 1\\\\0 & 1 & 0\\end{matrix}\\right]$"
      ],
      "text/plain": [
       "Matrix([\n",
       "[1, 0, 0],\n",
       "[0, 0, 1],\n",
       "[0, 1, 0]])"
      ]
     },
     "metadata": {},
     "output_type": "display_data"
    },
    {
     "data": {
      "text/latex": [
       "$\\displaystyle \\left[\\begin{matrix}0 & 0 & 1\\\\1 & 0 & 0\\\\0 & 1 & 0\\end{matrix}\\right]$"
      ],
      "text/plain": [
       "Matrix([\n",
       "[0, 0, 1],\n",
       "[1, 0, 0],\n",
       "[0, 1, 0]])"
      ]
     },
     "metadata": {},
     "output_type": "display_data"
    },
    {
     "data": {
      "text/latex": [
       "$\\displaystyle \\left[\\begin{matrix}0 & 0 & 1\\\\0 & 1 & 0\\\\1 & 0 & 0\\end{matrix}\\right]$"
      ],
      "text/plain": [
       "Matrix([\n",
       "[0, 0, 1],\n",
       "[0, 1, 0],\n",
       "[1, 0, 0]])"
      ]
     },
     "metadata": {},
     "output_type": "display_data"
    },
    {
     "data": {
      "text/latex": [
       "$\\displaystyle \\left[\\begin{matrix}0 & 1 & 0\\\\0 & 0 & 1\\\\1 & 0 & 0\\end{matrix}\\right]$"
      ],
      "text/plain": [
       "Matrix([\n",
       "[0, 1, 0],\n",
       "[0, 0, 1],\n",
       "[1, 0, 0]])"
      ]
     },
     "metadata": {},
     "output_type": "display_data"
    },
    {
     "data": {
      "text/latex": [
       "$\\displaystyle \\left[\\begin{matrix}0 & 1 & 0\\\\1 & 0 & 0\\\\0 & 0 & 1\\end{matrix}\\right]$"
      ],
      "text/plain": [
       "Matrix([\n",
       "[0, 1, 0],\n",
       "[1, 0, 0],\n",
       "[0, 0, 1]])"
      ]
     },
     "metadata": {},
     "output_type": "display_data"
    }
   ],
   "source": [
    "\n",
    "def permute_matrix(p):\n",
    "    def inner_perm(i,j):\n",
    "        if p[i] == j:\n",
    "            return 1\n",
    "        else:\n",
    "            return 0\n",
    "    return inner_perm\n",
    "\n",
    "from sympy.utilities.iterables import generate_bell\n",
    "for p in generate_bell(2):\n",
    "    m = s.Matrix(2,2,permute_matrix(p))\n",
    "    display(m)\n",
    "\n",
    "\n",
    "for p in generate_bell(3):\n",
    "    m = s.Matrix(3,3,permute_matrix(p))\n",
    "    display(m)\n",
    "\n",
    "\n",
    "\n",
    "# s.Matrix(4, 4, f)\n",
    "\n"
   ]
  },
  {
   "cell_type": "markdown",
   "metadata": {},
   "source": [
    "# Ex 29: Let A be an m x n matrix, and let x,y in $R^n$. Prove that if Ax = 0, and $y = A^Tb$ for some b in $R^m$, then x.y = 0\n",
    "\n",
    "$x.A^Tb = Ax.b = 0.b = 0$"
   ]
  },
  {
   "cell_type": "markdown",
   "metadata": {},
   "source": [
    "# Ex 30: Let A be an n x n matrix. Let V be a subspace in Rn, V = $\\{ x \\in R^n: Ax \\in V \\}$. Prove $Ay \\in V^{\\perp}$ for all y in $V^{\\perp}$\n",
    "\n",
    "Proof:\n",
    "\n",
    "Let b be in $V^T$. Let y = Ab = $A^Tb$ (since A is symmetric).\n",
    "\n",
    "Then $x.y = x.A^Tb = Ax.b = 0.b = 0$"
   ]
  },
  {
   "cell_type": "markdown",
   "metadata": {},
   "source": [
    "# Ex 32: A is m x n matrix, x in Rn satisfies $(A^TA)x = 0$. Prove Ax = 0.\n",
    "\n",
    "|| Ax || = $Ax.Ax = (Ax)^TAx = x^T(A^TA)x = x^T(0x) = x^T0 = 0$"
   ]
  },
  {
   "cell_type": "markdown",
   "metadata": {},
   "source": [
    "# Ex 33: A is symmetric and $A^2 = 0$. Prove A = 0.\n",
    "\n",
    "element (i,i) = ai.Ai = 0\n",
    "\n",
    "But ai = Ai (symmetric)\n",
    "\n",
    "So Ai.Ai = 0 => Ai = 0."
   ]
  },
  {
   "cell_type": "markdown",
   "metadata": {},
   "source": [
    "# Ex 34: Orthogonal Matrix: $A^TA = I_n$\n",
    "\n",
    "a) Proof:\n",
    "$(A^TA)_{ij} = A^T_i.a_j = a_i.a_j$\n",
    "\n",
    "a_i.a_j = 1 if i = j, a_i.a_j = 0 if i n.e. j. \n",
    "\n",
    "c) for a 2x2 matrix, \n",
    "\n",
    "Using (a)\n",
    "\n",
    "a_1 = (cost, sint)\n",
    "a_2 = (cosw, sinw)\n",
    "\n",
    "Since these are orthogonal,\n",
    "\n",
    "cost.cosw + sint.sinw = 0\n",
    "\n",
    "cos(t - w) = 0\n",
    "\n",
    "t - w = pi/2 or t - w = -pi/2\n",
    "\n",
    "w = t - pi/2 or w = t + pi/2\n",
    "\n",
    "w = t - pi/2: cos w = cos t - pi/2 = sin t, sin w = sin t - pi/2 = -cos(t)\n",
    "\n",
    "w = t + pi/2: cos w = -sin t, sin w = sin t + pi/2 = cos(t)\n",
    "\n",
    "Ans: \n",
    "\n",
    "$\\begin{bmatrix}\\cos{\\theta} & -\\sin{\\theta} \\\\ \\sin(\\theta) & \\cos{\\theta} \\end{bmatrix}$, or\n",
    "\n",
    "$\\begin{bmatrix}\\cos{\\theta} & \\sin{\\theta} \\\\ \\sin(\\theta) & -\\cos{\\theta} \\end{bmatrix}$\n",
    "\n",
    "d) For 2x2 matrix, the first one is a rotation. The second one is a reflection, followed by a rotation.\n",
    "\n",
    "$\\begin{bmatrix}\\cos{\\theta} & \\sin{\\theta} \\\\ \\sin(\\theta) & -\\cos{\\theta} \\end{bmatrix} = \\begin{bmatrix}\\cos{\\theta} & -\\sin{\\theta} \\\\ \\sin(\\theta) & \\cos{\\theta} \\end{bmatrix}\\begin{bmatrix}1 & 0 \\\\ 0 & -1 \\end{bmatrix}$\n",
    "\n",
    "e) Assume $A^T = A^{-1} when A is orthogonal (proved in chapter 4)$. Prove row vectors of A are unit vectors orthogonal to each other.\n",
    "\n",
    "AA^T = I = (A^T)^TA^T, since A^T = A^-1.\n",
    "\n",
    "Hence, A^T is an orthogonal matrix.\n",
    "\n",
    "\n",
    "\n",
    "\n"
   ]
  },
  {
   "cell_type": "markdown",
   "metadata": {},
   "source": [
    "# Ex 35: More orthogonal matrices\n",
    "\n",
    "a) Prove if A and B are orthogonal, so is AB\n",
    "\n",
    "AB^T AB = B^T A^T AB = B^T I B = B^T B = I\n",
    "\n",
    "b) If A is orthogonal, so is A^{-1}\n",
    "\n",
    "A^{-1} = A^T \n"
   ]
  },
  {
   "cell_type": "markdown",
   "metadata": {},
   "source": [
    "# Ex 36: Symmetric / Skew-Symmetric Matrices\n",
    "\n",
    "a) Prove only 0 is both symmetric and skew symmetric\n",
    "\n",
    "a_ij = a_ij (symmetric), a_ij = -a_ij (skew)\n",
    "\n",
    "b) A is n x n. Prove $S = 1/2(A + A^T)$ is symmetric, $K = 1/2(A - A^T)$ is skew symmetric.\n",
    "\n",
    "(S)_ij = 1/2(a_ij + a'_ij) = 1/2(a_ij + a_ji) = (S)_ji\n",
    "\n",
    "(K)_ij = 1/2(a_ij - a'_ij) = 1/2(a_ij - a_ji) = -(K)_ji\n",
    "\n",
    "c) Prove any square matrix A can be written as A = S + K, where S is symmetric, K is skew symmetric.\n",
    "\n",
    "See (b). S + K = A.\n",
    "\n",
    "d) If A = S + K and A = S' + K', S = S', K = K' (S, K are unique)\n",
    "\n",
    "Subtracting, we get (S-S') + (K - K') = 0. \n",
    "Note that S - S' is symmetric (easy to prove), and K - K' is anti-symmetric (if a_ij = -a_jj, b_ij = -b_ji, then a_ij + b_ij = -(a_ji + b_ji))\n",
    "Also, the sum of a symmetric and an anti-symmetric matrix cannot be symmetric unless the antisymmetric matrix is zero, since:\n",
    "\n",
    "ss_ij = ss_ji, kk_ij = -kk_ji. \n",
    "\n",
    "so : ss_ij + kk_ij = 0, and ss_ji + kk_ji = 0 i.e. ss_ij - kk_ij = 0 => kk_ij = ss_ij = 0.\n",
    "\n",
    "Thus, K - K' = 0 and S = S'.\n",
    "\n",
    "e) A is an nxn matrix commuting with all nxn matrices - AB = BA for all nxn matrices B. Describe A.\n",
    "\n",
    "A_i.b_j = B_i.a_j\n",
    "\n",
    "Pick i, j, i n.e. j. Choose a diagonal matrix B with b_ii = -1, b_jj = 1\n",
    "\n",
    "Then :\n",
    "\n",
    "a_ij = -a_ij i.e. a_ij = 0 when i n.e. j.\n",
    "\n",
    "So A is a diagonal matrix. \n",
    "\n",
    "A_i.b_j = B_i.a_j. Since a is a diagonal matrix, only a_ii, and a_jj are non-zero (possibly).\n",
    "\n",
    "So a_ii.b_ij = b_ij.a_jj i.e. a_ii = a_jj = c, say, assuming b_ij is non-zero (which we can since B is any matrix)\n",
    "\n",
    "So A = cI.\n",
    "\n",
    "\n",
    "\n",
    "\n"
   ]
  }
 ],
 "metadata": {
  "kernelspec": {
   "display_name": ".venv",
   "language": "python",
   "name": "python3"
  },
  "language_info": {
   "codemirror_mode": {
    "name": "ipython",
    "version": 3
   },
   "file_extension": ".py",
   "mimetype": "text/x-python",
   "name": "python",
   "nbconvert_exporter": "python",
   "pygments_lexer": "ipython3",
   "version": "3.12.8"
  }
 },
 "nbformat": 4,
 "nbformat_minor": 2
}
