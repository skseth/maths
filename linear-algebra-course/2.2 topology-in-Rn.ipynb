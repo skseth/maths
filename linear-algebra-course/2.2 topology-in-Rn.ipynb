{
 "cells": [
  {
   "cell_type": "markdown",
   "metadata": {},
   "source": [
    "# Topology in $R^n$\n",
    "\n",
    "For more in-depth treatment of the contents of this chapter, refer to real analysis sections:\n",
    "\n",
    "[2. Topology of R - Convergence - Completeness](../analysis%20-%20real/2b.%20Topology%20-%20Metric%20Spaces%20-%20Convergence%20-%20Completeness%20.ipynb)\n",
    "\n",
    "## Open Sets\n",
    "\n",
    "**Definition: Ball (or Open Ball) in R^n**\n",
    "\n",
    "Let $\\vec{a} \\in R^n$ and let $\\delta > 0$. The ball of radius $\\delta > 0$ centered a $\\vec{a}$,\n",
    "\n",
    "$B(a, \\delta) = \\{\\vec{x} \\in R^n\\: \\Vert \\vec{x} - \\vec{a} \\Vert^2 \\ <  \\delta \\}$\n",
    "\n",
    "This is often called a neighborhood of $\\vec{a}$.\n",
    "\n",
    "\n",
    "**Definition: Open set in R^n**\n",
    "\n",
    "We say a subset U of $R^n$ is open if for every $\\vec{a}$ in $R^n$, there is some ball centered a $\\vec{a}$ entirely in $\\vec{a}$.\n",
    "\n",
    "\n",
    "**Definition: Rectangle and Open Rectangle**\n",
    "\n",
    "$a_i < b_i$ for $i \\in 1,2,\\dots,n$. Then\n",
    "\n",
    "$R = [a_1,b_1] \\times [a_2,b_2] \\times \\dots \\times [a_n,b_n]$ is a rectangle in $R^n$\n",
    "\n",
    "$S = (a_1,b_1) \\times (a_2,b_2) \\times \\dots \\times (a_n,b_n)$ is an open rectangle in $R^n$\n",
    "\n",
    "### Examples of open sets in $R^n$\n",
    "\n",
    "**Open interval** The open interval (a,b) a < b, in R, is an open set. But in $R^2$ it is not.\n",
    "\n",
    "Proof: In R, choose c in (a,b) and $\\delta < \\min(c-a, b-c)$\n",
    "\n",
    "In $R^2$, the interval would be equivalent to $(a,b) = \\{\\begin{bmatrix}x \\\\ 0\\end{bmatrix}: a < x < b\\}$. But no ball centered on c would be in (a,b).\n",
    "\n",
    "**Open Rectangle** The open rectangle S is open in $R^n$\n",
    "\n",
    "Suppose c is in S. Choose $\\delta_i = min(c_i - a_i, b_i - c_i)$ and let $\\delta = \\min(\\delta_i)$\n",
    "\n",
    "**The set $S = \\{\\begin{bmatrix}x \\\\ y\\end{bmatrix}: 0 < xy < 1 \\}$**\n",
    "\n",
    "The set contains 2 disjoint pieces of points between 1/x on the 1st / 3rd quadrant and the axes, with the axes not included.\n",
    "\n",
    "Take $\\vec{c} = \\begin{bmatrix}a \\\\ b\\end{bmatrix}$, assuming $0 \\lt b \\le a$. \n",
    "\n"
   ]
  },
  {
   "cell_type": "markdown",
   "metadata": {},
   "source": [
    "## Closed Sets and Sequences"
   ]
  },
  {
   "cell_type": "markdown",
   "metadata": {
    "vscode": {
     "languageId": "plaintext"
    }
   },
   "source": [
    "**Definition: Sequence** : A sequence of vectors in $R^n$ is a function from the set of natural numbers $N$ to $R^n$. We refer to the kth term of the sequence as $\\{\\vec{x}_k\\}$, and sometimes we refer to the sequence also this way.\n",
    "\n",
    "**Definition: Convergence**: A sequence converges to $\\vec{a}$, if given any $\\epsilon > 0 \\in R$, there is a $K \\in N$ such that, \n",
    "\n",
    "$\\Vert \\vec{x_k} - \\vec{a} \\Vert \\lt \\epsilon$ for all k > K.\n",
    "\n",
    "### Examples\n",
    "\n",
    "$x_k = \\frac{k}{k + 1}$ has limit 1\n",
    "\n",
    "Proof: $1 - \\frac{k}{k + 1} = \\frac{1}{k + 1} < \\frac{1}{k}$. For $\\epsilon$, choose $K = \\lceil \\frac{1}{\\epsilon} \\rceil$, the closest integer greater than  $1/\\epsilon$\n",
    "\n",
    "Then $\\Vert \\frac{k}{k + 1} - 1 \\Vert < \\frac{1}{k} \\le \\frac{1}{K} \\le \\epsilon$, since $K \\ge \\frac{1}{\\epsilon}$\n",
    "\n",
    "### Least Upper Bound Property of R\n",
    "\n",
    "A set $S \\subset R$ is said to be **bounded above** if there is some $b \\in R$, such that for any $a \\in S$, $a \\le b$, and b is said to be an **upper bound** of S. Similarly S is said to be **bounded below** if there is some $b \\in R$, such that for any $a \\in S$, $a \\ge b$. In this case b is said to be a **lower bound** of S.\n",
    "\n",
    "\n",
    "In R, if a nonempty subset S is bounded above, it has a **least upper bound**, called sup S. It's easy to show that this also implies that if a set S is bounded below, that it has a **greatest lower bound**, call inf S.\n",
    "\n",
    "### Closed Sets\n",
    "\n",
    "\n",
    "**Definition: Closed Set** Let set $S \\subset R$. If S has a property that every convergent sequence in S converges to a point in S, then we say S is **closed**. \n",
    "\n",
    "\n",
    "**Proposition**: A set $S \\subset R^n$ is closed if and only if its complement is open\n",
    "\n",
    "Proof: \n",
    "\n",
    "(<=) Let S be a subset of $R^n$, such that $R^n - S$ is open. Let $\\{\\vec{x}_k\\}$ be a convergent sequence of S, converging to $\\vec{a}$. Assume $\\vec{a} \\notin S$, i.e. $\\vec{a} \\in R^n - S$. Then given any ball of some radius $\\epsilon$, an infinite number of points of $\\{\\vec{x}_k\\}$ belonging to S, which would imply there is no open ball containing $\\vec{a}$ which is entirely in $R^n - S$. But this is a contradiction, since $R^n - S$ is open, so our assumption is wrong and $\\vec{a} \\in S$ i.e. S is closed.\n",
    "\n",
    "(=>) Let S be a closed subset of R^n. Let $\\vec{b} \\notin S$. Then we show that there must be an open ball centered on $\\vec{b}$, entirely contained in $R^n - S$. For if not: Then, for every $k \\in N$, construct balls of radius $1/k$. In each ball, there must be at least one element of S - designate this as ${x_k}$ - it follows that the sequence ${x_k}$ contained entirely in S, converges to $\\vec{b}$ - a contradiction since b is closed. So $\\vec{b}$ has an an open ball entirely contained in $R^n - S$ i.e. $R^n - S$ is open.\n",
    "\n",
    "**Definition: Closure** Let set $S \\subset R^n$. The closure of S is the smallest closed set containing S and is designated as $\\overline{S}$.\n",
    "\n",
    "**Example: Closed Interval and Closed Ball** \n",
    "\n",
    "a) $[a,b] = \\{x \\in R: a \\le x \\le b \\}$\n",
    "\n",
    "b) $\\overline{B}(\\vec{a}, r) = \\{x \\in R^n: \\Vert \\vec{x} - \\vec{a} \\Vert \\le r\\}$ \n",
    "\n",
    "are both closed.\n",
    "\n",
    "Proof: (a) $R^N - [a,b]$ is the union of two open sets. If a sequence $\\{\\vec{x}_k\\}$ converges to $\\vec{a}$ in this union, beyond some K, it will be entirely contained in one or the other open set i.e. the union of the two sets is open. Hence its complete is closed.\n",
    "\n",
    "(b) Let $\\vec{x} \\in \\overline{B}(\\vec{a}, r)$. Then let B' be the complement. If $\\vec{c} \\in B'$, then $\\Vert c - a \\Vert > r$. The ball $B(c, |x-a| - r)$ - has no points of B.\n",
    "\n",
    "## Open, Closed, Clopen or None\n",
    "\n",
    "Sets may be open, closed, open and closed or neither open nor closed.\n",
    "\n",
    "\n",
    "\n",
    "\n",
    "\n",
    "\n"
   ]
  },
  {
   "cell_type": "markdown",
   "metadata": {},
   "source": [
    "# Exercises"
   ]
  },
  {
   "cell_type": "markdown",
   "metadata": {},
   "source": [
    "# Ex 2 : Prove that convergence in $R^n$ <=> component-wise convergence\n",
    "\n",
    "(a) =>\n",
    "\n",
    "i.e. each coordinate converges individually, if the sequence converges. Assume $\\{x_k\\}$ converges to a.\n",
    "\n",
    "Given an epsilon, there is a K, such that $|x_k - a| < \\epsilon$ for all k > K =>  $|x_i - a_i| < \\epsilon$ for all k > K (since each term is non-negative) \n",
    "\n",
    "(b) <=\n",
    "\n",
    "Assume components converge. Then given epsilon choose $e/n$. For e/n, choose K = $max(K_1, K_2, K_n)$ where the $K_i$ are chosen such that:\n",
    "$|{x_k}_i - a_i| < \\epsilon/n$ for $k > K_i$.\n",
    "\n",
    "The $|x_k - a| < \\epsilon$ for all k > K i.e. the sequence converges.\n",
    "\n"
   ]
  },
  {
   "cell_type": "markdown",
   "metadata": {},
   "source": [
    "## Ex 3a: Length of convergent sequence of vectors converges to length of limit\n",
    "\n",
    "$|x_k| = |a|$ - consider the sequence $|x_k|$. |x_k - a| <= ||x_k| - |a|| by definition. Rest follows by choosing epsilon, K.\n",
    "\n"
   ]
  },
  {
   "cell_type": "markdown",
   "metadata": {},
   "source": [
    "# Ex 3b. Dot product with known vector sequence converges to dot product with limit\n",
    "\n",
    "$Absolute value : |x_k.b - a.b| = |b.(x_k - a)| <= || b|| || x_k - a||$ Given an $\\epsilon$, first choose an $e2 = \\epsilon/||b||$ Now, there is a K for which for all k > K, ||x_k - a|| < e2. i.e. || b || || x_k - a || < epsilon i.e. |x_k.b - a.b| < epsilon for all k > K.\n"
   ]
  },
  {
   "cell_type": "markdown",
   "metadata": {},
   "source": [
    "# Ex 6: Subsequence Converges\n",
    "\n",
    "Proof :\n",
    "Given sequence $\\{\\vec{x}_k\\}$. Choose ${x_{k_i}}$, such that $k_1 < k_2 < k_3 < \\dots $. This is a subsequence. Note that $k_j \\ge j$ for all j (proof by induction - $k_1 \\ge 1$, assume $k_n \\ge n$, then $k_{n+1} > k_{n} \\ge n$ => $k_{n+1} \\gt n$ => $k_{n+1} \\ge n+1$)\n",
    "\n",
    "Given an $\\epsilon$, there is a K for which $|x_j - a| < \\epsilon$ for all j > K. Since $k_j \\ge j$ for all j, it follows that:\n",
    "\n",
    "$|x_{k_j} - a| < \\epsilon$ for all $k_j > K$.\n",
    "\n",
    "Proof of converse:\n",
    "\n",
    "If every subsequence converges, so does the original sequence, since it is subsequence!"
   ]
  },
  {
   "cell_type": "markdown",
   "metadata": {},
   "source": [
    "# Ex 7: Intersections and Unions of open sets are open in $R^n$\n",
    "\n",
    "Intersection: if a is in the intersection, there must be two balls around a of radius d1 and d2 only containing points of each. The B(a, min(d1,d2)) contains both. So a has an open ball in the intersection.\n",
    "\n",
    "Union: Even easier - if a is in the union, an open ball containing only points of either one, is also in the union and hence a has an open ball of points of the union only."
   ]
  },
  {
   "cell_type": "markdown",
   "metadata": {},
   "source": [
    "# Ex 8/9: (a) Interior, Frontier Points : interior - some neighborhood is in the set. frontier point of a set - every neighborhood has some points of the set and some not of the set.\n",
    "\n",
    "Suppose a point s of a set S is not a frontier point. Obviously every neighborhood contains s, so the only way this would not be a frontier point is if some neighborhood contained only s i.e. s is an interior point. Conversely suppose a point in s is not an interior point then it can only be a frontier point, by definition.\n",
    "\n",
    "But a frontier point may not belong to the set at all. E.g. (0,1) - 0 is a frontier point as is 1.\n",
    "\n",
    "(b) A set every point of which is a frontier set - any curve in 2d?\n",
    "\n",
    "(c) set of frontier points is always a closed set - Take int(S), frontier(S) and $T = R^n - int(S) - frontier(S)$. int(S) is an open set, as is T. So frontier(S) is closed.\n",
    "\n",
    "(d) S' = Union of S and frontier(S) is closed: Complement = T above is open. Hence union S' is closed.\n",
    "\n",
    "(e) If C is a closed set containing S, then S' is subset of C i.e. S' is the closure of S: If x belongs frontier(S), then every neighborhood contains point of S. We can construct a set of neighborhoods of decreasing size (1/k) and create a sequence converging to x i.e. every point of the sequence belongs to S and hence to C. Thus so does x, since C is closed. OR\n",
    "\n",
    "Assume x in frontier(S) is not in C. Then there is a point in the complement of C, such that no neighborhood is without a point of S i.e. a point of C. Thus the complement of C is not open, and hence C is not closed - a contradiction.\n",
    "\n",
    "9.(a) - All interior points of $\\overline{S}$ are in S? If an interior point x of $\\overline{S}$ is not a point of S, it would belong to the frontier of S. In this case every neighborhood of x would contain a point of S, and a point belonging to the frontier of S. An example may be (0,1) within the set [0,infinity]. Then the point 0 is on the frontier, but also in the interior of the closure.\n",
    "\n",
    "A good example: set of all rationals in (0,1). Closure = [0,1]. interior of set = empty but interior of closure = (0,1). Here every point in the set is a frontier point.\n",
    "\n",
    "(a-2) What if S is open? See example of (0,1) U (1,2).\n",
    "\n",
    "(b) frontier points of frontier points is itself. Let F be set of frontier points of S. Let F' be frontier of F. If x' is in F', but not F, then every neighborhood of F' contains some point in F, say, x. This implies that this neighborhood is also a neighborhood of x and hence by definition contains a point in S and a point not in S. i.e. x' is in F - a contradiction. Thus x' has to be in F to begin with and the frontier of F is F itself.\n",
    "\n",
    "\n",
    "\n",
    "\n",
    "\n",
    "\n",
    "\n",
    "\n",
    "\n"
   ]
  },
  {
   "cell_type": "markdown",
   "metadata": {},
   "source": [
    "# Ex 10: Intersection of nested closed intervals in R is non-empty\n",
    "\n",
    "(a) Assuming the nested intervals are $[a_1, b_1], [a_2, b_2]$ etc, then $a_1 < a_2 < ... $ for all N. But this sequence has an upper bound (any of the b's) i.e. it has a least upper bound = L, say. Then for any $[a_i, b_i]$, $a_i \\le L \\le b_i$ i.e. L is in every interval.\n",
    "\n",
    "(b) if intervals are not closed, but open, L may not belong to the interval. e.g. (0,1), (1/2, 1), (1/4, 1) has a lub of 1, which is not in any interval. The other way to think is that the infinite intersection becomes the singleton closed interval [a,a] while (a,a) = empty set."
   ]
  },
  {
   "cell_type": "markdown",
   "metadata": {},
   "source": [
    "# Ex 11: The only subsets of R which are both open and closed (clopen) are the empty set and R itself.\n",
    "\n",
    "Suppose S is a non-empty subset that is both open and closed. Then it's complement S' is also clopen and non-empty. Let a in S, b in S' - assume a < b (we can always do this or reverse S and S'). Let $\\alpha = sup \\{x \\in R: [a,x] \\in S\\}$. Since S is closed, $\\alpha$ should be in S. But then take any neighborhood of $\\alpha$ which only contains points of S. It contains some $y > \\alpha$ and hence [a,y] should be in S => y is greater than the least upper bound. This is a contradiction and we must assume S is not closed - a contradiction.\n",
    "\n"
   ]
  },
  {
   "cell_type": "markdown",
   "metadata": {},
   "source": [
    "# Ex 12: Cauchy Sequences\n",
    "\n",
    "A sequence $\\{x_k\\}$ is a Cauchy sequence if given an $\\epsilon$, there is a K such that $\\Vert x_k - x_l \\Vert < \\epsilon$ for all k,l > K.\n",
    "\n",
    "**a) Prove any convergent sequence is Cauchy.** Choose e such that:\n",
    "\n",
    "$| x_k - a | < e/2$ for k > K, and  $| x_l - a | < e/2$  for l > K.\n",
    "\n",
    "Then $| x_k - x_l | < e$\n",
    "\n",
    "**b) If a subsequence of a Cauchy sequence converges, so does the sequence itself, and to the same limit**\n",
    "\n",
    "Let $\\{x_{k_j}\\}$ converge to a. Then for a given e, there is a j > J, such that whenever j > J, $|x_{k_j} - a| < e/2$. And because the sequence is Cauchy, there is a K such that $|x_k - x_l| < e/2$ for k, l > K. Choose m > J such that $k_m > K$. Then, $|x_{k_m} - a| < e/2$. and $|x_k - a| <= |x_k - x_{k_j}| + |x_{k_j} - a| <= e$ for k > K (using the triangle inequality).\n",
    "\n",
    "## Ex 13: All points of a Cauchy sequence lie in a ball centered at the origin\n",
    "\n",
    "Proof: We just have to show a Cauchy sequence has a finite upper or lower bound. Choose some epsilon. We know that |x_k - x_l| < e for k,l > K. Then choose r = max(|x_1|, |x_2|, ..., |x_K|, |x_K+1| + |e|). The ball B(0,r) contains all the points of the sequence.\n",
    "\n",
    "## Ex 14(a): A Cauchy sequence in R lies in a closed interval [a,b]. Prove it converges.\n",
    "\n",
    "If there are only finitely many values in the range of the sequence, then at least one of the values will have an infinite number of pre-images (simple logic - if there are m points and all have finite pre-images of max size n say, then the sequence would not be defined for all N). Just choose a subsequence converging to that number. Note that there cannot be 2 such numbers m and n, because otherwise $| x_m - x_n | > e$ for some given epsilon, and the sequence would not be Cauchy.\n",
    "\n",
    "Consider that there are infinitely many values in the range of the sequence. Choose the half of the interval where the value is infinite, and pick one value. For example, choose [a, a+b/2] or [a+b/2, b]. Let the interval be [a_1, b_1]. Then choose half of that one, and so on. The a be the sup(a_i). Then a exists and [a_i < a < b] for all i. Construct a sequence by choosing $x_{k_i}$ from each interval. Since there are infinitely many, we can also ensure $k_{i+1} > k_{i}$. Then $x_{k_i}$ form a subsequence. Also, | x_{k_j} - a| < e for some j > J => subsequence converges to a. Hence the overall Cauchy sequence also converges to a.\n",
    "\n",
    "## Ex 14(b): In R every Cauchy sequence converges\n",
    "\n",
    "Since every Cauchy sequence lies in a ball around the origin, we have, in R, every Cauchy sequence converges.\n",
    "\n",
    "## Ex 14(c) : In $R^n$ every Cauchy sequence converges\n",
    "\n",
    "Let {x_k} be a sequence in $R^n$. Then given that given e, we have a K s.t for k,l > K, $| x_k - x_l | < e$. But then $|x_{k_i} - x_{l_i}| < e$ Thus the sequence formed by the ith components also form a Cauchy sequence, which converges to some $a_i$. And by ex 2, the Cauchy sequence also converges to some a.\n",
    "\n",
    "\n",
    "\n",
    "\n"
   ]
  },
  {
   "cell_type": "markdown",
   "metadata": {
    "vscode": {
     "languageId": "plaintext"
    }
   },
   "source": [
    "# Ex 15: S is a subset of a closed \"rectangle\" in $R^n$. Prove that any sequence of points in S has a convergent subsequence.\n",
    "\n",
    "Let $\\{x_k\\}$ be a sequence in S. Then, by definition, the ith coordinates also form a (possibly infinite-valued) sequence within the closed interval $[a_i, b_i]$ - $\\{x_{i_k}\\}$. \n",
    "\n",
    "1) Following the method of Ex 14(a) we can split the interval by half, picking the half-interval with infinite points, and pick one point in that interval belonging to S. \n",
    "\n",
    "Let i = 1 i.e. take the first co-ordinate. Given any e, and the interval $(a_1, b_1)$, we can find an N such that b-a/N < e (Archimedean property). Then for all k,l > N, the points distance is less than e i.e. this subsequence is Cauchy, and converges to some limit $l_1$. Thus this sequence of points in S, $S_1$ coverge to some point, whose first coordinate is $l_1$\n",
    "\n",
    "2) Let i = 2, taking the second coordinate and find a subsequence of $S_1$ by subdividing the interval $(a_2, b_2)$. This is a subsequence of $S_1$, so should converge to the same point in S, whose first coordinate is $l_1$. In addition, we know this point is the limit of the second coordinates of the sequence, hence the 2nd coordinate is $l_2$.\n",
    "\n",
    "3) Assume that this is true for i = m - i.e. a cauchy subsequence esists and has limit $l_m$, and the point of convergence has coordinates $(l_1, l_2, .. l_m, ...)$\n",
    "\n",
    "4) Then for i = m+1, we can start with the subsequence for i = m, and repeat, getting the same result, having limit $l_{m+1}$, and converging to a point with coordinates $(l_1, l_2, .. l_m, l_m+1, ...)$\n",
    "\n",
    "Thus this is true for all i upto n, and there is a convergent subsequence for the nth coordinate, which converges to a unique point $(l_1, l_2, .. l_n)$ within the rectangular cell.\n"
   ]
  },
  {
   "cell_type": "markdown",
   "metadata": {},
   "source": [
    "# Summary of Comvergent / Cauchy Sequence Results\n",
    "\n",
    "In a metric space:\n",
    "\n",
    "a) A subsequence can converge, even if the sequence doesn't e.g. (1,0,1,0,1,0) vs (1,1,1,)\n",
    "\n",
    "b) Every convergent sequence is Cauchy - Ex 12\n",
    "\n",
    "c) Every Cauchy sequence converges in R / $R^n$ (or - in any complete metric space). It is possible for cauchy sequences to not converge in the field of rationals for example the sequence of increasing digits if $\\pi$ in Q does not converge to a point in Q. It follows that every Cauchy sequence is bounded. In fact this can be used to define complete metric spaces. Ex 13/14\n",
    "\n",
    "d) If a Cauchy sequence converges (and it certainly does in $R^n$), then every subsequence converges to the same limit. This implies that for any convergent sequence, any subsequence converges to the same limit.\n",
    "\n",
    "e) Bolzano-Weierstrass: Every bounded sequence in $R^n$ has a convergent subsequence. \n",
    "\n",
    "\n",
    "In fact the property (e) can be generalized to the notion of compactness (or more specifically sequential compactness). In a metric space, to be compact a set must be bounded and complete. A different way of formulating this is to say that for a compact set, every cover has a finite subcover, which allows us to pass from local information about a set to a global statement. \n",
    "\n",
    "See : https://www.math.ucla.edu/~tao/resource/general/131bh.1.03s/week2.pdf for more details.\n",
    "\n"
   ]
  }
 ],
 "metadata": {
  "language_info": {
   "name": "python"
  }
 },
 "nbformat": 4,
 "nbformat_minor": 2
}
