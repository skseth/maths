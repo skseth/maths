{
 "cells": [
  {
   "cell_type": "markdown",
   "metadata": {},
   "source": [
    "# Limits\n",
    "\n",
    "## Definition: Limit of a function\n",
    "\n",
    "Let $U \\subset R^n$ be an open subset containing a neighborhood of $\\vec{a} \\in R^n$, except possibly $\\vec{a}$ itself. Suppose $f:U \\to R^m$. We say:\n",
    "\n",
    "$\\lim_{\\vec{x} \\to \\vec{a}} f(\\vec{x}) = \\vec{l}$ if, \n",
    "\n",
    "Given any $\\epsilon > 0$, there is a $\\delta > 0$, such that:\n",
    "\n",
    "$\\Vert f(x) - l \\Vert| < \\epsilon$ whenever 0 < $\\Vert \\vec{x} - \\vec{a} \\Vert < \\delta$.\n",
    "\n",
    "**Note** The point a need not be in the domain of f. Hence the statement \"except possibly ...' and also the inequality 0 < $\\Vert \\vec{x} - \\vec{a} \\Vert < \\delta$. Even if f(a) is defined, it need not be l.\n",
    "\n",
    "## Definition: Limit of a vector valued function is defined component by component\n",
    "\n",
    "$\\lim_{\\vec{x} \\to \\vec{a}} \\vec{f}(\\vec{x}) = \\vec{l}$ iff $\\lim_{\\vec{x} \\to \\vec{a}} \\vec{f_j}(\\vec{x}) = l_j$ for all j from 1..m\n",
    "\n",
    "Proof: \n",
    "=> Easy\n",
    "\n",
    "<= Choose $e/\\sqrt{m}$. There exist $\\delta_1, ..., \\delta_m$ such that the limit condition is met for each coordinate. Choose $\\delta = \\min(\\delta_1, ..., \\delta_m)$. \n",
    "\n",
    "Then $\\Vert \\vec{f}(\\vec{x}) - \\vec{l} \\Vert = \\sqrt{\\sum_j (f_j(\\vec{x}) - l_j)^2} < \\sqrt{m (\\frac{e}{\\sqrt{m}})^2}  = e$\n",
    "\n",
    "...\n",
    "\n",
    "## Proposition: Let $\\vec{f}:R^n \\to R = \\vec{b} \\cdot \\vec{x}$ for some $\\vec{b} \\in R^n$. Then $\\lim_{x \\to a} f(\\vec{x}) = f(\\vec{a})$.\n",
    "\n",
    "$\\Vert \\vec{f}(\\vec{x}) - \\vec{f}(\\vec{a}) \\Vert = \\Vert \\vec{b} \\cdot \\vec{x} - \\vec{b} \\cdot \\vec{a} \\Vert = \\Vert \\vec{b} \\cdot (\\vec{x} - \\vec{a}) \\Vert \\le \\Vert \\vec{b} \\Vert \\Vert \\vec{x} - \\vec{a} \\Vert$ by the Cauchy-Schwarz inequality.\n",
    "\n",
    "Thus, by choosing $\\delta = \\epsilon/(\\Vert \\vec{b} \\Vert)$ we get the desired result.\n",
    "\n",
    "## Corollary: For any linear map $T:R^n \\to R^m$, $\\lim_{\\vec{x} \\to \\vec{a}} T({\\vec{x}}) = T(\\vec{a})$.\n",
    "\n",
    "We know that for any linear map T, we have A = [T], such that :\n",
    "\n",
    "$T(\\vec{x}) = A\\vec{x} = \\begin{bmatrix}A_1 \\cdot \\vec{x} \\\\ A_1 \\cdot \\vec{x} \\\\ \\dots \\\\ A_m \\cdot \\vec{x} \\end{bmatrix}$ where each of $A_1, A_2, \\cdots, A_m \\in R^n$. Since each of $A_i$ have a limit  $\\lim_{\\vec{x} \\to \\vec{a}} A_i{\\vec{x}} = A_i{\\vec{a}}$, we have \n",
    "\n",
    "$\\lim_{\\vec{x} \\to \\vec{a}} T(\\vec{x}) = \\begin{bmatrix}A_1 \\cdot \\vec{a} \\\\ A_1 \\cdot \\vec{a} \\\\ \\dots \\\\ A_m \\cdot \\vec{a} \\end{bmatrix} = A\\vec{a} = T(\\vec{a})$\n",
    "\n",
    "\n",
    "## Theorem: Limit of sum, dot product and scalar multiplication of functions\n",
    "\n",
    "Suppose $\\vec{f}, \\vec{g}, k$ be functions defined in a neighborhood of $\\vec{a} \\in R^n$, except possible $\\vec{a}$. f,g are functions to $R^m$, k is a function to R.\n",
    "\n",
    "$lim_{\\vec{x} \\to \\vec{a}} f(\\vec{x}) = \\vec{l}$, $lim_{\\vec{x} \\to \\vec{a}} g(\\vec{x}) = \\vec{m}$, $lim_{\\vec{x} \\to \\vec{a}} k(\\vec{x}) = c$, \n",
    "\n",
    "Then \n",
    "\n",
    "a) $lim_{\\vec{x} \\to \\vec{a}} f(\\vec{x}) + g(\\vec{x}) = \\vec{l} + \\vec{m}$\n",
    "\n",
    "b) $lim_{\\vec{x} \\to \\vec{a}} f(\\vec{x}) \\cdot g(\\vec{x}) = \\vec{l} \\cdot \\vec{m}$\n",
    "\n",
    "c) $lim_{\\vec{x} \\to \\vec{a}} k(\\vec{x}) f(\\vec{x}) = c\\vec{l}$\n",
    "\n",
    "Proof:\n",
    "\n",
    "a) choose $\\delta = \\epsilon/2$\n",
    "\n",
    "b) choose $\\delta_l = \\epsilon/(2\\Vert \\vec{m} \\Vert + 1)$ and $\\delta_m = \\epsilon/(2\\Vert \\vec{l} \\Vert + 1)$\n",
    "\n",
    "c) choose $\\delta_l = min(\\epsilon/(2(|c|+ 1)), 1)$ and $\\delta_k = \\epsilon/(2(\\Vert l \\Vert + 1))$\n",
    "\n",
    "$$\n",
    "\\begin{align}\n",
    "\n",
    "\\text{Note: } \\Vert \\vec{f}(\\vec{x}) = \\Vert & < \\Vert l \\Vert + 1 \\text{by triangle inequality}\\\\\n",
    "\n",
    "\\Vert k(x)\\vec{f}(x) - c\\vec{l} \\Vert &= \\Vert (k(x) - c)(\\vec{f}(x) + c(\\vec{f}(x) - \\vec{l}) \\Vert \\\\ \n",
    "        &<= |k(x) - c|\\Vert f(x)\\Vert + |c|\\Vert \\vec{f}(x) - \\vec{l} \\Vert \\\\\n",
    "        &< |k(x) - c|(\\Vert l\\Vert  + 1)+ |c|\\Vert \\vec{f}(x) - \\vec{l} \\Vert \\\\\n",
    "        &< \\frac{\\epsilon}{2(\\Vert l \\Vert + 1)}(\\Vert l\\Vert  + 1) + |c|\\frac{\\epsilon}{2(|c| + 1)} \\\\\n",
    "        &< \\frac{\\epsilon}{2} + \\frac{\\epsilon}{2} = \\epsilon\n",
    "\n",
    "\\end{align}\n",
    "$$\n",
    "\n",
    "\n"
   ]
  },
  {
   "cell_type": "markdown",
   "metadata": {},
   "source": [
    "# Example of non-convergence\n",
    "\n",
    "$f(x) = \\frac{xy}{x^2 + y^2}$\n",
    "\n",
    "Note that:\n",
    "\n",
    "$\\lim_{h \\to 0} f(h,0) = \\lim_{k \\to 0} f(0,k) = 0$.\n",
    "\n",
    "But:\n",
    "$\\lim_{h \\to 0} f(h,h) = 1/2$.\n",
    "\n"
   ]
  },
  {
   "cell_type": "markdown",
   "metadata": {},
   "source": [
    "# Continuity\n",
    "\n",
    "## Definition: Continuity of a function in R^n\n",
    "\n",
    "Let U be an open subset of $R^n$ containing a neighborhood of $\\vec{a}$. A function $\\vec{f}(\\vec{x}): U \\to R^m$ is said to be continuous at $\\vec{a}$ if :\n",
    "\n",
    "$\\lim_{\\vec{x} \\to \\vec{a}} \\vec{f}(\\vec{x}) = \\vec{f}(\\vec{a})$\n",
    "\n",
    "Note that: a) f(x) is defined at a  (b) the limit is equal to the value at a, when approached from any direction.\n",
    "\n",
    "A function f is said to be **continuous** if it is continuous at every point in its domain.\n",
    "\n",
    "## Theorem: If $\\vec{f}$ and $\\vec{g}$ map a neighborhood of $\\vec{a}$ in $R^n$ to $R^m$ and $k$ is a function that maps the same neighborhood to R.\n",
    "\n",
    "Then: ** $\\vec{f} + \\vec{g}$, $\\vec{f} \\cdot \\vec{g}$ and $k\\vec{f}$ are all continuous at $\\vec{a}$**\n",
    "\n",
    "## Proposition: Continuity with open sets: Let U be an open subset of $R^n$ containing a neighborhood of $\\vec{a}$. A function $\\vec{f}: U \\to R^m$ is said to be continuous if the pre-image $f^{-1}(V)$ of every open set V in $R^m$ is an open set.\n",
    "\n",
    "**Restating the $\\epsilon-\\delta$ definition**\n",
    "\n",
    "f is continuous at $\\vec{a}$ if given an $\\epsilon > 0$, there is a $\\delta > 0$, such that $\\Vert f(x) - f(a) \\Vert \\lt \\epsilon$ for all $\\Vert x - a \\Vert \\lt \\delta$. We can also say that $f(B(\\vec{a}, \\delta))) \\subset B(f(\\vec{a}), \\epsilon)$. Alternatively we can state: $B(\\vec{a}, \\delta)) \\subset f^{-1}(B(f(\\vec{a}), \\epsilon))$ - i.e. the $\\delta$-ball is entirely contained in the pre-image of the $\\epsilon$-ball.\n",
    "\n",
    "Now suppose f is continuous over U. Take any open, non-empty Y in range of f. Take any point y in Y. Then since Y is an open set, we can find an open ball $B(y, \\epsilon) \\subset Y$, it follows that : $f^{-1}(B(y, \\epsilon)) \\subset f^{-1}(Y)$ \n",
    "\n",
    "Now take an $x \\in f^{-1}(y)$ - there can be multiple such x's, take each one. So consider the case where there is at least one x. Because we know function is continuous, we know that for each x, there is a $\\delta > 0$, such that an open ball $B(x, \\delta) \\subset f^{-1}(B(y, \\epsilon)) \\subset f^{-1}(Y)$. Thus every point in the pre-image of Y ($f^{-1}(Y)$) has an open ball around it entirely in the pre-image, and $f^{-1}(Y)$ is open.\n",
    "\n",
    "Note that in general $x \\in f^{-1}(y)$ may be multi-valued. E.g consider $y = x^2$. For Take the interval for y of (1/25,16/25) - the inverse are the images $(-4/1, -1/5) \\cup (1/5, 4/5)$. If we take y = 5.25/25, then $x = \\{-1/2, 1/2 \\}$. Take the interval (4/25, 9/25) around y, the pre-image is $(-3/5, -2/5) \\cup (2/5, 3/5)$ Any ball of $\\delta$ less that $1/2-2/5 = 1/10$ e.g. $(2/5, 3/5) or (-3/5, -2/5) will have images meeting the criteria. So in general we have to understand the open set language captures a lot of nuances.\n",
    "\n",
    "**Proof**:\n",
    "\n",
    "(<=) Take any $\\vec{a}$ in U. Given $\\epsilon$, choose $V = B(\\vec{f}(\\vec{a}), \\epsilon)$. Then $\\vec{f^{-1}}(V)$ is open i.e. there is some ball $B(\\vec{a}, \\delta)$ contained within $\\vec{f^{-1}}(V)$ such that $\\vec{f}(\\vec{x}) \\in V$. Thus $\\Vert \\vec{f}(\\vec{x}) - \\vec{f}(\\vec{a}) \\Vert \\lt \\epsilon$  whenever $\\Vert \\vec{x} - \\vec{a} \\Vert \\lt \\delta$\n",
    "\n",
    "(=>) Given an open set V in $R^m$, $W = f^{-1}(V)$ is the pre-image. Let $\\vec{a}$ be in W (if W is empty, it is open, so consider the non-empty case). Then, since V is open, choose a ball $B(f(a), \\epsilon)$ entirely in V. The pre-image of this ball lies entirely in W within a ball $B(a, \\delta)$ since f is continuous, W is the pre-image of V, and $B(f(a), \\epsilon)$ lies in V. Thus every point a in W has an open neigborhood entirely in W => W is open.\n",
    "\n",
    "## Proposition: Suppose $U \\subset R^n$ and $W \\subset R^p$ are open sets. Let $\\vec{g}: W \\to R^n$ and $\\vec{f}: U \\to R^m$ be continuous, and $\\vec{f} \\circ \\vec{g}$ is defined i.e. $\\vec{g}(\\vec{x}) \\in U$ for all $\\vec{x} \\in W$. Then $\\vec{f} \\circ \\vec{g}$ is continuous.\n",
    "\n",
    "Let V be an open set in $R^m$. Then $V' = f^{-1}(V) \\subset U$ is an open set since f is continuous. Now, $V'' = g^{-1}(V')$ lies entirely in W (since V' is open, and g is continuous, and we have assumed $f \\circ g$ is defined ). Thus any open set in $R^m$ has an open pre-image in W and $f \\circ g$ is continuous.\n",
    "\n",
    "\n",
    "\n"
   ]
  },
  {
   "cell_type": "markdown",
   "metadata": {},
   "source": [
    "# Continuity and Convergence\n",
    "\n",
    "## Proposition: Suppose $U \\subset R^n$, and $\\vec{f}: U \\to R^m$ is a function. Then $\\vec{f}$ is continuous at $\\vec{a}$ iff for every $\\{x_k\\}$ of points in U converging to $\\vec{a}$ the sequence $\\{\\vec{f}(\\vec{x})\\}$ converges to $\\vec{f}(\\vec{a})$\n",
    "\n",
    "(=>) Suppose $\\vec{f}$ is continuous. Then given $\\epsilon$, there is a $\\delta$, such that whenever $\\Vert \\vec{x} - \\vec{a} \\Vert \\lt \\delta$, then $\\Vert \\vec{f}(\\vec{x}) - \\vec{f}(\\vec{a}) \\Vert \\lt \\epsilon$\n",
    "\n",
    "Let $\\{x_k\\}$ be a sequence of points converging to to $\\vec{a}$. Then there is a K, such that $\\Vert \\vec{x_k} - \\vec{a} \\Vert \\lt \\delta$, whenever k > K. But then, $\\Vert \\vec{f}(\\vec{x_k}) - \\vec{f}(\\vec{a}) \\Vert \\lt \\epsilon$ since f is continuous for all k > K. Thus the series $\\{\\vec{f}(\\vec{x_k})\\}$ converges to $\\vec{f}(\\vec{a})$.\n",
    "\n",
    "(<=) We would like to prove that if $\\{\\vec{f}(\\vec{x_k})\\}$ converges whenever $\\{x_k\\}$ converges, then $\\vec{f}(\\vec{x})$ is continuous. We can prove the contrapositive : If $\\vec{f}(\\vec{x})$ is not continuous at $\\vec{a}$, then we have to prove there is some $\\{x_k\\}$ that converges to $\\vec{a}$, but $\\{\\vec{f}(x_k)\\}$ does not converge to $\\vec{f}(\\vec{a})$. Since $\\vec{f}(\\vec{x})$ is not continuous at $\\vec{a}$ we have a situation where given some $\\epsilon_0$, no matter what $\\delta$ we choose, there is some $\\vec{b}$ such that $\\Vert \\vec{b} - \\vec{a} \\Vert \\lt \\delta$, but $\\Vert \\vec{f}(\\vec{b}) - \\vec{f}(\\vec{a}) \\Vert \\gt \\epsilon$. We can then choose the $\\{x_k\\}$ such that $\\Vert x_k - a \\Vert \\lt \\frac{1}{k}$, but $\\Vert \\vec{f}(x_k) - \\vec{f}(a) \\Vert \\gt \\epsilon_0$. Clearly this sequence converges to a, but $\\vec{f}(x_k)$ does not converge to $\\vec{f}(a)$.\n",
    "\n",
    "## Proposition: Suppose $\\vec{f}: R^n \\to R^m$ is continuous, and $\\vec{c} \\in R^m$. Then the level set $\\vec{f}^{-1}(\\{\\vec{c}\\}) = \\{ \\vec{x} \\in R^n: \\vec{f}(\\vec{x})\\}$ is a closed set.\n",
    "\n",
    "{c} is a closed set, by definition. i.e. $C = R^m - {c}$ is open. $f^{-1}(C)$ is open since f is continuous i.e. $D = R^n - f^{-1}(C)$ is closed i.e. f^{-1}({c}) is closed.\n",
    "\n",
    "In fact, we have a stronger statement:\n",
    "\n",
    "## Proposition: f is continuous <=> the preimage of any closed set in the range is also closed in the domain.\n",
    "\n",
    "Proof: (=>) Let D be a closed set in the range Y. Then D' = Y - D is open. $f^{-1}(D')$ in domain X is open i.e. Then $X - f^{-1}(D') = f^{-1}(D)$ is closed.\n",
    "\n",
    "(<=) Let the preimage of any closed set in the range be closed in the domain. Let V be an open set in the range. Then the complement of V is closed, hence the preimage of the complement is closed in the domain, and the complement of the preimage of the complement is open. i.e. the preimage of V is open. Hence f is continuous.\n"
   ]
  },
  {
   "cell_type": "markdown",
   "metadata": {},
   "source": [
    "# Exercise 2.3\n"
   ]
  },
  {
   "cell_type": "markdown",
   "metadata": {},
   "source": [
    "# Ex 1 : If the limit of a function exists, it must be unique\n",
    "\n",
    "Let l, m be two distinct limits. Choose $\\epsilon = |l-m|/2$. \n",
    "\n"
   ]
  },
  {
   "cell_type": "markdown",
   "metadata": {},
   "source": [
    "# Ex 2: $\\Vert \\vec{x} \\Vert$ is continuous\n",
    "\n",
    "$\\Vert \\vec{x} - \\vec{a} \\Vert \\ge |\\Vert \\vec{x} \\Vert - \\Vert \\vec{a}\\Vert |$. \n",
    "\n",
    "If $\\Vert \\vec{x} - \\vec{a} \\Vert \\lt \\epsilon$ =>  $|\\Vert \\vec{x} \\Vert - \\Vert \\vec{a}\\Vert | \\lt \\epsilon$\n",
    "\n",
    "\n"
   ]
  },
  {
   "cell_type": "markdown",
   "metadata": {},
   "source": [
    "# Ex 3: Squeeze Principle (R)\n",
    "\n",
    "Assume f, g, h are functions on $R^m$ defined in a neighborhood of $\\vec{a}$, though not necessarily at $\\vec{a}$ itself, s.t $f(x) \\le g(x) \\le h(x)$ for all x, and $\\lim_{x \\to a} f(x) = \\lim_{x \\to a} h(x) = l$, then $\\lim_{x \\to a} g(x) = l$.\n",
    "\n",
    "Proof: Whenever |x - a| < delta, || f(x) - l || < e, || h(x) - l || < e => -e < f(x) -l, h(x) -l < e.\n",
    "\n",
    "but -e < f(x) - l <= g(x) - l <= h(x) - l < e => || g(x) - l || < e.\n",
    "\n"
   ]
  },
  {
   "cell_type": "markdown",
   "metadata": {},
   "source": [
    "# Ex 4: If f(a) > 0, f continuous, there is a neighborhood of a where the range is greater than zero.\n",
    "\n",
    "Proof: pretty obvious. "
   ]
  },
  {
   "cell_type": "markdown",
   "metadata": {},
   "source": [
    "# Ex 5: Prove that 1/g is continuous at a, if g(a) is not zero\n",
    "\n",
    "$f(x) = \\frac{1}{x}$\n",
    "\n",
    "Then, $f \\circ g = 1/g$\n",
    "\n",
    "Lemma: f(x) = 1/x is continuous: Consider x = c <> 0.\n",
    "\n",
    "Given an $\\epsilon$, choose $\\delta = \\min(\\frac{|c|^2\\epsilon}{2}, \\frac{|c|}{2})$\n",
    "\n",
    "\n",
    "If $|x-c| < \\delta \\le \\frac{|c|}{2}$.\n",
    "\n",
    "$|c| = |c - x + x| \\le |x - c| + |x| \\le  \\frac{|c|}{2} + |x|$ => $|x| \\ge |c|/2$ => $1/|x| \\le 2/|c|$\n",
    "\n",
    "\n",
    "$|\\frac{1}{x} - \\frac{1}{c}| = \\frac{|x -c|}{|x||c|} \\le \\frac{2}{|c|^2}|x - c| \\le \\frac{2}{|c|^2} \\delta \\le \\epsilon$ \n",
    "\n",
    "\n"
   ]
  },
  {
   "cell_type": "markdown",
   "metadata": {},
   "source": [
    "# Ex 5: Prove linear maps are continuous using $\\Vert A \\vec{x} \\Vert = (\\sum_{i,j} a_{ij})^{1/2} \\Vert \\vec{x} \\Vert$"
   ]
  },
  {
   "cell_type": "markdown",
   "metadata": {},
   "source": [
    "# Ex 6: Find limits as $x \\to 0$\n",
    "\n",
    "a) $f:R^2 \\to R: \\frac{xy}{x + y + 1}$ \n",
    "\n",
    "If f continuous at 0? f(0) = 0. Also g([x,y]) = x + y + 1 is continuous and g([0,0]) = 1, so 1/g is continuous at 0. So is h([x,y]) = xy?\n",
    "\n",
    "Hence f is continuous, so limit is 0.\n",
    "\n",
    "\n",
    "\n"
   ]
  }
 ],
 "metadata": {
  "language_info": {
   "name": "python"
  }
 },
 "nbformat": 4,
 "nbformat_minor": 2
}
