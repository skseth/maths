{
 "cells": [
  {
   "cell_type": "markdown",
   "id": "f8d0d6c0-4858-49c4-a610-59467872bb83",
   "metadata": {},
   "source": [
    "# Sources\n",
    "\n",
    "- [MIT OCW - Linear Algebra by Gilbert Strang](https://ocw.mit.edu/courses/18-06-linear-algebra-spring-2010)\n",
    "  \n",
    "- [Shifrin Math 3500-3510 By Dr. Theodore Shifrin](https://www.youtube.com/watch?v=8hX0QePiWlw&list=PL5I-Eyk8l9FHdJUd9UujGcvumjCFPHbrd)\n",
    "\n",
    "- [Linear Algebra Done Right - Sheldon Axler](https://linear.axler.net/)\n",
    "\n",
    "- [3Blue1Brown Linear Algebra](https://www.3blue1brown.com/topics/linear-algebra)\n",
    "\n",
    "\n"
   ]
  },
  {
   "cell_type": "code",
   "execution_count": null,
   "id": "8c4b52ad-13f9-4708-a798-bdc43fb8265a",
   "metadata": {},
   "outputs": [],
   "source": []
  }
 ],
 "metadata": {
  "kernelspec": {
   "display_name": "Python 3 (ipykernel)",
   "language": "python",
   "name": "python3"
  },
  "language_info": {
   "codemirror_mode": {
    "name": "ipython",
    "version": 3
   },
   "file_extension": ".py",
   "mimetype": "text/x-python",
   "name": "python",
   "nbconvert_exporter": "python",
   "pygments_lexer": "ipython3",
   "version": "3.11.5"
  }
 },
 "nbformat": 4,
 "nbformat_minor": 5
}
