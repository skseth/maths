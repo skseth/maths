{
 "cells": [
  {
   "cell_type": "markdown",
   "metadata": {},
   "source": [
    "# Identity Matrix\n",
    "\n",
    "\n",
    "Given an mxn matrix A, there exist matrices $I_{nxn}$ and $I_{mxm}$ such that:\n",
    "\n",
    "$AI_{nxn} = A$ and\n",
    "\n",
    "$I_{mxn}A = A$\n",
    "\n",
    "It's easy to verify that these matrices are :\n",
    "\n",
    "$I_{nxn} = \\begin{bmatrix} 1 & 0 & \\dots & 0 \\\\ 0 & 1 & \\dots 0 \\\\ \\dots \\\\ 0 & 0 & \\dots & 1\\end{bmatrix}$ or\n",
    "\n",
    "$I_{nxn} = \\begin{bmatrix} \\vec{e_1} & \\vec{e_2} & \\dots & \\vec{e_n} \\end{bmatrix}$\n",
    "\n",
    "where $\\vec{e_1}, \\vec{e_2} \\dots \\vec{e_n}$ are the standard basis vectors for $R^n$.\n",
    "\n",
    "\n",
    "\n"
   ]
  },
  {
   "cell_type": "markdown",
   "metadata": {},
   "source": [
    "# Transpose\n",
    "\n",
    "Flip a matrix such that the ith column becomes the ith row.\n",
    "\n",
    "If A is an mxn matrix, the transpose of A, $A^T$ is the nxm matrix, such that if $a^T_ij$ represents the value of the ith row, jth column of $A^T$, and $a_{ij}$ similarly represents an element of A, then\n",
    "\n",
    "$a^T{ij} = a_{ji}$\n",
    "\n",
    "\n"
   ]
  },
  {
   "cell_type": "code",
   "execution_count": 38,
   "metadata": {},
   "outputs": [
    {
     "data": {
      "text/latex": [
       "$\\displaystyle \\left[\\begin{matrix}1 & 2 & 3\\\\4 & 5 & 6\\end{matrix}\\right]$"
      ],
      "text/plain": [
       "⎡1  2  3⎤\n",
       "⎢       ⎥\n",
       "⎣4  5  6⎦"
      ]
     },
     "metadata": {},
     "output_type": "display_data"
    },
    {
     "name": "stdout",
     "output_type": "stream",
     "text": [
      "\n",
      "Transpose:\n"
     ]
    },
    {
     "data": {
      "text/latex": [
       "$\\displaystyle \\left[\\begin{matrix}1 & 4\\\\2 & 5\\\\3 & 6\\end{matrix}\\right]$"
      ],
      "text/plain": [
       "⎡1  4⎤\n",
       "⎢    ⎥\n",
       "⎢2  5⎥\n",
       "⎢    ⎥\n",
       "⎣3  6⎦"
      ]
     },
     "metadata": {},
     "output_type": "display_data"
    }
   ],
   "source": [
    "import sympy\n",
    "\n",
    "sympy.init_printing(use_unicode=True)\n",
    "\n",
    "J = sympy.Matrix([[1,2,3],[4,5,6]])\n",
    "display(J)\n",
    "print('\\nTranspose:')\n",
    "display(J.T)\n"
   ]
  },
  {
   "cell_type": "markdown",
   "metadata": {},
   "source": []
  }
 ],
 "metadata": {
  "kernelspec": {
   "display_name": ".venv",
   "language": "python",
   "name": "python3"
  },
  "language_info": {
   "codemirror_mode": {
    "name": "ipython",
    "version": 3
   },
   "file_extension": ".py",
   "mimetype": "text/x-python",
   "name": "python",
   "nbconvert_exporter": "python",
   "pygments_lexer": "ipython3",
   "version": "3.12.8"
  }
 },
 "nbformat": 4,
 "nbformat_minor": 2
}
