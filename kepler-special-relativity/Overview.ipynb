{
 "cells": [
  {
   "cell_type": "markdown",
   "id": "9d62140b-ead5-47ba-9158-eafee9e0c039",
   "metadata": {},
   "source": [
    "# Books\n",
    "\n",
    "- Fundamental Astronomy by Hannu Karttunen (Editor), Heikki Oja, Pekka Kröger\n",
    "- Pathways to Astronomy by Stephen E. Schneider\n",
    "- Universe by Roger A. Freedman, William J. Kaufmann III, Robert M. Geller\n",
    "- Second Year Calculus From Celestial Mechanics to Special Relativity by David M. Bressoud\n",
    "- Mere Thermodynamics by Don S. Lemons"
   ]
  },
  {
   "cell_type": "markdown",
   "id": "f12938b9-eb6f-46c3-ab2b-421a5bfea7fe",
   "metadata": {},
   "source": [
    "# Web Links\n",
    "\n",
    "- [Astropy Documentation](https://docs.astropy.org/en/stable/index.html)\n",
    "- [Learn Astropy](https://learn.astropy.org/)\n",
    "- [Python Resources for Astronomy](https://research.iac.es/sieinvens/siepedia/pmwiki.php?n=HOWTOs.EmpezandoPython)\n",
    "- [Mapping the Solar System](https://github.com/eleanorlutz/asteroids_atlas_of_space)"
   ]
  },
  {
   "cell_type": "code",
   "execution_count": 3,
   "id": "40f27045",
   "metadata": {},
   "outputs": [
    {
     "data": {
      "text/plain": [
       "'/home/jovyan/.jupyter'"
      ]
     },
     "execution_count": 3,
     "metadata": {},
     "output_type": "execute_result"
    }
   ],
   "source": [
    "from jupyter_core.paths import jupyter_config_dir\n",
    "jupyter_dir = jupyter_config_dir()\n",
    "jupyter_dir"
   ]
  },
  {
   "cell_type": "code",
   "execution_count": 4,
   "id": "26ec7829",
   "metadata": {},
   "outputs": [
    {
     "name": "stdout",
     "output_type": "stream",
     "text": [
      "[Errno 2] No such file or directory: 'jupyter_dir'\n",
      "/home/jovyan/kepler-special-relativity\n"
     ]
    }
   ],
   "source": [
    "%cd jupyter_dir"
   ]
  },
  {
   "cell_type": "code",
   "execution_count": 5,
   "id": "08d407a9",
   "metadata": {},
   "outputs": [],
   "source": [
    "import os.path\n",
    "custom_js_path = os.path.join(jupyter_dir, 'custom', 'custom.js')"
   ]
  },
  {
   "cell_type": "code",
   "execution_count": 6,
   "id": "c2460ee7",
   "metadata": {},
   "outputs": [
    {
     "name": "stdout",
     "output_type": "stream",
     "text": [
      "alert(\"hello world IV from custom.js\")\n",
      "\n",
      "\n",
      "// window.MathJax = {\n",
      "//     TeX: {\n",
      "//         \"extensions\": [\n",
      "//             \"physics.js\"\n",
      "//         ]\n",
      "//     }\n",
      "// };\n",
      "\n",
      "\n",
      "// MathJax.Hub.Config({\n",
      "//     TeX: {\n",
      "//       Macros: {\n",
      "//         RR: '{\\\\bf R}',\n",
      "//         bold: ['{\\\\bf #1}', 1]\n",
      "//       }\n",
      "//     }\n",
      "//   });\n",
      "//   MathJax.Hub.Configured()\n",
      "\n",
      "\n",
      "define([\n",
      "   'base/js/namespace',\n",
      "   'base/js/promises'\n",
      "], function(IPython, promises) {\n",
      "    promises.app_initialized.then(function (appName) {\n",
      "        if (appName !== 'NotebookApp') return;\n",
      "        MathJax.Hub.Config({\n",
      "            TeX: { equationNumbers: { autoNumber: \"AMS\" } }\n",
      "        });\n",
      "\n",
      "        // console.log(\"calling Mathjax Hub Config\")\n",
      "\n",
      "        // MathJax.Hub.Config({\n",
      "        //     TeX: {\n",
      "        //       Macros: {\n",
      "        //         RR: '{\\\\bf R}',\n",
      "        //         bold: ['{\\\\bf #1}', 1]\n",
      "\n",
      "        //       }\n",
      "        //     }\n",
      "        //   });\n",
      "\n",
      "\n",
      "        MathJax.Hub.Register.StartupHook(\"TeX Jax Ready\", function () {\n",
      "            MathJax.InputJax.TeX.Definitions.Add({\n",
      "              macros: {\n",
      "                dv: [\"Macro\", '{\\\\frac{\\\\mathrm{d}{#1}}{\\\\mathrm{d}{#2}}}', 2],\n",
      "                pd: [\"Macro\", '{\\\\frac{\\\\partial{#1}}{\\\\partial{#2}}}', 2]\n",
      "              }\n",
      "            });\n",
      "          });\n",
      "\n",
      "    });\n",
      "});\n",
      "\n",
      "\n",
      "\n",
      "// $([IPython.events]).on('app_initialized.NotebookApp', function(){\n",
      "//     alert(\"in mathjax config\")\n",
      "//     MathJax.Hub.Config({\n",
      "//         tex2jax: {\n",
      "//             inlineMath: [[\"$\", \"$\"], [\"\\\\(\", \"\\\\)\"]],\n",
      "//             displayMath: [[\"$$\", \"$$\"], [\"\\\\[\", \"\\\\]\"]],\n",
      "//             processEscapes: true,\n",
      "//         },\n",
      "//         TeX: {\n",
      "//             Macros: {\n",
      "//                 Alpha: \"\\\\mbox{A}\",\n",
      "//                 Beta: \"\\\\mbox{B}\",\n",
      "//                 Epsilon: \"\\\\mbox{E}\",\n",
      "//                 Zeta: \"\\\\mbox{Z}\",\n",
      "//                 Eta: \"\\\\mbox{H}\",\n",
      "//                 Iota: \"\\\\mbox{I}\",\n",
      "//                 Kappa: \"\\\\mbox{K}\",\n",
      "//                 Mu: \"\\\\mbox{M}\",\n",
      "//                 Nu: \"\\\\mbox{N}\",\n",
      "//                 Omicron: \"\\\\mbox{O}\",\n",
      "//                 Rho: \"\\\\mbox{P}\",\n",
      "//                 Tau: \"\\\\mbox{T}\",\n",
      "//                 Chi: \"\\\\mbox{X}\",\n",
      "//                 and: \"\\\\mbox{&}\",\n",
      "//                 or: \"\\\\lor\",\n",
      "//                 exist: \"\\\\exists\",\n",
      "//                 empty: \"\\\\emptyset\",\n",
      "//                 P: \"\\\\mbox{P}\",\n",
      "//                 tan: \"\\\\operatorname{tg}\",   // tangent\n",
      "//                 tg: \"\\\\operatorname{tg}\",    // tangent\n",
      "//                 cot: \"\\\\operatorname{ctg}\",  // cotangent\n",
      "//                 ctg: \"\\\\operatorname{ctg}\",  // cotangent\n",
      "//                 csc: \"\\\\operatorname{cosec}\",     // cosecant\n",
      "//                 cosec: \"\\\\operatorname{cosec}\",   // cosecant\n",
      "//                 arctan: \"\\\\operatorname{arctg}\",  // arctangent\n",
      "//                 arctg: \"\\\\operatorname{arctg}\",   // arctangent\n",
      "//                 arccot: \"\\\\operatorname{arcctg}\",      // arc cotangent\n",
      "//                 arcctg: \"\\\\operatorname{arcctg}\",      // arc cotangent\n",
      "//                 arcsec: \"\\\\operatorname{arcsec}\",      // arc secant\n",
      "//                 arccsc: \"\\\\operatorname{arccosec}\",    // arc cosecant\n",
      "//                 arccosec: \"\\\\operatorname{arccosec}\",  // arc cosecant\n",
      "//                 sh: \"\\\\operatorname{sh}\",     // hyperbolic sine\n",
      "//                 ch: \"\\\\operatorname{ch}\",     // hyperbolic cosine\n",
      "//                 th: \"\\\\operatorname{th}\",     // hyperbolic tangent\n",
      "//                 cth: \"\\\\operatorname{cth}\",   // hyperbolic cotangent\n",
      "//                 sinh: \"\\\\operatorname{sh}\",   // hyperbolic синус\n",
      "//                 cosh: \"\\\\operatorname{ch}\",   // hyperbolic cosine\n",
      "//                 tanh: \"\\\\operatorname{th}\",   // hyperbolic tangent\n",
      "//                 coth: \"\\\\operatorname{cth}\",  // hyperbolic cotangent\n",
      "//                 sgn: \"\\\\operatorname{sgn}\",\n",
      "//                 mod: \"\\\\operatorname{mod}\",\n",
      "//                 ge: \"\\\\geqslant\",\n",
      "//                 le: \"\\\\leqslant\",\n",
      "//                 geq: \"\\\\geqslant\",\n",
      "//                 leq: \"\\\\leqslant\",\n",
      "//                 N: \"\\\\mathbb{N}\",\n",
      "//                 R: \"\\\\mathbb{R}\",\n",
      "//                 Q: \"\\\\mathbb{Q}\",\n",
      "//                 Z: \"\\\\mathbb{Z}\",\n",
      "//                 C: \"\\\\mathbb{C}\",\n",
      "//                 H: \"\\\\mathbb{H}\",\n",
      "//                 P: \"\\\\mathbb{P}\",\n",
      "//                 dmtr: \"\\\\unicode{x2300}\", // diameter sign\n",
      "//                 deg: \"\\\\unicode{xb0}\",    // degree sign\n",
      "//                 celdeg: \"\\\\unicode{x2103}\"   // degree Celsius sign\n",
      "//             },\n",
      "//             // AutoNumbering of displayed formulas\n",
      "//             equationNumbers: { autoNumber: \"AMS\" },\n",
      "//             // All mathjax extensions:\n",
      "//             // http://docs.mathjax.org/en/latest/tex.html#tex-and-latex-extensions\n",
      "//             // Source code for all extensions:\n",
      "//             // https://github.com/mathjax/MathJax/tree/master/extensions/TeX\n",
      "//             extensions: [\n",
      "//                 \"color.js\", // Color support in LaTeX\n",
      "//                 \"autobold.js\", // support for \\boldsymbol{...}\n",
      "//                 \"AMSmath.js\",\n",
      "//                 \"AMSsymbols.js\",\n",
      "//                 \"AMScd.js\", // http://www.jmilne.org/not/Mamscd.pdf\n",
      "//                 \"bbox.js\", // support for \\bbox[options]{math}\n",
      "//                 // \"begingroup.js\", // mainly for formulas localization\n",
      "//                 \"cancel.js\" // support for strikethrough formulas\n",
      "//                 // \"HTML.js\" // works by default\n",
      "//                 // \"mhchem.js\" // chemical formulas\n",
      "//                 // \"uniconde.js\" // works by default\n",
      "//             ]\n",
      "//         }\n",
      "//     });\n",
      "//     // http://docs.mathjax.org/en/latest/configuration.html#configuring-mathjax-after-it-is-loaded\n",
      "//     MathJax.Hub.Configured()\n",
      "// });\n"
     ]
    }
   ],
   "source": [
    "#  my custom js\n",
    "if os.path.isfile(custom_js_path):\n",
    "    with open(custom_js_path) as f:\n",
    "        print(f.read())\n",
    "else:\n",
    "    print(\"You don't have a custom.js file\")"
   ]
  },
  {
   "cell_type": "markdown",
   "id": "8d666130",
   "metadata": {},
   "source": [
    "$\\newcommand{\\pd}[2]{\\frac{\\partial{#1}}{\\partial{#2}}}$\n",
    "\n",
    "$$\\pd u t = 2$$"
   ]
  },
  {
   "cell_type": "markdown",
   "id": "67a9b2c1-f58d-41da-8eef-2d7a60f7e5c1",
   "metadata": {},
   "source": [
    "Thus, if you want to cite IPython, then you could use that \n",
    "citation [cite](#cite-PER-GRA:2007)"
   ]
  },
  {
   "cell_type": "code",
   "execution_count": 1,
   "id": "ccba8436-0e6f-43ef-8572-cc107e5a2901",
   "metadata": {},
   "outputs": [
    {
     "name": "stdout",
     "output_type": "stream",
     "text": [
      "Known nbextensions:\n",
      "  config dir: /home/jovyan/.jupyter/nbconfig\n",
      "    notebook section\n",
      "      calysto/document-tools/main \u001b[32m enabled \u001b[0m\n",
      "      - Validating: \u001b[32mOK\u001b[0m\n",
      "  config dir: /opt/conda/etc/jupyter/nbconfig\n",
      "    notebook section\n",
      "      bqplot/extension \u001b[32m enabled \u001b[0m\n",
      "      - Validating: \u001b[32mOK\u001b[0m\n",
      "      jupyter-leaflet/extension \u001b[32m enabled \u001b[0m\n",
      "      - Validating: \u001b[32mOK\u001b[0m\n",
      "      jupyter-matplotlib/extension \u001b[32m enabled \u001b[0m\n",
      "      - Validating: \u001b[32mOK\u001b[0m\n",
      "      jupyterlab-plotly/extension \u001b[32m enabled \u001b[0m\n",
      "      - Validating: \u001b[32mOK\u001b[0m\n",
      "      nbdime/index \u001b[32m enabled \u001b[0m\n",
      "      - Validating: \u001b[32mOK\u001b[0m\n",
      "      jupyter-js-widgets/extension \u001b[32m enabled \u001b[0m\n",
      "      - Validating: \u001b[32mOK\u001b[0m\n"
     ]
    }
   ],
   "source": []
  },
  {
   "cell_type": "code",
   "execution_count": 2,
   "id": "6f02ae63-5313-4026-8c75-5d79df59400f",
   "metadata": {},
   "outputs": [
    {
     "name": "stdout",
     "output_type": "stream",
     "text": [
      "jupyter core     : 4.7.1\n",
      "jupyter-notebook : 6.4.0\n",
      "qtconsole        : not installed\n",
      "ipython          : 7.25.0\n",
      "ipykernel        : 6.0.3\n",
      "jupyter client   : 6.1.12\n",
      "jupyter lab      : 3.0.16\n",
      "nbconvert        : 6.1.0\n",
      "ipywidgets       : 7.6.3\n",
      "nbformat         : 5.1.3\n",
      "traitlets        : 5.0.5\n"
     ]
    }
   ],
   "source": [
    "!jupyter --version"
   ]
  },
  {
   "cell_type": "markdown",
   "id": "d4b93dd0-155f-4177-afc4-4748d67dff16",
   "metadata": {},
   "source": []
  },
  {
   "cell_type": "markdown",
   "id": "62d49672",
   "metadata": {},
   "source": []
  },
  {
   "cell_type": "code",
   "execution_count": null,
   "id": "59e971f4",
   "metadata": {},
   "outputs": [],
   "source": []
  }
 ],
 "metadata": {
  "kernelspec": {
   "display_name": "Python 3 (ipykernel)",
   "language": "python",
   "name": "python3"
  },
  "language_info": {
   "codemirror_mode": {
    "name": "ipython",
    "version": 3
   },
   "file_extension": ".py",
   "mimetype": "text/x-python",
   "name": "python",
   "nbconvert_exporter": "python",
   "pygments_lexer": "ipython3",
   "version": "3.9.6"
  }
 },
 "nbformat": 4,
 "nbformat_minor": 5
}
