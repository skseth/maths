{
 "cells": [
  {
   "cell_type": "markdown",
   "id": "5de62041-b170-42b3-b2c1-70d91345ae45",
   "metadata": {},
   "source": [
    "# Kepler's First and Second Laws "
   ]
  },
  {
   "cell_type": "markdown",
   "id": "135d0c38-9197-469f-80da-930eda537a77",
   "metadata": {},
   "source": [
    "In 1609, Kepler published the new astronomy - a study of the motion of Mars. Here, and then based on more thought, he proposed two laws, based primarily on the motion of mars :\n",
    "    \n",
    "- Planets move in an elliptical orbit, with the sun at one focus\n",
    "- The line joining the planet with the sun sweeps out equal areas in equal amount of time\n",
    "\n",
    "The first law can be represented as the equation of an ellipse:\n",
    "\n",
    "$$r = \\frac{a*(1-e^2)}{1+e*\\cos{\\theta}}$$\n",
    "\n",
    "Here $a$ represents the major axis of the ellipse, and r the radius at an angle $\\theta$.\n",
    "\n",
    "The second law (the area law), amounts to saying that the component of the velocity tangent to the orbit is inversely proportional to the radius \n",
    "\n",
    "$$\n",
    "\\begin{align*} \n",
    "r*\\dv{\\theta}{t} &= \\frac{c}{r} & \\text{ (velocity inversely proportional to radius)} \\\\\n",
    "r^2*\\dv{\\theta}{t} &= c & \\text{ (area is swept at a constant rate)}\n",
    "\\end{align*}\n",
    "$$ \n"
   ]
  },
  {
   "cell_type": "markdown",
   "id": "d2aa7053",
   "metadata": {},
   "source": [
    "# Kepler's Third Law\n",
    "\n",
    "Kepler worked on some theories trying to relate the motion of planets to musical harmonies, and stumbled on the third \"law\" :\n",
    "\n",
    "- The square of the period of a planet is proportional to the cube of its mean distance from the Sun.\n",
    "\n",
    "$$T^2 \\propto a^3$$\n",
    "\n",
    "Here by mean distance Kepler was referring to has been a subject of much discussion, but Newton proved this by taking a as the length of the semi-major axis.\n"
   ]
  },
  {
   "cell_type": "markdown",
   "id": "b2337dc5",
   "metadata": {},
   "source": [
    "# References\n",
    "\n",
    "[Original form of Kepler's Third Law and its misapplication in Propositions XXXII-XXXVII in Newton's Principia (Book I)](https://www.sciencedirect.com/science/article/pii/S2405844018386961)\n",
    "\n",
    "[Why we cannot use the semi-minor axis in Kepler's law](https://astronomy.stackexchange.com/questions/43317/why-cant-we-use-the-semi-minor-axis-in-keplers-third-law) \n",
    "\n",
    "[Angular Momentum of a planet](https://www.toppr.com/ask/question/a-planet-of-mass-m-moves-along-an-ellipse-so-that-perihelion-and-aphelion-distances/)\n",
    "\n",
    "[Elliptic Orbits - Paths to the Planets](https://galileo.phys.virginia.edu/classes/152.mf1i.spring02/EllipticOrbits.htm)\n",
    "\n",
    "[Period of a Planet from Second Law of Kepler](http://burro.case.edu/Academics/Astr221/Gravity/kep2rev.htm)"
   ]
  },
  {
   "cell_type": "code",
   "execution_count": null,
   "id": "5d91f717",
   "metadata": {},
   "outputs": [],
   "source": []
  }
 ],
 "metadata": {
  "kernelspec": {
   "display_name": "Python 3 (ipykernel)",
   "language": "python",
   "name": "python3"
  },
  "language_info": {
   "codemirror_mode": {
    "name": "ipython",
    "version": 3
   },
   "file_extension": ".py",
   "mimetype": "text/x-python",
   "name": "python",
   "nbconvert_exporter": "python",
   "pygments_lexer": "ipython3",
   "version": "3.9.6"
  }
 },
 "nbformat": 4,
 "nbformat_minor": 5
}
